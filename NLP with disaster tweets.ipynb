{
 "cells": [
  {
   "cell_type": "markdown",
   "id": "3dc22bd7",
   "metadata": {
    "papermill": {
     "duration": 0.006993,
     "end_time": "2023-03-16T16:01:17.170138",
     "exception": false,
     "start_time": "2023-03-16T16:01:17.163145",
     "status": "completed"
    },
    "tags": []
   },
   "source": [
    "## Import libraries"
   ]
  },
  {
   "cell_type": "code",
   "execution_count": 2,
   "id": "0d5331a7",
   "metadata": {
    "execution": {
     "iopub.execute_input": "2023-03-16T16:01:17.185833Z",
     "iopub.status.busy": "2023-03-16T16:01:17.185062Z",
     "iopub.status.idle": "2023-03-16T16:01:18.848137Z",
     "shell.execute_reply": "2023-03-16T16:01:18.846724Z"
    },
    "papermill": {
     "duration": 1.673631,
     "end_time": "2023-03-16T16:01:18.850805",
     "exception": false,
     "start_time": "2023-03-16T16:01:17.177174",
     "status": "completed"
    },
    "tags": []
   },
   "outputs": [
    {
     "name": "stdout",
     "output_type": "stream",
     "text": [
      "[nltk_data] Downloading package punkt to /usr/share/nltk_data...\n",
      "[nltk_data]   Package punkt is already up-to-date!\n"
     ]
    },
    {
     "data": {
      "text/plain": [
       "True"
      ]
     },
     "execution_count": 2,
     "metadata": {},
     "output_type": "execute_result"
    }
   ],
   "source": [
    "import numpy as np\n",
    "import pandas as pd\n",
    "import matplotlib.pyplot as plt\n",
    "import seaborn as sns\n",
    "\n",
    "plt.style.use(\"seaborn\")\n",
    "import warnings\n",
    "warnings.filterwarnings('ignore')\n",
    "\n",
    "pd.options.display.max_rows = 2000\n",
    "pd.options.display.max_columns = 500\n",
    "\n",
    "from sklearn.pipeline import Pipeline\n",
    "from sklearn.linear_model import LogisticRegression\n",
    "from sklearn.feature_extraction.text import TfidfVectorizer\n",
    "from sklearn.metrics import precision_score, recall_score \n",
    "from sklearn.metrics import precision_recall_curve\n",
    "from sklearn.metrics import plot_precision_recall_curve\n",
    "from sklearn.metrics import classification_report\n",
    "from sklearn.model_selection import train_test_split\n",
    "from sklearn.model_selection import GridSearchCV\n",
    "\n",
    "\n",
    "import string\n",
    "import nltk\n",
    "from nltk.corpus import stopwords\n",
    "from nltk.tokenize import word_tokenize\n",
    "from nltk.stem import SnowballStemmer\n",
    "nltk.download('punkt')"
   ]
  },
  {
   "cell_type": "markdown",
   "id": "31ea6d71",
   "metadata": {
    "papermill": {
     "duration": 0.007029,
     "end_time": "2023-03-16T16:01:18.865388",
     "exception": false,
     "start_time": "2023-03-16T16:01:18.858359",
     "status": "completed"
    },
    "tags": []
   },
   "source": [
    "## Load data"
   ]
  },
  {
   "cell_type": "code",
   "execution_count": 3,
   "id": "9779ace3",
   "metadata": {
    "execution": {
     "iopub.execute_input": "2023-03-16T16:01:18.881616Z",
     "iopub.status.busy": "2023-03-16T16:01:18.881013Z",
     "iopub.status.idle": "2023-03-16T16:01:18.957858Z",
     "shell.execute_reply": "2023-03-16T16:01:18.956755Z"
    },
    "papermill": {
     "duration": 0.087816,
     "end_time": "2023-03-16T16:01:18.960490",
     "exception": false,
     "start_time": "2023-03-16T16:01:18.872674",
     "status": "completed"
    },
    "tags": []
   },
   "outputs": [],
   "source": [
    "train = pd.read_csv('/kaggle/input/nlp-getting-started/train.csv')\n",
    "test = pd.read_csv('/kaggle/input/nlp-getting-started/test.csv')"
   ]
  },
  {
   "cell_type": "code",
   "execution_count": 4,
   "id": "716199ee",
   "metadata": {
    "execution": {
     "iopub.execute_input": "2023-03-16T16:01:18.976680Z",
     "iopub.status.busy": "2023-03-16T16:01:18.976393Z",
     "iopub.status.idle": "2023-03-16T16:01:18.993685Z",
     "shell.execute_reply": "2023-03-16T16:01:18.992471Z"
    },
    "papermill": {
     "duration": 0.028018,
     "end_time": "2023-03-16T16:01:18.996123",
     "exception": false,
     "start_time": "2023-03-16T16:01:18.968105",
     "status": "completed"
    },
    "tags": []
   },
   "outputs": [
    {
     "data": {
      "text/html": [
       "<div>\n",
       "<style scoped>\n",
       "    .dataframe tbody tr th:only-of-type {\n",
       "        vertical-align: middle;\n",
       "    }\n",
       "\n",
       "    .dataframe tbody tr th {\n",
       "        vertical-align: top;\n",
       "    }\n",
       "\n",
       "    .dataframe thead th {\n",
       "        text-align: right;\n",
       "    }\n",
       "</style>\n",
       "<table border=\"1\" class=\"dataframe\">\n",
       "  <thead>\n",
       "    <tr style=\"text-align: right;\">\n",
       "      <th></th>\n",
       "      <th>id</th>\n",
       "      <th>keyword</th>\n",
       "      <th>location</th>\n",
       "      <th>text</th>\n",
       "      <th>target</th>\n",
       "    </tr>\n",
       "  </thead>\n",
       "  <tbody>\n",
       "    <tr>\n",
       "      <th>0</th>\n",
       "      <td>1</td>\n",
       "      <td>NaN</td>\n",
       "      <td>NaN</td>\n",
       "      <td>Our Deeds are the Reason of this #earthquake M...</td>\n",
       "      <td>1</td>\n",
       "    </tr>\n",
       "    <tr>\n",
       "      <th>1</th>\n",
       "      <td>4</td>\n",
       "      <td>NaN</td>\n",
       "      <td>NaN</td>\n",
       "      <td>Forest fire near La Ronge Sask. Canada</td>\n",
       "      <td>1</td>\n",
       "    </tr>\n",
       "    <tr>\n",
       "      <th>2</th>\n",
       "      <td>5</td>\n",
       "      <td>NaN</td>\n",
       "      <td>NaN</td>\n",
       "      <td>All residents asked to 'shelter in place' are ...</td>\n",
       "      <td>1</td>\n",
       "    </tr>\n",
       "    <tr>\n",
       "      <th>3</th>\n",
       "      <td>6</td>\n",
       "      <td>NaN</td>\n",
       "      <td>NaN</td>\n",
       "      <td>13,000 people receive #wildfires evacuation or...</td>\n",
       "      <td>1</td>\n",
       "    </tr>\n",
       "    <tr>\n",
       "      <th>4</th>\n",
       "      <td>7</td>\n",
       "      <td>NaN</td>\n",
       "      <td>NaN</td>\n",
       "      <td>Just got sent this photo from Ruby #Alaska as ...</td>\n",
       "      <td>1</td>\n",
       "    </tr>\n",
       "    <tr>\n",
       "      <th>5</th>\n",
       "      <td>8</td>\n",
       "      <td>NaN</td>\n",
       "      <td>NaN</td>\n",
       "      <td>#RockyFire Update =&gt; California Hwy. 20 closed...</td>\n",
       "      <td>1</td>\n",
       "    </tr>\n",
       "    <tr>\n",
       "      <th>6</th>\n",
       "      <td>10</td>\n",
       "      <td>NaN</td>\n",
       "      <td>NaN</td>\n",
       "      <td>#flood #disaster Heavy rain causes flash flood...</td>\n",
       "      <td>1</td>\n",
       "    </tr>\n",
       "    <tr>\n",
       "      <th>7</th>\n",
       "      <td>13</td>\n",
       "      <td>NaN</td>\n",
       "      <td>NaN</td>\n",
       "      <td>I'm on top of the hill and I can see a fire in...</td>\n",
       "      <td>1</td>\n",
       "    </tr>\n",
       "    <tr>\n",
       "      <th>8</th>\n",
       "      <td>14</td>\n",
       "      <td>NaN</td>\n",
       "      <td>NaN</td>\n",
       "      <td>There's an emergency evacuation happening now ...</td>\n",
       "      <td>1</td>\n",
       "    </tr>\n",
       "    <tr>\n",
       "      <th>9</th>\n",
       "      <td>15</td>\n",
       "      <td>NaN</td>\n",
       "      <td>NaN</td>\n",
       "      <td>I'm afraid that the tornado is coming to our a...</td>\n",
       "      <td>1</td>\n",
       "    </tr>\n",
       "  </tbody>\n",
       "</table>\n",
       "</div>"
      ],
      "text/plain": [
       "   id keyword location                                               text  \\\n",
       "0   1     NaN      NaN  Our Deeds are the Reason of this #earthquake M...   \n",
       "1   4     NaN      NaN             Forest fire near La Ronge Sask. Canada   \n",
       "2   5     NaN      NaN  All residents asked to 'shelter in place' are ...   \n",
       "3   6     NaN      NaN  13,000 people receive #wildfires evacuation or...   \n",
       "4   7     NaN      NaN  Just got sent this photo from Ruby #Alaska as ...   \n",
       "5   8     NaN      NaN  #RockyFire Update => California Hwy. 20 closed...   \n",
       "6  10     NaN      NaN  #flood #disaster Heavy rain causes flash flood...   \n",
       "7  13     NaN      NaN  I'm on top of the hill and I can see a fire in...   \n",
       "8  14     NaN      NaN  There's an emergency evacuation happening now ...   \n",
       "9  15     NaN      NaN  I'm afraid that the tornado is coming to our a...   \n",
       "\n",
       "   target  \n",
       "0       1  \n",
       "1       1  \n",
       "2       1  \n",
       "3       1  \n",
       "4       1  \n",
       "5       1  \n",
       "6       1  \n",
       "7       1  \n",
       "8       1  \n",
       "9       1  "
      ]
     },
     "execution_count": 4,
     "metadata": {},
     "output_type": "execute_result"
    }
   ],
   "source": [
    "train.head(10)"
   ]
  },
  {
   "cell_type": "markdown",
   "id": "ec72395d",
   "metadata": {
    "papermill": {
     "duration": 0.007165,
     "end_time": "2023-03-16T16:01:19.011039",
     "exception": false,
     "start_time": "2023-03-16T16:01:19.003874",
     "status": "completed"
    },
    "tags": []
   },
   "source": [
    "## Preliminary analyze"
   ]
  },
  {
   "cell_type": "code",
   "execution_count": 5,
   "id": "2ad183d3",
   "metadata": {
    "execution": {
     "iopub.execute_input": "2023-03-16T16:01:19.029923Z",
     "iopub.status.busy": "2023-03-16T16:01:19.029609Z",
     "iopub.status.idle": "2023-03-16T16:01:19.051812Z",
     "shell.execute_reply": "2023-03-16T16:01:19.050727Z"
    },
    "papermill": {
     "duration": 0.036231,
     "end_time": "2023-03-16T16:01:19.054840",
     "exception": false,
     "start_time": "2023-03-16T16:01:19.018609",
     "status": "completed"
    },
    "tags": []
   },
   "outputs": [
    {
     "name": "stdout",
     "output_type": "stream",
     "text": [
      "<class 'pandas.core.frame.DataFrame'>\n",
      "RangeIndex: 7613 entries, 0 to 7612\n",
      "Data columns (total 5 columns):\n",
      " #   Column    Non-Null Count  Dtype \n",
      "---  ------    --------------  ----- \n",
      " 0   id        7613 non-null   int64 \n",
      " 1   keyword   7552 non-null   object\n",
      " 2   location  5080 non-null   object\n",
      " 3   text      7613 non-null   object\n",
      " 4   target    7613 non-null   int64 \n",
      "dtypes: int64(2), object(3)\n",
      "memory usage: 297.5+ KB\n"
     ]
    }
   ],
   "source": [
    "train.info()"
   ]
  },
  {
   "cell_type": "code",
   "execution_count": 6,
   "id": "bfd06324",
   "metadata": {
    "execution": {
     "iopub.execute_input": "2023-03-16T16:01:19.072571Z",
     "iopub.status.busy": "2023-03-16T16:01:19.071645Z",
     "iopub.status.idle": "2023-03-16T16:01:19.083622Z",
     "shell.execute_reply": "2023-03-16T16:01:19.082336Z"
    },
    "papermill": {
     "duration": 0.023264,
     "end_time": "2023-03-16T16:01:19.086118",
     "exception": false,
     "start_time": "2023-03-16T16:01:19.062854",
     "status": "completed"
    },
    "tags": []
   },
   "outputs": [
    {
     "data": {
      "text/html": [
       "<div>\n",
       "<style scoped>\n",
       "    .dataframe tbody tr th:only-of-type {\n",
       "        vertical-align: middle;\n",
       "    }\n",
       "\n",
       "    .dataframe tbody tr th {\n",
       "        vertical-align: top;\n",
       "    }\n",
       "\n",
       "    .dataframe thead th {\n",
       "        text-align: right;\n",
       "    }\n",
       "</style>\n",
       "<table border=\"1\" class=\"dataframe\">\n",
       "  <thead>\n",
       "    <tr style=\"text-align: right;\">\n",
       "      <th></th>\n",
       "      <th>id</th>\n",
       "      <th>keyword</th>\n",
       "      <th>location</th>\n",
       "      <th>text</th>\n",
       "      <th>target</th>\n",
       "    </tr>\n",
       "  </thead>\n",
       "  <tbody>\n",
       "    <tr>\n",
       "      <th>0</th>\n",
       "      <td>1</td>\n",
       "      <td>NaN</td>\n",
       "      <td>NaN</td>\n",
       "      <td>Our Deeds are the Reason of this #earthquake M...</td>\n",
       "      <td>1</td>\n",
       "    </tr>\n",
       "    <tr>\n",
       "      <th>1</th>\n",
       "      <td>4</td>\n",
       "      <td>NaN</td>\n",
       "      <td>NaN</td>\n",
       "      <td>Forest fire near La Ronge Sask. Canada</td>\n",
       "      <td>1</td>\n",
       "    </tr>\n",
       "    <tr>\n",
       "      <th>2</th>\n",
       "      <td>5</td>\n",
       "      <td>NaN</td>\n",
       "      <td>NaN</td>\n",
       "      <td>All residents asked to 'shelter in place' are ...</td>\n",
       "      <td>1</td>\n",
       "    </tr>\n",
       "    <tr>\n",
       "      <th>3</th>\n",
       "      <td>6</td>\n",
       "      <td>NaN</td>\n",
       "      <td>NaN</td>\n",
       "      <td>13,000 people receive #wildfires evacuation or...</td>\n",
       "      <td>1</td>\n",
       "    </tr>\n",
       "    <tr>\n",
       "      <th>4</th>\n",
       "      <td>7</td>\n",
       "      <td>NaN</td>\n",
       "      <td>NaN</td>\n",
       "      <td>Just got sent this photo from Ruby #Alaska as ...</td>\n",
       "      <td>1</td>\n",
       "    </tr>\n",
       "  </tbody>\n",
       "</table>\n",
       "</div>"
      ],
      "text/plain": [
       "   id keyword location                                               text  \\\n",
       "0   1     NaN      NaN  Our Deeds are the Reason of this #earthquake M...   \n",
       "1   4     NaN      NaN             Forest fire near La Ronge Sask. Canada   \n",
       "2   5     NaN      NaN  All residents asked to 'shelter in place' are ...   \n",
       "3   6     NaN      NaN  13,000 people receive #wildfires evacuation or...   \n",
       "4   7     NaN      NaN  Just got sent this photo from Ruby #Alaska as ...   \n",
       "\n",
       "   target  \n",
       "0       1  \n",
       "1       1  \n",
       "2       1  \n",
       "3       1  \n",
       "4       1  "
      ]
     },
     "execution_count": 6,
     "metadata": {},
     "output_type": "execute_result"
    }
   ],
   "source": [
    "train.head(5)"
   ]
  },
  {
   "cell_type": "code",
   "execution_count": 7,
   "id": "b26e73be",
   "metadata": {
    "execution": {
     "iopub.execute_input": "2023-03-16T16:01:19.104740Z",
     "iopub.status.busy": "2023-03-16T16:01:19.103941Z",
     "iopub.status.idle": "2023-03-16T16:01:19.113267Z",
     "shell.execute_reply": "2023-03-16T16:01:19.112050Z"
    },
    "papermill": {
     "duration": 0.020804,
     "end_time": "2023-03-16T16:01:19.115501",
     "exception": false,
     "start_time": "2023-03-16T16:01:19.094697",
     "status": "completed"
    },
    "tags": []
   },
   "outputs": [
    {
     "data": {
      "text/plain": [
       "id             0\n",
       "keyword       61\n",
       "location    2533\n",
       "text           0\n",
       "target         0\n",
       "dtype: int64"
      ]
     },
     "execution_count": 7,
     "metadata": {},
     "output_type": "execute_result"
    }
   ],
   "source": [
    "train.isnull().sum()"
   ]
  },
  {
   "cell_type": "code",
   "execution_count": 8,
   "id": "b4eec274",
   "metadata": {
    "execution": {
     "iopub.execute_input": "2023-03-16T16:01:19.133034Z",
     "iopub.status.busy": "2023-03-16T16:01:19.132050Z",
     "iopub.status.idle": "2023-03-16T16:01:19.144405Z",
     "shell.execute_reply": "2023-03-16T16:01:19.143194Z"
    },
    "papermill": {
     "duration": 0.023706,
     "end_time": "2023-03-16T16:01:19.146941",
     "exception": false,
     "start_time": "2023-03-16T16:01:19.123235",
     "status": "completed"
    },
    "tags": []
   },
   "outputs": [
    {
     "name": "stdout",
     "output_type": "stream",
     "text": [
      "<class 'pandas.core.frame.DataFrame'>\n",
      "RangeIndex: 3263 entries, 0 to 3262\n",
      "Data columns (total 4 columns):\n",
      " #   Column    Non-Null Count  Dtype \n",
      "---  ------    --------------  ----- \n",
      " 0   id        3263 non-null   int64 \n",
      " 1   keyword   3237 non-null   object\n",
      " 2   location  2158 non-null   object\n",
      " 3   text      3263 non-null   object\n",
      "dtypes: int64(1), object(3)\n",
      "memory usage: 102.1+ KB\n"
     ]
    }
   ],
   "source": [
    "test.info()"
   ]
  },
  {
   "cell_type": "code",
   "execution_count": 9,
   "id": "af58d583",
   "metadata": {
    "execution": {
     "iopub.execute_input": "2023-03-16T16:01:19.165497Z",
     "iopub.status.busy": "2023-03-16T16:01:19.164714Z",
     "iopub.status.idle": "2023-03-16T16:01:19.176372Z",
     "shell.execute_reply": "2023-03-16T16:01:19.175302Z"
    },
    "papermill": {
     "duration": 0.02328,
     "end_time": "2023-03-16T16:01:19.178871",
     "exception": false,
     "start_time": "2023-03-16T16:01:19.155591",
     "status": "completed"
    },
    "tags": []
   },
   "outputs": [
    {
     "data": {
      "text/html": [
       "<div>\n",
       "<style scoped>\n",
       "    .dataframe tbody tr th:only-of-type {\n",
       "        vertical-align: middle;\n",
       "    }\n",
       "\n",
       "    .dataframe tbody tr th {\n",
       "        vertical-align: top;\n",
       "    }\n",
       "\n",
       "    .dataframe thead th {\n",
       "        text-align: right;\n",
       "    }\n",
       "</style>\n",
       "<table border=\"1\" class=\"dataframe\">\n",
       "  <thead>\n",
       "    <tr style=\"text-align: right;\">\n",
       "      <th></th>\n",
       "      <th>id</th>\n",
       "      <th>keyword</th>\n",
       "      <th>location</th>\n",
       "      <th>text</th>\n",
       "    </tr>\n",
       "  </thead>\n",
       "  <tbody>\n",
       "    <tr>\n",
       "      <th>14</th>\n",
       "      <td>45</td>\n",
       "      <td>NaN</td>\n",
       "      <td>NaN</td>\n",
       "      <td>Awesome!</td>\n",
       "    </tr>\n",
       "    <tr>\n",
       "      <th>1703</th>\n",
       "      <td>5755</td>\n",
       "      <td>forest%20fires</td>\n",
       "      <td>NaN</td>\n",
       "      <td>I hope the rain stops the forest fires tbh we'...</td>\n",
       "    </tr>\n",
       "    <tr>\n",
       "      <th>1184</th>\n",
       "      <td>3898</td>\n",
       "      <td>devastated</td>\n",
       "      <td>NaN</td>\n",
       "      <td>Obama Declares Disaster for Typhoon-Devastated...</td>\n",
       "    </tr>\n",
       "    <tr>\n",
       "      <th>691</th>\n",
       "      <td>2249</td>\n",
       "      <td>chemical%20emergency</td>\n",
       "      <td>NaN</td>\n",
       "      <td>Emergency services called to Bacup after 'stro...</td>\n",
       "    </tr>\n",
       "    <tr>\n",
       "      <th>1629</th>\n",
       "      <td>5483</td>\n",
       "      <td>flames</td>\n",
       "      <td>Little Rock</td>\n",
       "      <td>I only fuck you when it's half past five</td>\n",
       "    </tr>\n",
       "  </tbody>\n",
       "</table>\n",
       "</div>"
      ],
      "text/plain": [
       "        id               keyword     location  \\\n",
       "14      45                   NaN          NaN   \n",
       "1703  5755        forest%20fires          NaN   \n",
       "1184  3898            devastated          NaN   \n",
       "691   2249  chemical%20emergency          NaN   \n",
       "1629  5483                flames  Little Rock   \n",
       "\n",
       "                                                   text  \n",
       "14                                             Awesome!  \n",
       "1703  I hope the rain stops the forest fires tbh we'...  \n",
       "1184  Obama Declares Disaster for Typhoon-Devastated...  \n",
       "691   Emergency services called to Bacup after 'stro...  \n",
       "1629           I only fuck you when it's half past five  "
      ]
     },
     "execution_count": 9,
     "metadata": {},
     "output_type": "execute_result"
    }
   ],
   "source": [
    "test.sample(5)"
   ]
  },
  {
   "cell_type": "code",
   "execution_count": 10,
   "id": "b7f01e23",
   "metadata": {
    "execution": {
     "iopub.execute_input": "2023-03-16T16:01:19.196644Z",
     "iopub.status.busy": "2023-03-16T16:01:19.195814Z",
     "iopub.status.idle": "2023-03-16T16:01:19.204554Z",
     "shell.execute_reply": "2023-03-16T16:01:19.203440Z"
    },
    "papermill": {
     "duration": 0.019792,
     "end_time": "2023-03-16T16:01:19.206582",
     "exception": false,
     "start_time": "2023-03-16T16:01:19.186790",
     "status": "completed"
    },
    "tags": []
   },
   "outputs": [
    {
     "data": {
      "text/plain": [
       "id             0\n",
       "keyword       26\n",
       "location    1105\n",
       "text           0\n",
       "dtype: int64"
      ]
     },
     "execution_count": 10,
     "metadata": {},
     "output_type": "execute_result"
    }
   ],
   "source": [
    "test.isnull().sum()"
   ]
  },
  {
   "cell_type": "code",
   "execution_count": 11,
   "id": "23c10ebc",
   "metadata": {
    "execution": {
     "iopub.execute_input": "2023-03-16T16:01:19.224711Z",
     "iopub.status.busy": "2023-03-16T16:01:19.223937Z",
     "iopub.status.idle": "2023-03-16T16:01:19.231803Z",
     "shell.execute_reply": "2023-03-16T16:01:19.230732Z"
    },
    "papermill": {
     "duration": 0.019194,
     "end_time": "2023-03-16T16:01:19.234084",
     "exception": false,
     "start_time": "2023-03-16T16:01:19.214890",
     "status": "completed"
    },
    "tags": []
   },
   "outputs": [
    {
     "data": {
      "text/plain": [
       "0    4342\n",
       "1    3271\n",
       "Name: target, dtype: int64"
      ]
     },
     "execution_count": 11,
     "metadata": {},
     "output_type": "execute_result"
    }
   ],
   "source": [
    "train['target'].value_counts()"
   ]
  },
  {
   "cell_type": "code",
   "execution_count": 12,
   "id": "5dcf6fef",
   "metadata": {
    "execution": {
     "iopub.execute_input": "2023-03-16T16:01:19.251620Z",
     "iopub.status.busy": "2023-03-16T16:01:19.251356Z",
     "iopub.status.idle": "2023-03-16T16:01:19.259427Z",
     "shell.execute_reply": "2023-03-16T16:01:19.258178Z"
    },
    "papermill": {
     "duration": 0.02006,
     "end_time": "2023-03-16T16:01:19.262175",
     "exception": false,
     "start_time": "2023-03-16T16:01:19.242115",
     "status": "completed"
    },
    "tags": []
   },
   "outputs": [
    {
     "name": "stdout",
     "output_type": "stream",
     "text": [
      "Tweet without disaster info: ['Summer is lovely']\n",
      "Tweet with disaster info: [\"All residents asked to 'shelter in place' are being notified by officers. No other evacuation or shelter in place orders are expected\"]\n"
     ]
    }
   ],
   "source": [
    "print(f\"Tweet without disaster info: {train.loc[train['target']==0,'text'][2:3].values}\")\n",
    "print(f\"Tweet with disaster info: {train.loc[train['target']==1,'text'][2:3].values}\")"
   ]
  },
  {
   "cell_type": "markdown",
   "id": "ce1c4ced",
   "metadata": {
    "papermill": {
     "duration": 0.00827,
     "end_time": "2023-03-16T16:01:19.279228",
     "exception": false,
     "start_time": "2023-03-16T16:01:19.270958",
     "status": "completed"
    },
    "tags": []
   },
   "source": [
    "## Building transformer and pipline"
   ]
  },
  {
   "cell_type": "code",
   "execution_count": 13,
   "id": "05afbf9c",
   "metadata": {
    "execution": {
     "iopub.execute_input": "2023-03-16T16:01:19.297357Z",
     "iopub.status.busy": "2023-03-16T16:01:19.296433Z",
     "iopub.status.idle": "2023-03-16T16:01:19.308257Z",
     "shell.execute_reply": "2023-03-16T16:01:19.307204Z"
    },
    "papermill": {
     "duration": 0.023111,
     "end_time": "2023-03-16T16:01:19.310421",
     "exception": false,
     "start_time": "2023-03-16T16:01:19.287310",
     "status": "completed"
    },
    "tags": []
   },
   "outputs": [],
   "source": [
    "snowball = SnowballStemmer(language='english')\n",
    "english_stop_words = stopwords.words('english')\n",
    "\n",
    "def tokenize_sentence(sentence: str, remove_stop_words: bool=True):\n",
    "    tokens = word_tokenize(sentence, language='english')\n",
    "    tokens = [i for i in tokens if i not in string.punctuation]\n",
    "    if remove_stop_words:\n",
    "        tokens = [i for i in tokens if i not in english_stop_words]\n",
    "    tokens = [snowball.stem(i) for i in tokens]\n",
    "    return tokens"
   ]
  },
  {
   "cell_type": "code",
   "execution_count": 14,
   "id": "12a309cf",
   "metadata": {
    "execution": {
     "iopub.execute_input": "2023-03-16T16:01:19.329041Z",
     "iopub.status.busy": "2023-03-16T16:01:19.328100Z",
     "iopub.status.idle": "2023-03-16T16:01:19.333715Z",
     "shell.execute_reply": "2023-03-16T16:01:19.332710Z"
    },
    "papermill": {
     "duration": 0.017035,
     "end_time": "2023-03-16T16:01:19.335744",
     "exception": false,
     "start_time": "2023-03-16T16:01:19.318709",
     "status": "completed"
    },
    "tags": []
   },
   "outputs": [],
   "source": [
    "model_pipline = Pipeline([('vectorizer', \n",
    "            TfidfVectorizer(tokenizer=lambda x: tokenize_sentence(x, remove_stop_words=True))),\n",
    "                          ('model', LogisticRegression(C=10))])"
   ]
  },
  {
   "cell_type": "markdown",
   "id": "90ceceb8",
   "metadata": {
    "papermill": {
     "duration": 0.007987,
     "end_time": "2023-03-16T16:01:19.352165",
     "exception": false,
     "start_time": "2023-03-16T16:01:19.344178",
     "status": "completed"
    },
    "tags": []
   },
   "source": [
    "# Preparing data for training"
   ]
  },
  {
   "cell_type": "code",
   "execution_count": 15,
   "id": "91a15198",
   "metadata": {
    "execution": {
     "iopub.execute_input": "2023-03-16T16:01:19.371648Z",
     "iopub.status.busy": "2023-03-16T16:01:19.370868Z",
     "iopub.status.idle": "2023-03-16T16:01:19.378471Z",
     "shell.execute_reply": "2023-03-16T16:01:19.377401Z"
    },
    "papermill": {
     "duration": 0.02012,
     "end_time": "2023-03-16T16:01:19.380556",
     "exception": false,
     "start_time": "2023-03-16T16:01:19.360436",
     "status": "completed"
    },
    "tags": []
   },
   "outputs": [],
   "source": [
    "train_df = train.fillna(',')\n",
    "test_df = test.fillna(',')"
   ]
  },
  {
   "cell_type": "code",
   "execution_count": 16,
   "id": "55338dd2",
   "metadata": {
    "execution": {
     "iopub.execute_input": "2023-03-16T16:01:19.398669Z",
     "iopub.status.busy": "2023-03-16T16:01:19.397771Z",
     "iopub.status.idle": "2023-03-16T16:01:19.407717Z",
     "shell.execute_reply": "2023-03-16T16:01:19.406555Z"
    },
    "papermill": {
     "duration": 0.021122,
     "end_time": "2023-03-16T16:01:19.409881",
     "exception": false,
     "start_time": "2023-03-16T16:01:19.388759",
     "status": "completed"
    },
    "tags": []
   },
   "outputs": [
    {
     "data": {
      "text/plain": [
       "(7613,)"
      ]
     },
     "execution_count": 16,
     "metadata": {},
     "output_type": "execute_result"
    }
   ],
   "source": [
    "X = train_df['keyword'] + train_df['location'] + train_df['text']\n",
    "X.shape"
   ]
  },
  {
   "cell_type": "code",
   "execution_count": 17,
   "id": "3d9450a8",
   "metadata": {
    "execution": {
     "iopub.execute_input": "2023-03-16T16:01:19.428261Z",
     "iopub.status.busy": "2023-03-16T16:01:19.427223Z",
     "iopub.status.idle": "2023-03-16T16:01:19.434272Z",
     "shell.execute_reply": "2023-03-16T16:01:19.433074Z"
    },
    "papermill": {
     "duration": 0.018154,
     "end_time": "2023-03-16T16:01:19.436359",
     "exception": false,
     "start_time": "2023-03-16T16:01:19.418205",
     "status": "completed"
    },
    "tags": []
   },
   "outputs": [
    {
     "data": {
      "text/plain": [
       "(7613,)"
      ]
     },
     "execution_count": 17,
     "metadata": {},
     "output_type": "execute_result"
    }
   ],
   "source": [
    "Y = train['target']\n",
    "Y.shape"
   ]
  },
  {
   "cell_type": "code",
   "execution_count": 18,
   "id": "57a81bb3",
   "metadata": {
    "execution": {
     "iopub.execute_input": "2023-03-16T16:01:19.455161Z",
     "iopub.status.busy": "2023-03-16T16:01:19.454171Z",
     "iopub.status.idle": "2023-03-16T16:01:19.462639Z",
     "shell.execute_reply": "2023-03-16T16:01:19.461515Z"
    },
    "papermill": {
     "duration": 0.01994,
     "end_time": "2023-03-16T16:01:19.464783",
     "exception": false,
     "start_time": "2023-03-16T16:01:19.444843",
     "status": "completed"
    },
    "tags": []
   },
   "outputs": [
    {
     "data": {
      "text/plain": [
       "(3263,)"
      ]
     },
     "execution_count": 18,
     "metadata": {},
     "output_type": "execute_result"
    }
   ],
   "source": [
    "A = test_df['keyword'] + test_df['location'] + test_df['text']\n",
    "A.shape"
   ]
  },
  {
   "cell_type": "code",
   "execution_count": 19,
   "id": "69d9cacc",
   "metadata": {
    "execution": {
     "iopub.execute_input": "2023-03-16T16:01:19.483398Z",
     "iopub.status.busy": "2023-03-16T16:01:19.482492Z",
     "iopub.status.idle": "2023-03-16T16:01:19.491257Z",
     "shell.execute_reply": "2023-03-16T16:01:19.490198Z"
    },
    "papermill": {
     "duration": 0.020612,
     "end_time": "2023-03-16T16:01:19.493785",
     "exception": false,
     "start_time": "2023-03-16T16:01:19.473173",
     "status": "completed"
    },
    "tags": []
   },
   "outputs": [
    {
     "data": {
      "text/plain": [
       "((6090,), (1523,), (6090,), (1523,))"
      ]
     },
     "execution_count": 19,
     "metadata": {},
     "output_type": "execute_result"
    }
   ],
   "source": [
    "X_train, X_test, y_train, y_test = train_test_split(X, Y, test_size=0.2)\n",
    "X_train.shape, X_test.shape, y_train.shape, y_test.shape"
   ]
  },
  {
   "cell_type": "markdown",
   "id": "05a9c431",
   "metadata": {
    "papermill": {
     "duration": 0.008462,
     "end_time": "2023-03-16T16:01:19.510815",
     "exception": false,
     "start_time": "2023-03-16T16:01:19.502353",
     "status": "completed"
    },
    "tags": []
   },
   "source": [
    "# Fit data"
   ]
  },
  {
   "cell_type": "code",
   "execution_count": 20,
   "id": "e98ad93f",
   "metadata": {
    "execution": {
     "iopub.execute_input": "2023-03-16T16:01:19.529904Z",
     "iopub.status.busy": "2023-03-16T16:01:19.529034Z",
     "iopub.status.idle": "2023-03-16T16:01:22.783764Z",
     "shell.execute_reply": "2023-03-16T16:01:22.782022Z"
    },
    "papermill": {
     "duration": 3.268346,
     "end_time": "2023-03-16T16:01:22.787825",
     "exception": false,
     "start_time": "2023-03-16T16:01:19.519479",
     "status": "completed"
    },
    "tags": []
   },
   "outputs": [],
   "source": [
    "_ = model_pipline.fit(X_train, y_train)"
   ]
  },
  {
   "cell_type": "code",
   "execution_count": 21,
   "id": "3aa49378",
   "metadata": {
    "execution": {
     "iopub.execute_input": "2023-03-16T16:01:22.838909Z",
     "iopub.status.busy": "2023-03-16T16:01:22.838255Z",
     "iopub.status.idle": "2023-03-16T16:01:23.558534Z",
     "shell.execute_reply": "2023-03-16T16:01:23.557240Z"
    },
    "papermill": {
     "duration": 0.748695,
     "end_time": "2023-03-16T16:01:23.560887",
     "exception": false,
     "start_time": "2023-03-16T16:01:22.812192",
     "status": "completed"
    },
    "tags": []
   },
   "outputs": [
    {
     "data": {
      "text/plain": [
       "0.7839789888378201"
      ]
     },
     "execution_count": 21,
     "metadata": {},
     "output_type": "execute_result"
    }
   ],
   "source": [
    "model_pipline.score(X_test, y_test)"
   ]
  },
  {
   "cell_type": "markdown",
   "id": "3ee3cd87",
   "metadata": {
    "papermill": {
     "duration": 0.008688,
     "end_time": "2023-03-16T16:01:23.578585",
     "exception": false,
     "start_time": "2023-03-16T16:01:23.569897",
     "status": "completed"
    },
    "tags": []
   },
   "source": [
    "## Predict data"
   ]
  },
  {
   "cell_type": "code",
   "execution_count": 22,
   "id": "4443d299",
   "metadata": {
    "execution": {
     "iopub.execute_input": "2023-03-16T16:01:23.597824Z",
     "iopub.status.busy": "2023-03-16T16:01:23.596915Z",
     "iopub.status.idle": "2023-03-16T16:01:24.274487Z",
     "shell.execute_reply": "2023-03-16T16:01:24.273415Z"
    },
    "papermill": {
     "duration": 0.689827,
     "end_time": "2023-03-16T16:01:24.277021",
     "exception": false,
     "start_time": "2023-03-16T16:01:23.587194",
     "status": "completed"
    },
    "tags": []
   },
   "outputs": [],
   "source": [
    "y_pred = model_pipline.predict(X_test)"
   ]
  },
  {
   "cell_type": "code",
   "execution_count": 23,
   "id": "33e96344",
   "metadata": {
    "execution": {
     "iopub.execute_input": "2023-03-16T16:01:24.297001Z",
     "iopub.status.busy": "2023-03-16T16:01:24.296694Z",
     "iopub.status.idle": "2023-03-16T16:01:24.309061Z",
     "shell.execute_reply": "2023-03-16T16:01:24.307664Z"
    },
    "papermill": {
     "duration": 0.02536,
     "end_time": "2023-03-16T16:01:24.312171",
     "exception": false,
     "start_time": "2023-03-16T16:01:24.286811",
     "status": "completed"
    },
    "tags": []
   },
   "outputs": [
    {
     "name": "stdout",
     "output_type": "stream",
     "text": [
      "              precision    recall  f1-score   support\n",
      "\n",
      "           0       0.81      0.82      0.82       885\n",
      "           1       0.75      0.73      0.74       638\n",
      "\n",
      "    accuracy                           0.78      1523\n",
      "   macro avg       0.78      0.78      0.78      1523\n",
      "weighted avg       0.78      0.78      0.78      1523\n",
      "\n"
     ]
    }
   ],
   "source": [
    "print(classification_report(y_test, y_pred))"
   ]
  },
  {
   "cell_type": "code",
   "execution_count": 24,
   "id": "cf2b0dd9",
   "metadata": {
    "execution": {
     "iopub.execute_input": "2023-03-16T16:01:24.332556Z",
     "iopub.status.busy": "2023-03-16T16:01:24.332252Z",
     "iopub.status.idle": "2023-03-16T16:01:25.018104Z",
     "shell.execute_reply": "2023-03-16T16:01:25.017022Z"
    },
    "papermill": {
     "duration": 0.698604,
     "end_time": "2023-03-16T16:01:25.020935",
     "exception": false,
     "start_time": "2023-03-16T16:01:24.322331",
     "status": "completed"
    },
    "tags": []
   },
   "outputs": [],
   "source": [
    "probas_pred = model_pipline.predict_proba(X_test)\n",
    "prec, rec, thresholds = precision_recall_curve(y_true=y_test, probas_pred=probas_pred[:,1])"
   ]
  },
  {
   "cell_type": "code",
   "execution_count": 25,
   "id": "a47056cb",
   "metadata": {
    "execution": {
     "iopub.execute_input": "2023-03-16T16:01:25.041044Z",
     "iopub.status.busy": "2023-03-16T16:01:25.040075Z",
     "iopub.status.idle": "2023-03-16T16:01:25.982221Z",
     "shell.execute_reply": "2023-03-16T16:01:25.981245Z"
    },
    "papermill": {
     "duration": 0.954579,
     "end_time": "2023-03-16T16:01:25.984664",
     "exception": false,
     "start_time": "2023-03-16T16:01:25.030085",
     "status": "completed"
    },
    "tags": []
   },
   "outputs": [
    {
     "data": {
      "image/png": "[encoded data removed]",
      "text/plain": [
       "<Figure size 800x550 with 1 Axes>"
      ]
     },
     "metadata": {},
     "output_type": "display_data"
    }
   ],
   "source": [
    "plot_precision_recall_curve(estimator=model_pipline, X=X_test, y=y_test);"
   ]
  },
  {
   "cell_type": "code",
   "execution_count": 26,
   "id": "b60e8683",
   "metadata": {
    "execution": {
     "iopub.execute_input": "2023-03-16T16:01:26.005642Z",
     "iopub.status.busy": "2023-03-16T16:01:26.005325Z",
     "iopub.status.idle": "2023-03-16T16:01:26.014874Z",
     "shell.execute_reply": "2023-03-16T16:01:26.013967Z"
    },
    "papermill": {
     "duration": 0.022467,
     "end_time": "2023-03-16T16:01:26.017077",
     "exception": false,
     "start_time": "2023-03-16T16:01:25.994610",
     "status": "completed"
    },
    "tags": []
   },
   "outputs": [
    {
     "data": {
      "text/plain": [
       "(array([1226, 1227, 1228, 1229, 1230, 1231, 1241, 1242, 1243, 1244, 1245,\n",
       "        1246, 1247, 1248, 1249, 1250, 1262, 1263, 1264, 1265, 1266, 1267,\n",
       "        1268, 1269, 1270, 1271, 1272, 1273, 1274, 1275, 1276, 1277, 1278,\n",
       "        1279, 1280, 1281, 1282, 1283, 1284, 1285, 1286, 1287, 1288, 1289,\n",
       "        1290, 1291, 1292, 1293, 1294, 1295, 1296, 1297, 1298, 1299, 1300,\n",
       "        1301, 1302, 1303, 1304, 1305, 1306, 1307, 1308, 1309, 1310, 1311,\n",
       "        1312, 1313, 1314, 1315, 1316, 1317, 1318, 1319, 1320, 1321, 1322,\n",
       "        1323, 1324, 1325, 1326, 1327, 1328, 1329, 1330, 1331, 1332, 1333,\n",
       "        1334, 1335, 1336, 1337, 1338, 1339, 1340, 1341, 1342, 1343, 1344,\n",
       "        1345, 1346, 1347, 1348, 1349, 1350, 1351, 1352, 1353, 1354, 1355,\n",
       "        1356, 1357, 1358, 1359, 1360, 1361, 1362, 1363, 1364, 1365, 1366,\n",
       "        1367, 1368, 1369, 1370, 1371, 1372, 1373, 1374, 1375, 1376, 1377,\n",
       "        1378, 1379, 1380, 1381, 1382, 1383, 1384, 1385, 1386, 1387, 1388,\n",
       "        1389, 1390, 1391, 1392, 1393, 1394, 1395, 1396, 1397, 1398, 1399,\n",
       "        1400, 1401, 1402, 1403, 1404, 1405, 1406, 1407, 1408, 1409, 1410,\n",
       "        1411, 1412, 1413, 1414, 1415, 1416, 1417, 1418, 1419, 1420, 1421,\n",
       "        1422, 1423, 1424, 1425, 1426, 1427, 1428, 1429, 1430, 1431, 1432,\n",
       "        1433, 1434, 1435, 1436, 1437, 1438, 1439, 1440, 1441, 1442, 1443,\n",
       "        1444, 1445, 1446, 1447, 1448, 1449, 1450, 1451, 1452, 1453]),)"
      ]
     },
     "execution_count": 26,
     "metadata": {},
     "output_type": "execute_result"
    }
   ],
   "source": [
    "np.where(prec>0.95)"
   ]
  },
  {
   "cell_type": "code",
   "execution_count": 27,
   "id": "7d893339",
   "metadata": {
    "execution": {
     "iopub.execute_input": "2023-03-16T16:01:26.038145Z",
     "iopub.status.busy": "2023-03-16T16:01:26.037260Z",
     "iopub.status.idle": "2023-03-16T16:01:26.046265Z",
     "shell.execute_reply": "2023-03-16T16:01:26.045215Z"
    },
    "papermill": {
     "duration": 0.021728,
     "end_time": "2023-03-16T16:01:26.048556",
     "exception": false,
     "start_time": "2023-03-16T16:01:26.026828",
     "status": "completed"
    },
    "tags": []
   },
   "outputs": [
    {
     "data": {
      "text/plain": [
       "0.9407114624505929"
      ]
     },
     "execution_count": 27,
     "metadata": {},
     "output_type": "execute_result"
    }
   ],
   "source": [
    "precision_score(y_true=y_test, y_pred=probas_pred[:,1]>thresholds[1218])"
   ]
  },
  {
   "cell_type": "code",
   "execution_count": 28,
   "id": "b070b585",
   "metadata": {
    "execution": {
     "iopub.execute_input": "2023-03-16T16:01:26.069678Z",
     "iopub.status.busy": "2023-03-16T16:01:26.068806Z",
     "iopub.status.idle": "2023-03-16T16:01:26.077495Z",
     "shell.execute_reply": "2023-03-16T16:01:26.076334Z"
    },
    "papermill": {
     "duration": 0.021941,
     "end_time": "2023-03-16T16:01:26.080066",
     "exception": false,
     "start_time": "2023-03-16T16:01:26.058125",
     "status": "completed"
    },
    "tags": []
   },
   "outputs": [
    {
     "data": {
      "text/plain": [
       "0.3730407523510972"
      ]
     },
     "execution_count": 28,
     "metadata": {},
     "output_type": "execute_result"
    }
   ],
   "source": [
    "recall_score(y_true=y_test, y_pred=probas_pred[:,1]>thresholds[1218])"
   ]
  },
  {
   "cell_type": "markdown",
   "id": "007c86b8",
   "metadata": {
    "papermill": {
     "duration": 0.009389,
     "end_time": "2023-03-16T16:01:26.099515",
     "exception": false,
     "start_time": "2023-03-16T16:01:26.090126",
     "status": "completed"
    },
    "tags": []
   },
   "source": [
    "## Send submission"
   ]
  },
  {
   "cell_type": "code",
   "execution_count": 29,
   "id": "24b5c0ae",
   "metadata": {
    "execution": {
     "iopub.execute_input": "2023-03-16T16:01:26.120142Z",
     "iopub.status.busy": "2023-03-16T16:01:26.119354Z",
     "iopub.status.idle": "2023-03-16T16:01:27.621386Z",
     "shell.execute_reply": "2023-03-16T16:01:27.620353Z"
    },
    "papermill": {
     "duration": 1.514821,
     "end_time": "2023-03-16T16:01:27.623861",
     "exception": false,
     "start_time": "2023-03-16T16:01:26.109040",
     "status": "completed"
    },
    "tags": []
   },
   "outputs": [
    {
     "data": {
      "text/html": [
       "<div>\n",
       "<style scoped>\n",
       "    .dataframe tbody tr th:only-of-type {\n",
       "        vertical-align: middle;\n",
       "    }\n",
       "\n",
       "    .dataframe tbody tr th {\n",
       "        vertical-align: top;\n",
       "    }\n",
       "\n",
       "    .dataframe thead th {\n",
       "        text-align: right;\n",
       "    }\n",
       "</style>\n",
       "<table border=\"1\" class=\"dataframe\">\n",
       "  <thead>\n",
       "    <tr style=\"text-align: right;\">\n",
       "      <th></th>\n",
       "      <th>id</th>\n",
       "      <th>target</th>\n",
       "    </tr>\n",
       "  </thead>\n",
       "  <tbody>\n",
       "    <tr>\n",
       "      <th>0</th>\n",
       "      <td>0</td>\n",
       "      <td>1</td>\n",
       "    </tr>\n",
       "    <tr>\n",
       "      <th>1</th>\n",
       "      <td>2</td>\n",
       "      <td>1</td>\n",
       "    </tr>\n",
       "    <tr>\n",
       "      <th>2</th>\n",
       "      <td>3</td>\n",
       "      <td>1</td>\n",
       "    </tr>\n",
       "    <tr>\n",
       "      <th>3</th>\n",
       "      <td>9</td>\n",
       "      <td>1</td>\n",
       "    </tr>\n",
       "    <tr>\n",
       "      <th>4</th>\n",
       "      <td>11</td>\n",
       "      <td>1</td>\n",
       "    </tr>\n",
       "    <tr>\n",
       "      <th>...</th>\n",
       "      <td>...</td>\n",
       "      <td>...</td>\n",
       "    </tr>\n",
       "    <tr>\n",
       "      <th>3258</th>\n",
       "      <td>10861</td>\n",
       "      <td>0</td>\n",
       "    </tr>\n",
       "    <tr>\n",
       "      <th>3259</th>\n",
       "      <td>10865</td>\n",
       "      <td>1</td>\n",
       "    </tr>\n",
       "    <tr>\n",
       "      <th>3260</th>\n",
       "      <td>10868</td>\n",
       "      <td>1</td>\n",
       "    </tr>\n",
       "    <tr>\n",
       "      <th>3261</th>\n",
       "      <td>10874</td>\n",
       "      <td>1</td>\n",
       "    </tr>\n",
       "    <tr>\n",
       "      <th>3262</th>\n",
       "      <td>10875</td>\n",
       "      <td>0</td>\n",
       "    </tr>\n",
       "  </tbody>\n",
       "</table>\n",
       "<p>3263 rows × 2 columns</p>\n",
       "</div>"
      ],
      "text/plain": [
       "         id  target\n",
       "0         0       1\n",
       "1         2       1\n",
       "2         3       1\n",
       "3         9       1\n",
       "4        11       1\n",
       "...     ...     ...\n",
       "3258  10861       0\n",
       "3259  10865       1\n",
       "3260  10868       1\n",
       "3261  10874       1\n",
       "3262  10875       0\n",
       "\n",
       "[3263 rows x 2 columns]"
      ]
     },
     "execution_count": 29,
     "metadata": {},
     "output_type": "execute_result"
    }
   ],
   "source": [
    "predict = model_pipline.predict(A)\n",
    "ids = test['id']\n",
    "submission = pd.DataFrame(columns=['id','target'])\n",
    "submission['id'] = ids\n",
    "submission['target'] = predict\n",
    "submission"
   ]
  },
  {
   "cell_type": "code",
   "execution_count": 30,
   "id": "929b9c4a",
   "metadata": {
    "execution": {
     "iopub.execute_input": "2023-03-16T16:01:27.645301Z",
     "iopub.status.busy": "2023-03-16T16:01:27.644986Z",
     "iopub.status.idle": "2023-03-16T16:01:27.654490Z",
     "shell.execute_reply": "2023-03-16T16:01:27.653492Z"
    },
    "papermill": {
     "duration": 0.022721,
     "end_time": "2023-03-16T16:01:27.656597",
     "exception": false,
     "start_time": "2023-03-16T16:01:27.633876",
     "status": "completed"
    },
    "tags": []
   },
   "outputs": [],
   "source": [
    "submission.to_csv('/kaggle/working/submission.csv', index=False)"
   ]
  }
 ],
 "metadata": {
  "kernelspec": {
   "display_name": "Python 3 (ipykernel)",
   "language": "python",
   "name": "python3"
  },
  "language_info": {
   "codemirror_mode": {
    "name": "ipython",
    "version": 3
   },
   "file_extension": ".py",
   "mimetype": "text/x-python",
   "name": "python",
   "nbconvert_exporter": "python",
   "pygments_lexer": "ipython3",
   "version": "3.9.13"
  },
  "papermill": {
   "default_parameters": {},
   "duration": 20.333785,
   "end_time": "2023-03-16T16:01:28.287107",
   "environment_variables": {},
   "exception": null,
   "input_path": "__notebook__.ipynb",
   "output_path": "__notebook__.ipynb",
   "parameters": {},
   "start_time": "2023-03-16T16:01:07.953322",
   "version": "2.4.0"
  }
 },
 "nbformat": 4,
 "nbformat_minor": 5
}
