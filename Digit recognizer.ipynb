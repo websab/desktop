{
 "cells": [
  {
   "cell_type": "markdown",
   "metadata": {},
   "source": [
    "# Import libraries"
   ]
  },
  {
   "cell_type": "code",
   "execution_count": 2,
   "metadata": {
    "execution": {
     "iopub.execute_input": "2023-03-15T14:46:57.792499Z",
     "iopub.status.busy": "2023-03-15T14:46:57.791382Z",
     "iopub.status.idle": "2023-03-15T14:46:57.797206Z",
     "shell.execute_reply": "2023-03-15T14:46:57.796127Z",
     "shell.execute_reply.started": "2023-03-15T14:46:57.792457Z"
    }
   },
   "outputs": [],
   "source": [
    "import numpy as np\n",
    "import pandas as pd\n",
    "import matplotlib.pyplot as plt"
   ]
  },
  {
   "cell_type": "markdown",
   "metadata": {},
   "source": [
    "## Load data"
   ]
  },
  {
   "cell_type": "code",
   "execution_count": 3,
   "metadata": {
    "execution": {
     "iopub.execute_input": "2023-03-15T14:46:58.013358Z",
     "iopub.status.busy": "2023-03-15T14:46:58.012405Z",
     "iopub.status.idle": "2023-03-15T14:47:04.318304Z",
     "shell.execute_reply": "2023-03-15T14:47:04.316759Z",
     "shell.execute_reply.started": "2023-03-15T14:46:58.013318Z"
    }
   },
   "outputs": [],
   "source": [
    "train = pd.read_csv('/kaggle/input/digit-recognizer/train.csv')\n",
    "test = pd.read_csv('/kaggle/input/digit-recognizer/test.csv')"
   ]
  },
  {
   "cell_type": "code",
   "execution_count": 4,
   "metadata": {
    "execution": {
     "iopub.execute_input": "2023-03-15T14:47:04.321142Z",
     "iopub.status.busy": "2023-03-15T14:47:04.320735Z",
     "iopub.status.idle": "2023-03-15T14:47:04.387260Z",
     "shell.execute_reply": "2023-03-15T14:47:04.386054Z",
     "shell.execute_reply.started": "2023-03-15T14:47:04.321098Z"
    }
   },
   "outputs": [
    {
     "name": "stdout",
     "output_type": "stream",
     "text": [
      "<class 'pandas.core.frame.DataFrame'>\n",
      "RangeIndex: 42000 entries, 0 to 41999\n",
      "Columns: 785 entries, label to pixel783\n",
      "dtypes: int64(785)\n",
      "memory usage: 251.5 MB\n"
     ]
    }
   ],
   "source": [
    "train.info()"
   ]
  },
  {
   "cell_type": "code",
   "execution_count": 5,
   "metadata": {
    "execution": {
     "iopub.execute_input": "2023-03-15T14:47:04.388934Z",
     "iopub.status.busy": "2023-03-15T14:47:04.388571Z",
     "iopub.status.idle": "2023-03-15T14:47:04.540875Z",
     "shell.execute_reply": "2023-03-15T14:47:04.539690Z",
     "shell.execute_reply.started": "2023-03-15T14:47:04.388898Z"
    }
   },
   "outputs": [
    {
     "name": "stdout",
     "output_type": "stream",
     "text": [
      "<class 'pandas.core.frame.DataFrame'>\n",
      "RangeIndex: 28000 entries, 0 to 27999\n",
      "Columns: 784 entries, pixel0 to pixel783\n",
      "dtypes: int64(784)\n",
      "memory usage: 167.5 MB\n"
     ]
    }
   ],
   "source": [
    "test.info()"
   ]
  },
  {
   "cell_type": "markdown",
   "metadata": {},
   "source": [
    "## Let's look at them"
   ]
  },
  {
   "cell_type": "code",
   "execution_count": 6,
   "metadata": {
    "execution": {
     "iopub.execute_input": "2023-03-15T14:47:04.546129Z",
     "iopub.status.busy": "2023-03-15T14:47:04.545752Z",
     "iopub.status.idle": "2023-03-15T14:47:04.555422Z",
     "shell.execute_reply": "2023-03-15T14:47:04.554038Z",
     "shell.execute_reply.started": "2023-03-15T14:47:04.546080Z"
    }
   },
   "outputs": [
    {
     "data": {
      "text/plain": [
       "((42000, 785), (28000, 784))"
      ]
     },
     "execution_count": 6,
     "metadata": {},
     "output_type": "execute_result"
    }
   ],
   "source": [
    "train.shape, test.shape"
   ]
  },
  {
   "cell_type": "code",
   "execution_count": 7,
   "metadata": {
    "execution": {
     "iopub.execute_input": "2023-03-15T14:47:04.557999Z",
     "iopub.status.busy": "2023-03-15T14:47:04.557105Z",
     "iopub.status.idle": "2023-03-15T14:47:04.567855Z",
     "shell.execute_reply": "2023-03-15T14:47:04.566428Z",
     "shell.execute_reply.started": "2023-03-15T14:47:04.557953Z"
    }
   },
   "outputs": [],
   "source": [
    "def select_pic(i):\n",
    "    arr = np.array(test[i:i+1])\n",
    "    pix = arr.reshape(arr.shape[0], 28, 28)\n",
    "    img = pix[0]\n",
    "    plt.figure()\n",
    "    plt.imshow(img, cmap='gray')\n",
    "    plt.show()"
   ]
  },
  {
   "cell_type": "code",
   "execution_count": 8,
   "metadata": {
    "execution": {
     "iopub.execute_input": "2023-03-15T14:47:04.570880Z",
     "iopub.status.busy": "2023-03-15T14:47:04.569717Z",
     "iopub.status.idle": "2023-03-15T14:47:04.835511Z",
     "shell.execute_reply": "2023-03-15T14:47:04.833596Z",
     "shell.execute_reply.started": "2023-03-15T14:47:04.570842Z"
    }
   },
   "outputs": [
    {
     "data": {
      "image/png": "[encoded data removed]",
      "text/plain": [
       "<Figure size 640x480 with 1 Axes>"
      ]
     },
     "metadata": {},
     "output_type": "display_data"
    }
   ],
   "source": [
    "for i in range(0,1):\n",
    "    r = np.random.randint(i,10000)\n",
    "    select_pic(r)"
   ]
  },
  {
   "cell_type": "markdown",
   "metadata": {},
   "source": [
    "## Preproccesing our data"
   ]
  },
  {
   "cell_type": "markdown",
   "metadata": {},
   "source": [
    "### Reshape features and targets"
   ]
  },
  {
   "cell_type": "code",
   "execution_count": 9,
   "metadata": {
    "execution": {
     "iopub.execute_input": "2023-03-15T14:47:04.837144Z",
     "iopub.status.busy": "2023-03-15T14:47:04.836797Z",
     "iopub.status.idle": "2023-03-15T14:47:05.047381Z",
     "shell.execute_reply": "2023-03-15T14:47:05.046346Z",
     "shell.execute_reply.started": "2023-03-15T14:47:04.837106Z"
    }
   },
   "outputs": [
    {
     "data": {
      "text/plain": [
       "(42000, 28, 28, 1)"
      ]
     },
     "execution_count": 9,
     "metadata": {},
     "output_type": "execute_result"
    }
   ],
   "source": [
    "X = train.drop('label',axis=1).values/255.0\n",
    "X = X.reshape(-1, 28, 28, 1)\n",
    "X.shape"
   ]
  },
  {
   "cell_type": "code",
   "execution_count": 10,
   "metadata": {
    "execution": {
     "iopub.execute_input": "2023-03-15T14:47:05.051070Z",
     "iopub.status.busy": "2023-03-15T14:47:05.049807Z",
     "iopub.status.idle": "2023-03-15T14:47:05.060817Z",
     "shell.execute_reply": "2023-03-15T14:47:05.058667Z",
     "shell.execute_reply.started": "2023-03-15T14:47:05.051028Z"
    }
   },
   "outputs": [
    {
     "data": {
      "text/plain": [
       "(42000,)"
      ]
     },
     "execution_count": 10,
     "metadata": {},
     "output_type": "execute_result"
    }
   ],
   "source": [
    "Y = train['label'].values\n",
    "Y.shape"
   ]
  },
  {
   "cell_type": "code",
   "execution_count": 11,
   "metadata": {
    "execution": {
     "iopub.execute_input": "2023-03-15T14:47:05.062806Z",
     "iopub.status.busy": "2023-03-15T14:47:05.062377Z",
     "iopub.status.idle": "2023-03-15T14:47:05.153474Z",
     "shell.execute_reply": "2023-03-15T14:47:05.152171Z",
     "shell.execute_reply.started": "2023-03-15T14:47:05.062747Z"
    }
   },
   "outputs": [
    {
     "data": {
      "text/plain": [
       "(28000, 28, 28, 1)"
      ]
     },
     "execution_count": 11,
     "metadata": {},
     "output_type": "execute_result"
    }
   ],
   "source": [
    "A = test.values/255.0\n",
    "A = A.reshape(-1, 28, 28, 1)\n",
    "A.shape"
   ]
  },
  {
   "cell_type": "markdown",
   "metadata": {},
   "source": [
    "## Preparing our data to learn"
   ]
  },
  {
   "cell_type": "code",
   "execution_count": 12,
   "metadata": {
    "execution": {
     "iopub.execute_input": "2023-03-15T14:47:05.158996Z",
     "iopub.status.busy": "2023-03-15T14:47:05.158621Z",
     "iopub.status.idle": "2023-03-15T14:47:12.829861Z",
     "shell.execute_reply": "2023-03-15T14:47:12.828839Z",
     "shell.execute_reply.started": "2023-03-15T14:47:05.158957Z"
    }
   },
   "outputs": [
    {
     "data": {
      "text/plain": [
       "(42000, 10)"
      ]
     },
     "execution_count": 12,
     "metadata": {},
     "output_type": "execute_result"
    }
   ],
   "source": [
    "from tensorflow.keras.utils import to_categorical\n",
    "\n",
    "Y = to_categorical(Y, num_classes = 10)\n",
    "Y.shape"
   ]
  },
  {
   "cell_type": "code",
   "execution_count": 13,
   "metadata": {
    "execution": {
     "iopub.execute_input": "2023-03-15T14:47:12.832229Z",
     "iopub.status.busy": "2023-03-15T14:47:12.831277Z",
     "iopub.status.idle": "2023-03-15T14:47:13.745929Z",
     "shell.execute_reply": "2023-03-15T14:47:13.744927Z",
     "shell.execute_reply.started": "2023-03-15T14:47:12.832196Z"
    }
   },
   "outputs": [
    {
     "name": "stdout",
     "output_type": "stream",
     "text": [
      "X_train: (33600, 28, 28, 1), y_train: (33600, 10)\n",
      "--------------------------------------------------\n",
      "X_test: (8400, 28, 28, 1), y_test: (8400, 10)\n"
     ]
    }
   ],
   "source": [
    "from sklearn.model_selection import train_test_split\n",
    "\n",
    "X_train, X_test, y_train, y_test = train_test_split(X, Y, test_size=0.2)\n",
    "print(f'X_train: {X_train.shape}, y_train: {y_train.shape}')\n",
    "print('-'*50)\n",
    "print(f'X_test: {X_test.shape}, y_test: {y_test.shape}')"
   ]
  },
  {
   "cell_type": "markdown",
   "metadata": {},
   "source": [
    "## Buil model"
   ]
  },
  {
   "cell_type": "code",
   "execution_count": 14,
   "metadata": {
    "execution": {
     "iopub.execute_input": "2023-03-15T14:47:13.752337Z",
     "iopub.status.busy": "2023-03-15T14:47:13.750162Z",
     "iopub.status.idle": "2023-03-15T14:47:16.567164Z",
     "shell.execute_reply": "2023-03-15T14:47:16.566133Z",
     "shell.execute_reply.started": "2023-03-15T14:47:13.752299Z"
    }
   },
   "outputs": [],
   "source": [
    "from keras.models import Sequential\n",
    "from keras.layers import Conv2D, MaxPooling2D, Dropout, Flatten, Dense, Activation, BatchNormalization\n",
    "\n",
    "\n",
    "model = Sequential()\n",
    "\n",
    "model.add(Conv2D(32, (5, 5), input_shape=(28,28,1), activation='relu'))\n",
    "model.add(BatchNormalization())\n",
    "model.add(MaxPooling2D(pool_size=(2,2)))\n",
    "model.add(Dropout(0.2))\n",
    "model.add(Flatten())\n",
    "model.add(Dense(128, activation='relu'))\n",
    "model.add(BatchNormalization())\n",
    "model.add(Dropout(0.5))\n",
    "model.add(Dense(10, activation='softmax'))"
   ]
  },
  {
   "cell_type": "code",
   "execution_count": 15,
   "metadata": {
    "execution": {
     "iopub.execute_input": "2023-03-15T14:47:16.568979Z",
     "iopub.status.busy": "2023-03-15T14:47:16.568615Z",
     "iopub.status.idle": "2023-03-15T14:47:16.797917Z",
     "shell.execute_reply": "2023-03-15T14:47:16.796494Z",
     "shell.execute_reply.started": "2023-03-15T14:47:16.568939Z"
    }
   },
   "outputs": [
    {
     "data": {
      "image/png": "[encoded data removed]",
      "text/plain": [
       "<IPython.core.display.Image object>"
      ]
     },
     "execution_count": 15,
     "metadata": {},
     "output_type": "execute_result"
    }
   ],
   "source": [
    "from tensorflow.keras.utils import plot_model\n",
    "\n",
    "plot_model(model, show_shapes=True, show_layer_names=False, \n",
    "           dpi=60, show_layer_activations=True, rankdir='TB')"
   ]
  },
  {
   "cell_type": "code",
   "execution_count": 16,
   "metadata": {
    "execution": {
     "iopub.execute_input": "2023-03-15T14:47:16.800731Z",
     "iopub.status.busy": "2023-03-15T14:47:16.799654Z",
     "iopub.status.idle": "2023-03-15T14:47:16.822389Z",
     "shell.execute_reply": "2023-03-15T14:47:16.821508Z",
     "shell.execute_reply.started": "2023-03-15T14:47:16.800687Z"
    }
   },
   "outputs": [],
   "source": [
    "model.compile(loss='categorical_crossentropy',\n",
    "             optimizer='adam',\n",
    "             metrics=['accuracy'])"
   ]
  },
  {
   "cell_type": "markdown",
   "metadata": {},
   "source": [
    "## Fit model"
   ]
  },
  {
   "cell_type": "code",
   "execution_count": 17,
   "metadata": {
    "execution": {
     "iopub.execute_input": "2023-03-15T14:47:16.824262Z",
     "iopub.status.busy": "2023-03-15T14:47:16.823806Z",
     "iopub.status.idle": "2023-03-15T14:47:38.744247Z",
     "shell.execute_reply": "2023-03-15T14:47:38.743144Z",
     "shell.execute_reply.started": "2023-03-15T14:47:16.824223Z"
    }
   },
   "outputs": [
    {
     "name": "stdout",
     "output_type": "stream",
     "text": [
      "Epoch 1/5\n"
     ]
    },
    {
     "name": "stderr",
     "output_type": "stream",
     "text": [
      "2023-03-15 14:47:18.174732: E tensorflow/core/grappler/optimizers/meta_optimizer.cc:954] layout failed: INVALID_ARGUMENT: Size of values 0 does not match size of permutation 4 @ fanin shape insequential/dropout/dropout/SelectV2-2-TransposeNHWCToNCHW-LayoutOptimizer\n"
     ]
    },
    {
     "name": "stdout",
     "output_type": "stream",
     "text": [
      "168/168 [==============================] - 9s 7ms/step - loss: 0.2837 - accuracy: 0.9159 - val_loss: 1.5682 - val_accuracy: 0.5710\n",
      "Epoch 2/5\n",
      "168/168 [==============================] - 1s 5ms/step - loss: 0.1021 - accuracy: 0.9692 - val_loss: 1.0050 - val_accuracy: 0.6856\n",
      "Epoch 3/5\n",
      "168/168 [==============================] - 1s 6ms/step - loss: 0.0678 - accuracy: 0.9797 - val_loss: 0.1476 - val_accuracy: 0.9711\n",
      "Epoch 4/5\n",
      "168/168 [==============================] - 1s 5ms/step - loss: 0.0550 - accuracy: 0.9835 - val_loss: 0.0513 - val_accuracy: 0.9857\n",
      "Epoch 5/5\n",
      "168/168 [==============================] - 1s 5ms/step - loss: 0.0442 - accuracy: 0.9865 - val_loss: 0.0517 - val_accuracy: 0.9851\n"
     ]
    }
   ],
   "source": [
    "history = model.fit(X_train, y_train, validation_data=(X_test, y_test),\n",
    "                   epochs = 5,\n",
    "                   batch_size=200)"
   ]
  },
  {
   "cell_type": "code",
   "execution_count": 37,
   "metadata": {
    "execution": {
     "iopub.execute_input": "2023-03-15T15:35:25.711645Z",
     "iopub.status.busy": "2023-03-15T15:35:25.711214Z",
     "iopub.status.idle": "2023-03-15T15:35:25.734029Z",
     "shell.execute_reply": "2023-03-15T15:35:25.733029Z",
     "shell.execute_reply.started": "2023-03-15T15:35:25.711608Z"
    }
   },
   "outputs": [
    {
     "data": {
      "text/html": [
       "<div>\n",
       "<style scoped>\n",
       "    .dataframe tbody tr th:only-of-type {\n",
       "        vertical-align: middle;\n",
       "    }\n",
       "\n",
       "    .dataframe tbody tr th {\n",
       "        vertical-align: top;\n",
       "    }\n",
       "\n",
       "    .dataframe thead th {\n",
       "        text-align: right;\n",
       "    }\n",
       "</style>\n",
       "<table border=\"1\" class=\"dataframe\">\n",
       "  <thead>\n",
       "    <tr style=\"text-align: right;\">\n",
       "      <th></th>\n",
       "      <th>loss</th>\n",
       "      <th>accuracy</th>\n",
       "      <th>val_loss</th>\n",
       "      <th>val_accuracy</th>\n",
       "    </tr>\n",
       "  </thead>\n",
       "  <tbody>\n",
       "    <tr>\n",
       "      <th>0</th>\n",
       "      <td>0.283683</td>\n",
       "      <td>0.915863</td>\n",
       "      <td>1.568179</td>\n",
       "      <td>0.570952</td>\n",
       "    </tr>\n",
       "    <tr>\n",
       "      <th>1</th>\n",
       "      <td>0.102089</td>\n",
       "      <td>0.969167</td>\n",
       "      <td>1.005012</td>\n",
       "      <td>0.685595</td>\n",
       "    </tr>\n",
       "    <tr>\n",
       "      <th>2</th>\n",
       "      <td>0.067755</td>\n",
       "      <td>0.979732</td>\n",
       "      <td>0.147645</td>\n",
       "      <td>0.971071</td>\n",
       "    </tr>\n",
       "    <tr>\n",
       "      <th>3</th>\n",
       "      <td>0.054953</td>\n",
       "      <td>0.983512</td>\n",
       "      <td>0.051305</td>\n",
       "      <td>0.985714</td>\n",
       "    </tr>\n",
       "    <tr>\n",
       "      <th>4</th>\n",
       "      <td>0.044156</td>\n",
       "      <td>0.986488</td>\n",
       "      <td>0.051683</td>\n",
       "      <td>0.985119</td>\n",
       "    </tr>\n",
       "  </tbody>\n",
       "</table>\n",
       "</div>"
      ],
      "text/plain": [
       "       loss  accuracy  val_loss  val_accuracy\n",
       "0  0.283683  0.915863  1.568179      0.570952\n",
       "1  0.102089  0.969167  1.005012      0.685595\n",
       "2  0.067755  0.979732  0.147645      0.971071\n",
       "3  0.054953  0.983512  0.051305      0.985714\n",
       "4  0.044156  0.986488  0.051683      0.985119"
      ]
     },
     "execution_count": 37,
     "metadata": {},
     "output_type": "execute_result"
    }
   ],
   "source": [
    "pd.DataFrame(history.history)"
   ]
  },
  {
   "cell_type": "markdown",
   "metadata": {},
   "source": [
    "## Predict"
   ]
  },
  {
   "cell_type": "code",
   "execution_count": 66,
   "metadata": {
    "execution": {
     "iopub.execute_input": "2023-03-15T16:00:43.544983Z",
     "iopub.status.busy": "2023-03-15T16:00:43.544047Z",
     "iopub.status.idle": "2023-03-15T16:00:46.410759Z",
     "shell.execute_reply": "2023-03-15T16:00:46.409740Z",
     "shell.execute_reply.started": "2023-03-15T16:00:43.544932Z"
    }
   },
   "outputs": [
    {
     "name": "stdout",
     "output_type": "stream",
     "text": [
      "875/875 [==============================] - 2s 2ms/step\n"
     ]
    },
    {
     "data": {
      "text/plain": [
       "28000"
      ]
     },
     "execution_count": 66,
     "metadata": {},
     "output_type": "execute_result"
    }
   ],
   "source": [
    "predict = [np.argmax(i) for i in model.predict(A)]\n",
    "len(predict)"
   ]
  },
  {
   "cell_type": "code",
   "execution_count": 67,
   "metadata": {
    "execution": {
     "iopub.execute_input": "2023-03-15T16:03:43.903582Z",
     "iopub.status.busy": "2023-03-15T16:03:43.902667Z",
     "iopub.status.idle": "2023-03-15T16:03:43.913196Z",
     "shell.execute_reply": "2023-03-15T16:03:43.912187Z",
     "shell.execute_reply.started": "2023-03-15T16:03:43.903532Z"
    }
   },
   "outputs": [
    {
     "data": {
      "text/plain": [
       "28000"
      ]
     },
     "execution_count": 67,
     "metadata": {},
     "output_type": "execute_result"
    }
   ],
   "source": [
    "ids = [i+1 for i in test.index]\n",
    "len(ids)"
   ]
  },
  {
   "cell_type": "code",
   "execution_count": 74,
   "metadata": {
    "execution": {
     "iopub.execute_input": "2023-03-15T16:11:39.838883Z",
     "iopub.status.busy": "2023-03-15T16:11:39.838499Z",
     "iopub.status.idle": "2023-03-15T16:11:39.870494Z",
     "shell.execute_reply": "2023-03-15T16:11:39.869544Z",
     "shell.execute_reply.started": "2023-03-15T16:11:39.838849Z"
    }
   },
   "outputs": [],
   "source": [
    "submission = pd.DataFrame(columns=['ImageId','Label'])\n",
    "submission['ImageId'] = ids\n",
    "submission['Label'] = predict"
   ]
  },
  {
   "cell_type": "code",
   "execution_count": 75,
   "metadata": {
    "execution": {
     "iopub.execute_input": "2023-03-15T16:11:44.284884Z",
     "iopub.status.busy": "2023-03-15T16:11:44.284488Z",
     "iopub.status.idle": "2023-03-15T16:11:44.296849Z",
     "shell.execute_reply": "2023-03-15T16:11:44.295594Z",
     "shell.execute_reply.started": "2023-03-15T16:11:44.284850Z"
    }
   },
   "outputs": [
    {
     "data": {
      "text/html": [
       "<div>\n",
       "<style scoped>\n",
       "    .dataframe tbody tr th:only-of-type {\n",
       "        vertical-align: middle;\n",
       "    }\n",
       "\n",
       "    .dataframe tbody tr th {\n",
       "        vertical-align: top;\n",
       "    }\n",
       "\n",
       "    .dataframe thead th {\n",
       "        text-align: right;\n",
       "    }\n",
       "</style>\n",
       "<table border=\"1\" class=\"dataframe\">\n",
       "  <thead>\n",
       "    <tr style=\"text-align: right;\">\n",
       "      <th></th>\n",
       "      <th>ImageId</th>\n",
       "      <th>Label</th>\n",
       "    </tr>\n",
       "  </thead>\n",
       "  <tbody>\n",
       "    <tr>\n",
       "      <th>0</th>\n",
       "      <td>1</td>\n",
       "      <td>2</td>\n",
       "    </tr>\n",
       "    <tr>\n",
       "      <th>1</th>\n",
       "      <td>2</td>\n",
       "      <td>0</td>\n",
       "    </tr>\n",
       "    <tr>\n",
       "      <th>2</th>\n",
       "      <td>3</td>\n",
       "      <td>9</td>\n",
       "    </tr>\n",
       "    <tr>\n",
       "      <th>3</th>\n",
       "      <td>4</td>\n",
       "      <td>9</td>\n",
       "    </tr>\n",
       "    <tr>\n",
       "      <th>4</th>\n",
       "      <td>5</td>\n",
       "      <td>3</td>\n",
       "    </tr>\n",
       "    <tr>\n",
       "      <th>...</th>\n",
       "      <td>...</td>\n",
       "      <td>...</td>\n",
       "    </tr>\n",
       "    <tr>\n",
       "      <th>27995</th>\n",
       "      <td>27996</td>\n",
       "      <td>9</td>\n",
       "    </tr>\n",
       "    <tr>\n",
       "      <th>27996</th>\n",
       "      <td>27997</td>\n",
       "      <td>7</td>\n",
       "    </tr>\n",
       "    <tr>\n",
       "      <th>27997</th>\n",
       "      <td>27998</td>\n",
       "      <td>3</td>\n",
       "    </tr>\n",
       "    <tr>\n",
       "      <th>27998</th>\n",
       "      <td>27999</td>\n",
       "      <td>9</td>\n",
       "    </tr>\n",
       "    <tr>\n",
       "      <th>27999</th>\n",
       "      <td>28000</td>\n",
       "      <td>2</td>\n",
       "    </tr>\n",
       "  </tbody>\n",
       "</table>\n",
       "<p>28000 rows × 2 columns</p>\n",
       "</div>"
      ],
      "text/plain": [
       "       ImageId  Label\n",
       "0            1      2\n",
       "1            2      0\n",
       "2            3      9\n",
       "3            4      9\n",
       "4            5      3\n",
       "...        ...    ...\n",
       "27995    27996      9\n",
       "27996    27997      7\n",
       "27997    27998      3\n",
       "27998    27999      9\n",
       "27999    28000      2\n",
       "\n",
       "[28000 rows x 2 columns]"
      ]
     },
     "execution_count": 75,
     "metadata": {},
     "output_type": "execute_result"
    }
   ],
   "source": [
    "submission"
   ]
  },
  {
   "cell_type": "markdown",
   "metadata": {},
   "source": [
    "## Send submission"
   ]
  },
  {
   "cell_type": "code",
   "execution_count": 76,
   "metadata": {
    "execution": {
     "iopub.execute_input": "2023-03-15T16:12:08.218575Z",
     "iopub.status.busy": "2023-03-15T16:12:08.218176Z",
     "iopub.status.idle": "2023-03-15T16:12:08.250566Z",
     "shell.execute_reply": "2023-03-15T16:12:08.249686Z",
     "shell.execute_reply.started": "2023-03-15T16:12:08.218538Z"
    }
   },
   "outputs": [],
   "source": [
    "submission.to_csv('/kaggle/working/submission.csv', index=False)"
   ]
  }
 ],
 "metadata": {
  "kernelspec": {
   "display_name": "Python 3 (ipykernel)",
   "language": "python",
   "name": "python3"
  },
  "language_info": {
   "codemirror_mode": {
    "name": "ipython",
    "version": 3
   },
   "file_extension": ".py",
   "mimetype": "text/x-python",
   "name": "python",
   "nbconvert_exporter": "python",
   "pygments_lexer": "ipython3",
   "version": "3.9.13"
  }
 },
 "nbformat": 4,
 "nbformat_minor": 4
}
