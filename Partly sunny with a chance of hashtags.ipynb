{
 "cells": [
  {
   "cell_type": "code",
   "execution_count": 1,
   "id": "a6fd1574",
   "metadata": {
    "_cell_guid": "b1076dfc-b9ad-4769-8c92-a6c4dae69d19",
    "_uuid": "8f2839f25d086af736a60e9eeb907d3b93b6e0e5",
    "execution": {
     "iopub.execute_input": "2023-03-21T15:01:41.766318Z",
     "iopub.status.busy": "2023-03-21T15:01:41.765525Z",
     "iopub.status.idle": "2023-03-21T15:01:41.781276Z",
     "shell.execute_reply": "2023-03-21T15:01:41.779984Z"
    },
    "papermill": {
     "duration": 0.029286,
     "end_time": "2023-03-21T15:01:41.784812",
     "exception": false,
     "start_time": "2023-03-21T15:01:41.755526",
     "status": "completed"
    },
    "tags": []
   },
   "outputs": [
    {
     "name": "stdout",
     "output_type": "stream",
     "text": [
      "/kaggle/input/crowdflower-weather-twitter/sampleSubmission.csv\n",
      "/kaggle/input/crowdflower-weather-twitter/variableNames.txt\n",
      "/kaggle/input/crowdflower-weather-twitter/train.csv\n",
      "/kaggle/input/crowdflower-weather-twitter/test.csv\n"
     ]
    }
   ],
   "source": [
    "# This Python 3 environment comes with many helpful analytics libraries installed\n",
    "# It is defined by the kaggle/python Docker image: https://github.com/kaggle/docker-python\n",
    "# For example, here's several helpful packages to load\n",
    "\n",
    "import numpy as np # linear algebra\n",
    "import pandas as pd # data processing, CSV file I/O (e.g. pd.read_csv)\n",
    "\n",
    "# Input data files are available in the read-only \"../input/\" directory\n",
    "# For example, running this (by clicking run or pressing Shift+Enter) will list all files under the input directory\n",
    "\n",
    "import os\n",
    "for dirname, _, filenames in os.walk('/kaggle/input'):\n",
    "    for filename in filenames:\n",
    "        print(os.path.join(dirname, filename))\n",
    "\n",
    "# You can write up to 20GB to the current directory (/kaggle/working/) that gets preserved as output when you create a version using \"Save & Run All\" \n",
    "# You can also write temporary files to /kaggle/temp/, but they won't be saved outside of the current session"
   ]
  },
  {
   "cell_type": "markdown",
   "id": "e40c4a6a",
   "metadata": {
    "papermill": {
     "duration": 0.006604,
     "end_time": "2023-03-21T15:01:41.798614",
     "exception": false,
     "start_time": "2023-03-21T15:01:41.792010",
     "status": "completed"
    },
    "tags": []
   },
   "source": [
    "# Import libraries"
   ]
  },
  {
   "cell_type": "code",
   "execution_count": 2,
   "id": "ca473740",
   "metadata": {
    "execution": {
     "iopub.execute_input": "2023-03-21T15:01:41.814246Z",
     "iopub.status.busy": "2023-03-21T15:01:41.813847Z",
     "iopub.status.idle": "2023-03-21T15:01:52.730157Z",
     "shell.execute_reply": "2023-03-21T15:01:52.728494Z"
    },
    "papermill": {
     "duration": 10.927963,
     "end_time": "2023-03-21T15:01:52.733340",
     "exception": false,
     "start_time": "2023-03-21T15:01:41.805377",
     "status": "completed"
    },
    "tags": []
   },
   "outputs": [],
   "source": [
    "import numpy as np\n",
    "import pandas as pd\n",
    "import matplotlib.pyplot as plt\n",
    "import seaborn as sns\n",
    "import re\n",
    "import shutil\n",
    "import string\n",
    "\n",
    "import tensorflow as tf\n",
    "from keras import layers\n",
    "\n",
    "from sklearn.model_selection import train_test_split\n",
    "from sklearn.metrics import mean_squared_error\n",
    "\n",
    "plt.style.use(\"seaborn\")\n",
    "\n",
    "pd.options.display.max_rows = 2000\n",
    "pd.options.display.max_columns = 500"
   ]
  },
  {
   "cell_type": "markdown",
   "id": "dc72df9a",
   "metadata": {
    "papermill": {
     "duration": 0.006583,
     "end_time": "2023-03-21T15:01:52.746997",
     "exception": false,
     "start_time": "2023-03-21T15:01:52.740414",
     "status": "completed"
    },
    "tags": []
   },
   "source": [
    "## Load our data"
   ]
  },
  {
   "cell_type": "code",
   "execution_count": 3,
   "id": "c4c4003c",
   "metadata": {
    "execution": {
     "iopub.execute_input": "2023-03-21T15:01:52.764002Z",
     "iopub.status.busy": "2023-03-21T15:01:52.763020Z",
     "iopub.status.idle": "2023-03-21T15:01:53.639053Z",
     "shell.execute_reply": "2023-03-21T15:01:53.637747Z"
    },
    "papermill": {
     "duration": 0.88825,
     "end_time": "2023-03-21T15:01:53.642089",
     "exception": false,
     "start_time": "2023-03-21T15:01:52.753839",
     "status": "completed"
    },
    "tags": []
   },
   "outputs": [],
   "source": [
    "train = pd.read_csv('/kaggle/input/crowdflower-weather-twitter/train.csv')\n",
    "test = pd.read_csv('/kaggle/input/crowdflower-weather-twitter/test.csv')"
   ]
  },
  {
   "cell_type": "markdown",
   "id": "c7a53e4f",
   "metadata": {
    "papermill": {
     "duration": 0.006346,
     "end_time": "2023-03-21T15:01:53.656663",
     "exception": false,
     "start_time": "2023-03-21T15:01:53.650317",
     "status": "completed"
    },
    "tags": []
   },
   "source": [
    "## Preliminary analyse"
   ]
  },
  {
   "cell_type": "code",
   "execution_count": 4,
   "id": "17c2483e",
   "metadata": {
    "execution": {
     "iopub.execute_input": "2023-03-21T15:01:53.672138Z",
     "iopub.status.busy": "2023-03-21T15:01:53.671750Z",
     "iopub.status.idle": "2023-03-21T15:01:53.722693Z",
     "shell.execute_reply": "2023-03-21T15:01:53.721320Z"
    },
    "papermill": {
     "duration": 0.062006,
     "end_time": "2023-03-21T15:01:53.725386",
     "exception": false,
     "start_time": "2023-03-21T15:01:53.663380",
     "status": "completed"
    },
    "tags": []
   },
   "outputs": [
    {
     "name": "stdout",
     "output_type": "stream",
     "text": [
      "<class 'pandas.core.frame.DataFrame'>\n",
      "RangeIndex: 77946 entries, 0 to 77945\n",
      "Data columns (total 28 columns):\n",
      " #   Column    Non-Null Count  Dtype  \n",
      "---  ------    --------------  -----  \n",
      " 0   id        77946 non-null  int64  \n",
      " 1   tweet     77946 non-null  object \n",
      " 2   state     77946 non-null  object \n",
      " 3   location  66994 non-null  object \n",
      " 4   s1        77946 non-null  float64\n",
      " 5   s2        77946 non-null  float64\n",
      " 6   s3        77946 non-null  float64\n",
      " 7   s4        77946 non-null  float64\n",
      " 8   s5        77946 non-null  float64\n",
      " 9   w1        77946 non-null  float64\n",
      " 10  w2        77946 non-null  float64\n",
      " 11  w3        77946 non-null  float64\n",
      " 12  w4        77946 non-null  float64\n",
      " 13  k1        77946 non-null  float64\n",
      " 14  k2        77946 non-null  float64\n",
      " 15  k3        77946 non-null  float64\n",
      " 16  k4        77946 non-null  float64\n",
      " 17  k5        77946 non-null  float64\n",
      " 18  k6        77946 non-null  float64\n",
      " 19  k7        77946 non-null  float64\n",
      " 20  k8        77946 non-null  float64\n",
      " 21  k9        77946 non-null  float64\n",
      " 22  k10       77946 non-null  float64\n",
      " 23  k11       77946 non-null  float64\n",
      " 24  k12       77946 non-null  float64\n",
      " 25  k13       77946 non-null  float64\n",
      " 26  k14       77946 non-null  float64\n",
      " 27  k15       77946 non-null  float64\n",
      "dtypes: float64(24), int64(1), object(3)\n",
      "memory usage: 16.7+ MB\n"
     ]
    }
   ],
   "source": [
    "train.info()"
   ]
  },
  {
   "cell_type": "code",
   "execution_count": 5,
   "id": "e99fde20",
   "metadata": {
    "execution": {
     "iopub.execute_input": "2023-03-21T15:01:53.741139Z",
     "iopub.status.busy": "2023-03-21T15:01:53.740704Z",
     "iopub.status.idle": "2023-03-21T15:01:53.790534Z",
     "shell.execute_reply": "2023-03-21T15:01:53.788990Z"
    },
    "papermill": {
     "duration": 0.060802,
     "end_time": "2023-03-21T15:01:53.793341",
     "exception": false,
     "start_time": "2023-03-21T15:01:53.732539",
     "status": "completed"
    },
    "tags": []
   },
   "outputs": [
    {
     "data": {
      "text/html": [
       "<div>\n",
       "<style scoped>\n",
       "    .dataframe tbody tr th:only-of-type {\n",
       "        vertical-align: middle;\n",
       "    }\n",
       "\n",
       "    .dataframe tbody tr th {\n",
       "        vertical-align: top;\n",
       "    }\n",
       "\n",
       "    .dataframe thead th {\n",
       "        text-align: right;\n",
       "    }\n",
       "</style>\n",
       "<table border=\"1\" class=\"dataframe\">\n",
       "  <thead>\n",
       "    <tr style=\"text-align: right;\">\n",
       "      <th></th>\n",
       "      <th>id</th>\n",
       "      <th>tweet</th>\n",
       "      <th>state</th>\n",
       "      <th>location</th>\n",
       "      <th>s1</th>\n",
       "      <th>s2</th>\n",
       "      <th>s3</th>\n",
       "      <th>s4</th>\n",
       "      <th>s5</th>\n",
       "      <th>w1</th>\n",
       "      <th>w2</th>\n",
       "      <th>w3</th>\n",
       "      <th>w4</th>\n",
       "      <th>k1</th>\n",
       "      <th>k2</th>\n",
       "      <th>k3</th>\n",
       "      <th>k4</th>\n",
       "      <th>k5</th>\n",
       "      <th>k6</th>\n",
       "      <th>k7</th>\n",
       "      <th>k8</th>\n",
       "      <th>k9</th>\n",
       "      <th>k10</th>\n",
       "      <th>k11</th>\n",
       "      <th>k12</th>\n",
       "      <th>k13</th>\n",
       "      <th>k14</th>\n",
       "      <th>k15</th>\n",
       "    </tr>\n",
       "  </thead>\n",
       "  <tbody>\n",
       "    <tr>\n",
       "      <th>33627</th>\n",
       "      <td>51856</td>\n",
       "      <td>60 degrees in atl today #saywhat</td>\n",
       "      <td>georgia</td>\n",
       "      <td>Atlanta</td>\n",
       "      <td>0.0</td>\n",
       "      <td>0.0</td>\n",
       "      <td>1.000</td>\n",
       "      <td>0.000</td>\n",
       "      <td>0.000</td>\n",
       "      <td>1.000</td>\n",
       "      <td>0.0</td>\n",
       "      <td>0.000</td>\n",
       "      <td>0.0</td>\n",
       "      <td>0.0</td>\n",
       "      <td>0.0</td>\n",
       "      <td>0.0</td>\n",
       "      <td>0.0</td>\n",
       "      <td>0.0</td>\n",
       "      <td>0.0</td>\n",
       "      <td>0.201</td>\n",
       "      <td>0.0</td>\n",
       "      <td>0.799</td>\n",
       "      <td>0.0</td>\n",
       "      <td>0.0</td>\n",
       "      <td>0.0</td>\n",
       "      <td>0.0</td>\n",
       "      <td>0.0</td>\n",
       "      <td>0.0</td>\n",
       "    </tr>\n",
       "    <tr>\n",
       "      <th>60164</th>\n",
       "      <td>92697</td>\n",
       "      <td>And the party preparation began befor i even w...</td>\n",
       "      <td>iowa</td>\n",
       "      <td>Carroll, Iowa</td>\n",
       "      <td>0.0</td>\n",
       "      <td>0.0</td>\n",
       "      <td>0.349</td>\n",
       "      <td>0.176</td>\n",
       "      <td>0.476</td>\n",
       "      <td>0.683</td>\n",
       "      <td>0.0</td>\n",
       "      <td>0.317</td>\n",
       "      <td>0.0</td>\n",
       "      <td>0.0</td>\n",
       "      <td>0.0</td>\n",
       "      <td>0.0</td>\n",
       "      <td>0.0</td>\n",
       "      <td>0.0</td>\n",
       "      <td>0.0</td>\n",
       "      <td>0.348</td>\n",
       "      <td>0.0</td>\n",
       "      <td>0.652</td>\n",
       "      <td>0.0</td>\n",
       "      <td>0.0</td>\n",
       "      <td>0.0</td>\n",
       "      <td>0.0</td>\n",
       "      <td>0.0</td>\n",
       "      <td>0.0</td>\n",
       "    </tr>\n",
       "  </tbody>\n",
       "</table>\n",
       "</div>"
      ],
      "text/plain": [
       "          id                                              tweet    state  \\\n",
       "33627  51856                   60 degrees in atl today #saywhat  georgia   \n",
       "60164  92697  And the party preparation began befor i even w...     iowa   \n",
       "\n",
       "            location   s1   s2     s3     s4     s5     w1   w2     w3   w4  \\\n",
       "33627        Atlanta  0.0  0.0  1.000  0.000  0.000  1.000  0.0  0.000  0.0   \n",
       "60164  Carroll, Iowa  0.0  0.0  0.349  0.176  0.476  0.683  0.0  0.317  0.0   \n",
       "\n",
       "        k1   k2   k3   k4   k5   k6     k7   k8     k9  k10  k11  k12  k13  \\\n",
       "33627  0.0  0.0  0.0  0.0  0.0  0.0  0.201  0.0  0.799  0.0  0.0  0.0  0.0   \n",
       "60164  0.0  0.0  0.0  0.0  0.0  0.0  0.348  0.0  0.652  0.0  0.0  0.0  0.0   \n",
       "\n",
       "       k14  k15  \n",
       "33627  0.0  0.0  \n",
       "60164  0.0  0.0  "
      ]
     },
     "execution_count": 5,
     "metadata": {},
     "output_type": "execute_result"
    }
   ],
   "source": [
    "train.sample(2)"
   ]
  },
  {
   "cell_type": "code",
   "execution_count": 6,
   "id": "56faa444",
   "metadata": {
    "execution": {
     "iopub.execute_input": "2023-03-21T15:01:53.810296Z",
     "iopub.status.busy": "2023-03-21T15:01:53.809837Z",
     "iopub.status.idle": "2023-03-21T15:01:53.820305Z",
     "shell.execute_reply": "2023-03-21T15:01:53.818225Z"
    },
    "papermill": {
     "duration": 0.02224,
     "end_time": "2023-03-21T15:01:53.823077",
     "exception": false,
     "start_time": "2023-03-21T15:01:53.800837",
     "status": "completed"
    },
    "tags": []
   },
   "outputs": [
    {
     "name": "stdout",
     "output_type": "stream",
     "text": [
      "--------------------------------------------------------------------------------\n",
      "Index: 69328;\n",
      "Sample:\n",
      "Carrie Underwood + sunshine = happiness\n",
      "--------------------------------------------------------------------------------\n",
      "Index: 66825;\n",
      "Sample:\n",
      "@mention Touche...sunny here as well....my heart's great, but it's my mouth that's recovering....silence in the neighbourhood....hehehe\n"
     ]
    }
   ],
   "source": [
    "for i in range(2):\n",
    "    n = np.random.randint(77000)\n",
    "    sample = train['tweet'][n]\n",
    "    print('-'*80)\n",
    "    print(f'Index: {n};\\nSample:\\n{sample}')"
   ]
  },
  {
   "cell_type": "code",
   "execution_count": 7,
   "id": "683a90b0",
   "metadata": {
    "execution": {
     "iopub.execute_input": "2023-03-21T15:01:53.839642Z",
     "iopub.status.busy": "2023-03-21T15:01:53.839126Z",
     "iopub.status.idle": "2023-03-21T15:01:53.861656Z",
     "shell.execute_reply": "2023-03-21T15:01:53.859936Z"
    },
    "papermill": {
     "duration": 0.03405,
     "end_time": "2023-03-21T15:01:53.864424",
     "exception": false,
     "start_time": "2023-03-21T15:01:53.830374",
     "status": "completed"
    },
    "tags": []
   },
   "outputs": [
    {
     "name": "stdout",
     "output_type": "stream",
     "text": [
      "<class 'pandas.core.frame.DataFrame'>\n",
      "RangeIndex: 42157 entries, 0 to 42156\n",
      "Data columns (total 4 columns):\n",
      " #   Column    Non-Null Count  Dtype \n",
      "---  ------    --------------  ----- \n",
      " 0   id        42157 non-null  int64 \n",
      " 1   tweet     42157 non-null  object\n",
      " 2   state     14323 non-null  object\n",
      " 3   location  42144 non-null  object\n",
      "dtypes: int64(1), object(3)\n",
      "memory usage: 1.3+ MB\n"
     ]
    }
   ],
   "source": [
    "test.info()"
   ]
  },
  {
   "cell_type": "code",
   "execution_count": 8,
   "id": "eae1939c",
   "metadata": {
    "execution": {
     "iopub.execute_input": "2023-03-21T15:01:53.882038Z",
     "iopub.status.busy": "2023-03-21T15:01:53.881581Z",
     "iopub.status.idle": "2023-03-21T15:01:53.896810Z",
     "shell.execute_reply": "2023-03-21T15:01:53.895636Z"
    },
    "papermill": {
     "duration": 0.02772,
     "end_time": "2023-03-21T15:01:53.899339",
     "exception": false,
     "start_time": "2023-03-21T15:01:53.871619",
     "status": "completed"
    },
    "tags": []
   },
   "outputs": [
    {
     "data": {
      "text/html": [
       "<div>\n",
       "<style scoped>\n",
       "    .dataframe tbody tr th:only-of-type {\n",
       "        vertical-align: middle;\n",
       "    }\n",
       "\n",
       "    .dataframe tbody tr th {\n",
       "        vertical-align: top;\n",
       "    }\n",
       "\n",
       "    .dataframe thead th {\n",
       "        text-align: right;\n",
       "    }\n",
       "</style>\n",
       "<table border=\"1\" class=\"dataframe\">\n",
       "  <thead>\n",
       "    <tr style=\"text-align: right;\">\n",
       "      <th></th>\n",
       "      <th>id</th>\n",
       "      <th>tweet</th>\n",
       "      <th>state</th>\n",
       "      <th>location</th>\n",
       "    </tr>\n",
       "  </thead>\n",
       "  <tbody>\n",
       "    <tr>\n",
       "      <th>4737</th>\n",
       "      <td>13361</td>\n",
       "      <td>@kaseykahne dang I was telling my sisters we n...</td>\n",
       "      <td>NaN</td>\n",
       "      <td>Middleburg, Florida</td>\n",
       "    </tr>\n",
       "    <tr>\n",
       "      <th>35471</th>\n",
       "      <td>101201</td>\n",
       "      <td>why is it like 2 fucking degrees outside</td>\n",
       "      <td>delaware</td>\n",
       "      <td>Wilmington, NC</td>\n",
       "    </tr>\n",
       "  </tbody>\n",
       "</table>\n",
       "</div>"
      ],
      "text/plain": [
       "           id                                              tweet     state  \\\n",
       "4737    13361  @kaseykahne dang I was telling my sisters we n...       NaN   \n",
       "35471  101201           why is it like 2 fucking degrees outside  delaware   \n",
       "\n",
       "                  location  \n",
       "4737   Middleburg, Florida  \n",
       "35471       Wilmington, NC  "
      ]
     },
     "execution_count": 8,
     "metadata": {},
     "output_type": "execute_result"
    }
   ],
   "source": [
    "test.sample(2)"
   ]
  },
  {
   "cell_type": "code",
   "execution_count": 9,
   "id": "95adb3c8",
   "metadata": {
    "execution": {
     "iopub.execute_input": "2023-03-21T15:01:53.916460Z",
     "iopub.status.busy": "2023-03-21T15:01:53.915999Z",
     "iopub.status.idle": "2023-03-21T15:01:53.924626Z",
     "shell.execute_reply": "2023-03-21T15:01:53.922644Z"
    },
    "papermill": {
     "duration": 0.020118,
     "end_time": "2023-03-21T15:01:53.927142",
     "exception": false,
     "start_time": "2023-03-21T15:01:53.907024",
     "status": "completed"
    },
    "tags": []
   },
   "outputs": [
    {
     "name": "stdout",
     "output_type": "stream",
     "text": [
      "--------------------------------------------------------------------------------\n",
      "Index: 15003;\n",
      "Sample:\n",
      "New event. Severe Thunderstorm Warning from 5/3/2011 7:09 PM to 8:15 PM EDT for Cleveland Count... Read more at {link}\n",
      "--------------------------------------------------------------------------------\n",
      "Index: 30658;\n",
      "Sample:\n",
      "101 degrees in yoga studio today. Felt great.\n"
     ]
    }
   ],
   "source": [
    "for i in range(2):\n",
    "    n = np.random.randint(40000)\n",
    "    sample = test['tweet'][n]\n",
    "    print('-'*80)\n",
    "    print(f'Index: {n};\\nSample:\\n{sample}')"
   ]
  },
  {
   "cell_type": "markdown",
   "id": "5050df01",
   "metadata": {
    "papermill": {
     "duration": 0.007161,
     "end_time": "2023-03-21T15:01:53.941730",
     "exception": false,
     "start_time": "2023-03-21T15:01:53.934569",
     "status": "completed"
    },
    "tags": []
   },
   "source": [
    "## Create some function for tokenization and vectorization"
   ]
  },
  {
   "cell_type": "code",
   "execution_count": 10,
   "id": "3f0c078e",
   "metadata": {
    "execution": {
     "iopub.execute_input": "2023-03-21T15:01:53.958342Z",
     "iopub.status.busy": "2023-03-21T15:01:53.957958Z",
     "iopub.status.idle": "2023-03-21T15:01:53.964219Z",
     "shell.execute_reply": "2023-03-21T15:01:53.962898Z"
    },
    "papermill": {
     "duration": 0.017705,
     "end_time": "2023-03-21T15:01:53.966719",
     "exception": false,
     "start_time": "2023-03-21T15:01:53.949014",
     "status": "completed"
    },
    "tags": []
   },
   "outputs": [],
   "source": [
    "def custom_standardization(sentence):\n",
    "    sample = tf.strings.lower(sentence)\n",
    "    stripped_html = tf.strings.regex_replace(sample, 'link', ' ')\n",
    "    return tf.strings.regex_replace(stripped_html, \n",
    "                         '[%s]'%re.escape(string.punctuation), '')"
   ]
  },
  {
   "cell_type": "code",
   "execution_count": 11,
   "id": "7f5ffd51",
   "metadata": {
    "execution": {
     "iopub.execute_input": "2023-03-21T15:01:53.984154Z",
     "iopub.status.busy": "2023-03-21T15:01:53.983653Z",
     "iopub.status.idle": "2023-03-21T15:01:58.197858Z",
     "shell.execute_reply": "2023-03-21T15:01:58.196757Z"
    },
    "papermill": {
     "duration": 4.226512,
     "end_time": "2023-03-21T15:01:58.200657",
     "exception": false,
     "start_time": "2023-03-21T15:01:53.974145",
     "status": "completed"
    },
    "tags": []
   },
   "outputs": [],
   "source": [
    "max_features = 10000\n",
    "sequence_length = 250\n",
    "\n",
    "vectorize_layer = layers.TextVectorization(\n",
    "                        standardize=custom_standardization,\n",
    "                        max_tokens=max_features,\n",
    "                        output_mode='int',\n",
    "                        output_sequence_length=sequence_length)\n",
    "vectorize_layer.adapt(train['tweet'])"
   ]
  },
  {
   "cell_type": "code",
   "execution_count": 12,
   "id": "00d08583",
   "metadata": {
    "execution": {
     "iopub.execute_input": "2023-03-21T15:01:58.217964Z",
     "iopub.status.busy": "2023-03-21T15:01:58.217307Z",
     "iopub.status.idle": "2023-03-21T15:01:58.349950Z",
     "shell.execute_reply": "2023-03-21T15:01:58.347834Z"
    },
    "papermill": {
     "duration": 0.144538,
     "end_time": "2023-03-21T15:01:58.352719",
     "exception": false,
     "start_time": "2023-03-21T15:01:58.208181",
     "status": "completed"
    },
    "tags": []
   },
   "outputs": [
    {
     "name": "stdout",
     "output_type": "stream",
     "text": [
      "Before standartization:\n",
      "\"The 2liter as warm as the weather\"....\n",
      "--------------------------------------------------------------------------------\n",
      "After standartization:\n",
      "b'the 2liter as warm as the weather'\n",
      "--------------------------------------------------------------------------------\n",
      "After vectorization:\n",
      "[ 2  1 60 70 60  2  3  0  0  0  0  0  0  0  0  0  0  0  0  0  0  0  0  0\n",
      "  0  0  0  0  0  0  0  0  0  0  0  0  0  0  0  0  0  0  0  0  0  0  0  0\n",
      "  0  0  0  0  0  0  0  0  0  0  0  0  0  0  0  0  0  0  0  0  0  0  0  0\n",
      "  0  0  0  0  0  0  0  0  0  0  0  0  0  0  0  0  0  0  0  0  0  0  0  0\n",
      "  0  0  0  0  0  0  0  0  0  0  0  0  0  0  0  0  0  0  0  0  0  0  0  0\n",
      "  0  0  0  0  0  0  0  0  0  0  0  0  0  0  0  0  0  0  0  0  0  0  0  0\n",
      "  0  0  0  0  0  0  0  0  0  0  0  0  0  0  0  0  0  0  0  0  0  0  0  0\n",
      "  0  0  0  0  0  0  0  0  0  0  0  0  0  0  0  0  0  0  0  0  0  0  0  0\n",
      "  0  0  0  0  0  0  0  0  0  0  0  0  0  0  0  0  0  0  0  0  0  0  0  0\n",
      "  0  0  0  0  0  0  0  0  0  0  0  0  0  0  0  0  0  0  0  0  0  0  0  0\n",
      "  0  0  0  0  0  0  0  0  0  0]\n",
      "********************************************************************************\n"
     ]
    }
   ],
   "source": [
    "for i in range(1):\n",
    "    sample = np.random.randint(77000)\n",
    "    print(f\"Before standartization:\\n{train['tweet'][sample]}\")\n",
    "    print('-'*80)\n",
    "    print(f\"After standartization:\\n{custom_standardization(train['tweet'][sample])}\")\n",
    "    print('-'*80)\n",
    "    print(f\"After vectorization:\\n{vectorize_layer(train['tweet'][sample])}\")\n",
    "    print('*'*80)"
   ]
  },
  {
   "cell_type": "markdown",
   "id": "f01278b1",
   "metadata": {
    "papermill": {
     "duration": 0.007161,
     "end_time": "2023-03-21T15:01:58.367482",
     "exception": false,
     "start_time": "2023-03-21T15:01:58.360321",
     "status": "completed"
    },
    "tags": []
   },
   "source": [
    "## Prepare our data to fit"
   ]
  },
  {
   "cell_type": "code",
   "execution_count": 13,
   "id": "24f7e5e4",
   "metadata": {
    "execution": {
     "iopub.execute_input": "2023-03-21T15:01:58.384090Z",
     "iopub.status.busy": "2023-03-21T15:01:58.383688Z",
     "iopub.status.idle": "2023-03-21T15:01:59.151328Z",
     "shell.execute_reply": "2023-03-21T15:01:59.150039Z"
    },
    "papermill": {
     "duration": 0.779309,
     "end_time": "2023-03-21T15:01:59.154066",
     "exception": false,
     "start_time": "2023-03-21T15:01:58.374757",
     "status": "completed"
    },
    "tags": []
   },
   "outputs": [
    {
     "data": {
      "text/plain": [
       "(77946, 250)"
      ]
     },
     "execution_count": 13,
     "metadata": {},
     "output_type": "execute_result"
    }
   ],
   "source": [
    "x = train.iloc[:,1:2].values\n",
    "X = np.array(vectorize_layer(x))\n",
    "X.shape"
   ]
  },
  {
   "cell_type": "code",
   "execution_count": 14,
   "id": "4143697c",
   "metadata": {
    "execution": {
     "iopub.execute_input": "2023-03-21T15:01:59.171440Z",
     "iopub.status.busy": "2023-03-21T15:01:59.170951Z",
     "iopub.status.idle": "2023-03-21T15:01:59.198019Z",
     "shell.execute_reply": "2023-03-21T15:01:59.196781Z"
    },
    "papermill": {
     "duration": 0.039135,
     "end_time": "2023-03-21T15:01:59.200843",
     "exception": false,
     "start_time": "2023-03-21T15:01:59.161708",
     "status": "completed"
    },
    "tags": []
   },
   "outputs": [
    {
     "data": {
      "text/plain": [
       "(77946, 24)"
      ]
     },
     "execution_count": 14,
     "metadata": {},
     "output_type": "execute_result"
    }
   ],
   "source": [
    "Y = np.array(train.iloc[:,4:])\n",
    "Y.shape"
   ]
  },
  {
   "cell_type": "code",
   "execution_count": 15,
   "id": "7abc0533",
   "metadata": {
    "execution": {
     "iopub.execute_input": "2023-03-21T15:01:59.219406Z",
     "iopub.status.busy": "2023-03-21T15:01:59.218969Z",
     "iopub.status.idle": "2023-03-21T15:01:59.587741Z",
     "shell.execute_reply": "2023-03-21T15:01:59.586174Z"
    },
    "papermill": {
     "duration": 0.381495,
     "end_time": "2023-03-21T15:01:59.590330",
     "exception": false,
     "start_time": "2023-03-21T15:01:59.208835",
     "status": "completed"
    },
    "tags": []
   },
   "outputs": [
    {
     "data": {
      "text/plain": [
       "(42157, 250)"
      ]
     },
     "execution_count": 15,
     "metadata": {},
     "output_type": "execute_result"
    }
   ],
   "source": [
    "a = test.iloc[:,1:2].values\n",
    "A = np.array(vectorize_layer(a))\n",
    "A.shape"
   ]
  },
  {
   "cell_type": "code",
   "execution_count": 16,
   "id": "5eee2f9b",
   "metadata": {
    "execution": {
     "iopub.execute_input": "2023-03-21T15:01:59.608922Z",
     "iopub.status.busy": "2023-03-21T15:01:59.608074Z",
     "iopub.status.idle": "2023-03-21T15:01:59.739842Z",
     "shell.execute_reply": "2023-03-21T15:01:59.738074Z"
    },
    "papermill": {
     "duration": 0.144799,
     "end_time": "2023-03-21T15:01:59.743123",
     "exception": false,
     "start_time": "2023-03-21T15:01:59.598324",
     "status": "completed"
    },
    "tags": []
   },
   "outputs": [
    {
     "name": "stdout",
     "output_type": "stream",
     "text": [
      "X_train: (54562, 250), y_train: (54562, 24)\n",
      "--------------------------------------------------\n",
      "X_test: (23384, 250), y_test: (23384, 24)\n"
     ]
    }
   ],
   "source": [
    "X_train, X_test, y_train, y_test = train_test_split(X, Y, test_size=0.3)\n",
    "print(f'X_train: {X_train.shape}, y_train: {y_train.shape}')\n",
    "print('-'*50)\n",
    "print(f'X_test: {X_test.shape}, y_test: {y_test.shape}')"
   ]
  },
  {
   "cell_type": "markdown",
   "id": "8093c201",
   "metadata": {
    "papermill": {
     "duration": 0.007845,
     "end_time": "2023-03-21T15:01:59.759127",
     "exception": false,
     "start_time": "2023-03-21T15:01:59.751282",
     "status": "completed"
    },
    "tags": []
   },
   "source": [
    "## Build model"
   ]
  },
  {
   "cell_type": "code",
   "execution_count": 17,
   "id": "d145bc9b",
   "metadata": {
    "execution": {
     "iopub.execute_input": "2023-03-21T15:01:59.778087Z",
     "iopub.status.busy": "2023-03-21T15:01:59.776976Z",
     "iopub.status.idle": "2023-03-21T15:02:02.559036Z",
     "shell.execute_reply": "2023-03-21T15:02:02.557642Z"
    },
    "papermill": {
     "duration": 2.795881,
     "end_time": "2023-03-21T15:02:02.563084",
     "exception": false,
     "start_time": "2023-03-21T15:01:59.767203",
     "status": "completed"
    },
    "tags": []
   },
   "outputs": [
    {
     "data": {
      "text/plain": [
       "0.2474572723329236"
      ]
     },
     "execution_count": 17,
     "metadata": {},
     "output_type": "execute_result"
    }
   ],
   "source": [
    "from sklearn.linear_model import Lasso\n",
    "\n",
    "model = Lasso()\n",
    "\n",
    "_ = model.fit(X_train,y_train)\n",
    "y_pred = model.predict(X_test)\n",
    "np.sqrt(mean_squared_error(y_test, y_pred))"
   ]
  },
  {
   "cell_type": "code",
   "execution_count": 18,
   "id": "a00a674e",
   "metadata": {
    "execution": {
     "iopub.execute_input": "2023-03-21T15:02:02.607651Z",
     "iopub.status.busy": "2023-03-21T15:02:02.606845Z",
     "iopub.status.idle": "2023-03-21T15:02:02.727250Z",
     "shell.execute_reply": "2023-03-21T15:02:02.725367Z"
    },
    "papermill": {
     "duration": 0.148517,
     "end_time": "2023-03-21T15:02:02.732194",
     "exception": false,
     "start_time": "2023-03-21T15:02:02.583677",
     "status": "completed"
    },
    "tags": []
   },
   "outputs": [],
   "source": [
    "predict = model.predict(A)"
   ]
  },
  {
   "cell_type": "markdown",
   "id": "b91a4500",
   "metadata": {
    "papermill": {
     "duration": 0.019947,
     "end_time": "2023-03-21T15:02:02.772996",
     "exception": false,
     "start_time": "2023-03-21T15:02:02.753049",
     "status": "completed"
    },
    "tags": []
   },
   "source": [
    "## Send submission"
   ]
  },
  {
   "cell_type": "code",
   "execution_count": 19,
   "id": "91af2b40",
   "metadata": {
    "execution": {
     "iopub.execute_input": "2023-03-21T15:02:02.817324Z",
     "iopub.status.busy": "2023-03-21T15:02:02.816552Z",
     "iopub.status.idle": "2023-03-21T15:02:02.945696Z",
     "shell.execute_reply": "2023-03-21T15:02:02.944620Z"
    },
    "papermill": {
     "duration": 0.155179,
     "end_time": "2023-03-21T15:02:02.948762",
     "exception": false,
     "start_time": "2023-03-21T15:02:02.793583",
     "status": "completed"
    },
    "tags": []
   },
   "outputs": [],
   "source": [
    "subm = pd.read_csv('/kaggle/input/crowdflower-weather-twitter/sampleSubmission.csv')"
   ]
  },
  {
   "cell_type": "code",
   "execution_count": 20,
   "id": "61eee115",
   "metadata": {
    "execution": {
     "iopub.execute_input": "2023-03-21T15:02:02.971304Z",
     "iopub.status.busy": "2023-03-21T15:02:02.969921Z",
     "iopub.status.idle": "2023-03-21T15:02:03.027811Z",
     "shell.execute_reply": "2023-03-21T15:02:03.026114Z"
    },
    "papermill": {
     "duration": 0.073266,
     "end_time": "2023-03-21T15:02:03.030813",
     "exception": false,
     "start_time": "2023-03-21T15:02:02.957547",
     "status": "completed"
    },
    "tags": []
   },
   "outputs": [
    {
     "data": {
      "text/html": [
       "<div>\n",
       "<style scoped>\n",
       "    .dataframe tbody tr th:only-of-type {\n",
       "        vertical-align: middle;\n",
       "    }\n",
       "\n",
       "    .dataframe tbody tr th {\n",
       "        vertical-align: top;\n",
       "    }\n",
       "\n",
       "    .dataframe thead th {\n",
       "        text-align: right;\n",
       "    }\n",
       "</style>\n",
       "<table border=\"1\" class=\"dataframe\">\n",
       "  <thead>\n",
       "    <tr style=\"text-align: right;\">\n",
       "      <th></th>\n",
       "      <th>id</th>\n",
       "      <th>s1</th>\n",
       "      <th>s2</th>\n",
       "      <th>s3</th>\n",
       "      <th>s4</th>\n",
       "      <th>s5</th>\n",
       "      <th>w1</th>\n",
       "      <th>w2</th>\n",
       "      <th>w3</th>\n",
       "      <th>w4</th>\n",
       "      <th>k1</th>\n",
       "      <th>k2</th>\n",
       "      <th>k3</th>\n",
       "      <th>k4</th>\n",
       "      <th>k5</th>\n",
       "      <th>k6</th>\n",
       "      <th>k7</th>\n",
       "      <th>k8</th>\n",
       "      <th>k9</th>\n",
       "      <th>k10</th>\n",
       "      <th>k11</th>\n",
       "      <th>k12</th>\n",
       "      <th>k13</th>\n",
       "      <th>k14</th>\n",
       "      <th>k15</th>\n",
       "    </tr>\n",
       "  </thead>\n",
       "  <tbody>\n",
       "    <tr>\n",
       "      <th>0</th>\n",
       "      <td>4</td>\n",
       "      <td>0.062468</td>\n",
       "      <td>0.272964</td>\n",
       "      <td>0.280734</td>\n",
       "      <td>0.253793</td>\n",
       "      <td>0.127889</td>\n",
       "      <td>0.771554</td>\n",
       "      <td>0.078009</td>\n",
       "      <td>0.121452</td>\n",
       "      <td>0.032627</td>\n",
       "      <td>0.020983</td>\n",
       "      <td>0.120458</td>\n",
       "      <td>0.008025</td>\n",
       "      <td>0.135479</td>\n",
       "      <td>0.050959</td>\n",
       "      <td>0.001701</td>\n",
       "      <td>0.284203</td>\n",
       "      <td>0.003436</td>\n",
       "      <td>0.076500</td>\n",
       "      <td>0.101056</td>\n",
       "      <td>0.029834</td>\n",
       "      <td>0.109298</td>\n",
       "      <td>0.162222</td>\n",
       "      <td>0.009988</td>\n",
       "      <td>0.066664</td>\n",
       "    </tr>\n",
       "    <tr>\n",
       "      <th>1</th>\n",
       "      <td>5</td>\n",
       "      <td>0.022896</td>\n",
       "      <td>0.103070</td>\n",
       "      <td>0.530843</td>\n",
       "      <td>0.102519</td>\n",
       "      <td>0.244039</td>\n",
       "      <td>0.657765</td>\n",
       "      <td>0.098701</td>\n",
       "      <td>0.148461</td>\n",
       "      <td>0.084850</td>\n",
       "      <td>0.022092</td>\n",
       "      <td>0.056836</td>\n",
       "      <td>0.007709</td>\n",
       "      <td>0.074521</td>\n",
       "      <td>0.081329</td>\n",
       "      <td>0.001701</td>\n",
       "      <td>0.259182</td>\n",
       "      <td>0.003436</td>\n",
       "      <td>0.088241</td>\n",
       "      <td>0.097270</td>\n",
       "      <td>0.050509</td>\n",
       "      <td>0.242230</td>\n",
       "      <td>0.096876</td>\n",
       "      <td>0.031603</td>\n",
       "      <td>0.116411</td>\n",
       "    </tr>\n",
       "    <tr>\n",
       "      <th>2</th>\n",
       "      <td>7</td>\n",
       "      <td>0.045376</td>\n",
       "      <td>0.167026</td>\n",
       "      <td>0.465335</td>\n",
       "      <td>0.132543</td>\n",
       "      <td>0.191098</td>\n",
       "      <td>0.716870</td>\n",
       "      <td>0.075145</td>\n",
       "      <td>0.148751</td>\n",
       "      <td>0.060216</td>\n",
       "      <td>0.023730</td>\n",
       "      <td>0.091364</td>\n",
       "      <td>0.009243</td>\n",
       "      <td>0.097394</td>\n",
       "      <td>0.114119</td>\n",
       "      <td>0.001701</td>\n",
       "      <td>0.282768</td>\n",
       "      <td>0.003436</td>\n",
       "      <td>0.091477</td>\n",
       "      <td>0.081873</td>\n",
       "      <td>0.034920</td>\n",
       "      <td>0.163237</td>\n",
       "      <td>0.107168</td>\n",
       "      <td>0.016621</td>\n",
       "      <td>0.125238</td>\n",
       "    </tr>\n",
       "    <tr>\n",
       "      <th>3</th>\n",
       "      <td>8</td>\n",
       "      <td>0.050135</td>\n",
       "      <td>0.205981</td>\n",
       "      <td>0.385910</td>\n",
       "      <td>0.192528</td>\n",
       "      <td>0.165057</td>\n",
       "      <td>0.742529</td>\n",
       "      <td>0.079967</td>\n",
       "      <td>0.134112</td>\n",
       "      <td>0.045647</td>\n",
       "      <td>0.021115</td>\n",
       "      <td>0.099454</td>\n",
       "      <td>0.007666</td>\n",
       "      <td>0.108777</td>\n",
       "      <td>0.089568</td>\n",
       "      <td>0.001701</td>\n",
       "      <td>0.284425</td>\n",
       "      <td>0.003436</td>\n",
       "      <td>0.085062</td>\n",
       "      <td>0.093827</td>\n",
       "      <td>0.033755</td>\n",
       "      <td>0.138743</td>\n",
       "      <td>0.135418</td>\n",
       "      <td>0.016265</td>\n",
       "      <td>0.094138</td>\n",
       "    </tr>\n",
       "    <tr>\n",
       "      <th>4</th>\n",
       "      <td>12</td>\n",
       "      <td>0.052789</td>\n",
       "      <td>0.230445</td>\n",
       "      <td>0.330281</td>\n",
       "      <td>0.221950</td>\n",
       "      <td>0.164474</td>\n",
       "      <td>0.723692</td>\n",
       "      <td>0.087278</td>\n",
       "      <td>0.131016</td>\n",
       "      <td>0.057771</td>\n",
       "      <td>0.026022</td>\n",
       "      <td>0.093913</td>\n",
       "      <td>0.007367</td>\n",
       "      <td>0.121986</td>\n",
       "      <td>0.041213</td>\n",
       "      <td>0.001701</td>\n",
       "      <td>0.282805</td>\n",
       "      <td>0.003436</td>\n",
       "      <td>0.075549</td>\n",
       "      <td>0.101058</td>\n",
       "      <td>0.036203</td>\n",
       "      <td>0.163953</td>\n",
       "      <td>0.148694</td>\n",
       "      <td>0.017377</td>\n",
       "      <td>0.056755</td>\n",
       "    </tr>\n",
       "    <tr>\n",
       "      <th>...</th>\n",
       "      <td>...</td>\n",
       "      <td>...</td>\n",
       "      <td>...</td>\n",
       "      <td>...</td>\n",
       "      <td>...</td>\n",
       "      <td>...</td>\n",
       "      <td>...</td>\n",
       "      <td>...</td>\n",
       "      <td>...</td>\n",
       "      <td>...</td>\n",
       "      <td>...</td>\n",
       "      <td>...</td>\n",
       "      <td>...</td>\n",
       "      <td>...</td>\n",
       "      <td>...</td>\n",
       "      <td>...</td>\n",
       "      <td>...</td>\n",
       "      <td>...</td>\n",
       "      <td>...</td>\n",
       "      <td>...</td>\n",
       "      <td>...</td>\n",
       "      <td>...</td>\n",
       "      <td>...</td>\n",
       "      <td>...</td>\n",
       "      <td>...</td>\n",
       "    </tr>\n",
       "    <tr>\n",
       "      <th>42152</th>\n",
       "      <td>120094</td>\n",
       "      <td>0.027798</td>\n",
       "      <td>0.109945</td>\n",
       "      <td>0.545939</td>\n",
       "      <td>0.116806</td>\n",
       "      <td>0.201925</td>\n",
       "      <td>0.683615</td>\n",
       "      <td>0.092864</td>\n",
       "      <td>0.138811</td>\n",
       "      <td>0.079410</td>\n",
       "      <td>0.021499</td>\n",
       "      <td>0.054992</td>\n",
       "      <td>0.008651</td>\n",
       "      <td>0.086342</td>\n",
       "      <td>0.127529</td>\n",
       "      <td>0.001701</td>\n",
       "      <td>0.259144</td>\n",
       "      <td>0.003436</td>\n",
       "      <td>0.094961</td>\n",
       "      <td>0.085945</td>\n",
       "      <td>0.044800</td>\n",
       "      <td>0.221992</td>\n",
       "      <td>0.108701</td>\n",
       "      <td>0.026481</td>\n",
       "      <td>0.131521</td>\n",
       "    </tr>\n",
       "    <tr>\n",
       "      <th>42153</th>\n",
       "      <td>120096</td>\n",
       "      <td>0.064078</td>\n",
       "      <td>0.294347</td>\n",
       "      <td>0.238240</td>\n",
       "      <td>0.282992</td>\n",
       "      <td>0.117448</td>\n",
       "      <td>0.777979</td>\n",
       "      <td>0.081107</td>\n",
       "      <td>0.114818</td>\n",
       "      <td>0.029528</td>\n",
       "      <td>0.022350</td>\n",
       "      <td>0.119902</td>\n",
       "      <td>0.007177</td>\n",
       "      <td>0.143579</td>\n",
       "      <td>0.025964</td>\n",
       "      <td>0.001701</td>\n",
       "      <td>0.282481</td>\n",
       "      <td>0.003436</td>\n",
       "      <td>0.069670</td>\n",
       "      <td>0.106485</td>\n",
       "      <td>0.029548</td>\n",
       "      <td>0.114119</td>\n",
       "      <td>0.175085</td>\n",
       "      <td>0.010152</td>\n",
       "      <td>0.041694</td>\n",
       "    </tr>\n",
       "    <tr>\n",
       "      <th>42154</th>\n",
       "      <td>120099</td>\n",
       "      <td>0.048123</td>\n",
       "      <td>0.228965</td>\n",
       "      <td>0.323368</td>\n",
       "      <td>0.224787</td>\n",
       "      <td>0.171372</td>\n",
       "      <td>0.710178</td>\n",
       "      <td>0.112073</td>\n",
       "      <td>0.119650</td>\n",
       "      <td>0.060739</td>\n",
       "      <td>0.023934</td>\n",
       "      <td>0.080641</td>\n",
       "      <td>0.007147</td>\n",
       "      <td>0.118473</td>\n",
       "      <td>0.026729</td>\n",
       "      <td>0.001701</td>\n",
       "      <td>0.243298</td>\n",
       "      <td>0.003436</td>\n",
       "      <td>0.079657</td>\n",
       "      <td>0.110635</td>\n",
       "      <td>0.035071</td>\n",
       "      <td>0.199356</td>\n",
       "      <td>0.155412</td>\n",
       "      <td>0.025309</td>\n",
       "      <td>0.051522</td>\n",
       "    </tr>\n",
       "    <tr>\n",
       "      <th>42155</th>\n",
       "      <td>120101</td>\n",
       "      <td>0.053375</td>\n",
       "      <td>0.236968</td>\n",
       "      <td>0.322347</td>\n",
       "      <td>0.206952</td>\n",
       "      <td>0.180025</td>\n",
       "      <td>0.726841</td>\n",
       "      <td>0.088063</td>\n",
       "      <td>0.137358</td>\n",
       "      <td>0.046292</td>\n",
       "      <td>0.021631</td>\n",
       "      <td>0.103904</td>\n",
       "      <td>0.007401</td>\n",
       "      <td>0.115693</td>\n",
       "      <td>0.033442</td>\n",
       "      <td>0.001701</td>\n",
       "      <td>0.276830</td>\n",
       "      <td>0.003436</td>\n",
       "      <td>0.072696</td>\n",
       "      <td>0.105718</td>\n",
       "      <td>0.040744</td>\n",
       "      <td>0.155466</td>\n",
       "      <td>0.136914</td>\n",
       "      <td>0.018282</td>\n",
       "      <td>0.061256</td>\n",
       "    </tr>\n",
       "    <tr>\n",
       "      <th>42156</th>\n",
       "      <td>120102</td>\n",
       "      <td>0.062270</td>\n",
       "      <td>0.279517</td>\n",
       "      <td>0.260915</td>\n",
       "      <td>0.267905</td>\n",
       "      <td>0.127175</td>\n",
       "      <td>0.770866</td>\n",
       "      <td>0.081221</td>\n",
       "      <td>0.118438</td>\n",
       "      <td>0.032212</td>\n",
       "      <td>0.022965</td>\n",
       "      <td>0.118896</td>\n",
       "      <td>0.007547</td>\n",
       "      <td>0.137421</td>\n",
       "      <td>0.035392</td>\n",
       "      <td>0.001701</td>\n",
       "      <td>0.281909</td>\n",
       "      <td>0.003436</td>\n",
       "      <td>0.073353</td>\n",
       "      <td>0.106450</td>\n",
       "      <td>0.030805</td>\n",
       "      <td>0.114822</td>\n",
       "      <td>0.169558</td>\n",
       "      <td>0.009979</td>\n",
       "      <td>0.051980</td>\n",
       "    </tr>\n",
       "  </tbody>\n",
       "</table>\n",
       "<p>42157 rows × 25 columns</p>\n",
       "</div>"
      ],
      "text/plain": [
       "           id        s1        s2        s3        s4        s5        w1  \\\n",
       "0           4  0.062468  0.272964  0.280734  0.253793  0.127889  0.771554   \n",
       "1           5  0.022896  0.103070  0.530843  0.102519  0.244039  0.657765   \n",
       "2           7  0.045376  0.167026  0.465335  0.132543  0.191098  0.716870   \n",
       "3           8  0.050135  0.205981  0.385910  0.192528  0.165057  0.742529   \n",
       "4          12  0.052789  0.230445  0.330281  0.221950  0.164474  0.723692   \n",
       "...       ...       ...       ...       ...       ...       ...       ...   \n",
       "42152  120094  0.027798  0.109945  0.545939  0.116806  0.201925  0.683615   \n",
       "42153  120096  0.064078  0.294347  0.238240  0.282992  0.117448  0.777979   \n",
       "42154  120099  0.048123  0.228965  0.323368  0.224787  0.171372  0.710178   \n",
       "42155  120101  0.053375  0.236968  0.322347  0.206952  0.180025  0.726841   \n",
       "42156  120102  0.062270  0.279517  0.260915  0.267905  0.127175  0.770866   \n",
       "\n",
       "             w2        w3        w4        k1        k2        k3        k4  \\\n",
       "0      0.078009  0.121452  0.032627  0.020983  0.120458  0.008025  0.135479   \n",
       "1      0.098701  0.148461  0.084850  0.022092  0.056836  0.007709  0.074521   \n",
       "2      0.075145  0.148751  0.060216  0.023730  0.091364  0.009243  0.097394   \n",
       "3      0.079967  0.134112  0.045647  0.021115  0.099454  0.007666  0.108777   \n",
       "4      0.087278  0.131016  0.057771  0.026022  0.093913  0.007367  0.121986   \n",
       "...         ...       ...       ...       ...       ...       ...       ...   \n",
       "42152  0.092864  0.138811  0.079410  0.021499  0.054992  0.008651  0.086342   \n",
       "42153  0.081107  0.114818  0.029528  0.022350  0.119902  0.007177  0.143579   \n",
       "42154  0.112073  0.119650  0.060739  0.023934  0.080641  0.007147  0.118473   \n",
       "42155  0.088063  0.137358  0.046292  0.021631  0.103904  0.007401  0.115693   \n",
       "42156  0.081221  0.118438  0.032212  0.022965  0.118896  0.007547  0.137421   \n",
       "\n",
       "             k5        k6        k7        k8        k9       k10       k11  \\\n",
       "0      0.050959  0.001701  0.284203  0.003436  0.076500  0.101056  0.029834   \n",
       "1      0.081329  0.001701  0.259182  0.003436  0.088241  0.097270  0.050509   \n",
       "2      0.114119  0.001701  0.282768  0.003436  0.091477  0.081873  0.034920   \n",
       "3      0.089568  0.001701  0.284425  0.003436  0.085062  0.093827  0.033755   \n",
       "4      0.041213  0.001701  0.282805  0.003436  0.075549  0.101058  0.036203   \n",
       "...         ...       ...       ...       ...       ...       ...       ...   \n",
       "42152  0.127529  0.001701  0.259144  0.003436  0.094961  0.085945  0.044800   \n",
       "42153  0.025964  0.001701  0.282481  0.003436  0.069670  0.106485  0.029548   \n",
       "42154  0.026729  0.001701  0.243298  0.003436  0.079657  0.110635  0.035071   \n",
       "42155  0.033442  0.001701  0.276830  0.003436  0.072696  0.105718  0.040744   \n",
       "42156  0.035392  0.001701  0.281909  0.003436  0.073353  0.106450  0.030805   \n",
       "\n",
       "            k12       k13       k14       k15  \n",
       "0      0.109298  0.162222  0.009988  0.066664  \n",
       "1      0.242230  0.096876  0.031603  0.116411  \n",
       "2      0.163237  0.107168  0.016621  0.125238  \n",
       "3      0.138743  0.135418  0.016265  0.094138  \n",
       "4      0.163953  0.148694  0.017377  0.056755  \n",
       "...         ...       ...       ...       ...  \n",
       "42152  0.221992  0.108701  0.026481  0.131521  \n",
       "42153  0.114119  0.175085  0.010152  0.041694  \n",
       "42154  0.199356  0.155412  0.025309  0.051522  \n",
       "42155  0.155466  0.136914  0.018282  0.061256  \n",
       "42156  0.114822  0.169558  0.009979  0.051980  \n",
       "\n",
       "[42157 rows x 25 columns]"
      ]
     },
     "execution_count": 20,
     "metadata": {},
     "output_type": "execute_result"
    }
   ],
   "source": [
    "ids = test['id']\n",
    "label = pd.DataFrame(predict, columns=subm.iloc[:,1:].columns)\n",
    "submission = pd.concat([ids, label], axis=1)\n",
    "submission"
   ]
  },
  {
   "cell_type": "code",
   "execution_count": 21,
   "id": "755dedab",
   "metadata": {
    "execution": {
     "iopub.execute_input": "2023-03-21T15:02:03.065600Z",
     "iopub.status.busy": "2023-03-21T15:02:03.064442Z",
     "iopub.status.idle": "2023-03-21T15:02:04.656150Z",
     "shell.execute_reply": "2023-03-21T15:02:04.655169Z"
    },
    "papermill": {
     "duration": 1.610137,
     "end_time": "2023-03-21T15:02:04.659146",
     "exception": false,
     "start_time": "2023-03-21T15:02:03.049009",
     "status": "completed"
    },
    "tags": []
   },
   "outputs": [],
   "source": [
    "submission.to_csv('/kaggle/working/submission.csv', index=False)"
   ]
  }
 ],
 "metadata": {
  "kernelspec": {
   "display_name": "Python 3",
   "language": "python",
   "name": "python3"
  },
  "language_info": {
   "codemirror_mode": {
    "name": "ipython",
    "version": 3
   },
   "file_extension": ".py",
   "mimetype": "text/x-python",
   "name": "python",
   "nbconvert_exporter": "python",
   "pygments_lexer": "ipython3",
   "version": "3.7.12"
  },
  "papermill": {
   "default_parameters": {},
   "duration": 36.881955,
   "end_time": "2023-03-21T15:02:07.989987",
   "environment_variables": {},
   "exception": null,
   "input_path": "__notebook__.ipynb",
   "output_path": "__notebook__.ipynb",
   "parameters": {},
   "start_time": "2023-03-21T15:01:31.108032",
   "version": "2.4.0"
  }
 },
 "nbformat": 4,
 "nbformat_minor": 5
}
