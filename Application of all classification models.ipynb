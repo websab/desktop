{
 "cells": [
  {
   "cell_type": "code",
   "execution_count": 1,
   "id": "88eca801",
   "metadata": {
    "_cell_guid": "b1076dfc-b9ad-4769-8c92-a6c4dae69d19",
    "_uuid": "8f2839f25d086af736a60e9eeb907d3b93b6e0e5",
    "execution": {
     "iopub.execute_input": "2023-03-29T15:00:49.786003Z",
     "iopub.status.busy": "2023-03-29T15:00:49.785409Z",
     "iopub.status.idle": "2023-03-29T15:00:49.803381Z",
     "shell.execute_reply": "2023-03-29T15:00:49.801289Z"
    },
    "papermill": {
     "duration": 0.037599,
     "end_time": "2023-03-29T15:00:49.807486",
     "exception": false,
     "start_time": "2023-03-29T15:00:49.769887",
     "status": "completed"
    },
    "tags": []
   },
   "outputs": [
    {
     "name": "stdout",
     "output_type": "stream",
     "text": [
      "/kaggle/input/playground-series-s3e10/sample_submission.csv\n",
      "/kaggle/input/playground-series-s3e10/train.csv\n",
      "/kaggle/input/playground-series-s3e10/test.csv\n"
     ]
    }
   ],
   "source": [
    "# This Python 3 environment comes with many helpful analytics libraries installed\n",
    "# It is defined by the kaggle/python Docker image: https://github.com/kaggle/docker-python\n",
    "# For example, here's several helpful packages to load\n",
    "\n",
    "import numpy as np # linear algebra\n",
    "import pandas as pd # data processing, CSV file I/O (e.g. pd.read_csv)\n",
    "\n",
    "# Input data files are available in the read-only \"../input/\" directory\n",
    "# For example, running this (by clicking run or pressing Shift+Enter) will list all files under the input directory\n",
    "\n",
    "import os\n",
    "for dirname, _, filenames in os.walk('/kaggle/input'):\n",
    "    for filename in filenames:\n",
    "        print(os.path.join(dirname, filename))\n",
    "\n",
    "# You can write up to 20GB to the current directory (/kaggle/working/) that gets preserved as output when you create a version using \"Save & Run All\" \n",
    "# You can also write temporary files to /kaggle/temp/, but they won't be saved outside of the current session"
   ]
  },
  {
   "cell_type": "markdown",
   "id": "25d77e38",
   "metadata": {
    "papermill": {
     "duration": 0.011974,
     "end_time": "2023-03-29T15:00:49.832219",
     "exception": false,
     "start_time": "2023-03-29T15:00:49.820245",
     "status": "completed"
    },
    "tags": []
   },
   "source": [
    "## Import libraries"
   ]
  },
  {
   "cell_type": "code",
   "execution_count": 2,
   "id": "250ad603",
   "metadata": {
    "execution": {
     "iopub.execute_input": "2023-03-29T15:00:49.858307Z",
     "iopub.status.busy": "2023-03-29T15:00:49.857919Z",
     "iopub.status.idle": "2023-03-29T15:00:51.016412Z",
     "shell.execute_reply": "2023-03-29T15:00:51.014980Z"
    },
    "papermill": {
     "duration": 1.175284,
     "end_time": "2023-03-29T15:00:51.019527",
     "exception": false,
     "start_time": "2023-03-29T15:00:49.844243",
     "status": "completed"
    },
    "tags": []
   },
   "outputs": [],
   "source": [
    "import numpy as np\n",
    "import pandas as pd\n",
    "import seaborn as sns\n",
    "import matplotlib.pyplot as plt\n",
    "import scipy.stats as st\n",
    "import warnings\n",
    "\n",
    "warnings.filterwarnings('ignore')\n",
    "plt.style.use(\"seaborn\")\n",
    "plt.rcParams[\"figure.figsize\"] = (10,10)\n",
    "pd.options.display.max_rows = 2000\n",
    "pd.options.display.max_columns = 500"
   ]
  },
  {
   "cell_type": "markdown",
   "id": "02c75ddb",
   "metadata": {
    "papermill": {
     "duration": 0.011672,
     "end_time": "2023-03-29T15:00:51.044817",
     "exception": false,
     "start_time": "2023-03-29T15:00:51.033145",
     "status": "completed"
    },
    "tags": []
   },
   "source": [
    "## Load data"
   ]
  },
  {
   "cell_type": "code",
   "execution_count": 3,
   "id": "4d5ec87f",
   "metadata": {
    "execution": {
     "iopub.execute_input": "2023-03-29T15:00:51.071070Z",
     "iopub.status.busy": "2023-03-29T15:00:51.070374Z",
     "iopub.status.idle": "2023-03-29T15:00:51.784960Z",
     "shell.execute_reply": "2023-03-29T15:00:51.783779Z"
    },
    "papermill": {
     "duration": 0.73126,
     "end_time": "2023-03-29T15:00:51.788163",
     "exception": false,
     "start_time": "2023-03-29T15:00:51.056903",
     "status": "completed"
    },
    "tags": []
   },
   "outputs": [],
   "source": [
    "train = pd.read_csv('/kaggle/input/playground-series-s3e10/train.csv')\n",
    "test = pd.read_csv('/kaggle/input/playground-series-s3e10/test.csv')"
   ]
  },
  {
   "cell_type": "code",
   "execution_count": 4,
   "id": "7bc7fbd4",
   "metadata": {
    "execution": {
     "iopub.execute_input": "2023-03-29T15:00:51.815458Z",
     "iopub.status.busy": "2023-03-29T15:00:51.815032Z",
     "iopub.status.idle": "2023-03-29T15:00:51.851229Z",
     "shell.execute_reply": "2023-03-29T15:00:51.850316Z"
    },
    "papermill": {
     "duration": 0.05252,
     "end_time": "2023-03-29T15:00:51.853621",
     "exception": false,
     "start_time": "2023-03-29T15:00:51.801101",
     "status": "completed"
    },
    "tags": []
   },
   "outputs": [
    {
     "data": {
      "text/html": [
       "<div>\n",
       "<style scoped>\n",
       "    .dataframe tbody tr th:only-of-type {\n",
       "        vertical-align: middle;\n",
       "    }\n",
       "\n",
       "    .dataframe tbody tr th {\n",
       "        vertical-align: top;\n",
       "    }\n",
       "\n",
       "    .dataframe thead th {\n",
       "        text-align: right;\n",
       "    }\n",
       "</style>\n",
       "<table border=\"1\" class=\"dataframe\">\n",
       "  <thead>\n",
       "    <tr style=\"text-align: right;\">\n",
       "      <th></th>\n",
       "      <th>id</th>\n",
       "      <th>Mean_Integrated</th>\n",
       "      <th>SD</th>\n",
       "      <th>EK</th>\n",
       "      <th>Skewness</th>\n",
       "      <th>Mean_DMSNR_Curve</th>\n",
       "      <th>SD_DMSNR_Curve</th>\n",
       "      <th>EK_DMSNR_Curve</th>\n",
       "      <th>Skewness_DMSNR_Curve</th>\n",
       "      <th>Class</th>\n",
       "    </tr>\n",
       "  </thead>\n",
       "  <tbody>\n",
       "    <tr>\n",
       "      <th>0</th>\n",
       "      <td>0</td>\n",
       "      <td>133.171875</td>\n",
       "      <td>59.716081</td>\n",
       "      <td>0.043133</td>\n",
       "      <td>-0.703383</td>\n",
       "      <td>54.917224</td>\n",
       "      <td>70.084438</td>\n",
       "      <td>0.749798</td>\n",
       "      <td>-0.649512</td>\n",
       "      <td>0</td>\n",
       "    </tr>\n",
       "    <tr>\n",
       "      <th>1</th>\n",
       "      <td>1</td>\n",
       "      <td>87.093750</td>\n",
       "      <td>36.257973</td>\n",
       "      <td>0.435469</td>\n",
       "      <td>2.266057</td>\n",
       "      <td>3.417224</td>\n",
       "      <td>21.865069</td>\n",
       "      <td>7.039330</td>\n",
       "      <td>52.686251</td>\n",
       "      <td>0</td>\n",
       "    </tr>\n",
       "    <tr>\n",
       "      <th>2</th>\n",
       "      <td>2</td>\n",
       "      <td>112.640625</td>\n",
       "      <td>39.818393</td>\n",
       "      <td>0.379639</td>\n",
       "      <td>0.922306</td>\n",
       "      <td>2.730769</td>\n",
       "      <td>15.689690</td>\n",
       "      <td>8.193471</td>\n",
       "      <td>85.649785</td>\n",
       "      <td>0</td>\n",
       "    </tr>\n",
       "    <tr>\n",
       "      <th>3</th>\n",
       "      <td>3</td>\n",
       "      <td>120.679688</td>\n",
       "      <td>45.918448</td>\n",
       "      <td>-0.098490</td>\n",
       "      <td>0.011775</td>\n",
       "      <td>2.696488</td>\n",
       "      <td>20.954662</td>\n",
       "      <td>8.183874</td>\n",
       "      <td>70.332899</td>\n",
       "      <td>0</td>\n",
       "    </tr>\n",
       "    <tr>\n",
       "      <th>4</th>\n",
       "      <td>4</td>\n",
       "      <td>134.070312</td>\n",
       "      <td>57.720107</td>\n",
       "      <td>-0.107772</td>\n",
       "      <td>-0.573335</td>\n",
       "      <td>1.107860</td>\n",
       "      <td>11.255051</td>\n",
       "      <td>16.107748</td>\n",
       "      <td>308.753765</td>\n",
       "      <td>0</td>\n",
       "    </tr>\n",
       "    <tr>\n",
       "      <th>...</th>\n",
       "      <td>...</td>\n",
       "      <td>...</td>\n",
       "      <td>...</td>\n",
       "      <td>...</td>\n",
       "      <td>...</td>\n",
       "      <td>...</td>\n",
       "      <td>...</td>\n",
       "      <td>...</td>\n",
       "      <td>...</td>\n",
       "      <td>...</td>\n",
       "    </tr>\n",
       "    <tr>\n",
       "      <th>117559</th>\n",
       "      <td>117559</td>\n",
       "      <td>132.843750</td>\n",
       "      <td>56.748838</td>\n",
       "      <td>-0.060070</td>\n",
       "      <td>-0.554084</td>\n",
       "      <td>4.054348</td>\n",
       "      <td>27.844144</td>\n",
       "      <td>6.564423</td>\n",
       "      <td>44.442664</td>\n",
       "      <td>0</td>\n",
       "    </tr>\n",
       "    <tr>\n",
       "      <th>117560</th>\n",
       "      <td>117560</td>\n",
       "      <td>112.578125</td>\n",
       "      <td>52.539271</td>\n",
       "      <td>0.179580</td>\n",
       "      <td>-0.306961</td>\n",
       "      <td>1.637960</td>\n",
       "      <td>15.331913</td>\n",
       "      <td>11.384718</td>\n",
       "      <td>142.535470</td>\n",
       "      <td>0</td>\n",
       "    </tr>\n",
       "    <tr>\n",
       "      <th>117561</th>\n",
       "      <td>117561</td>\n",
       "      <td>119.757812</td>\n",
       "      <td>49.980013</td>\n",
       "      <td>0.064402</td>\n",
       "      <td>-0.270822</td>\n",
       "      <td>3.877926</td>\n",
       "      <td>19.788559</td>\n",
       "      <td>6.959740</td>\n",
       "      <td>56.367789</td>\n",
       "      <td>0</td>\n",
       "    </tr>\n",
       "    <tr>\n",
       "      <th>117562</th>\n",
       "      <td>117562</td>\n",
       "      <td>105.789062</td>\n",
       "      <td>46.986595</td>\n",
       "      <td>0.441426</td>\n",
       "      <td>0.372466</td>\n",
       "      <td>2.097826</td>\n",
       "      <td>17.170612</td>\n",
       "      <td>9.442445</td>\n",
       "      <td>99.074539</td>\n",
       "      <td>0</td>\n",
       "    </tr>\n",
       "    <tr>\n",
       "      <th>117563</th>\n",
       "      <td>117563</td>\n",
       "      <td>113.515625</td>\n",
       "      <td>50.935956</td>\n",
       "      <td>0.031517</td>\n",
       "      <td>-0.443831</td>\n",
       "      <td>23.290970</td>\n",
       "      <td>62.006842</td>\n",
       "      <td>2.386364</td>\n",
       "      <td>4.001859</td>\n",
       "      <td>0</td>\n",
       "    </tr>\n",
       "  </tbody>\n",
       "</table>\n",
       "<p>117564 rows × 10 columns</p>\n",
       "</div>"
      ],
      "text/plain": [
       "            id  Mean_Integrated         SD        EK  Skewness  \\\n",
       "0            0       133.171875  59.716081  0.043133 -0.703383   \n",
       "1            1        87.093750  36.257973  0.435469  2.266057   \n",
       "2            2       112.640625  39.818393  0.379639  0.922306   \n",
       "3            3       120.679688  45.918448 -0.098490  0.011775   \n",
       "4            4       134.070312  57.720107 -0.107772 -0.573335   \n",
       "...        ...              ...        ...       ...       ...   \n",
       "117559  117559       132.843750  56.748838 -0.060070 -0.554084   \n",
       "117560  117560       112.578125  52.539271  0.179580 -0.306961   \n",
       "117561  117561       119.757812  49.980013  0.064402 -0.270822   \n",
       "117562  117562       105.789062  46.986595  0.441426  0.372466   \n",
       "117563  117563       113.515625  50.935956  0.031517 -0.443831   \n",
       "\n",
       "        Mean_DMSNR_Curve  SD_DMSNR_Curve  EK_DMSNR_Curve  \\\n",
       "0              54.917224       70.084438        0.749798   \n",
       "1               3.417224       21.865069        7.039330   \n",
       "2               2.730769       15.689690        8.193471   \n",
       "3               2.696488       20.954662        8.183874   \n",
       "4               1.107860       11.255051       16.107748   \n",
       "...                  ...             ...             ...   \n",
       "117559          4.054348       27.844144        6.564423   \n",
       "117560          1.637960       15.331913       11.384718   \n",
       "117561          3.877926       19.788559        6.959740   \n",
       "117562          2.097826       17.170612        9.442445   \n",
       "117563         23.290970       62.006842        2.386364   \n",
       "\n",
       "        Skewness_DMSNR_Curve  Class  \n",
       "0                  -0.649512      0  \n",
       "1                  52.686251      0  \n",
       "2                  85.649785      0  \n",
       "3                  70.332899      0  \n",
       "4                 308.753765      0  \n",
       "...                      ...    ...  \n",
       "117559             44.442664      0  \n",
       "117560            142.535470      0  \n",
       "117561             56.367789      0  \n",
       "117562             99.074539      0  \n",
       "117563              4.001859      0  \n",
       "\n",
       "[117564 rows x 10 columns]"
      ]
     },
     "execution_count": 4,
     "metadata": {},
     "output_type": "execute_result"
    }
   ],
   "source": [
    "train"
   ]
  },
  {
   "cell_type": "code",
   "execution_count": 5,
   "id": "d402b086",
   "metadata": {
    "execution": {
     "iopub.execute_input": "2023-03-29T15:00:51.881471Z",
     "iopub.status.busy": "2023-03-29T15:00:51.880440Z",
     "iopub.status.idle": "2023-03-29T15:00:51.899107Z",
     "shell.execute_reply": "2023-03-29T15:00:51.897936Z"
    },
    "papermill": {
     "duration": 0.035439,
     "end_time": "2023-03-29T15:00:51.901885",
     "exception": false,
     "start_time": "2023-03-29T15:00:51.866446",
     "status": "completed"
    },
    "tags": []
   },
   "outputs": [
    {
     "data": {
      "text/html": [
       "<div>\n",
       "<style scoped>\n",
       "    .dataframe tbody tr th:only-of-type {\n",
       "        vertical-align: middle;\n",
       "    }\n",
       "\n",
       "    .dataframe tbody tr th {\n",
       "        vertical-align: top;\n",
       "    }\n",
       "\n",
       "    .dataframe thead th {\n",
       "        text-align: right;\n",
       "    }\n",
       "</style>\n",
       "<table border=\"1\" class=\"dataframe\">\n",
       "  <thead>\n",
       "    <tr style=\"text-align: right;\">\n",
       "      <th></th>\n",
       "      <th>id</th>\n",
       "      <th>Mean_Integrated</th>\n",
       "      <th>SD</th>\n",
       "      <th>EK</th>\n",
       "      <th>Skewness</th>\n",
       "      <th>Mean_DMSNR_Curve</th>\n",
       "      <th>SD_DMSNR_Curve</th>\n",
       "      <th>EK_DMSNR_Curve</th>\n",
       "      <th>Skewness_DMSNR_Curve</th>\n",
       "    </tr>\n",
       "  </thead>\n",
       "  <tbody>\n",
       "    <tr>\n",
       "      <th>0</th>\n",
       "      <td>117564</td>\n",
       "      <td>140.046875</td>\n",
       "      <td>54.507800</td>\n",
       "      <td>0.058862</td>\n",
       "      <td>-0.567263</td>\n",
       "      <td>2.337793</td>\n",
       "      <td>14.868335</td>\n",
       "      <td>9.591760</td>\n",
       "      <td>117.988781</td>\n",
       "    </tr>\n",
       "    <tr>\n",
       "      <th>1</th>\n",
       "      <td>117565</td>\n",
       "      <td>107.828125</td>\n",
       "      <td>51.578965</td>\n",
       "      <td>0.284368</td>\n",
       "      <td>-0.338430</td>\n",
       "      <td>1.574415</td>\n",
       "      <td>12.501437</td>\n",
       "      <td>11.694968</td>\n",
       "      <td>182.704822</td>\n",
       "    </tr>\n",
       "    <tr>\n",
       "      <th>2</th>\n",
       "      <td>117566</td>\n",
       "      <td>135.062500</td>\n",
       "      <td>49.812343</td>\n",
       "      <td>-0.087784</td>\n",
       "      <td>-0.094341</td>\n",
       "      <td>3.576923</td>\n",
       "      <td>21.243336</td>\n",
       "      <td>7.252386</td>\n",
       "      <td>59.021499</td>\n",
       "    </tr>\n",
       "    <tr>\n",
       "      <th>3</th>\n",
       "      <td>117567</td>\n",
       "      <td>112.812500</td>\n",
       "      <td>41.926647</td>\n",
       "      <td>0.519921</td>\n",
       "      <td>1.287762</td>\n",
       "      <td>6.669732</td>\n",
       "      <td>29.013153</td>\n",
       "      <td>5.097661</td>\n",
       "      <td>27.105240</td>\n",
       "    </tr>\n",
       "    <tr>\n",
       "      <th>4</th>\n",
       "      <td>117568</td>\n",
       "      <td>96.210938</td>\n",
       "      <td>35.322620</td>\n",
       "      <td>0.481286</td>\n",
       "      <td>2.443080</td>\n",
       "      <td>2.218227</td>\n",
       "      <td>17.041064</td>\n",
       "      <td>9.766006</td>\n",
       "      <td>117.131775</td>\n",
       "    </tr>\n",
       "    <tr>\n",
       "      <th>...</th>\n",
       "      <td>...</td>\n",
       "      <td>...</td>\n",
       "      <td>...</td>\n",
       "      <td>...</td>\n",
       "      <td>...</td>\n",
       "      <td>...</td>\n",
       "      <td>...</td>\n",
       "      <td>...</td>\n",
       "      <td>...</td>\n",
       "    </tr>\n",
       "    <tr>\n",
       "      <th>78372</th>\n",
       "      <td>195936</td>\n",
       "      <td>119.328125</td>\n",
       "      <td>46.449223</td>\n",
       "      <td>0.227636</td>\n",
       "      <td>0.161986</td>\n",
       "      <td>1.120401</td>\n",
       "      <td>13.883072</td>\n",
       "      <td>14.153556</td>\n",
       "      <td>213.485463</td>\n",
       "    </tr>\n",
       "    <tr>\n",
       "      <th>78373</th>\n",
       "      <td>195937</td>\n",
       "      <td>125.835938</td>\n",
       "      <td>43.986678</td>\n",
       "      <td>0.078460</td>\n",
       "      <td>0.077917</td>\n",
       "      <td>2.342809</td>\n",
       "      <td>13.008583</td>\n",
       "      <td>9.907167</td>\n",
       "      <td>136.815454</td>\n",
       "    </tr>\n",
       "    <tr>\n",
       "      <th>78374</th>\n",
       "      <td>195938</td>\n",
       "      <td>131.789062</td>\n",
       "      <td>43.493074</td>\n",
       "      <td>0.049140</td>\n",
       "      <td>0.402859</td>\n",
       "      <td>2.116221</td>\n",
       "      <td>14.639555</td>\n",
       "      <td>10.898768</td>\n",
       "      <td>147.929016</td>\n",
       "    </tr>\n",
       "    <tr>\n",
       "      <th>78375</th>\n",
       "      <td>195939</td>\n",
       "      <td>79.476562</td>\n",
       "      <td>42.579993</td>\n",
       "      <td>0.817383</td>\n",
       "      <td>1.818474</td>\n",
       "      <td>1.903010</td>\n",
       "      <td>15.844982</td>\n",
       "      <td>10.723755</td>\n",
       "      <td>143.273847</td>\n",
       "    </tr>\n",
       "    <tr>\n",
       "      <th>78376</th>\n",
       "      <td>195940</td>\n",
       "      <td>68.265625</td>\n",
       "      <td>39.611800</td>\n",
       "      <td>1.924393</td>\n",
       "      <td>5.348909</td>\n",
       "      <td>20.903010</td>\n",
       "      <td>55.143702</td>\n",
       "      <td>2.489474</td>\n",
       "      <td>5.413000</td>\n",
       "    </tr>\n",
       "  </tbody>\n",
       "</table>\n",
       "<p>78377 rows × 9 columns</p>\n",
       "</div>"
      ],
      "text/plain": [
       "           id  Mean_Integrated         SD        EK  Skewness  \\\n",
       "0      117564       140.046875  54.507800  0.058862 -0.567263   \n",
       "1      117565       107.828125  51.578965  0.284368 -0.338430   \n",
       "2      117566       135.062500  49.812343 -0.087784 -0.094341   \n",
       "3      117567       112.812500  41.926647  0.519921  1.287762   \n",
       "4      117568        96.210938  35.322620  0.481286  2.443080   \n",
       "...       ...              ...        ...       ...       ...   \n",
       "78372  195936       119.328125  46.449223  0.227636  0.161986   \n",
       "78373  195937       125.835938  43.986678  0.078460  0.077917   \n",
       "78374  195938       131.789062  43.493074  0.049140  0.402859   \n",
       "78375  195939        79.476562  42.579993  0.817383  1.818474   \n",
       "78376  195940        68.265625  39.611800  1.924393  5.348909   \n",
       "\n",
       "       Mean_DMSNR_Curve  SD_DMSNR_Curve  EK_DMSNR_Curve  Skewness_DMSNR_Curve  \n",
       "0              2.337793       14.868335        9.591760            117.988781  \n",
       "1              1.574415       12.501437       11.694968            182.704822  \n",
       "2              3.576923       21.243336        7.252386             59.021499  \n",
       "3              6.669732       29.013153        5.097661             27.105240  \n",
       "4              2.218227       17.041064        9.766006            117.131775  \n",
       "...                 ...             ...             ...                   ...  \n",
       "78372          1.120401       13.883072       14.153556            213.485463  \n",
       "78373          2.342809       13.008583        9.907167            136.815454  \n",
       "78374          2.116221       14.639555       10.898768            147.929016  \n",
       "78375          1.903010       15.844982       10.723755            143.273847  \n",
       "78376         20.903010       55.143702        2.489474              5.413000  \n",
       "\n",
       "[78377 rows x 9 columns]"
      ]
     },
     "execution_count": 5,
     "metadata": {},
     "output_type": "execute_result"
    }
   ],
   "source": [
    "test"
   ]
  },
  {
   "cell_type": "markdown",
   "id": "18cb94eb",
   "metadata": {
    "papermill": {
     "duration": 0.012749,
     "end_time": "2023-03-29T15:00:51.928112",
     "exception": false,
     "start_time": "2023-03-29T15:00:51.915363",
     "status": "completed"
    },
    "tags": []
   },
   "source": [
    "## Preprocessing data"
   ]
  },
  {
   "cell_type": "code",
   "execution_count": 6,
   "id": "b806c4db",
   "metadata": {
    "execution": {
     "iopub.execute_input": "2023-03-29T15:00:51.955710Z",
     "iopub.status.busy": "2023-03-29T15:00:51.955284Z",
     "iopub.status.idle": "2023-03-29T15:00:52.115151Z",
     "shell.execute_reply": "2023-03-29T15:00:52.113874Z"
    },
    "papermill": {
     "duration": 0.17707,
     "end_time": "2023-03-29T15:00:52.118160",
     "exception": false,
     "start_time": "2023-03-29T15:00:51.941090",
     "status": "completed"
    },
    "tags": []
   },
   "outputs": [],
   "source": [
    "from sklearn.preprocessing import StandardScaler\n",
    "scaler = StandardScaler()"
   ]
  },
  {
   "cell_type": "code",
   "execution_count": 7,
   "id": "e4639655",
   "metadata": {
    "execution": {
     "iopub.execute_input": "2023-03-29T15:00:52.147617Z",
     "iopub.status.busy": "2023-03-29T15:00:52.146414Z",
     "iopub.status.idle": "2023-03-29T15:00:52.179977Z",
     "shell.execute_reply": "2023-03-29T15:00:52.178695Z"
    },
    "papermill": {
     "duration": 0.050634,
     "end_time": "2023-03-29T15:00:52.182755",
     "exception": false,
     "start_time": "2023-03-29T15:00:52.132121",
     "status": "completed"
    },
    "tags": []
   },
   "outputs": [
    {
     "data": {
      "text/plain": [
       "(117564, 8)"
      ]
     },
     "execution_count": 7,
     "metadata": {},
     "output_type": "execute_result"
    }
   ],
   "source": [
    "X = train.iloc[:,1:-1]\n",
    "_ = scaler.fit(X)\n",
    "X = scaler.transform(X)\n",
    "X.shape"
   ]
  },
  {
   "cell_type": "code",
   "execution_count": 8,
   "id": "6ce9583a",
   "metadata": {
    "execution": {
     "iopub.execute_input": "2023-03-29T15:00:52.211753Z",
     "iopub.status.busy": "2023-03-29T15:00:52.210601Z",
     "iopub.status.idle": "2023-03-29T15:00:52.218302Z",
     "shell.execute_reply": "2023-03-29T15:00:52.217380Z"
    },
    "papermill": {
     "duration": 0.024543,
     "end_time": "2023-03-29T15:00:52.220530",
     "exception": false,
     "start_time": "2023-03-29T15:00:52.195987",
     "status": "completed"
    },
    "tags": []
   },
   "outputs": [
    {
     "data": {
      "text/plain": [
       "(117564, 1)"
      ]
     },
     "execution_count": 8,
     "metadata": {},
     "output_type": "execute_result"
    }
   ],
   "source": [
    "Y = np.array(train.iloc[:,-1:])\n",
    "Y.shape"
   ]
  },
  {
   "cell_type": "code",
   "execution_count": 9,
   "id": "d0c84252",
   "metadata": {
    "execution": {
     "iopub.execute_input": "2023-03-29T15:00:52.249785Z",
     "iopub.status.busy": "2023-03-29T15:00:52.249164Z",
     "iopub.status.idle": "2023-03-29T15:00:52.269881Z",
     "shell.execute_reply": "2023-03-29T15:00:52.268542Z"
    },
    "papermill": {
     "duration": 0.038447,
     "end_time": "2023-03-29T15:00:52.272429",
     "exception": false,
     "start_time": "2023-03-29T15:00:52.233982",
     "status": "completed"
    },
    "tags": []
   },
   "outputs": [
    {
     "data": {
      "text/plain": [
       "(78377, 8)"
      ]
     },
     "execution_count": 9,
     "metadata": {},
     "output_type": "execute_result"
    }
   ],
   "source": [
    "A = test.iloc[:,1:]\n",
    "_ = scaler.fit(A)\n",
    "A = scaler.transform(A)\n",
    "A.shape"
   ]
  },
  {
   "cell_type": "code",
   "execution_count": 10,
   "id": "21774b78",
   "metadata": {
    "execution": {
     "iopub.execute_input": "2023-03-29T15:00:52.302043Z",
     "iopub.status.busy": "2023-03-29T15:00:52.300816Z",
     "iopub.status.idle": "2023-03-29T15:00:52.376003Z",
     "shell.execute_reply": "2023-03-29T15:00:52.374736Z"
    },
    "papermill": {
     "duration": 0.09287,
     "end_time": "2023-03-29T15:00:52.378881",
     "exception": false,
     "start_time": "2023-03-29T15:00:52.286011",
     "status": "completed"
    },
    "tags": []
   },
   "outputs": [],
   "source": [
    "from sklearn.model_selection import train_test_split"
   ]
  },
  {
   "cell_type": "code",
   "execution_count": 11,
   "id": "ed3a3b24",
   "metadata": {
    "execution": {
     "iopub.execute_input": "2023-03-29T15:00:52.408129Z",
     "iopub.status.busy": "2023-03-29T15:00:52.407679Z",
     "iopub.status.idle": "2023-03-29T15:00:52.432237Z",
     "shell.execute_reply": "2023-03-29T15:00:52.430559Z"
    },
    "papermill": {
     "duration": 0.042722,
     "end_time": "2023-03-29T15:00:52.435355",
     "exception": false,
     "start_time": "2023-03-29T15:00:52.392633",
     "status": "completed"
    },
    "tags": []
   },
   "outputs": [
    {
     "name": "stdout",
     "output_type": "stream",
     "text": [
      "X_train: (94051, 8), y_train: (94051, 1)\n",
      "--------------------------------------------------\n",
      "X_test: (23513, 8), y_test: (23513, 1)\n"
     ]
    }
   ],
   "source": [
    "X_train, X_test, y_train, y_test = train_test_split(X, Y, test_size=0.2)\n",
    "print(f'X_train: {X_train.shape}, y_train: {y_train.shape}')\n",
    "print('-'*50)\n",
    "print(f'X_test: {X_test.shape}, y_test: {y_test.shape}')"
   ]
  },
  {
   "cell_type": "markdown",
   "id": "7d9e4ad5",
   "metadata": {
    "papermill": {
     "duration": 0.013222,
     "end_time": "2023-03-29T15:00:52.462253",
     "exception": false,
     "start_time": "2023-03-29T15:00:52.449031",
     "status": "completed"
    },
    "tags": []
   },
   "source": [
    "## Build models"
   ]
  },
  {
   "cell_type": "code",
   "execution_count": 12,
   "id": "18b7585a",
   "metadata": {
    "execution": {
     "iopub.execute_input": "2023-03-29T15:00:52.491421Z",
     "iopub.status.busy": "2023-03-29T15:00:52.491032Z",
     "iopub.status.idle": "2023-03-29T15:00:52.496045Z",
     "shell.execute_reply": "2023-03-29T15:00:52.494968Z"
    },
    "papermill": {
     "duration": 0.022398,
     "end_time": "2023-03-29T15:00:52.498358",
     "exception": false,
     "start_time": "2023-03-29T15:00:52.475960",
     "status": "completed"
    },
    "tags": []
   },
   "outputs": [],
   "source": [
    "from sklearn.metrics import classification_report"
   ]
  },
  {
   "cell_type": "markdown",
   "id": "90491709",
   "metadata": {
    "papermill": {
     "duration": 0.01339,
     "end_time": "2023-03-29T15:00:52.525538",
     "exception": false,
     "start_time": "2023-03-29T15:00:52.512148",
     "status": "completed"
    },
    "tags": []
   },
   "source": [
    "### Linear models"
   ]
  },
  {
   "cell_type": "markdown",
   "id": "99a84a86",
   "metadata": {
    "papermill": {
     "duration": 0.013306,
     "end_time": "2023-03-29T15:00:52.552530",
     "exception": false,
     "start_time": "2023-03-29T15:00:52.539224",
     "status": "completed"
    },
    "tags": []
   },
   "source": [
    "#### Logistic regression"
   ]
  },
  {
   "cell_type": "code",
   "execution_count": 13,
   "id": "83f34abc",
   "metadata": {
    "execution": {
     "iopub.execute_input": "2023-03-29T15:00:52.581667Z",
     "iopub.status.busy": "2023-03-29T15:00:52.581276Z",
     "iopub.status.idle": "2023-03-29T15:00:52.669477Z",
     "shell.execute_reply": "2023-03-29T15:00:52.668254Z"
    },
    "papermill": {
     "duration": 0.106278,
     "end_time": "2023-03-29T15:00:52.672417",
     "exception": false,
     "start_time": "2023-03-29T15:00:52.566139",
     "status": "completed"
    },
    "tags": []
   },
   "outputs": [],
   "source": [
    "from sklearn.linear_model import LogisticRegression\n",
    "model_lr = LogisticRegression()"
   ]
  },
  {
   "cell_type": "code",
   "execution_count": 14,
   "id": "5f4050ed",
   "metadata": {
    "execution": {
     "iopub.execute_input": "2023-03-29T15:00:52.702194Z",
     "iopub.status.busy": "2023-03-29T15:00:52.701755Z",
     "iopub.status.idle": "2023-03-29T15:00:53.246993Z",
     "shell.execute_reply": "2023-03-29T15:00:53.245311Z"
    },
    "papermill": {
     "duration": 0.56505,
     "end_time": "2023-03-29T15:00:53.251244",
     "exception": false,
     "start_time": "2023-03-29T15:00:52.686194",
     "status": "completed"
    },
    "tags": []
   },
   "outputs": [
    {
     "name": "stdout",
     "output_type": "stream",
     "text": [
      "              precision    recall  f1-score   support\n",
      "\n",
      "           0       0.99      1.00      0.99     21322\n",
      "           1       0.97      0.91      0.94      2191\n",
      "\n",
      "    accuracy                           0.99     23513\n",
      "   macro avg       0.98      0.95      0.97     23513\n",
      "weighted avg       0.99      0.99      0.99     23513\n",
      "\n"
     ]
    }
   ],
   "source": [
    "_ = model_lr.fit(X_train, y_train)\n",
    "print(classification_report(y_test, model_lr.predict(X_test)))"
   ]
  },
  {
   "cell_type": "markdown",
   "id": "8b5bbb49",
   "metadata": {
    "papermill": {
     "duration": 0.02256,
     "end_time": "2023-03-29T15:00:53.310136",
     "exception": false,
     "start_time": "2023-03-29T15:00:53.287576",
     "status": "completed"
    },
    "tags": []
   },
   "source": [
    "#### Passive Aggressive Classifier"
   ]
  },
  {
   "cell_type": "code",
   "execution_count": 15,
   "id": "2e0a925d",
   "metadata": {
    "execution": {
     "iopub.execute_input": "2023-03-29T15:00:53.339942Z",
     "iopub.status.busy": "2023-03-29T15:00:53.339508Z",
     "iopub.status.idle": "2023-03-29T15:00:53.344761Z",
     "shell.execute_reply": "2023-03-29T15:00:53.343426Z"
    },
    "papermill": {
     "duration": 0.022906,
     "end_time": "2023-03-29T15:00:53.347169",
     "exception": false,
     "start_time": "2023-03-29T15:00:53.324263",
     "status": "completed"
    },
    "tags": []
   },
   "outputs": [],
   "source": [
    "from sklearn.linear_model import PassiveAggressiveClassifier\n",
    "model_pac = PassiveAggressiveClassifier()"
   ]
  },
  {
   "cell_type": "code",
   "execution_count": 16,
   "id": "03a2a1c7",
   "metadata": {
    "execution": {
     "iopub.execute_input": "2023-03-29T15:00:53.377692Z",
     "iopub.status.busy": "2023-03-29T15:00:53.376851Z",
     "iopub.status.idle": "2023-03-29T15:00:53.536869Z",
     "shell.execute_reply": "2023-03-29T15:00:53.534845Z"
    },
    "papermill": {
     "duration": 0.181507,
     "end_time": "2023-03-29T15:00:53.542762",
     "exception": false,
     "start_time": "2023-03-29T15:00:53.361255",
     "status": "completed"
    },
    "tags": []
   },
   "outputs": [
    {
     "name": "stdout",
     "output_type": "stream",
     "text": [
      "              precision    recall  f1-score   support\n",
      "\n",
      "           0       0.99      1.00      0.99     21322\n",
      "           1       0.98      0.90      0.94      2191\n",
      "\n",
      "    accuracy                           0.99     23513\n",
      "   macro avg       0.98      0.95      0.97     23513\n",
      "weighted avg       0.99      0.99      0.99     23513\n",
      "\n"
     ]
    }
   ],
   "source": [
    "_ = model_pac.fit(X_train, y_train)\n",
    "print(classification_report(y_test, model_pac.predict(X_test)))"
   ]
  },
  {
   "cell_type": "markdown",
   "id": "32927491",
   "metadata": {
    "papermill": {
     "duration": 0.021378,
     "end_time": "2023-03-29T15:00:53.601673",
     "exception": false,
     "start_time": "2023-03-29T15:00:53.580295",
     "status": "completed"
    },
    "tags": []
   },
   "source": [
    "#### Perceptron"
   ]
  },
  {
   "cell_type": "code",
   "execution_count": 17,
   "id": "f33c9968",
   "metadata": {
    "execution": {
     "iopub.execute_input": "2023-03-29T15:00:53.632517Z",
     "iopub.status.busy": "2023-03-29T15:00:53.631269Z",
     "iopub.status.idle": "2023-03-29T15:00:53.636291Z",
     "shell.execute_reply": "2023-03-29T15:00:53.635376Z"
    },
    "papermill": {
     "duration": 0.022589,
     "end_time": "2023-03-29T15:00:53.638377",
     "exception": false,
     "start_time": "2023-03-29T15:00:53.615788",
     "status": "completed"
    },
    "tags": []
   },
   "outputs": [],
   "source": [
    "from sklearn.linear_model import Perceptron\n",
    "model_pr = Perceptron()"
   ]
  },
  {
   "cell_type": "code",
   "execution_count": 18,
   "id": "2fc16607",
   "metadata": {
    "execution": {
     "iopub.execute_input": "2023-03-29T15:00:53.669789Z",
     "iopub.status.busy": "2023-03-29T15:00:53.668454Z",
     "iopub.status.idle": "2023-03-29T15:00:53.814489Z",
     "shell.execute_reply": "2023-03-29T15:00:53.809750Z"
    },
    "papermill": {
     "duration": 0.168297,
     "end_time": "2023-03-29T15:00:53.820908",
     "exception": false,
     "start_time": "2023-03-29T15:00:53.652611",
     "status": "completed"
    },
    "tags": []
   },
   "outputs": [
    {
     "name": "stdout",
     "output_type": "stream",
     "text": [
      "              precision    recall  f1-score   support\n",
      "\n",
      "           0       0.99      0.99      0.99     21322\n",
      "           1       0.93      0.95      0.94      2191\n",
      "\n",
      "    accuracy                           0.99     23513\n",
      "   macro avg       0.96      0.97      0.97     23513\n",
      "weighted avg       0.99      0.99      0.99     23513\n",
      "\n"
     ]
    }
   ],
   "source": [
    "_ = model_pr.fit(X_train, y_train)\n",
    "print(classification_report(y_test, model_pr.predict(X_test)))"
   ]
  },
  {
   "cell_type": "markdown",
   "id": "928f8740",
   "metadata": {
    "papermill": {
     "duration": 0.017917,
     "end_time": "2023-03-29T15:00:53.876752",
     "exception": false,
     "start_time": "2023-03-29T15:00:53.858835",
     "status": "completed"
    },
    "tags": []
   },
   "source": [
    "#### SGDClassifier"
   ]
  },
  {
   "cell_type": "code",
   "execution_count": 19,
   "id": "05a534a9",
   "metadata": {
    "execution": {
     "iopub.execute_input": "2023-03-29T15:00:53.906869Z",
     "iopub.status.busy": "2023-03-29T15:00:53.906422Z",
     "iopub.status.idle": "2023-03-29T15:00:53.911760Z",
     "shell.execute_reply": "2023-03-29T15:00:53.910625Z"
    },
    "papermill": {
     "duration": 0.023061,
     "end_time": "2023-03-29T15:00:53.913969",
     "exception": false,
     "start_time": "2023-03-29T15:00:53.890908",
     "status": "completed"
    },
    "tags": []
   },
   "outputs": [],
   "source": [
    "from sklearn.linear_model import SGDClassifier\n",
    "model_sg = SGDClassifier()"
   ]
  },
  {
   "cell_type": "code",
   "execution_count": 20,
   "id": "1e2f27f5",
   "metadata": {
    "execution": {
     "iopub.execute_input": "2023-03-29T15:00:53.944393Z",
     "iopub.status.busy": "2023-03-29T15:00:53.943985Z",
     "iopub.status.idle": "2023-03-29T15:00:54.098224Z",
     "shell.execute_reply": "2023-03-29T15:00:54.092054Z"
    },
    "papermill": {
     "duration": 0.176521,
     "end_time": "2023-03-29T15:00:54.104807",
     "exception": false,
     "start_time": "2023-03-29T15:00:53.928286",
     "status": "completed"
    },
    "tags": []
   },
   "outputs": [
    {
     "name": "stdout",
     "output_type": "stream",
     "text": [
      "              precision    recall  f1-score   support\n",
      "\n",
      "           0       0.99      1.00      0.99     21322\n",
      "           1       0.97      0.92      0.94      2191\n",
      "\n",
      "    accuracy                           0.99     23513\n",
      "   macro avg       0.98      0.96      0.97     23513\n",
      "weighted avg       0.99      0.99      0.99     23513\n",
      "\n"
     ]
    }
   ],
   "source": [
    "_ = model_sg.fit(X_train, y_train)\n",
    "print(classification_report(y_test, model_sg.predict(X_test)))"
   ]
  },
  {
   "cell_type": "markdown",
   "id": "3ba94757",
   "metadata": {
    "papermill": {
     "duration": 0.017647,
     "end_time": "2023-03-29T15:00:54.160229",
     "exception": false,
     "start_time": "2023-03-29T15:00:54.142582",
     "status": "completed"
    },
    "tags": []
   },
   "source": [
    "#### Classifier using Ridge regression"
   ]
  },
  {
   "cell_type": "code",
   "execution_count": 21,
   "id": "3e62899a",
   "metadata": {
    "execution": {
     "iopub.execute_input": "2023-03-29T15:00:54.191189Z",
     "iopub.status.busy": "2023-03-29T15:00:54.190245Z",
     "iopub.status.idle": "2023-03-29T15:00:54.195690Z",
     "shell.execute_reply": "2023-03-29T15:00:54.194581Z"
    },
    "papermill": {
     "duration": 0.023457,
     "end_time": "2023-03-29T15:00:54.198012",
     "exception": false,
     "start_time": "2023-03-29T15:00:54.174555",
     "status": "completed"
    },
    "tags": []
   },
   "outputs": [],
   "source": [
    "from sklearn.linear_model import RidgeClassifier\n",
    "model_rc = RidgeClassifier()"
   ]
  },
  {
   "cell_type": "code",
   "execution_count": 22,
   "id": "470f8da8",
   "metadata": {
    "execution": {
     "iopub.execute_input": "2023-03-29T15:00:54.229059Z",
     "iopub.status.busy": "2023-03-29T15:00:54.228640Z",
     "iopub.status.idle": "2023-03-29T15:00:54.351304Z",
     "shell.execute_reply": "2023-03-29T15:00:54.349970Z"
    },
    "papermill": {
     "duration": 0.145449,
     "end_time": "2023-03-29T15:00:54.358033",
     "exception": false,
     "start_time": "2023-03-29T15:00:54.212584",
     "status": "completed"
    },
    "tags": []
   },
   "outputs": [
    {
     "name": "stdout",
     "output_type": "stream",
     "text": [
      "              precision    recall  f1-score   support\n",
      "\n",
      "           0       0.99      1.00      0.99     21322\n",
      "           1       0.98      0.85      0.91      2191\n",
      "\n",
      "    accuracy                           0.99     23513\n",
      "   macro avg       0.98      0.93      0.95     23513\n",
      "weighted avg       0.99      0.99      0.98     23513\n",
      "\n"
     ]
    }
   ],
   "source": [
    "_ = model_rc.fit(X_train, y_train)\n",
    "print(classification_report(y_test, model_rc.predict(X_test)))"
   ]
  },
  {
   "cell_type": "markdown",
   "id": "f71bb8d3",
   "metadata": {
    "papermill": {
     "duration": 0.02099,
     "end_time": "2023-03-29T15:00:54.417351",
     "exception": false,
     "start_time": "2023-03-29T15:00:54.396361",
     "status": "completed"
    },
    "tags": []
   },
   "source": [
    "### Support vector machine "
   ]
  },
  {
   "cell_type": "markdown",
   "id": "f8bff453",
   "metadata": {
    "papermill": {
     "duration": 0.01415,
     "end_time": "2023-03-29T15:00:54.446138",
     "exception": false,
     "start_time": "2023-03-29T15:00:54.431988",
     "status": "completed"
    },
    "tags": []
   },
   "source": [
    "#### Linear Support Vector Classification"
   ]
  },
  {
   "cell_type": "code",
   "execution_count": 23,
   "id": "50db0dcd",
   "metadata": {
    "execution": {
     "iopub.execute_input": "2023-03-29T15:00:54.477886Z",
     "iopub.status.busy": "2023-03-29T15:00:54.477447Z",
     "iopub.status.idle": "2023-03-29T15:00:54.482697Z",
     "shell.execute_reply": "2023-03-29T15:00:54.481391Z"
    },
    "papermill": {
     "duration": 0.024448,
     "end_time": "2023-03-29T15:00:54.485275",
     "exception": false,
     "start_time": "2023-03-29T15:00:54.460827",
     "status": "completed"
    },
    "tags": []
   },
   "outputs": [],
   "source": [
    "from sklearn.svm import LinearSVC\n",
    "model_svc = LinearSVC()"
   ]
  },
  {
   "cell_type": "code",
   "execution_count": 24,
   "id": "462a1a01",
   "metadata": {
    "execution": {
     "iopub.execute_input": "2023-03-29T15:00:54.517600Z",
     "iopub.status.busy": "2023-03-29T15:00:54.516843Z",
     "iopub.status.idle": "2023-03-29T15:00:57.701016Z",
     "shell.execute_reply": "2023-03-29T15:00:57.699669Z"
    },
    "papermill": {
     "duration": 3.205359,
     "end_time": "2023-03-29T15:00:57.705361",
     "exception": false,
     "start_time": "2023-03-29T15:00:54.500002",
     "status": "completed"
    },
    "tags": []
   },
   "outputs": [
    {
     "name": "stdout",
     "output_type": "stream",
     "text": [
      "              precision    recall  f1-score   support\n",
      "\n",
      "           0       0.99      1.00      0.99     21322\n",
      "           1       0.97      0.90      0.94      2191\n",
      "\n",
      "    accuracy                           0.99     23513\n",
      "   macro avg       0.98      0.95      0.97     23513\n",
      "weighted avg       0.99      0.99      0.99     23513\n",
      "\n"
     ]
    }
   ],
   "source": [
    "_ = model_svc.fit(X_train, y_train)\n",
    "print(classification_report(y_test, model_svc.predict(X_test)))"
   ]
  },
  {
   "cell_type": "markdown",
   "id": "e47fc7a0",
   "metadata": {
    "papermill": {
     "duration": 0.021813,
     "end_time": "2023-03-29T15:00:57.765921",
     "exception": false,
     "start_time": "2023-03-29T15:00:57.744108",
     "status": "completed"
    },
    "tags": []
   },
   "source": [
    "### Nearest Neighbors"
   ]
  },
  {
   "cell_type": "markdown",
   "id": "53c6f308",
   "metadata": {
    "papermill": {
     "duration": 0.014829,
     "end_time": "2023-03-29T15:00:57.795475",
     "exception": false,
     "start_time": "2023-03-29T15:00:57.780646",
     "status": "completed"
    },
    "tags": []
   },
   "source": [
    "#### Nearest neighbors classifier"
   ]
  },
  {
   "cell_type": "code",
   "execution_count": 25,
   "id": "97c3cbf2",
   "metadata": {
    "execution": {
     "iopub.execute_input": "2023-03-29T15:00:57.828027Z",
     "iopub.status.busy": "2023-03-29T15:00:57.827527Z",
     "iopub.status.idle": "2023-03-29T15:00:57.931592Z",
     "shell.execute_reply": "2023-03-29T15:00:57.930506Z"
    },
    "papermill": {
     "duration": 0.12339,
     "end_time": "2023-03-29T15:00:57.934323",
     "exception": false,
     "start_time": "2023-03-29T15:00:57.810933",
     "status": "completed"
    },
    "tags": []
   },
   "outputs": [],
   "source": [
    "from sklearn.neighbors import KNeighborsClassifier\n",
    "model_knn = KNeighborsClassifier(n_neighbors=10)"
   ]
  },
  {
   "cell_type": "code",
   "execution_count": 26,
   "id": "c5128240",
   "metadata": {
    "execution": {
     "iopub.execute_input": "2023-03-29T15:00:57.966259Z",
     "iopub.status.busy": "2023-03-29T15:00:57.965856Z",
     "iopub.status.idle": "2023-03-29T15:00:59.771321Z",
     "shell.execute_reply": "2023-03-29T15:00:59.769744Z"
    },
    "papermill": {
     "duration": 1.825088,
     "end_time": "2023-03-29T15:00:59.774385",
     "exception": false,
     "start_time": "2023-03-29T15:00:57.949297",
     "status": "completed"
    },
    "tags": []
   },
   "outputs": [
    {
     "name": "stdout",
     "output_type": "stream",
     "text": [
      "              precision    recall  f1-score   support\n",
      "\n",
      "           0       0.99      1.00      0.99     21322\n",
      "           1       0.98      0.91      0.94      2191\n",
      "\n",
      "    accuracy                           0.99     23513\n",
      "   macro avg       0.98      0.96      0.97     23513\n",
      "weighted avg       0.99      0.99      0.99     23513\n",
      "\n"
     ]
    }
   ],
   "source": [
    "_ = model_knn.fit(X_train, y_train)\n",
    "print(classification_report(y_test, model_knn.predict(X_test)))"
   ]
  },
  {
   "cell_type": "markdown",
   "id": "af38e914",
   "metadata": {
    "papermill": {
     "duration": 0.014905,
     "end_time": "2023-03-29T15:00:59.804414",
     "exception": false,
     "start_time": "2023-03-29T15:00:59.789509",
     "status": "completed"
    },
    "tags": []
   },
   "source": [
    "### Trees"
   ]
  },
  {
   "cell_type": "markdown",
   "id": "52db5b62",
   "metadata": {
    "papermill": {
     "duration": 0.014476,
     "end_time": "2023-03-29T15:00:59.833788",
     "exception": false,
     "start_time": "2023-03-29T15:00:59.819312",
     "status": "completed"
    },
    "tags": []
   },
   "source": [
    "#### A decision tree classifier"
   ]
  },
  {
   "cell_type": "code",
   "execution_count": 27,
   "id": "0554b1ef",
   "metadata": {
    "execution": {
     "iopub.execute_input": "2023-03-29T15:00:59.866622Z",
     "iopub.status.busy": "2023-03-29T15:00:59.865316Z",
     "iopub.status.idle": "2023-03-29T15:00:59.915891Z",
     "shell.execute_reply": "2023-03-29T15:00:59.914366Z"
    },
    "papermill": {
     "duration": 0.070284,
     "end_time": "2023-03-29T15:00:59.918862",
     "exception": false,
     "start_time": "2023-03-29T15:00:59.848578",
     "status": "completed"
    },
    "tags": []
   },
   "outputs": [],
   "source": [
    "from sklearn.tree import DecisionTreeClassifier\n",
    "model_dtc = DecisionTreeClassifier()"
   ]
  },
  {
   "cell_type": "code",
   "execution_count": 28,
   "id": "ca4ba509",
   "metadata": {
    "execution": {
     "iopub.execute_input": "2023-03-29T15:00:59.951374Z",
     "iopub.status.busy": "2023-03-29T15:00:59.950963Z",
     "iopub.status.idle": "2023-03-29T15:01:01.422152Z",
     "shell.execute_reply": "2023-03-29T15:01:01.420754Z"
    },
    "papermill": {
     "duration": 1.490884,
     "end_time": "2023-03-29T15:01:01.424937",
     "exception": false,
     "start_time": "2023-03-29T15:00:59.934053",
     "status": "completed"
    },
    "tags": []
   },
   "outputs": [
    {
     "name": "stdout",
     "output_type": "stream",
     "text": [
      "              precision    recall  f1-score   support\n",
      "\n",
      "           0       0.99      0.99      0.99     21322\n",
      "           1       0.92      0.92      0.92      2191\n",
      "\n",
      "    accuracy                           0.98     23513\n",
      "   macro avg       0.95      0.96      0.95     23513\n",
      "weighted avg       0.98      0.98      0.98     23513\n",
      "\n"
     ]
    }
   ],
   "source": [
    "_ = model_dtc.fit(X_train, y_train)\n",
    "print(classification_report(y_test, model_dtc.predict(X_test)))"
   ]
  },
  {
   "cell_type": "markdown",
   "id": "d126ad46",
   "metadata": {
    "papermill": {
     "duration": 0.01504,
     "end_time": "2023-03-29T15:01:01.455726",
     "exception": false,
     "start_time": "2023-03-29T15:01:01.440686",
     "status": "completed"
    },
    "tags": []
   },
   "source": [
    "### Ensemble models"
   ]
  },
  {
   "cell_type": "markdown",
   "id": "84bfa2cc",
   "metadata": {
    "papermill": {
     "duration": 0.014968,
     "end_time": "2023-03-29T15:01:01.485957",
     "exception": false,
     "start_time": "2023-03-29T15:01:01.470989",
     "status": "completed"
    },
    "tags": []
   },
   "source": [
    "#### An AdaBoost classifier"
   ]
  },
  {
   "cell_type": "code",
   "execution_count": 29,
   "id": "7809afb0",
   "metadata": {
    "execution": {
     "iopub.execute_input": "2023-03-29T15:01:01.519114Z",
     "iopub.status.busy": "2023-03-29T15:01:01.517968Z",
     "iopub.status.idle": "2023-03-29T15:01:01.648299Z",
     "shell.execute_reply": "2023-03-29T15:01:01.647205Z"
    },
    "papermill": {
     "duration": 0.149938,
     "end_time": "2023-03-29T15:01:01.651227",
     "exception": false,
     "start_time": "2023-03-29T15:01:01.501289",
     "status": "completed"
    },
    "tags": []
   },
   "outputs": [],
   "source": [
    "from sklearn.ensemble import AdaBoostClassifier\n",
    "model_ABC = AdaBoostClassifier()"
   ]
  },
  {
   "cell_type": "code",
   "execution_count": 30,
   "id": "f20fb592",
   "metadata": {
    "execution": {
     "iopub.execute_input": "2023-03-29T15:01:01.683752Z",
     "iopub.status.busy": "2023-03-29T15:01:01.683346Z",
     "iopub.status.idle": "2023-03-29T15:01:09.133117Z",
     "shell.execute_reply": "2023-03-29T15:01:09.131764Z"
    },
    "papermill": {
     "duration": 7.46951,
     "end_time": "2023-03-29T15:01:09.136096",
     "exception": false,
     "start_time": "2023-03-29T15:01:01.666586",
     "status": "completed"
    },
    "tags": []
   },
   "outputs": [
    {
     "name": "stdout",
     "output_type": "stream",
     "text": [
      "              precision    recall  f1-score   support\n",
      "\n",
      "           0       0.99      1.00      0.99     21322\n",
      "           1       0.96      0.92      0.94      2191\n",
      "\n",
      "    accuracy                           0.99     23513\n",
      "   macro avg       0.98      0.96      0.97     23513\n",
      "weighted avg       0.99      0.99      0.99     23513\n",
      "\n"
     ]
    }
   ],
   "source": [
    "_ = model_ABC.fit(X_train, y_train)\n",
    "print(classification_report(y_test, model_ABC.predict(X_test)))"
   ]
  },
  {
   "cell_type": "markdown",
   "id": "21d45627",
   "metadata": {
    "papermill": {
     "duration": 0.01474,
     "end_time": "2023-03-29T15:01:09.166433",
     "exception": false,
     "start_time": "2023-03-29T15:01:09.151693",
     "status": "completed"
    },
    "tags": []
   },
   "source": [
    "#### A Bagging classifier"
   ]
  },
  {
   "cell_type": "code",
   "execution_count": 31,
   "id": "06448afd",
   "metadata": {
    "execution": {
     "iopub.execute_input": "2023-03-29T15:01:09.198758Z",
     "iopub.status.busy": "2023-03-29T15:01:09.198377Z",
     "iopub.status.idle": "2023-03-29T15:01:09.203542Z",
     "shell.execute_reply": "2023-03-29T15:01:09.202346Z"
    },
    "papermill": {
     "duration": 0.024505,
     "end_time": "2023-03-29T15:01:09.206072",
     "exception": false,
     "start_time": "2023-03-29T15:01:09.181567",
     "status": "completed"
    },
    "tags": []
   },
   "outputs": [],
   "source": [
    "from sklearn.ensemble import BaggingClassifier\n",
    "model_BC = BaggingClassifier()"
   ]
  },
  {
   "cell_type": "code",
   "execution_count": 32,
   "id": "2f8ccfba",
   "metadata": {
    "execution": {
     "iopub.execute_input": "2023-03-29T15:01:09.239685Z",
     "iopub.status.busy": "2023-03-29T15:01:09.239294Z",
     "iopub.status.idle": "2023-03-29T15:01:18.154288Z",
     "shell.execute_reply": "2023-03-29T15:01:18.152718Z"
    },
    "papermill": {
     "duration": 8.935005,
     "end_time": "2023-03-29T15:01:18.157131",
     "exception": false,
     "start_time": "2023-03-29T15:01:09.222126",
     "status": "completed"
    },
    "tags": []
   },
   "outputs": [
    {
     "name": "stdout",
     "output_type": "stream",
     "text": [
      "              precision    recall  f1-score   support\n",
      "\n",
      "           0       0.99      1.00      0.99     21322\n",
      "           1       0.97      0.92      0.94      2191\n",
      "\n",
      "    accuracy                           0.99     23513\n",
      "   macro avg       0.98      0.96      0.97     23513\n",
      "weighted avg       0.99      0.99      0.99     23513\n",
      "\n"
     ]
    }
   ],
   "source": [
    "_ = model_BC.fit(X_train, y_train)\n",
    "print(classification_report(y_test, model_BC.predict(X_test)))"
   ]
  },
  {
   "cell_type": "markdown",
   "id": "d80d6436",
   "metadata": {
    "papermill": {
     "duration": 0.015022,
     "end_time": "2023-03-29T15:01:18.187711",
     "exception": false,
     "start_time": "2023-03-29T15:01:18.172689",
     "status": "completed"
    },
    "tags": []
   },
   "source": [
    "#### An extra-trees classifier"
   ]
  },
  {
   "cell_type": "code",
   "execution_count": 33,
   "id": "1d48093e",
   "metadata": {
    "execution": {
     "iopub.execute_input": "2023-03-29T15:01:18.220348Z",
     "iopub.status.busy": "2023-03-29T15:01:18.219956Z",
     "iopub.status.idle": "2023-03-29T15:01:18.225006Z",
     "shell.execute_reply": "2023-03-29T15:01:18.223853Z"
    },
    "papermill": {
     "duration": 0.024407,
     "end_time": "2023-03-29T15:01:18.227467",
     "exception": false,
     "start_time": "2023-03-29T15:01:18.203060",
     "status": "completed"
    },
    "tags": []
   },
   "outputs": [],
   "source": [
    "from sklearn.ensemble import ExtraTreesClassifier\n",
    "model_ETC = ExtraTreesClassifier()"
   ]
  },
  {
   "cell_type": "code",
   "execution_count": 34,
   "id": "d228c73f",
   "metadata": {
    "execution": {
     "iopub.execute_input": "2023-03-29T15:01:18.260414Z",
     "iopub.status.busy": "2023-03-29T15:01:18.260027Z",
     "iopub.status.idle": "2023-03-29T15:01:25.616227Z",
     "shell.execute_reply": "2023-03-29T15:01:25.614874Z"
    },
    "papermill": {
     "duration": 7.376947,
     "end_time": "2023-03-29T15:01:25.619993",
     "exception": false,
     "start_time": "2023-03-29T15:01:18.243046",
     "status": "completed"
    },
    "tags": []
   },
   "outputs": [
    {
     "name": "stdout",
     "output_type": "stream",
     "text": [
      "              precision    recall  f1-score   support\n",
      "\n",
      "           0       0.99      1.00      0.99     21322\n",
      "           1       0.97      0.93      0.95      2191\n",
      "\n",
      "    accuracy                           0.99     23513\n",
      "   macro avg       0.98      0.96      0.97     23513\n",
      "weighted avg       0.99      0.99      0.99     23513\n",
      "\n"
     ]
    }
   ],
   "source": [
    "_ = model_ETC.fit(X_train, y_train)\n",
    "print(classification_report(y_test, model_ETC.predict(X_test)))"
   ]
  },
  {
   "cell_type": "markdown",
   "id": "c78eaab0",
   "metadata": {
    "papermill": {
     "duration": 0.015262,
     "end_time": "2023-03-29T15:01:25.651775",
     "exception": false,
     "start_time": "2023-03-29T15:01:25.636513",
     "status": "completed"
    },
    "tags": []
   },
   "source": [
    "#### Gradient Boosting for classification"
   ]
  },
  {
   "cell_type": "code",
   "execution_count": 35,
   "id": "8a4c4052",
   "metadata": {
    "execution": {
     "iopub.execute_input": "2023-03-29T15:01:25.685171Z",
     "iopub.status.busy": "2023-03-29T15:01:25.684454Z",
     "iopub.status.idle": "2023-03-29T15:01:25.690182Z",
     "shell.execute_reply": "2023-03-29T15:01:25.688826Z"
    },
    "papermill": {
     "duration": 0.025391,
     "end_time": "2023-03-29T15:01:25.692721",
     "exception": false,
     "start_time": "2023-03-29T15:01:25.667330",
     "status": "completed"
    },
    "tags": []
   },
   "outputs": [],
   "source": [
    "from sklearn.ensemble import GradientBoostingClassifier\n",
    "model_GBC = GradientBoostingClassifier()"
   ]
  },
  {
   "cell_type": "code",
   "execution_count": 36,
   "id": "b80863b3",
   "metadata": {
    "execution": {
     "iopub.execute_input": "2023-03-29T15:01:25.725850Z",
     "iopub.status.busy": "2023-03-29T15:01:25.725432Z",
     "iopub.status.idle": "2023-03-29T15:01:55.663376Z",
     "shell.execute_reply": "2023-03-29T15:01:55.662469Z"
    },
    "papermill": {
     "duration": 29.958394,
     "end_time": "2023-03-29T15:01:55.666738",
     "exception": false,
     "start_time": "2023-03-29T15:01:25.708344",
     "status": "completed"
    },
    "tags": []
   },
   "outputs": [
    {
     "name": "stdout",
     "output_type": "stream",
     "text": [
      "              precision    recall  f1-score   support\n",
      "\n",
      "           0       0.99      1.00      0.99     21322\n",
      "           1       0.97      0.93      0.95      2191\n",
      "\n",
      "    accuracy                           0.99     23513\n",
      "   macro avg       0.98      0.96      0.97     23513\n",
      "weighted avg       0.99      0.99      0.99     23513\n",
      "\n"
     ]
    }
   ],
   "source": [
    "_ = model_GBC.fit(X_train, y_train)\n",
    "print(classification_report(y_test, model_GBC.predict(X_test)))"
   ]
  },
  {
   "cell_type": "markdown",
   "id": "20590d36",
   "metadata": {
    "papermill": {
     "duration": 0.015313,
     "end_time": "2023-03-29T15:01:55.698924",
     "exception": false,
     "start_time": "2023-03-29T15:01:55.683611",
     "status": "completed"
    },
    "tags": []
   },
   "source": [
    "#### A random forest classifier"
   ]
  },
  {
   "cell_type": "code",
   "execution_count": 37,
   "id": "1d4b3e26",
   "metadata": {
    "execution": {
     "iopub.execute_input": "2023-03-29T15:01:55.732427Z",
     "iopub.status.busy": "2023-03-29T15:01:55.732040Z",
     "iopub.status.idle": "2023-03-29T15:01:55.737298Z",
     "shell.execute_reply": "2023-03-29T15:01:55.735892Z"
    },
    "papermill": {
     "duration": 0.024902,
     "end_time": "2023-03-29T15:01:55.739583",
     "exception": false,
     "start_time": "2023-03-29T15:01:55.714681",
     "status": "completed"
    },
    "tags": []
   },
   "outputs": [],
   "source": [
    "from sklearn.ensemble import RandomForestClassifier\n",
    "model_RFC = RandomForestClassifier()"
   ]
  },
  {
   "cell_type": "code",
   "execution_count": 38,
   "id": "6ad304be",
   "metadata": {
    "execution": {
     "iopub.execute_input": "2023-03-29T15:01:55.773626Z",
     "iopub.status.busy": "2023-03-29T15:01:55.772863Z",
     "iopub.status.idle": "2023-03-29T15:02:22.490205Z",
     "shell.execute_reply": "2023-03-29T15:02:22.488730Z"
    },
    "papermill": {
     "duration": 26.737251,
     "end_time": "2023-03-29T15:02:22.492739",
     "exception": false,
     "start_time": "2023-03-29T15:01:55.755488",
     "status": "completed"
    },
    "tags": []
   },
   "outputs": [
    {
     "name": "stdout",
     "output_type": "stream",
     "text": [
      "              precision    recall  f1-score   support\n",
      "\n",
      "           0       0.99      1.00      0.99     21322\n",
      "           1       0.97      0.93      0.95      2191\n",
      "\n",
      "    accuracy                           0.99     23513\n",
      "   macro avg       0.98      0.96      0.97     23513\n",
      "weighted avg       0.99      0.99      0.99     23513\n",
      "\n"
     ]
    }
   ],
   "source": [
    "_ = model_RFC.fit(X_train, y_train)\n",
    "print(classification_report(y_test, model_RFC.predict(X_test)))"
   ]
  },
  {
   "cell_type": "markdown",
   "id": "e06e7e97",
   "metadata": {
    "papermill": {
     "duration": 0.015655,
     "end_time": "2023-03-29T15:02:22.524610",
     "exception": false,
     "start_time": "2023-03-29T15:02:22.508955",
     "status": "completed"
    },
    "tags": []
   },
   "source": [
    "#### Classifier with XGBoost"
   ]
  },
  {
   "cell_type": "code",
   "execution_count": 39,
   "id": "32c66ecc",
   "metadata": {
    "execution": {
     "iopub.execute_input": "2023-03-29T15:02:22.559545Z",
     "iopub.status.busy": "2023-03-29T15:02:22.558760Z",
     "iopub.status.idle": "2023-03-29T15:02:22.667501Z",
     "shell.execute_reply": "2023-03-29T15:02:22.666111Z"
    },
    "papermill": {
     "duration": 0.129662,
     "end_time": "2023-03-29T15:02:22.670350",
     "exception": false,
     "start_time": "2023-03-29T15:02:22.540688",
     "status": "completed"
    },
    "tags": []
   },
   "outputs": [],
   "source": [
    "from xgboost import XGBClassifier\n",
    "model_XGBC = XGBClassifier(objective='reg:squarederror', colsample_bytree=0.3,\n",
    "                         learning_rate=0.1, max_depth=2,\n",
    "                         alpha=10, n_estimators=10)"
   ]
  },
  {
   "cell_type": "code",
   "execution_count": 40,
   "id": "1a8b85b9",
   "metadata": {
    "execution": {
     "iopub.execute_input": "2023-03-29T15:02:22.704989Z",
     "iopub.status.busy": "2023-03-29T15:02:22.704534Z",
     "iopub.status.idle": "2023-03-29T15:02:22.987366Z",
     "shell.execute_reply": "2023-03-29T15:02:22.985448Z"
    },
    "papermill": {
     "duration": 0.303136,
     "end_time": "2023-03-29T15:02:22.990138",
     "exception": false,
     "start_time": "2023-03-29T15:02:22.687002",
     "status": "completed"
    },
    "tags": []
   },
   "outputs": [
    {
     "name": "stdout",
     "output_type": "stream",
     "text": [
      "              precision    recall  f1-score   support\n",
      "\n",
      "           0       0.99      1.00      0.99     21322\n",
      "           1       0.98      0.89      0.93      2191\n",
      "\n",
      "    accuracy                           0.99     23513\n",
      "   macro avg       0.98      0.94      0.96     23513\n",
      "weighted avg       0.99      0.99      0.99     23513\n",
      "\n"
     ]
    }
   ],
   "source": [
    "_ = model_XGBC.fit(X_train, y_train)\n",
    "print(classification_report(y_test, model_XGBC.predict(X_test)))"
   ]
  },
  {
   "cell_type": "code",
   "execution_count": 41,
   "id": "2da9ee88",
   "metadata": {
    "execution": {
     "iopub.execute_input": "2023-03-29T15:02:23.024542Z",
     "iopub.status.busy": "2023-03-29T15:02:23.024112Z",
     "iopub.status.idle": "2023-03-29T15:02:35.373942Z",
     "shell.execute_reply": "2023-03-29T15:02:35.372856Z"
    },
    "papermill": {
     "duration": 12.371294,
     "end_time": "2023-03-29T15:02:35.377698",
     "exception": false,
     "start_time": "2023-03-29T15:02:23.006404",
     "status": "completed"
    },
    "tags": []
   },
   "outputs": [
    {
     "name": "stdout",
     "output_type": "stream",
     "text": [
      "********************************************************************************\n",
      "Logistic Regreesion: |0.989| test, |0.989| train scores\n",
      "********************************************************************************\n",
      "Passive Aggressive Classifier: |0.989| test, |0.989| train scores\n",
      "********************************************************************************\n",
      "Perceptron: |0.989| test, |0.988| train scores\n",
      "********************************************************************************\n",
      "SGD Classifier: |0.99| test, |0.99| train scores\n",
      "********************************************************************************\n",
      "Ridge Classifier: |0.985| test, |0.985| train scores\n",
      "********************************************************************************\n",
      "Linear SVC: |0.989| test, |0.989| train scores\n",
      "********************************************************************************\n",
      "K Neighbors Classifier: |0.99| test, |0.991| train scores\n",
      "********************************************************************************\n",
      "Decision Tree Classifier: |0.985| test, |1.0| train scores\n",
      "********************************************************************************\n",
      "Ada Boost Classifier: |0.989| test, |0.99| train scores\n",
      "********************************************************************************\n",
      "Bagging Classifier: |0.99| test, |0.999| train scores\n",
      "********************************************************************************\n",
      "Extra Trees Classifier: |0.991| test, |1.0| train scores\n",
      "********************************************************************************\n",
      "Gradient Boosting Classifier: |0.991| test, |0.992| train scores\n",
      "********************************************************************************\n",
      "Random Forest Classifier: |0.991| test, |1.0| train scores\n",
      "********************************************************************************\n",
      "XGB Classifier: |0.988| test, |0.988| train scores\n",
      "********************************************************************************\n"
     ]
    }
   ],
   "source": [
    "print('*'*80)\n",
    "print(f\"Logistic Regreesion: |{round(model_lr.score(X_test, y_test),3)}| test, |{round(model_lr.score(X_train, y_train),3)}| train scores\")\n",
    "print('*'*80)\n",
    "print(f\"Passive Aggressive Classifier: |{round(model_pac.score(X_test, y_test),3)}| test, |{round(model_pac.score(X_train, y_train),3)}| train scores\")\n",
    "print('*'*80)\n",
    "print(f\"Perceptron: |{round(model_pr.score(X_test, y_test),3)}| test, |{round(model_pr.score(X_train, y_train),3)}| train scores\")\n",
    "print('*'*80)\n",
    "print(f\"SGD Classifier: |{round(model_sg.score(X_test, y_test),3)}| test, |{round(model_sg.score(X_train, y_train),3)}| train scores\")\n",
    "print('*'*80)\n",
    "print(f\"Ridge Classifier: |{round(model_rc.score(X_test, y_test),3)}| test, |{round(model_rc.score(X_train, y_train),3)}| train scores\")\n",
    "print('*'*80)\n",
    "print(f\"Linear SVC: |{round(model_svc.score(X_test, y_test),3)}| test, |{round(model_svc.score(X_train, y_train),3)}| train scores\")\n",
    "print('*'*80)\n",
    "print(f\"K Neighbors Classifier: |{round(model_knn.score(X_test, y_test),3)}| test, |{round(model_knn.score(X_train, y_train),3)}| train scores\")\n",
    "print('*'*80)\n",
    "print(f\"Decision Tree Classifier: |{round(model_dtc.score(X_test, y_test),3)}| test, |{round(model_dtc.score(X_train, y_train),3)}| train scores\")\n",
    "print('*'*80)\n",
    "print(f\"Ada Boost Classifier: |{round(model_ABC.score(X_test, y_test),3)}| test, |{round(model_ABC.score(X_train, y_train),3)}| train scores\")\n",
    "print('*'*80)\n",
    "print(f\"Bagging Classifier: |{round(model_BC.score(X_test, y_test),3)}| test, |{round(model_BC.score(X_train, y_train),3)}| train scores\")\n",
    "print('*'*80)\n",
    "print(f\"Extra Trees Classifier: |{round(model_ETC.score(X_test, y_test),3)}| test, |{round(model_ETC.score(X_train, y_train),3)}| train scores\")\n",
    "print('*'*80)\n",
    "print(f\"Gradient Boosting Classifier: |{round(model_GBC.score(X_test, y_test),3)}| test, |{round(model_GBC.score(X_train, y_train),3)}| train scores\")\n",
    "print('*'*80)\n",
    "print(f\"Random Forest Classifier: |{round(model_RFC.score(X_test, y_test),3)}| test, |{round(model_RFC.score(X_train, y_train),3)}| train scores\")\n",
    "print('*'*80)\n",
    "print(f\"XGB Classifier: |{round(model_XGBC.score(X_test, y_test),3)}| test, |{round(model_XGBC.score(X_train, y_train),3)}| train scores\")\n",
    "print('*'*80)"
   ]
  },
  {
   "cell_type": "markdown",
   "id": "b1415b99",
   "metadata": {
    "papermill": {
     "duration": 0.016218,
     "end_time": "2023-03-29T15:02:35.411443",
     "exception": false,
     "start_time": "2023-03-29T15:02:35.395225",
     "status": "completed"
    },
    "tags": []
   },
   "source": [
    "## Predict test data"
   ]
  },
  {
   "cell_type": "code",
   "execution_count": 42,
   "id": "86f0a09a",
   "metadata": {
    "execution": {
     "iopub.execute_input": "2023-03-29T15:02:35.447483Z",
     "iopub.status.busy": "2023-03-29T15:02:35.446502Z",
     "iopub.status.idle": "2023-03-29T15:02:41.050845Z",
     "shell.execute_reply": "2023-03-29T15:02:41.049804Z"
    },
    "papermill": {
     "duration": 5.625287,
     "end_time": "2023-03-29T15:02:41.053690",
     "exception": false,
     "start_time": "2023-03-29T15:02:35.428403",
     "status": "completed"
    },
    "tags": []
   },
   "outputs": [],
   "source": [
    "predict_knn = model_knn.predict(A)\n",
    "predict_ada = model_ABC.predict(A)\n",
    "predict_xgb = model_XGBC.predict(A)"
   ]
  },
  {
   "cell_type": "code",
   "execution_count": 43,
   "id": "c9f5bafb",
   "metadata": {
    "execution": {
     "iopub.execute_input": "2023-03-29T15:02:41.092388Z",
     "iopub.status.busy": "2023-03-29T15:02:41.091612Z",
     "iopub.status.idle": "2023-03-29T15:02:41.098821Z",
     "shell.execute_reply": "2023-03-29T15:02:41.097540Z"
    },
    "papermill": {
     "duration": 0.02795,
     "end_time": "2023-03-29T15:02:41.101284",
     "exception": false,
     "start_time": "2023-03-29T15:02:41.073334",
     "status": "completed"
    },
    "tags": []
   },
   "outputs": [
    {
     "data": {
      "text/plain": [
       "((78377,), (78377,), (78377,))"
      ]
     },
     "execution_count": 43,
     "metadata": {},
     "output_type": "execute_result"
    }
   ],
   "source": [
    "predict_knn.shape, predict_ada.shape, predict_xgb.shape"
   ]
  },
  {
   "cell_type": "markdown",
   "id": "63b11fe0",
   "metadata": {
    "papermill": {
     "duration": 0.016263,
     "end_time": "2023-03-29T15:02:41.133989",
     "exception": false,
     "start_time": "2023-03-29T15:02:41.117726",
     "status": "completed"
    },
    "tags": []
   },
   "source": [
    "## Send prediction"
   ]
  },
  {
   "cell_type": "code",
   "execution_count": 44,
   "id": "05421a54",
   "metadata": {
    "execution": {
     "iopub.execute_input": "2023-03-29T15:02:41.169268Z",
     "iopub.status.busy": "2023-03-29T15:02:41.168595Z",
     "iopub.status.idle": "2023-03-29T15:02:41.174751Z",
     "shell.execute_reply": "2023-03-29T15:02:41.173555Z"
    },
    "papermill": {
     "duration": 0.026541,
     "end_time": "2023-03-29T15:02:41.177133",
     "exception": false,
     "start_time": "2023-03-29T15:02:41.150592",
     "status": "completed"
    },
    "tags": []
   },
   "outputs": [],
   "source": [
    "ids = test.iloc[:,0:1]"
   ]
  },
  {
   "cell_type": "code",
   "execution_count": 45,
   "id": "4ed74b0d",
   "metadata": {
    "execution": {
     "iopub.execute_input": "2023-03-29T15:02:41.213260Z",
     "iopub.status.busy": "2023-03-29T15:02:41.212447Z",
     "iopub.status.idle": "2023-03-29T15:02:41.227896Z",
     "shell.execute_reply": "2023-03-29T15:02:41.226743Z"
    },
    "papermill": {
     "duration": 0.036011,
     "end_time": "2023-03-29T15:02:41.230128",
     "exception": false,
     "start_time": "2023-03-29T15:02:41.194117",
     "status": "completed"
    },
    "tags": []
   },
   "outputs": [
    {
     "data": {
      "text/html": [
       "<div>\n",
       "<style scoped>\n",
       "    .dataframe tbody tr th:only-of-type {\n",
       "        vertical-align: middle;\n",
       "    }\n",
       "\n",
       "    .dataframe tbody tr th {\n",
       "        vertical-align: top;\n",
       "    }\n",
       "\n",
       "    .dataframe thead th {\n",
       "        text-align: right;\n",
       "    }\n",
       "</style>\n",
       "<table border=\"1\" class=\"dataframe\">\n",
       "  <thead>\n",
       "    <tr style=\"text-align: right;\">\n",
       "      <th></th>\n",
       "      <th>id</th>\n",
       "      <th>Strength</th>\n",
       "    </tr>\n",
       "  </thead>\n",
       "  <tbody>\n",
       "    <tr>\n",
       "      <th>0</th>\n",
       "      <td>117564</td>\n",
       "      <td>0.0</td>\n",
       "    </tr>\n",
       "    <tr>\n",
       "      <th>1</th>\n",
       "      <td>117565</td>\n",
       "      <td>0.0</td>\n",
       "    </tr>\n",
       "    <tr>\n",
       "      <th>2</th>\n",
       "      <td>117566</td>\n",
       "      <td>0.0</td>\n",
       "    </tr>\n",
       "    <tr>\n",
       "      <th>3</th>\n",
       "      <td>117567</td>\n",
       "      <td>0.0</td>\n",
       "    </tr>\n",
       "    <tr>\n",
       "      <th>4</th>\n",
       "      <td>117568</td>\n",
       "      <td>0.0</td>\n",
       "    </tr>\n",
       "    <tr>\n",
       "      <th>...</th>\n",
       "      <td>...</td>\n",
       "      <td>...</td>\n",
       "    </tr>\n",
       "    <tr>\n",
       "      <th>78372</th>\n",
       "      <td>195936</td>\n",
       "      <td>0.0</td>\n",
       "    </tr>\n",
       "    <tr>\n",
       "      <th>78373</th>\n",
       "      <td>195937</td>\n",
       "      <td>0.0</td>\n",
       "    </tr>\n",
       "    <tr>\n",
       "      <th>78374</th>\n",
       "      <td>195938</td>\n",
       "      <td>0.0</td>\n",
       "    </tr>\n",
       "    <tr>\n",
       "      <th>78375</th>\n",
       "      <td>195939</td>\n",
       "      <td>0.0</td>\n",
       "    </tr>\n",
       "    <tr>\n",
       "      <th>78376</th>\n",
       "      <td>195940</td>\n",
       "      <td>1.0</td>\n",
       "    </tr>\n",
       "  </tbody>\n",
       "</table>\n",
       "<p>78377 rows × 2 columns</p>\n",
       "</div>"
      ],
      "text/plain": [
       "           id  Strength\n",
       "0      117564       0.0\n",
       "1      117565       0.0\n",
       "2      117566       0.0\n",
       "3      117567       0.0\n",
       "4      117568       0.0\n",
       "...       ...       ...\n",
       "78372  195936       0.0\n",
       "78373  195937       0.0\n",
       "78374  195938       0.0\n",
       "78375  195939       0.0\n",
       "78376  195940       1.0\n",
       "\n",
       "[78377 rows x 2 columns]"
      ]
     },
     "execution_count": 45,
     "metadata": {},
     "output_type": "execute_result"
    }
   ],
   "source": [
    "predict_knn = pd.DataFrame(predict_knn, columns=['Strength'], dtype=np.float32)\n",
    "submission_knn = pd.concat([ids, predict_knn], axis=1)\n",
    "submission_knn"
   ]
  },
  {
   "cell_type": "code",
   "execution_count": 46,
   "id": "ed0c35a8",
   "metadata": {
    "execution": {
     "iopub.execute_input": "2023-03-29T15:02:41.276097Z",
     "iopub.status.busy": "2023-03-29T15:02:41.275564Z",
     "iopub.status.idle": "2023-03-29T15:02:41.293528Z",
     "shell.execute_reply": "2023-03-29T15:02:41.292394Z"
    },
    "papermill": {
     "duration": 0.043391,
     "end_time": "2023-03-29T15:02:41.296335",
     "exception": false,
     "start_time": "2023-03-29T15:02:41.252944",
     "status": "completed"
    },
    "tags": []
   },
   "outputs": [
    {
     "data": {
      "text/html": [
       "<div>\n",
       "<style scoped>\n",
       "    .dataframe tbody tr th:only-of-type {\n",
       "        vertical-align: middle;\n",
       "    }\n",
       "\n",
       "    .dataframe tbody tr th {\n",
       "        vertical-align: top;\n",
       "    }\n",
       "\n",
       "    .dataframe thead th {\n",
       "        text-align: right;\n",
       "    }\n",
       "</style>\n",
       "<table border=\"1\" class=\"dataframe\">\n",
       "  <thead>\n",
       "    <tr style=\"text-align: right;\">\n",
       "      <th></th>\n",
       "      <th>id</th>\n",
       "      <th>Strength</th>\n",
       "    </tr>\n",
       "  </thead>\n",
       "  <tbody>\n",
       "    <tr>\n",
       "      <th>0</th>\n",
       "      <td>117564</td>\n",
       "      <td>0.0</td>\n",
       "    </tr>\n",
       "    <tr>\n",
       "      <th>1</th>\n",
       "      <td>117565</td>\n",
       "      <td>0.0</td>\n",
       "    </tr>\n",
       "    <tr>\n",
       "      <th>2</th>\n",
       "      <td>117566</td>\n",
       "      <td>0.0</td>\n",
       "    </tr>\n",
       "    <tr>\n",
       "      <th>3</th>\n",
       "      <td>117567</td>\n",
       "      <td>0.0</td>\n",
       "    </tr>\n",
       "    <tr>\n",
       "      <th>4</th>\n",
       "      <td>117568</td>\n",
       "      <td>0.0</td>\n",
       "    </tr>\n",
       "    <tr>\n",
       "      <th>...</th>\n",
       "      <td>...</td>\n",
       "      <td>...</td>\n",
       "    </tr>\n",
       "    <tr>\n",
       "      <th>78372</th>\n",
       "      <td>195936</td>\n",
       "      <td>0.0</td>\n",
       "    </tr>\n",
       "    <tr>\n",
       "      <th>78373</th>\n",
       "      <td>195937</td>\n",
       "      <td>0.0</td>\n",
       "    </tr>\n",
       "    <tr>\n",
       "      <th>78374</th>\n",
       "      <td>195938</td>\n",
       "      <td>0.0</td>\n",
       "    </tr>\n",
       "    <tr>\n",
       "      <th>78375</th>\n",
       "      <td>195939</td>\n",
       "      <td>0.0</td>\n",
       "    </tr>\n",
       "    <tr>\n",
       "      <th>78376</th>\n",
       "      <td>195940</td>\n",
       "      <td>1.0</td>\n",
       "    </tr>\n",
       "  </tbody>\n",
       "</table>\n",
       "<p>78377 rows × 2 columns</p>\n",
       "</div>"
      ],
      "text/plain": [
       "           id  Strength\n",
       "0      117564       0.0\n",
       "1      117565       0.0\n",
       "2      117566       0.0\n",
       "3      117567       0.0\n",
       "4      117568       0.0\n",
       "...       ...       ...\n",
       "78372  195936       0.0\n",
       "78373  195937       0.0\n",
       "78374  195938       0.0\n",
       "78375  195939       0.0\n",
       "78376  195940       1.0\n",
       "\n",
       "[78377 rows x 2 columns]"
      ]
     },
     "execution_count": 46,
     "metadata": {},
     "output_type": "execute_result"
    }
   ],
   "source": [
    "predict_ada = pd.DataFrame(predict_ada, columns=['Strength'], dtype=np.float32)\n",
    "submission_ada = pd.concat([ids, predict_ada], axis=1)\n",
    "submission_ada"
   ]
  },
  {
   "cell_type": "code",
   "execution_count": 47,
   "id": "f4293d48",
   "metadata": {
    "execution": {
     "iopub.execute_input": "2023-03-29T15:02:41.337937Z",
     "iopub.status.busy": "2023-03-29T15:02:41.337465Z",
     "iopub.status.idle": "2023-03-29T15:02:41.353855Z",
     "shell.execute_reply": "2023-03-29T15:02:41.352617Z"
    },
    "papermill": {
     "duration": 0.037801,
     "end_time": "2023-03-29T15:02:41.356285",
     "exception": false,
     "start_time": "2023-03-29T15:02:41.318484",
     "status": "completed"
    },
    "tags": []
   },
   "outputs": [
    {
     "data": {
      "text/html": [
       "<div>\n",
       "<style scoped>\n",
       "    .dataframe tbody tr th:only-of-type {\n",
       "        vertical-align: middle;\n",
       "    }\n",
       "\n",
       "    .dataframe tbody tr th {\n",
       "        vertical-align: top;\n",
       "    }\n",
       "\n",
       "    .dataframe thead th {\n",
       "        text-align: right;\n",
       "    }\n",
       "</style>\n",
       "<table border=\"1\" class=\"dataframe\">\n",
       "  <thead>\n",
       "    <tr style=\"text-align: right;\">\n",
       "      <th></th>\n",
       "      <th>id</th>\n",
       "      <th>Strength</th>\n",
       "    </tr>\n",
       "  </thead>\n",
       "  <tbody>\n",
       "    <tr>\n",
       "      <th>0</th>\n",
       "      <td>117564</td>\n",
       "      <td>0.0</td>\n",
       "    </tr>\n",
       "    <tr>\n",
       "      <th>1</th>\n",
       "      <td>117565</td>\n",
       "      <td>0.0</td>\n",
       "    </tr>\n",
       "    <tr>\n",
       "      <th>2</th>\n",
       "      <td>117566</td>\n",
       "      <td>0.0</td>\n",
       "    </tr>\n",
       "    <tr>\n",
       "      <th>3</th>\n",
       "      <td>117567</td>\n",
       "      <td>0.0</td>\n",
       "    </tr>\n",
       "    <tr>\n",
       "      <th>4</th>\n",
       "      <td>117568</td>\n",
       "      <td>0.0</td>\n",
       "    </tr>\n",
       "    <tr>\n",
       "      <th>...</th>\n",
       "      <td>...</td>\n",
       "      <td>...</td>\n",
       "    </tr>\n",
       "    <tr>\n",
       "      <th>78372</th>\n",
       "      <td>195936</td>\n",
       "      <td>0.0</td>\n",
       "    </tr>\n",
       "    <tr>\n",
       "      <th>78373</th>\n",
       "      <td>195937</td>\n",
       "      <td>0.0</td>\n",
       "    </tr>\n",
       "    <tr>\n",
       "      <th>78374</th>\n",
       "      <td>195938</td>\n",
       "      <td>0.0</td>\n",
       "    </tr>\n",
       "    <tr>\n",
       "      <th>78375</th>\n",
       "      <td>195939</td>\n",
       "      <td>0.0</td>\n",
       "    </tr>\n",
       "    <tr>\n",
       "      <th>78376</th>\n",
       "      <td>195940</td>\n",
       "      <td>1.0</td>\n",
       "    </tr>\n",
       "  </tbody>\n",
       "</table>\n",
       "<p>78377 rows × 2 columns</p>\n",
       "</div>"
      ],
      "text/plain": [
       "           id  Strength\n",
       "0      117564       0.0\n",
       "1      117565       0.0\n",
       "2      117566       0.0\n",
       "3      117567       0.0\n",
       "4      117568       0.0\n",
       "...       ...       ...\n",
       "78372  195936       0.0\n",
       "78373  195937       0.0\n",
       "78374  195938       0.0\n",
       "78375  195939       0.0\n",
       "78376  195940       1.0\n",
       "\n",
       "[78377 rows x 2 columns]"
      ]
     },
     "execution_count": 47,
     "metadata": {},
     "output_type": "execute_result"
    }
   ],
   "source": [
    "predict_xgb = pd.DataFrame(predict_xgb, columns=['Strength'], dtype=np.float32)\n",
    "submission_xgb = pd.concat([ids, predict_xgb], axis=1)\n",
    "submission_xgb"
   ]
  },
  {
   "cell_type": "code",
   "execution_count": 48,
   "id": "36fd7d0b",
   "metadata": {
    "execution": {
     "iopub.execute_input": "2023-03-29T15:02:41.393143Z",
     "iopub.status.busy": "2023-03-29T15:02:41.392737Z",
     "iopub.status.idle": "2023-03-29T15:02:41.762652Z",
     "shell.execute_reply": "2023-03-29T15:02:41.761420Z"
    },
    "papermill": {
     "duration": 0.392398,
     "end_time": "2023-03-29T15:02:41.766282",
     "exception": false,
     "start_time": "2023-03-29T15:02:41.373884",
     "status": "completed"
    },
    "tags": []
   },
   "outputs": [],
   "source": [
    "submission_knn.to_csv('/kaggle/working/submission_knn.csv', index=False)\n",
    "submission_ada.to_csv('/kaggle/working/submission_ada.csv', index=False)\n",
    "submission_xgb.to_csv('/kaggle/working/submission_xgb.csv', index=False)"
   ]
  }
 ],
 "metadata": {
  "kernelspec": {
   "display_name": "Python 3",
   "language": "python",
   "name": "python3"
  },
  "language_info": {
   "codemirror_mode": {
    "name": "ipython",
    "version": 3
   },
   "file_extension": ".py",
   "mimetype": "text/x-python",
   "name": "python",
   "nbconvert_exporter": "python",
   "pygments_lexer": "ipython3",
   "version": "3.7.12"
  },
  "papermill": {
   "default_parameters": {},
   "duration": 123.471743,
   "end_time": "2023-03-29T15:02:42.613566",
   "environment_variables": {},
   "exception": null,
   "input_path": "__notebook__.ipynb",
   "output_path": "__notebook__.ipynb",
   "parameters": {},
   "start_time": "2023-03-29T15:00:39.141823",
   "version": "2.4.0"
  }
 },
 "nbformat": 4,
 "nbformat_minor": 5
}
