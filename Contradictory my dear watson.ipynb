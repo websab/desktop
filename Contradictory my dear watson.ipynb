{
 "cells": [
  {
   "cell_type": "markdown",
   "id": "6696bcdd",
   "metadata": {
    "papermill": {
     "duration": 0.005829,
     "end_time": "2023-03-09T15:08:45.801017",
     "exception": false,
     "start_time": "2023-03-09T15:08:45.795188",
     "status": "completed"
    },
    "tags": []
   },
   "source": [
    "## Download library"
   ]
  },
  {
   "cell_type": "code",
   "execution_count": 2,
   "id": "10a337db",
   "metadata": {
    "execution": {
     "iopub.execute_input": "2023-03-09T15:08:45.814698Z",
     "iopub.status.busy": "2023-03-09T15:08:45.814379Z",
     "iopub.status.idle": "2023-03-09T15:09:05.318700Z",
     "shell.execute_reply": "2023-03-09T15:09:05.317563Z"
    },
    "papermill": {
     "duration": 19.51407,
     "end_time": "2023-03-09T15:09:05.321466",
     "exception": false,
     "start_time": "2023-03-09T15:08:45.807396",
     "status": "completed"
    },
    "tags": []
   },
   "outputs": [],
   "source": [
    "import numpy as np\n",
    "import pandas as pd\n",
    "import matplotlib.pyplot as plt\n",
    "from transformers import BertTokenizer, TFBertModel\n",
    "import tensorflow as tf"
   ]
  },
  {
   "cell_type": "markdown",
   "id": "36f4bf5c",
   "metadata": {
    "papermill": {
     "duration": 0.007131,
     "end_time": "2023-03-09T15:09:05.339168",
     "exception": false,
     "start_time": "2023-03-09T15:09:05.332037",
     "status": "completed"
    },
    "tags": []
   },
   "source": [
    "## Download data"
   ]
  },
  {
   "cell_type": "code",
   "execution_count": 3,
   "id": "e7d980f9",
   "metadata": {
    "execution": {
     "iopub.execute_input": "2023-03-09T15:09:05.355153Z",
     "iopub.status.busy": "2023-03-09T15:09:05.354498Z",
     "iopub.status.idle": "2023-03-09T15:09:05.461435Z",
     "shell.execute_reply": "2023-03-09T15:09:05.460337Z"
    },
    "papermill": {
     "duration": 0.117746,
     "end_time": "2023-03-09T15:09:05.464205",
     "exception": false,
     "start_time": "2023-03-09T15:09:05.346459",
     "status": "completed"
    },
    "tags": []
   },
   "outputs": [],
   "source": [
    "train = pd.read_csv('/train.csv')"
   ]
  },
  {
   "cell_type": "markdown",
   "id": "80cb37f6",
   "metadata": {
    "papermill": {
     "duration": 0.006025,
     "end_time": "2023-03-09T15:09:05.476737",
     "exception": false,
     "start_time": "2023-03-09T15:09:05.470712",
     "status": "completed"
    },
    "tags": []
   },
   "source": [
    "## Preliminary analyse"
   ]
  },
  {
   "cell_type": "code",
   "execution_count": 4,
   "id": "85e9e209",
   "metadata": {
    "execution": {
     "iopub.execute_input": "2023-03-09T15:09:05.491708Z",
     "iopub.status.busy": "2023-03-09T15:09:05.490868Z",
     "iopub.status.idle": "2023-03-09T15:09:05.527072Z",
     "shell.execute_reply": "2023-03-09T15:09:05.525505Z"
    },
    "papermill": {
     "duration": 0.046997,
     "end_time": "2023-03-09T15:09:05.530494",
     "exception": false,
     "start_time": "2023-03-09T15:09:05.483497",
     "status": "completed"
    },
    "tags": []
   },
   "outputs": [
    {
     "name": "stdout",
     "output_type": "stream",
     "text": [
      "<class 'pandas.core.frame.DataFrame'>\n",
      "RangeIndex: 12120 entries, 0 to 12119\n",
      "Data columns (total 6 columns):\n",
      " #   Column      Non-Null Count  Dtype \n",
      "---  ------      --------------  ----- \n",
      " 0   id          12120 non-null  object\n",
      " 1   premise     12120 non-null  object\n",
      " 2   hypothesis  12120 non-null  object\n",
      " 3   lang_abv    12120 non-null  object\n",
      " 4   language    12120 non-null  object\n",
      " 5   label       12120 non-null  int64 \n",
      "dtypes: int64(1), object(5)\n",
      "memory usage: 568.2+ KB\n"
     ]
    }
   ],
   "source": [
    "train.info()"
   ]
  },
  {
   "cell_type": "code",
   "execution_count": 5,
   "id": "a86912a4",
   "metadata": {
    "execution": {
     "iopub.execute_input": "2023-03-09T15:09:05.545206Z",
     "iopub.status.busy": "2023-03-09T15:09:05.544920Z",
     "iopub.status.idle": "2023-03-09T15:09:05.557686Z",
     "shell.execute_reply": "2023-03-09T15:09:05.556558Z"
    },
    "papermill": {
     "duration": 0.022265,
     "end_time": "2023-03-09T15:09:05.559976",
     "exception": false,
     "start_time": "2023-03-09T15:09:05.537711",
     "status": "completed"
    },
    "tags": []
   },
   "outputs": [
    {
     "data": {
      "text/plain": [
       "id            0\n",
       "premise       0\n",
       "hypothesis    0\n",
       "lang_abv      0\n",
       "language      0\n",
       "label         0\n",
       "dtype: int64"
      ]
     },
     "execution_count": 5,
     "metadata": {},
     "output_type": "execute_result"
    }
   ],
   "source": [
    "train.isna().sum()"
   ]
  },
  {
   "cell_type": "code",
   "execution_count": 6,
   "id": "2a024a20",
   "metadata": {
    "execution": {
     "iopub.execute_input": "2023-03-09T15:09:05.574429Z",
     "iopub.status.busy": "2023-03-09T15:09:05.573580Z",
     "iopub.status.idle": "2023-03-09T15:09:05.592954Z",
     "shell.execute_reply": "2023-03-09T15:09:05.591798Z"
    },
    "papermill": {
     "duration": 0.028993,
     "end_time": "2023-03-09T15:09:05.595149",
     "exception": false,
     "start_time": "2023-03-09T15:09:05.566156",
     "status": "completed"
    },
    "tags": []
   },
   "outputs": [
    {
     "data": {
      "text/html": [
       "<div>\n",
       "<style scoped>\n",
       "    .dataframe tbody tr th:only-of-type {\n",
       "        vertical-align: middle;\n",
       "    }\n",
       "\n",
       "    .dataframe tbody tr th {\n",
       "        vertical-align: top;\n",
       "    }\n",
       "\n",
       "    .dataframe thead th {\n",
       "        text-align: right;\n",
       "    }\n",
       "</style>\n",
       "<table border=\"1\" class=\"dataframe\">\n",
       "  <thead>\n",
       "    <tr style=\"text-align: right;\">\n",
       "      <th></th>\n",
       "      <th>id</th>\n",
       "      <th>premise</th>\n",
       "      <th>hypothesis</th>\n",
       "      <th>lang_abv</th>\n",
       "      <th>language</th>\n",
       "      <th>label</th>\n",
       "    </tr>\n",
       "  </thead>\n",
       "  <tbody>\n",
       "    <tr>\n",
       "      <th>4363</th>\n",
       "      <td>bd97228e37</td>\n",
       "      <td>Normally, these discussions are kept secret.</td>\n",
       "      <td>These discussions involve a secret plan to tak...</td>\n",
       "      <td>en</td>\n",
       "      <td>English</td>\n",
       "      <td>1</td>\n",
       "    </tr>\n",
       "    <tr>\n",
       "      <th>11299</th>\n",
       "      <td>b85f03e268</td>\n",
       "      <td>टाईम दो विरोधी भावनाओं के लेख चलाता है।</td>\n",
       "      <td>न्यूज़वीक चार बहुत भावनात्मक लेख लिखता है।</td>\n",
       "      <td>hi</td>\n",
       "      <td>Hindi</td>\n",
       "      <td>2</td>\n",
       "    </tr>\n",
       "    <tr>\n",
       "      <th>3075</th>\n",
       "      <td>4a56e9e885</td>\n",
       "      <td>¿No es extraño que no prestemos atención a uno...</td>\n",
       "      <td>¿No miramos algo tan increíble?</td>\n",
       "      <td>es</td>\n",
       "      <td>Spanish</td>\n",
       "      <td>0</td>\n",
       "    </tr>\n",
       "    <tr>\n",
       "      <th>3460</th>\n",
       "      <td>5e8caf2c41</td>\n",
       "      <td>The Throne Room is one of a series of apartmen...</td>\n",
       "      <td>The Throne Room is available for tours daily.</td>\n",
       "      <td>en</td>\n",
       "      <td>English</td>\n",
       "      <td>1</td>\n",
       "    </tr>\n",
       "    <tr>\n",
       "      <th>2146</th>\n",
       "      <td>a4939001a4</td>\n",
       "      <td>Номерът е да мисля за себе си по-малко като за...</td>\n",
       "      <td>Приемам подхода на спазване на закона и реда и...</td>\n",
       "      <td>bg</td>\n",
       "      <td>Bulgarian</td>\n",
       "      <td>2</td>\n",
       "    </tr>\n",
       "  </tbody>\n",
       "</table>\n",
       "</div>"
      ],
      "text/plain": [
       "               id                                            premise  \\\n",
       "4363   bd97228e37       Normally, these discussions are kept secret.   \n",
       "11299  b85f03e268            टाईम दो विरोधी भावनाओं के लेख चलाता है।   \n",
       "3075   4a56e9e885  ¿No es extraño que no prestemos atención a uno...   \n",
       "3460   5e8caf2c41  The Throne Room is one of a series of apartmen...   \n",
       "2146   a4939001a4  Номерът е да мисля за себе си по-малко като за...   \n",
       "\n",
       "                                              hypothesis lang_abv   language  \\\n",
       "4363   These discussions involve a secret plan to tak...       en    English   \n",
       "11299         न्यूज़वीक चार बहुत भावनात्मक लेख लिखता है।       hi      Hindi   \n",
       "3075                     ¿No miramos algo tan increíble?       es    Spanish   \n",
       "3460       The Throne Room is available for tours daily.       en    English   \n",
       "2146   Приемам подхода на спазване на закона и реда и...       bg  Bulgarian   \n",
       "\n",
       "       label  \n",
       "4363       1  \n",
       "11299      2  \n",
       "3075       0  \n",
       "3460       1  \n",
       "2146       2  "
      ]
     },
     "execution_count": 6,
     "metadata": {},
     "output_type": "execute_result"
    }
   ],
   "source": [
    "train.sample(5)"
   ]
  },
  {
   "cell_type": "code",
   "execution_count": 7,
   "id": "0857a99e",
   "metadata": {
    "execution": {
     "iopub.execute_input": "2023-03-09T15:09:05.609328Z",
     "iopub.status.busy": "2023-03-09T15:09:05.608790Z",
     "iopub.status.idle": "2023-03-09T15:09:05.616789Z",
     "shell.execute_reply": "2023-03-09T15:09:05.615735Z"
    },
    "papermill": {
     "duration": 0.017568,
     "end_time": "2023-03-09T15:09:05.619123",
     "exception": false,
     "start_time": "2023-03-09T15:09:05.601555",
     "status": "completed"
    },
    "tags": []
   },
   "outputs": [
    {
     "data": {
      "text/plain": [
       "English       6870\n",
       "Chinese        411\n",
       "Arabic         401\n",
       "French         390\n",
       "Swahili        385\n",
       "Urdu           381\n",
       "Vietnamese     379\n",
       "Russian        376\n",
       "Hindi          374\n",
       "Greek          372\n",
       "Thai           371\n",
       "Spanish        366\n",
       "Turkish        351\n",
       "German         351\n",
       "Bulgarian      342\n",
       "Name: language, dtype: int64"
      ]
     },
     "execution_count": 7,
     "metadata": {},
     "output_type": "execute_result"
    }
   ],
   "source": [
    "train.language.value_counts()"
   ]
  },
  {
   "cell_type": "code",
   "execution_count": 8,
   "id": "ecc92e6a",
   "metadata": {
    "execution": {
     "iopub.execute_input": "2023-03-09T15:09:05.634539Z",
     "iopub.status.busy": "2023-03-09T15:09:05.633969Z",
     "iopub.status.idle": "2023-03-09T15:09:05.977288Z",
     "shell.execute_reply": "2023-03-09T15:09:05.976340Z"
    },
    "papermill": {
     "duration": 0.353029,
     "end_time": "2023-03-09T15:09:05.979339",
     "exception": false,
     "start_time": "2023-03-09T15:09:05.626310",
     "status": "completed"
    },
    "tags": []
   },
   "outputs": [
    {
     "data": {
      "image/png": "[encoded data removed]",
      "text/plain": [
       "<Figure size 640x480 with 1 Axes>"
      ]
     },
     "metadata": {},
     "output_type": "display_data"
    }
   ],
   "source": [
    "plt.hist(train.language, bins=50, color='green')\n",
    "plt.xticks(rotation=75, horizontalalignment=\"right\")\n",
    "plt.show()"
   ]
  },
  {
   "cell_type": "code",
   "execution_count": 9,
   "id": "61e45e6f",
   "metadata": {
    "execution": {
     "iopub.execute_input": "2023-03-09T15:09:05.995630Z",
     "iopub.status.busy": "2023-03-09T15:09:05.994751Z",
     "iopub.status.idle": "2023-03-09T15:09:06.004421Z",
     "shell.execute_reply": "2023-03-09T15:09:06.003501Z"
    },
    "papermill": {
     "duration": 0.020047,
     "end_time": "2023-03-09T15:09:06.006679",
     "exception": false,
     "start_time": "2023-03-09T15:09:05.986632",
     "status": "completed"
    },
    "tags": []
   },
   "outputs": [
    {
     "data": {
      "text/plain": [
       "0    4176\n",
       "2    4064\n",
       "1    3880\n",
       "Name: label, dtype: int64"
      ]
     },
     "execution_count": 9,
     "metadata": {},
     "output_type": "execute_result"
    }
   ],
   "source": [
    "train.label.value_counts()"
   ]
  },
  {
   "cell_type": "code",
   "execution_count": 10,
   "id": "ce9fe786",
   "metadata": {
    "execution": {
     "iopub.execute_input": "2023-03-09T15:09:06.023733Z",
     "iopub.status.busy": "2023-03-09T15:09:06.022813Z",
     "iopub.status.idle": "2023-03-09T15:09:06.245313Z",
     "shell.execute_reply": "2023-03-09T15:09:06.244405Z"
    },
    "papermill": {
     "duration": 0.233494,
     "end_time": "2023-03-09T15:09:06.247655",
     "exception": false,
     "start_time": "2023-03-09T15:09:06.014161",
     "status": "completed"
    },
    "tags": []
   },
   "outputs": [
    {
     "data": {
      "image/png": "[encoded data removed]",
      "text/plain": [
       "<Figure size 640x480 with 1 Axes>"
      ]
     },
     "metadata": {},
     "output_type": "display_data"
    }
   ],
   "source": [
    "plt.hist(train.label, bins=5, color='green')\n",
    "plt.show()"
   ]
  },
  {
   "cell_type": "code",
   "execution_count": 11,
   "id": "06022c2c",
   "metadata": {
    "execution": {
     "iopub.execute_input": "2023-03-09T15:09:06.264394Z",
     "iopub.status.busy": "2023-03-09T15:09:06.264111Z",
     "iopub.status.idle": "2023-03-09T15:09:06.274122Z",
     "shell.execute_reply": "2023-03-09T15:09:06.272983Z"
    },
    "papermill": {
     "duration": 0.020974,
     "end_time": "2023-03-09T15:09:06.276469",
     "exception": false,
     "start_time": "2023-03-09T15:09:06.255495",
     "status": "completed"
    },
    "tags": []
   },
   "outputs": [
    {
     "data": {
      "text/plain": [
       "'The four Javis children? asked Severn.'"
      ]
     },
     "execution_count": 11,
     "metadata": {},
     "output_type": "execute_result"
    }
   ],
   "source": [
    "train.loc[train['lang_abv']=='en']['premise'].values[23]"
   ]
  },
  {
   "cell_type": "code",
   "execution_count": 12,
   "id": "7a8b1796",
   "metadata": {
    "execution": {
     "iopub.execute_input": "2023-03-09T15:09:06.292909Z",
     "iopub.status.busy": "2023-03-09T15:09:06.292615Z",
     "iopub.status.idle": "2023-03-09T15:09:06.302340Z",
     "shell.execute_reply": "2023-03-09T15:09:06.301277Z"
    },
    "papermill": {
     "duration": 0.020596,
     "end_time": "2023-03-09T15:09:06.304683",
     "exception": false,
     "start_time": "2023-03-09T15:09:06.284087",
     "status": "completed"
    },
    "tags": []
   },
   "outputs": [
    {
     "data": {
      "text/plain": [
       "'Severn knows everything about the Jarvis children.'"
      ]
     },
     "execution_count": 12,
     "metadata": {},
     "output_type": "execute_result"
    }
   ],
   "source": [
    "train.loc[train['lang_abv']=='en']['hypothesis'].values[23]"
   ]
  },
  {
   "cell_type": "code",
   "execution_count": 13,
   "id": "8e74e5da",
   "metadata": {
    "execution": {
     "iopub.execute_input": "2023-03-09T15:09:06.321453Z",
     "iopub.status.busy": "2023-03-09T15:09:06.321161Z",
     "iopub.status.idle": "2023-03-09T15:09:06.329767Z",
     "shell.execute_reply": "2023-03-09T15:09:06.328748Z"
    },
    "papermill": {
     "duration": 0.01934,
     "end_time": "2023-03-09T15:09:06.331976",
     "exception": false,
     "start_time": "2023-03-09T15:09:06.312636",
     "status": "completed"
    },
    "tags": []
   },
   "outputs": [
    {
     "data": {
      "text/plain": [
       "1"
      ]
     },
     "execution_count": 13,
     "metadata": {},
     "output_type": "execute_result"
    }
   ],
   "source": [
    "train.loc[train['lang_abv']=='en']['label'].values[23]"
   ]
  },
  {
   "cell_type": "markdown",
   "id": "0f19d476",
   "metadata": {
    "papermill": {
     "duration": 0.007699,
     "end_time": "2023-03-09T15:09:06.347494",
     "exception": false,
     "start_time": "2023-03-09T15:09:06.339795",
     "status": "completed"
    },
    "tags": []
   },
   "source": [
    "## Preparing data for input"
   ]
  },
  {
   "cell_type": "code",
   "execution_count": 14,
   "id": "a86dc272",
   "metadata": {
    "execution": {
     "iopub.execute_input": "2023-03-09T15:09:06.365539Z",
     "iopub.status.busy": "2023-03-09T15:09:06.365197Z",
     "iopub.status.idle": "2023-03-09T15:09:07.948298Z",
     "shell.execute_reply": "2023-03-09T15:09:07.947225Z"
    },
    "papermill": {
     "duration": 1.594915,
     "end_time": "2023-03-09T15:09:07.951154",
     "exception": false,
     "start_time": "2023-03-09T15:09:06.356239",
     "status": "completed"
    },
    "tags": []
   },
   "outputs": [
    {
     "data": {
      "application/vnd.jupyter.widget-view+json": {
       "model_id": "40c6256b6b0f47b5bacdb65a5a60632c",
       "version_major": 2,
       "version_minor": 0
      },
      "text/plain": [
       "Downloading (…)solve/main/vocab.txt:   0%|          | 0.00/996k [00:00<?, ?B/s]"
      ]
     },
     "metadata": {},
     "output_type": "display_data"
    },
    {
     "data": {
      "application/vnd.jupyter.widget-view+json": {
       "model_id": "f610242a30ad4293bca4467bde1100e7",
       "version_major": 2,
       "version_minor": 0
      },
      "text/plain": [
       "Downloading (…)okenizer_config.json:   0%|          | 0.00/29.0 [00:00<?, ?B/s]"
      ]
     },
     "metadata": {},
     "output_type": "display_data"
    },
    {
     "data": {
      "application/vnd.jupyter.widget-view+json": {
       "model_id": "8c5a507e0dec40f39ff9150567ad0009",
       "version_major": 2,
       "version_minor": 0
      },
      "text/plain": [
       "Downloading (…)lve/main/config.json:   0%|          | 0.00/625 [00:00<?, ?B/s]"
      ]
     },
     "metadata": {},
     "output_type": "display_data"
    }
   ],
   "source": [
    "model_name = 'bert-base-multilingual-cased'\n",
    "tokenizer = BertTokenizer.from_pretrained(model_name)"
   ]
  },
  {
   "cell_type": "code",
   "execution_count": 15,
   "id": "6dbe5143",
   "metadata": {
    "execution": {
     "iopub.execute_input": "2023-03-09T15:09:07.969920Z",
     "iopub.status.busy": "2023-03-09T15:09:07.968960Z",
     "iopub.status.idle": "2023-03-09T15:09:07.974533Z",
     "shell.execute_reply": "2023-03-09T15:09:07.973428Z"
    },
    "papermill": {
     "duration": 0.017137,
     "end_time": "2023-03-09T15:09:07.976897",
     "exception": false,
     "start_time": "2023-03-09T15:09:07.959760",
     "status": "completed"
    },
    "tags": []
   },
   "outputs": [],
   "source": [
    "def encode_sentence(s):\n",
    "    tokens = list(tokenizer.tokenize(s))\n",
    "    tokens.append('[SEP]')\n",
    "    return tokenizer.convert_tokens_to_ids(tokens)"
   ]
  },
  {
   "cell_type": "code",
   "execution_count": 16,
   "id": "b4c5cf3d",
   "metadata": {
    "execution": {
     "iopub.execute_input": "2023-03-09T15:09:07.994720Z",
     "iopub.status.busy": "2023-03-09T15:09:07.993930Z",
     "iopub.status.idle": "2023-03-09T15:09:08.002157Z",
     "shell.execute_reply": "2023-03-09T15:09:08.000982Z"
    },
    "papermill": {
     "duration": 0.019291,
     "end_time": "2023-03-09T15:09:08.004148",
     "exception": false,
     "start_time": "2023-03-09T15:09:07.984857",
     "status": "completed"
    },
    "tags": []
   },
   "outputs": [],
   "source": [
    "def bert_encode(premises,hypotheses,tokenizer):\n",
    "    \n",
    "    num_examples = len(hypotheses)\n",
    "\n",
    "    sentence1 = tf.ragged.constant([encode_sentence(s) for s in np.array(hypotheses)])\n",
    "    sentence2 = tf.ragged.constant([encode_sentence(s) for s in np.array(premises)])\n",
    "\n",
    "    cls = [tokenizer.convert_tokens_to_ids(['[CLS]'])]*sentence1.shape[0]\n",
    "    input_word_ids = tf.concat([cls, sentence1, sentence2], axis=-1)\n",
    "\n",
    "    input_mask = tf.ones_like(input_word_ids).to_tensor()\n",
    "\n",
    "    type_cls = tf.zeros_like(cls)\n",
    "    type_s1 = tf.zeros_like(sentence1)\n",
    "    type_s2 = tf.ones_like(sentence2)\n",
    "    input_type_ids = tf.concat([type_cls, type_s1, type_s2], axis=-1).to_tensor()\n",
    "\n",
    "    inputs = {\n",
    "        'input_word_ids': input_word_ids.to_tensor(),\n",
    "        'input_mask': input_mask,\n",
    "        'input_type_ids': input_type_ids}\n",
    "\n",
    "    return inputs"
   ]
  },
  {
   "cell_type": "code",
   "execution_count": 17,
   "id": "9d17b14c",
   "metadata": {
    "execution": {
     "iopub.execute_input": "2023-03-09T15:09:08.022087Z",
     "iopub.status.busy": "2023-03-09T15:09:08.021784Z",
     "iopub.status.idle": "2023-03-09T15:09:30.343845Z",
     "shell.execute_reply": "2023-03-09T15:09:30.342667Z"
    },
    "papermill": {
     "duration": 22.334356,
     "end_time": "2023-03-09T15:09:30.346796",
     "exception": false,
     "start_time": "2023-03-09T15:09:08.012440",
     "status": "completed"
    },
    "tags": []
   },
   "outputs": [],
   "source": [
    "train_input = bert_encode(train.premise.values, train.hypothesis.values, tokenizer)"
   ]
  },
  {
   "cell_type": "code",
   "execution_count": 18,
   "id": "ae5f0671",
   "metadata": {
    "execution": {
     "iopub.execute_input": "2023-03-09T15:09:30.366790Z",
     "iopub.status.busy": "2023-03-09T15:09:30.365608Z",
     "iopub.status.idle": "2023-03-09T15:09:30.377484Z",
     "shell.execute_reply": "2023-03-09T15:09:30.376389Z"
    },
    "papermill": {
     "duration": 0.024322,
     "end_time": "2023-03-09T15:09:30.380066",
     "exception": false,
     "start_time": "2023-03-09T15:09:30.355744",
     "status": "completed"
    },
    "tags": []
   },
   "outputs": [
    {
     "data": {
      "text/plain": [
       "{'input_word_ids': <tf.Tensor: shape=(12120, 259), dtype=int32, numpy=\n",
       " array([[  101, 10117, 23123, ...,     0,     0,     0],\n",
       "        [  101, 46184, 15647, ...,     0,     0,     0],\n",
       "        [  101,   147,   112, ...,     0,     0,     0],\n",
       "        ...,\n",
       "        [  101, 10377, 25259, ...,     0,     0,     0],\n",
       "        [  101, 10117, 13192, ...,     0,     0,     0],\n",
       "        [  101, 68795, 15698, ...,     0,     0,     0]], dtype=int32)>,\n",
       " 'input_mask': <tf.Tensor: shape=(12120, 259), dtype=int32, numpy=\n",
       " array([[1, 1, 1, ..., 0, 0, 0],\n",
       "        [1, 1, 1, ..., 0, 0, 0],\n",
       "        [1, 1, 1, ..., 0, 0, 0],\n",
       "        ...,\n",
       "        [1, 1, 1, ..., 0, 0, 0],\n",
       "        [1, 1, 1, ..., 0, 0, 0],\n",
       "        [1, 1, 1, ..., 0, 0, 0]], dtype=int32)>,\n",
       " 'input_type_ids': <tf.Tensor: shape=(12120, 259), dtype=int32, numpy=\n",
       " array([[0, 0, 0, ..., 0, 0, 0],\n",
       "        [0, 0, 0, ..., 0, 0, 0],\n",
       "        [0, 0, 0, ..., 0, 0, 0],\n",
       "        ...,\n",
       "        [0, 0, 0, ..., 0, 0, 0],\n",
       "        [0, 0, 0, ..., 0, 0, 0],\n",
       "        [0, 0, 0, ..., 0, 0, 0]], dtype=int32)>}"
      ]
     },
     "execution_count": 18,
     "metadata": {},
     "output_type": "execute_result"
    }
   ],
   "source": [
    "train_input"
   ]
  },
  {
   "cell_type": "code",
   "execution_count": 19,
   "id": "46112bdb",
   "metadata": {
    "execution": {
     "iopub.execute_input": "2023-03-09T15:09:30.399726Z",
     "iopub.status.busy": "2023-03-09T15:09:30.398079Z",
     "iopub.status.idle": "2023-03-09T15:09:30.406544Z",
     "shell.execute_reply": "2023-03-09T15:09:30.405669Z"
    },
    "papermill": {
     "duration": 0.019908,
     "end_time": "2023-03-09T15:09:30.408592",
     "exception": false,
     "start_time": "2023-03-09T15:09:30.388684",
     "status": "completed"
    },
    "tags": []
   },
   "outputs": [],
   "source": [
    "def build_model():\n",
    "    bert_encoder = TFBertModel.from_pretrained(model_name)\n",
    "    input_word_ids = tf.keras.Input(shape = (None,),dtype=tf.int32, name=\"input_word_ids\")\n",
    "    input_mask = tf.keras.Input(shape = (None,),dtype=tf.int32, name=\"input_mask\")\n",
    "    input_type_ids = tf.keras.Input(shape = (None,),dtype=tf.int32, name=\"input_type_ids\")\n",
    "    \n",
    "    embedding = bert_encoder([input_word_ids, input_mask, input_type_ids])[0]\n",
    "    output = tf.keras.layers.Dense(3, activation='softmax')(embedding[:,0,:])\n",
    "    \n",
    "    model = tf.keras.Model(inputs=[input_word_ids, input_mask, input_type_ids], outputs=output)\n",
    "    model.compile(tf.keras.optimizers.Adam(lr=1e-5), loss='sparse_categorical_crossentropy', metrics=['accuracy'])\n",
    "    \n",
    "    return model"
   ]
  },
  {
   "cell_type": "code",
   "execution_count": 20,
   "id": "820c640c",
   "metadata": {
    "execution": {
     "iopub.execute_input": "2023-03-09T15:09:30.426664Z",
     "iopub.status.busy": "2023-03-09T15:09:30.426369Z",
     "iopub.status.idle": "2023-03-09T15:09:48.748897Z",
     "shell.execute_reply": "2023-03-09T15:09:48.748097Z"
    },
    "papermill": {
     "duration": 18.338426,
     "end_time": "2023-03-09T15:09:48.755011",
     "exception": false,
     "start_time": "2023-03-09T15:09:30.416585",
     "status": "completed"
    },
    "tags": []
   },
   "outputs": [
    {
     "data": {
      "application/vnd.jupyter.widget-view+json": {
       "model_id": "4eaf7b6945b44a96ad3bf44ff4463327",
       "version_major": 2,
       "version_minor": 0
      },
      "text/plain": [
       "Downloading (…)\"tf_model.h5\";:   0%|          | 0.00/1.08G [00:00<?, ?B/s]"
      ]
     },
     "metadata": {},
     "output_type": "display_data"
    },
    {
     "name": "stderr",
     "output_type": "stream",
     "text": [
      "Some layers from the model checkpoint at bert-base-multilingual-cased were not used when initializing TFBertModel: ['nsp___cls', 'mlm___cls']\n",
      "- This IS expected if you are initializing TFBertModel from the checkpoint of a model trained on another task or with another architecture (e.g. initializing a BertForSequenceClassification model from a BertForPreTraining model).\n",
      "- This IS NOT expected if you are initializing TFBertModel from the checkpoint of a model that you expect to be exactly identical (initializing a BertForSequenceClassification model from a BertForSequenceClassification model).\n",
      "All the layers of TFBertModel were initialized from the model checkpoint at bert-base-multilingual-cased.\n",
      "If your task is similar to the task the model of the checkpoint was trained on, you can already use TFBertModel for predictions without further training.\n"
     ]
    },
    {
     "name": "stdout",
     "output_type": "stream",
     "text": [
      "Model: \"model\"\n",
      "__________________________________________________________________________________________________\n",
      " Layer (type)                   Output Shape         Param #     Connected to                     \n",
      "==================================================================================================\n",
      " input_word_ids (InputLayer)    [(None, None)]       0           []                               \n",
      "                                                                                                  \n",
      " input_mask (InputLayer)        [(None, None)]       0           []                               \n",
      "                                                                                                  \n",
      " input_type_ids (InputLayer)    [(None, None)]       0           []                               \n",
      "                                                                                                  \n",
      " tf_bert_model (TFBertModel)    TFBaseModelOutputWi  177853440   ['input_word_ids[0][0]',         \n",
      "                                thPoolingAndCrossAt               'input_mask[0][0]',             \n",
      "                                tentions(last_hidde               'input_type_ids[0][0]']         \n",
      "                                n_state=(None, None                                               \n",
      "                                , 768),                                                           \n",
      "                                 pooler_output=(Non                                               \n",
      "                                e, 768),                                                          \n",
      "                                 past_key_values=No                                               \n",
      "                                ne, hidden_states=N                                               \n",
      "                                one, attentions=Non                                               \n",
      "                                e, cross_attentions                                               \n",
      "                                =None)                                                            \n",
      "                                                                                                  \n",
      " tf.__operators__.getitem (Slic  (None, 768)         0           ['tf_bert_model[0][0]']          \n",
      " ingOpLambda)                                                                                     \n",
      "                                                                                                  \n",
      " dense (Dense)                  (None, 3)            2307        ['tf.__operators__.getitem[0][0]'\n",
      "                                                                 ]                                \n",
      "                                                                                                  \n",
      "==================================================================================================\n",
      "Total params: 177,855,747\n",
      "Trainable params: 177,855,747\n",
      "Non-trainable params: 0\n",
      "__________________________________________________________________________________________________\n"
     ]
    }
   ],
   "source": [
    "model = build_model()\n",
    "model.summary()"
   ]
  },
  {
   "cell_type": "code",
   "execution_count": 21,
   "id": "0beeb26b",
   "metadata": {
    "execution": {
     "iopub.execute_input": "2023-03-09T15:09:48.777641Z",
     "iopub.status.busy": "2023-03-09T15:09:48.777318Z",
     "iopub.status.idle": "2023-03-09T15:29:18.854693Z",
     "shell.execute_reply": "2023-03-09T15:29:18.853515Z"
    },
    "papermill": {
     "duration": 1170.1661,
     "end_time": "2023-03-09T15:29:18.932536",
     "exception": false,
     "start_time": "2023-03-09T15:09:48.766436",
     "status": "completed"
    },
    "tags": []
   },
   "outputs": [
    {
     "name": "stdout",
     "output_type": "stream",
     "text": [
      "Epoch 1/2\n",
      "606/606 [==============================] - 622s 964ms/step - loss: 1.2015 - accuracy: 0.3378 - val_loss: 1.1133 - val_accuracy: 0.3449\n",
      "Epoch 2/2\n",
      "606/606 [==============================] - 548s 905ms/step - loss: 1.1233 - accuracy: 0.3376 - val_loss: 1.1073 - val_accuracy: 0.3441\n"
     ]
    },
    {
     "data": {
      "text/plain": [
       "<keras.callbacks.History at 0x7f53a4133610>"
      ]
     },
     "execution_count": 21,
     "metadata": {},
     "output_type": "execute_result"
    }
   ],
   "source": [
    "model.fit(train_input, train.label.values, epochs = 2, verbose = 1, batch_size = 16, validation_split = 0.2)"
   ]
  },
  {
   "cell_type": "code",
   "execution_count": 22,
   "id": "688456ed",
   "metadata": {
    "execution": {
     "iopub.execute_input": "2023-03-09T15:29:19.086596Z",
     "iopub.status.busy": "2023-03-09T15:29:19.086241Z",
     "iopub.status.idle": "2023-03-09T15:29:23.971022Z",
     "shell.execute_reply": "2023-03-09T15:29:23.969956Z"
    },
    "papermill": {
     "duration": 4.963384,
     "end_time": "2023-03-09T15:29:23.973784",
     "exception": false,
     "start_time": "2023-03-09T15:29:19.010400",
     "status": "completed"
    },
    "tags": []
   },
   "outputs": [],
   "source": [
    "test = pd.read_csv('test.csv')\n",
    "test_input = bert_encode(test.premise.values, test.hypothesis.values, tokenizer)"
   ]
  },
  {
   "cell_type": "code",
   "execution_count": 23,
   "id": "6d73ea8c",
   "metadata": {
    "execution": {
     "iopub.execute_input": "2023-03-09T15:29:24.184979Z",
     "iopub.status.busy": "2023-03-09T15:29:24.184061Z",
     "iopub.status.idle": "2023-03-09T15:30:49.033220Z",
     "shell.execute_reply": "2023-03-09T15:30:49.032115Z"
    },
    "papermill": {
     "duration": 84.933092,
     "end_time": "2023-03-09T15:30:49.035970",
     "exception": false,
     "start_time": "2023-03-09T15:29:24.102878",
     "status": "completed"
    },
    "tags": []
   },
   "outputs": [
    {
     "name": "stdout",
     "output_type": "stream",
     "text": [
      "163/163 [==============================] - 83s 489ms/step\n"
     ]
    }
   ],
   "source": [
    "predictions = [np.argmax(i) for i in model.predict(test_input)]"
   ]
  },
  {
   "cell_type": "code",
   "execution_count": 24,
   "id": "a854ea8f",
   "metadata": {
    "execution": {
     "iopub.execute_input": "2023-03-09T15:30:49.202426Z",
     "iopub.status.busy": "2023-03-09T15:30:49.201791Z",
     "iopub.status.idle": "2023-03-09T15:30:49.210550Z",
     "shell.execute_reply": "2023-03-09T15:30:49.208979Z"
    },
    "papermill": {
     "duration": 0.093372,
     "end_time": "2023-03-09T15:30:49.212722",
     "exception": false,
     "start_time": "2023-03-09T15:30:49.119350",
     "status": "completed"
    },
    "tags": []
   },
   "outputs": [],
   "source": [
    "submission = test.id.copy().to_frame()\n",
    "submission['prediction'] = predictions"
   ]
  },
  {
   "cell_type": "code",
   "execution_count": 25,
   "id": "b752e97f",
   "metadata": {
    "execution": {
     "iopub.execute_input": "2023-03-09T15:30:49.378324Z",
     "iopub.status.busy": "2023-03-09T15:30:49.377985Z",
     "iopub.status.idle": "2023-03-09T15:30:49.394931Z",
     "shell.execute_reply": "2023-03-09T15:30:49.393867Z"
    },
    "papermill": {
     "duration": 0.103781,
     "end_time": "2023-03-09T15:30:49.397117",
     "exception": false,
     "start_time": "2023-03-09T15:30:49.293336",
     "status": "completed"
    },
    "tags": []
   },
   "outputs": [],
   "source": [
    "submission.to_csv(\"submission.csv\", index = False)"
   ]
  },
  {
   "cell_type": "code",
   "execution_count": null,
   "id": "e006f794",
   "metadata": {
    "papermill": {
     "duration": 0.087388,
     "end_time": "2023-03-09T15:30:49.569212",
     "exception": false,
     "start_time": "2023-03-09T15:30:49.481824",
     "status": "completed"
    },
    "tags": []
   },
   "outputs": [],
   "source": []
  }
 ],
 "metadata": {
  "kernelspec": {
   "display_name": "Python 3 (ipykernel)",
   "language": "python",
   "name": "python3"
  },
  "language_info": {
   "codemirror_mode": {
    "name": "ipython",
    "version": 3
   },
   "file_extension": ".py",
   "mimetype": "text/x-python",
   "name": "python",
   "nbconvert_exporter": "python",
   "pygments_lexer": "ipython3",
   "version": "3.9.13"
  },
  "papermill": {
   "default_parameters": {},
   "duration": 1340.68218,
   "end_time": "2023-03-09T15:30:53.119172",
   "environment_variables": {},
   "exception": null,
   "input_path": "__notebook__.ipynb",
   "output_path": "__notebook__.ipynb",
   "parameters": {},
   "start_time": "2023-03-09T15:08:32.436992",
   "version": "2.4.0"
  },
  "widgets": {
   "application/vnd.jupyter.widget-state+json": {
    "state": {
     "0cea43f943174b778c217cf8d7f22734": {
      "model_module": "@jupyter-widgets/base",
      "model_module_version": "1.2.0",
      "model_name": "LayoutModel",
      "state": {
       "_model_module": "@jupyter-widgets/base",
       "_model_module_version": "1.2.0",
       "_model_name": "LayoutModel",
       "_view_count": null,
       "_view_module": "@jupyter-widgets/base",
       "_view_module_version": "1.2.0",
       "_view_name": "LayoutView",
       "align_content": null,
       "align_items": null,
       "align_self": null,
       "border": null,
       "bottom": null,
       "display": null,
       "flex": null,
       "flex_flow": null,
       "grid_area": null,
       "grid_auto_columns": null,
       "grid_auto_flow": null,
       "grid_auto_rows": null,
       "grid_column": null,
       "grid_gap": null,
       "grid_row": null,
       "grid_template_areas": null,
       "grid_template_columns": null,
       "grid_template_rows": null,
       "height": null,
       "justify_content": null,
       "justify_items": null,
       "left": null,
       "margin": null,
       "max_height": null,
       "max_width": null,
       "min_height": null,
       "min_width": null,
       "object_fit": null,
       "object_position": null,
       "order": null,
       "overflow": null,
       "overflow_x": null,
       "overflow_y": null,
       "padding": null,
       "right": null,
       "top": null,
       "visibility": null,
       "width": null
      }
     },
     "1065b79ffd114dda8f3c3e12ef205f15": {
      "model_module": "@jupyter-widgets/base",
      "model_module_version": "1.2.0",
      "model_name": "LayoutModel",
      "state": {
       "_model_module": "@jupyter-widgets/base",
       "_model_module_version": "1.2.0",
       "_model_name": "LayoutModel",
       "_view_count": null,
       "_view_module": "@jupyter-widgets/base",
       "_view_module_version": "1.2.0",
       "_view_name": "LayoutView",
       "align_content": null,
       "align_items": null,
       "align_self": null,
       "border": null,
       "bottom": null,
       "display": null,
       "flex": null,
       "flex_flow": null,
       "grid_area": null,
       "grid_auto_columns": null,
       "grid_auto_flow": null,
       "grid_auto_rows": null,
       "grid_column": null,
       "grid_gap": null,
       "grid_row": null,
       "grid_template_areas": null,
       "grid_template_columns": null,
       "grid_template_rows": null,
       "height": null,
       "justify_content": null,
       "justify_items": null,
       "left": null,
       "margin": null,
       "max_height": null,
       "max_width": null,
       "min_height": null,
       "min_width": null,
       "object_fit": null,
       "object_position": null,
       "order": null,
       "overflow": null,
       "overflow_x": null,
       "overflow_y": null,
       "padding": null,
       "right": null,
       "top": null,
       "visibility": null,
       "width": null
      }
     },
     "19eed2f07b4b4afe96cc66cea3ae4d0f": {
      "model_module": "@jupyter-widgets/controls",
      "model_module_version": "1.5.0",
      "model_name": "DescriptionStyleModel",
      "state": {
       "_model_module": "@jupyter-widgets/controls",
       "_model_module_version": "1.5.0",
       "_model_name": "DescriptionStyleModel",
       "_view_count": null,
       "_view_module": "@jupyter-widgets/base",
       "_view_module_version": "1.2.0",
       "_view_name": "StyleView",
       "description_width": ""
      }
     },
     "1bfa7cc598c944d5a9c4789278dc06d5": {
      "model_module": "@jupyter-widgets/controls",
      "model_module_version": "1.5.0",
      "model_name": "FloatProgressModel",
      "state": {
       "_dom_classes": [],
       "_model_module": "@jupyter-widgets/controls",
       "_model_module_version": "1.5.0",
       "_model_name": "FloatProgressModel",
       "_view_count": null,
       "_view_module": "@jupyter-widgets/controls",
       "_view_module_version": "1.5.0",
       "_view_name": "ProgressView",
       "bar_style": "success",
       "description": "",
       "description_tooltip": null,
       "layout": "IPY_MODEL_e6228623c6524f209f943fd1295cf5dd",
       "max": 29,
       "min": 0,
       "orientation": "horizontal",
       "style": "IPY_MODEL_ba35963ceffc40b8abb1b85768e34353",
       "value": 29
      }
     },
     "22fb7def232b42218832ee1e01de56f9": {
      "model_module": "@jupyter-widgets/controls",
      "model_module_version": "1.5.0",
      "model_name": "DescriptionStyleModel",
      "state": {
       "_model_module": "@jupyter-widgets/controls",
       "_model_module_version": "1.5.0",
       "_model_name": "DescriptionStyleModel",
       "_view_count": null,
       "_view_module": "@jupyter-widgets/base",
       "_view_module_version": "1.2.0",
       "_view_name": "StyleView",
       "description_width": ""
      }
     },
     "2fe1caac09a549cb9326c8be7968e614": {
      "model_module": "@jupyter-widgets/base",
      "model_module_version": "1.2.0",
      "model_name": "LayoutModel",
      "state": {
       "_model_module": "@jupyter-widgets/base",
       "_model_module_version": "1.2.0",
       "_model_name": "LayoutModel",
       "_view_count": null,
       "_view_module": "@jupyter-widgets/base",
       "_view_module_version": "1.2.0",
       "_view_name": "LayoutView",
       "align_content": null,
       "align_items": null,
       "align_self": null,
       "border": null,
       "bottom": null,
       "display": null,
       "flex": null,
       "flex_flow": null,
       "grid_area": null,
       "grid_auto_columns": null,
       "grid_auto_flow": null,
       "grid_auto_rows": null,
       "grid_column": null,
       "grid_gap": null,
       "grid_row": null,
       "grid_template_areas": null,
       "grid_template_columns": null,
       "grid_template_rows": null,
       "height": null,
       "justify_content": null,
       "justify_items": null,
       "left": null,
       "margin": null,
       "max_height": null,
       "max_width": null,
       "min_height": null,
       "min_width": null,
       "object_fit": null,
       "object_position": null,
       "order": null,
       "overflow": null,
       "overflow_x": null,
       "overflow_y": null,
       "padding": null,
       "right": null,
       "top": null,
       "visibility": null,
       "width": null
      }
     },
     "40c6256b6b0f47b5bacdb65a5a60632c": {
      "model_module": "@jupyter-widgets/controls",
      "model_module_version": "1.5.0",
      "model_name": "HBoxModel",
      "state": {
       "_dom_classes": [],
       "_model_module": "@jupyter-widgets/controls",
       "_model_module_version": "1.5.0",
       "_model_name": "HBoxModel",
       "_view_count": null,
       "_view_module": "@jupyter-widgets/controls",
       "_view_module_version": "1.5.0",
       "_view_name": "HBoxView",
       "box_style": "",
       "children": [
        "IPY_MODEL_f0957269cd8a4f46a3693e43b1a4de76",
        "IPY_MODEL_818f7fed23d04728bb27b93cff3d2447",
        "IPY_MODEL_cfcfb30bdb7b4a3d8b539e1673612ccc"
       ],
       "layout": "IPY_MODEL_0cea43f943174b778c217cf8d7f22734"
      }
     },
     "42de69666a894710a84277a2fbb0fa3e": {
      "model_module": "@jupyter-widgets/controls",
      "model_module_version": "1.5.0",
      "model_name": "FloatProgressModel",
      "state": {
       "_dom_classes": [],
       "_model_module": "@jupyter-widgets/controls",
       "_model_module_version": "1.5.0",
       "_model_name": "FloatProgressModel",
       "_view_count": null,
       "_view_module": "@jupyter-widgets/controls",
       "_view_module_version": "1.5.0",
       "_view_name": "ProgressView",
       "bar_style": "success",
       "description": "",
       "description_tooltip": null,
       "layout": "IPY_MODEL_2fe1caac09a549cb9326c8be7968e614",
       "max": 625,
       "min": 0,
       "orientation": "horizontal",
       "style": "IPY_MODEL_d40e49b331a24743b19239eb40794e84",
       "value": 625
      }
     },
     "4e923c62281d499cb48b0406e26e5478": {
      "model_module": "@jupyter-widgets/base",
      "model_module_version": "1.2.0",
      "model_name": "LayoutModel",
      "state": {
       "_model_module": "@jupyter-widgets/base",
       "_model_module_version": "1.2.0",
       "_model_name": "LayoutModel",
       "_view_count": null,
       "_view_module": "@jupyter-widgets/base",
       "_view_module_version": "1.2.0",
       "_view_name": "LayoutView",
       "align_content": null,
       "align_items": null,
       "align_self": null,
       "border": null,
       "bottom": null,
       "display": null,
       "flex": null,
       "flex_flow": null,
       "grid_area": null,
       "grid_auto_columns": null,
       "grid_auto_flow": null,
       "grid_auto_rows": null,
       "grid_column": null,
       "grid_gap": null,
       "grid_row": null,
       "grid_template_areas": null,
       "grid_template_columns": null,
       "grid_template_rows": null,
       "height": null,
       "justify_content": null,
       "justify_items": null,
       "left": null,
       "margin": null,
       "max_height": null,
       "max_width": null,
       "min_height": null,
       "min_width": null,
       "object_fit": null,
       "object_position": null,
       "order": null,
       "overflow": null,
       "overflow_x": null,
       "overflow_y": null,
       "padding": null,
       "right": null,
       "top": null,
       "visibility": null,
       "width": null
      }
     },
     "4eaf7b6945b44a96ad3bf44ff4463327": {
      "model_module": "@jupyter-widgets/controls",
      "model_module_version": "1.5.0",
      "model_name": "HBoxModel",
      "state": {
       "_dom_classes": [],
       "_model_module": "@jupyter-widgets/controls",
       "_model_module_version": "1.5.0",
       "_model_name": "HBoxModel",
       "_view_count": null,
       "_view_module": "@jupyter-widgets/controls",
       "_view_module_version": "1.5.0",
       "_view_name": "HBoxView",
       "box_style": "",
       "children": [
        "IPY_MODEL_d713e67a41d445be8944ec1d1df98df1",
        "IPY_MODEL_507a4832c2154eebbe938039f032b34f",
        "IPY_MODEL_cc3997d6a064493aa0727c4c2e71a404"
       ],
       "layout": "IPY_MODEL_634c6c4e24c4476cb2f2a8fe2eebb68d"
      }
     },
     "507a4832c2154eebbe938039f032b34f": {
      "model_module": "@jupyter-widgets/controls",
      "model_module_version": "1.5.0",
      "model_name": "FloatProgressModel",
      "state": {
       "_dom_classes": [],
       "_model_module": "@jupyter-widgets/controls",
       "_model_module_version": "1.5.0",
       "_model_name": "FloatProgressModel",
       "_view_count": null,
       "_view_module": "@jupyter-widgets/controls",
       "_view_module_version": "1.5.0",
       "_view_name": "ProgressView",
       "bar_style": "success",
       "description": "",
       "description_tooltip": null,
       "layout": "IPY_MODEL_858d97fe50d74b609f0113c368b8f15a",
       "max": 1083389348,
       "min": 0,
       "orientation": "horizontal",
       "style": "IPY_MODEL_d1e91d63cec045f8ab35171404194e99",
       "value": 1083389348
      }
     },
     "632d8243c1ed4aa6a22f9296fc88edb7": {
      "model_module": "@jupyter-widgets/base",
      "model_module_version": "1.2.0",
      "model_name": "LayoutModel",
      "state": {
       "_model_module": "@jupyter-widgets/base",
       "_model_module_version": "1.2.0",
       "_model_name": "LayoutModel",
       "_view_count": null,
       "_view_module": "@jupyter-widgets/base",
       "_view_module_version": "1.2.0",
       "_view_name": "LayoutView",
       "align_content": null,
       "align_items": null,
       "align_self": null,
       "border": null,
       "bottom": null,
       "display": null,
       "flex": null,
       "flex_flow": null,
       "grid_area": null,
       "grid_auto_columns": null,
       "grid_auto_flow": null,
       "grid_auto_rows": null,
       "grid_column": null,
       "grid_gap": null,
       "grid_row": null,
       "grid_template_areas": null,
       "grid_template_columns": null,
       "grid_template_rows": null,
       "height": null,
       "justify_content": null,
       "justify_items": null,
       "left": null,
       "margin": null,
       "max_height": null,
       "max_width": null,
       "min_height": null,
       "min_width": null,
       "object_fit": null,
       "object_position": null,
       "order": null,
       "overflow": null,
       "overflow_x": null,
       "overflow_y": null,
       "padding": null,
       "right": null,
       "top": null,
       "visibility": null,
       "width": null
      }
     },
     "634c6c4e24c4476cb2f2a8fe2eebb68d": {
      "model_module": "@jupyter-widgets/base",
      "model_module_version": "1.2.0",
      "model_name": "LayoutModel",
      "state": {
       "_model_module": "@jupyter-widgets/base",
       "_model_module_version": "1.2.0",
       "_model_name": "LayoutModel",
       "_view_count": null,
       "_view_module": "@jupyter-widgets/base",
       "_view_module_version": "1.2.0",
       "_view_name": "LayoutView",
       "align_content": null,
       "align_items": null,
       "align_self": null,
       "border": null,
       "bottom": null,
       "display": null,
       "flex": null,
       "flex_flow": null,
       "grid_area": null,
       "grid_auto_columns": null,
       "grid_auto_flow": null,
       "grid_auto_rows": null,
       "grid_column": null,
       "grid_gap": null,
       "grid_row": null,
       "grid_template_areas": null,
       "grid_template_columns": null,
       "grid_template_rows": null,
       "height": null,
       "justify_content": null,
       "justify_items": null,
       "left": null,
       "margin": null,
       "max_height": null,
       "max_width": null,
       "min_height": null,
       "min_width": null,
       "object_fit": null,
       "object_position": null,
       "order": null,
       "overflow": null,
       "overflow_x": null,
       "overflow_y": null,
       "padding": null,
       "right": null,
       "top": null,
       "visibility": null,
       "width": null
      }
     },
     "64c57315e7fd4caaad4e18032a261e0a": {
      "model_module": "@jupyter-widgets/controls",
      "model_module_version": "1.5.0",
      "model_name": "HTMLModel",
      "state": {
       "_dom_classes": [],
       "_model_module": "@jupyter-widgets/controls",
       "_model_module_version": "1.5.0",
       "_model_name": "HTMLModel",
       "_view_count": null,
       "_view_module": "@jupyter-widgets/controls",
       "_view_module_version": "1.5.0",
       "_view_name": "HTMLView",
       "description": "",
       "description_tooltip": null,
       "layout": "IPY_MODEL_cf6095d5b4304970a76a93e3df405655",
       "placeholder": "​",
       "style": "IPY_MODEL_f6a55d62865c459384083992129b9cdf",
       "value": " 625/625 [00:00&lt;00:00, 35.1kB/s]"
      }
     },
     "6b233d97e22046969fcb2aa7829ca886": {
      "model_module": "@jupyter-widgets/base",
      "model_module_version": "1.2.0",
      "model_name": "LayoutModel",
      "state": {
       "_model_module": "@jupyter-widgets/base",
       "_model_module_version": "1.2.0",
       "_model_name": "LayoutModel",
       "_view_count": null,
       "_view_module": "@jupyter-widgets/base",
       "_view_module_version": "1.2.0",
       "_view_name": "LayoutView",
       "align_content": null,
       "align_items": null,
       "align_self": null,
       "border": null,
       "bottom": null,
       "display": null,
       "flex": null,
       "flex_flow": null,
       "grid_area": null,
       "grid_auto_columns": null,
       "grid_auto_flow": null,
       "grid_auto_rows": null,
       "grid_column": null,
       "grid_gap": null,
       "grid_row": null,
       "grid_template_areas": null,
       "grid_template_columns": null,
       "grid_template_rows": null,
       "height": null,
       "justify_content": null,
       "justify_items": null,
       "left": null,
       "margin": null,
       "max_height": null,
       "max_width": null,
       "min_height": null,
       "min_width": null,
       "object_fit": null,
       "object_position": null,
       "order": null,
       "overflow": null,
       "overflow_x": null,
       "overflow_y": null,
       "padding": null,
       "right": null,
       "top": null,
       "visibility": null,
       "width": null
      }
     },
     "6e06f8af261940d398ce7cab0f4fe982": {
      "model_module": "@jupyter-widgets/controls",
      "model_module_version": "1.5.0",
      "model_name": "DescriptionStyleModel",
      "state": {
       "_model_module": "@jupyter-widgets/controls",
       "_model_module_version": "1.5.0",
       "_model_name": "DescriptionStyleModel",
       "_view_count": null,
       "_view_module": "@jupyter-widgets/base",
       "_view_module_version": "1.2.0",
       "_view_name": "StyleView",
       "description_width": ""
      }
     },
     "7fa99adcf53d4cafacc78d3e212592e9": {
      "model_module": "@jupyter-widgets/base",
      "model_module_version": "1.2.0",
      "model_name": "LayoutModel",
      "state": {
       "_model_module": "@jupyter-widgets/base",
       "_model_module_version": "1.2.0",
       "_model_name": "LayoutModel",
       "_view_count": null,
       "_view_module": "@jupyter-widgets/base",
       "_view_module_version": "1.2.0",
       "_view_name": "LayoutView",
       "align_content": null,
       "align_items": null,
       "align_self": null,
       "border": null,
       "bottom": null,
       "display": null,
       "flex": null,
       "flex_flow": null,
       "grid_area": null,
       "grid_auto_columns": null,
       "grid_auto_flow": null,
       "grid_auto_rows": null,
       "grid_column": null,
       "grid_gap": null,
       "grid_row": null,
       "grid_template_areas": null,
       "grid_template_columns": null,
       "grid_template_rows": null,
       "height": null,
       "justify_content": null,
       "justify_items": null,
       "left": null,
       "margin": null,
       "max_height": null,
       "max_width": null,
       "min_height": null,
       "min_width": null,
       "object_fit": null,
       "object_position": null,
       "order": null,
       "overflow": null,
       "overflow_x": null,
       "overflow_y": null,
       "padding": null,
       "right": null,
       "top": null,
       "visibility": null,
       "width": null
      }
     },
     "801ad223fb4847bdb8fe8da42db8a847": {
      "model_module": "@jupyter-widgets/controls",
      "model_module_version": "1.5.0",
      "model_name": "DescriptionStyleModel",
      "state": {
       "_model_module": "@jupyter-widgets/controls",
       "_model_module_version": "1.5.0",
       "_model_name": "DescriptionStyleModel",
       "_view_count": null,
       "_view_module": "@jupyter-widgets/base",
       "_view_module_version": "1.2.0",
       "_view_name": "StyleView",
       "description_width": ""
      }
     },
     "818f7fed23d04728bb27b93cff3d2447": {
      "model_module": "@jupyter-widgets/controls",
      "model_module_version": "1.5.0",
      "model_name": "FloatProgressModel",
      "state": {
       "_dom_classes": [],
       "_model_module": "@jupyter-widgets/controls",
       "_model_module_version": "1.5.0",
       "_model_name": "FloatProgressModel",
       "_view_count": null,
       "_view_module": "@jupyter-widgets/controls",
       "_view_module_version": "1.5.0",
       "_view_name": "ProgressView",
       "bar_style": "success",
       "description": "",
       "description_tooltip": null,
       "layout": "IPY_MODEL_ef925830004549c8a9a77983e65c102a",
       "max": 995526,
       "min": 0,
       "orientation": "horizontal",
       "style": "IPY_MODEL_efc1277433f04309a7b83040eb3b606d",
       "value": 995526
      }
     },
     "858d97fe50d74b609f0113c368b8f15a": {
      "model_module": "@jupyter-widgets/base",
      "model_module_version": "1.2.0",
      "model_name": "LayoutModel",
      "state": {
       "_model_module": "@jupyter-widgets/base",
       "_model_module_version": "1.2.0",
       "_model_name": "LayoutModel",
       "_view_count": null,
       "_view_module": "@jupyter-widgets/base",
       "_view_module_version": "1.2.0",
       "_view_name": "LayoutView",
       "align_content": null,
       "align_items": null,
       "align_self": null,
       "border": null,
       "bottom": null,
       "display": null,
       "flex": null,
       "flex_flow": null,
       "grid_area": null,
       "grid_auto_columns": null,
       "grid_auto_flow": null,
       "grid_auto_rows": null,
       "grid_column": null,
       "grid_gap": null,
       "grid_row": null,
       "grid_template_areas": null,
       "grid_template_columns": null,
       "grid_template_rows": null,
       "height": null,
       "justify_content": null,
       "justify_items": null,
       "left": null,
       "margin": null,
       "max_height": null,
       "max_width": null,
       "min_height": null,
       "min_width": null,
       "object_fit": null,
       "object_position": null,
       "order": null,
       "overflow": null,
       "overflow_x": null,
       "overflow_y": null,
       "padding": null,
       "right": null,
       "top": null,
       "visibility": null,
       "width": null
      }
     },
     "866ec3cce7de49d198d2da89562f57bf": {
      "model_module": "@jupyter-widgets/controls",
      "model_module_version": "1.5.0",
      "model_name": "HTMLModel",
      "state": {
       "_dom_classes": [],
       "_model_module": "@jupyter-widgets/controls",
       "_model_module_version": "1.5.0",
       "_model_name": "HTMLModel",
       "_view_count": null,
       "_view_module": "@jupyter-widgets/controls",
       "_view_module_version": "1.5.0",
       "_view_name": "HTMLView",
       "description": "",
       "description_tooltip": null,
       "layout": "IPY_MODEL_bd672f7d941f456dbc9825ae08efccac",
       "placeholder": "​",
       "style": "IPY_MODEL_9d1f587afd7d4ba0ba4acf9229e61c88",
       "value": "Downloading (…)okenizer_config.json: 100%"
      }
     },
     "8c5a507e0dec40f39ff9150567ad0009": {
      "model_module": "@jupyter-widgets/controls",
      "model_module_version": "1.5.0",
      "model_name": "HBoxModel",
      "state": {
       "_dom_classes": [],
       "_model_module": "@jupyter-widgets/controls",
       "_model_module_version": "1.5.0",
       "_model_name": "HBoxModel",
       "_view_count": null,
       "_view_module": "@jupyter-widgets/controls",
       "_view_module_version": "1.5.0",
       "_view_name": "HBoxView",
       "box_style": "",
       "children": [
        "IPY_MODEL_b29bed4e95e34815b92f0e005894e3ac",
        "IPY_MODEL_42de69666a894710a84277a2fbb0fa3e",
        "IPY_MODEL_64c57315e7fd4caaad4e18032a261e0a"
       ],
       "layout": "IPY_MODEL_4e923c62281d499cb48b0406e26e5478"
      }
     },
     "947a920adab1476fa06bf4bf7e648c72": {
      "model_module": "@jupyter-widgets/controls",
      "model_module_version": "1.5.0",
      "model_name": "DescriptionStyleModel",
      "state": {
       "_model_module": "@jupyter-widgets/controls",
       "_model_module_version": "1.5.0",
       "_model_name": "DescriptionStyleModel",
       "_view_count": null,
       "_view_module": "@jupyter-widgets/base",
       "_view_module_version": "1.2.0",
       "_view_name": "StyleView",
       "description_width": ""
      }
     },
     "9d1f587afd7d4ba0ba4acf9229e61c88": {
      "model_module": "@jupyter-widgets/controls",
      "model_module_version": "1.5.0",
      "model_name": "DescriptionStyleModel",
      "state": {
       "_model_module": "@jupyter-widgets/controls",
       "_model_module_version": "1.5.0",
       "_model_name": "DescriptionStyleModel",
       "_view_count": null,
       "_view_module": "@jupyter-widgets/base",
       "_view_module_version": "1.2.0",
       "_view_name": "StyleView",
       "description_width": ""
      }
     },
     "a82b7cc1f0f74d88a46cfe5a72e88f7f": {
      "model_module": "@jupyter-widgets/base",
      "model_module_version": "1.2.0",
      "model_name": "LayoutModel",
      "state": {
       "_model_module": "@jupyter-widgets/base",
       "_model_module_version": "1.2.0",
       "_model_name": "LayoutModel",
       "_view_count": null,
       "_view_module": "@jupyter-widgets/base",
       "_view_module_version": "1.2.0",
       "_view_name": "LayoutView",
       "align_content": null,
       "align_items": null,
       "align_self": null,
       "border": null,
       "bottom": null,
       "display": null,
       "flex": null,
       "flex_flow": null,
       "grid_area": null,
       "grid_auto_columns": null,
       "grid_auto_flow": null,
       "grid_auto_rows": null,
       "grid_column": null,
       "grid_gap": null,
       "grid_row": null,
       "grid_template_areas": null,
       "grid_template_columns": null,
       "grid_template_rows": null,
       "height": null,
       "justify_content": null,
       "justify_items": null,
       "left": null,
       "margin": null,
       "max_height": null,
       "max_width": null,
       "min_height": null,
       "min_width": null,
       "object_fit": null,
       "object_position": null,
       "order": null,
       "overflow": null,
       "overflow_x": null,
       "overflow_y": null,
       "padding": null,
       "right": null,
       "top": null,
       "visibility": null,
       "width": null
      }
     },
     "b29bed4e95e34815b92f0e005894e3ac": {
      "model_module": "@jupyter-widgets/controls",
      "model_module_version": "1.5.0",
      "model_name": "HTMLModel",
      "state": {
       "_dom_classes": [],
       "_model_module": "@jupyter-widgets/controls",
       "_model_module_version": "1.5.0",
       "_model_name": "HTMLModel",
       "_view_count": null,
       "_view_module": "@jupyter-widgets/controls",
       "_view_module_version": "1.5.0",
       "_view_name": "HTMLView",
       "description": "",
       "description_tooltip": null,
       "layout": "IPY_MODEL_7fa99adcf53d4cafacc78d3e212592e9",
       "placeholder": "​",
       "style": "IPY_MODEL_947a920adab1476fa06bf4bf7e648c72",
       "value": "Downloading (…)lve/main/config.json: 100%"
      }
     },
     "ba35963ceffc40b8abb1b85768e34353": {
      "model_module": "@jupyter-widgets/controls",
      "model_module_version": "1.5.0",
      "model_name": "ProgressStyleModel",
      "state": {
       "_model_module": "@jupyter-widgets/controls",
       "_model_module_version": "1.5.0",
       "_model_name": "ProgressStyleModel",
       "_view_count": null,
       "_view_module": "@jupyter-widgets/base",
       "_view_module_version": "1.2.0",
       "_view_name": "StyleView",
       "bar_color": null,
       "description_width": ""
      }
     },
     "bd672f7d941f456dbc9825ae08efccac": {
      "model_module": "@jupyter-widgets/base",
      "model_module_version": "1.2.0",
      "model_name": "LayoutModel",
      "state": {
       "_model_module": "@jupyter-widgets/base",
       "_model_module_version": "1.2.0",
       "_model_name": "LayoutModel",
       "_view_count": null,
       "_view_module": "@jupyter-widgets/base",
       "_view_module_version": "1.2.0",
       "_view_name": "LayoutView",
       "align_content": null,
       "align_items": null,
       "align_self": null,
       "border": null,
       "bottom": null,
       "display": null,
       "flex": null,
       "flex_flow": null,
       "grid_area": null,
       "grid_auto_columns": null,
       "grid_auto_flow": null,
       "grid_auto_rows": null,
       "grid_column": null,
       "grid_gap": null,
       "grid_row": null,
       "grid_template_areas": null,
       "grid_template_columns": null,
       "grid_template_rows": null,
       "height": null,
       "justify_content": null,
       "justify_items": null,
       "left": null,
       "margin": null,
       "max_height": null,
       "max_width": null,
       "min_height": null,
       "min_width": null,
       "object_fit": null,
       "object_position": null,
       "order": null,
       "overflow": null,
       "overflow_x": null,
       "overflow_y": null,
       "padding": null,
       "right": null,
       "top": null,
       "visibility": null,
       "width": null
      }
     },
     "cc3997d6a064493aa0727c4c2e71a404": {
      "model_module": "@jupyter-widgets/controls",
      "model_module_version": "1.5.0",
      "model_name": "HTMLModel",
      "state": {
       "_dom_classes": [],
       "_model_module": "@jupyter-widgets/controls",
       "_model_module_version": "1.5.0",
       "_model_name": "HTMLModel",
       "_view_count": null,
       "_view_module": "@jupyter-widgets/controls",
       "_view_module_version": "1.5.0",
       "_view_name": "HTMLView",
       "description": "",
       "description_tooltip": null,
       "layout": "IPY_MODEL_1065b79ffd114dda8f3c3e12ef205f15",
       "placeholder": "​",
       "style": "IPY_MODEL_19eed2f07b4b4afe96cc66cea3ae4d0f",
       "value": " 1.08G/1.08G [00:05&lt;00:00, 203MB/s]"
      }
     },
     "cdbdb7c7954f44e383b853cdb4a5a920": {
      "model_module": "@jupyter-widgets/controls",
      "model_module_version": "1.5.0",
      "model_name": "HTMLModel",
      "state": {
       "_dom_classes": [],
       "_model_module": "@jupyter-widgets/controls",
       "_model_module_version": "1.5.0",
       "_model_name": "HTMLModel",
       "_view_count": null,
       "_view_module": "@jupyter-widgets/controls",
       "_view_module_version": "1.5.0",
       "_view_name": "HTMLView",
       "description": "",
       "description_tooltip": null,
       "layout": "IPY_MODEL_d122461cd7c348cebb86da80cf50b83e",
       "placeholder": "​",
       "style": "IPY_MODEL_801ad223fb4847bdb8fe8da42db8a847",
       "value": " 29.0/29.0 [00:00&lt;00:00, 1.06kB/s]"
      }
     },
     "cf6095d5b4304970a76a93e3df405655": {
      "model_module": "@jupyter-widgets/base",
      "model_module_version": "1.2.0",
      "model_name": "LayoutModel",
      "state": {
       "_model_module": "@jupyter-widgets/base",
       "_model_module_version": "1.2.0",
       "_model_name": "LayoutModel",
       "_view_count": null,
       "_view_module": "@jupyter-widgets/base",
       "_view_module_version": "1.2.0",
       "_view_name": "LayoutView",
       "align_content": null,
       "align_items": null,
       "align_self": null,
       "border": null,
       "bottom": null,
       "display": null,
       "flex": null,
       "flex_flow": null,
       "grid_area": null,
       "grid_auto_columns": null,
       "grid_auto_flow": null,
       "grid_auto_rows": null,
       "grid_column": null,
       "grid_gap": null,
       "grid_row": null,
       "grid_template_areas": null,
       "grid_template_columns": null,
       "grid_template_rows": null,
       "height": null,
       "justify_content": null,
       "justify_items": null,
       "left": null,
       "margin": null,
       "max_height": null,
       "max_width": null,
       "min_height": null,
       "min_width": null,
       "object_fit": null,
       "object_position": null,
       "order": null,
       "overflow": null,
       "overflow_x": null,
       "overflow_y": null,
       "padding": null,
       "right": null,
       "top": null,
       "visibility": null,
       "width": null
      }
     },
     "cfcfb30bdb7b4a3d8b539e1673612ccc": {
      "model_module": "@jupyter-widgets/controls",
      "model_module_version": "1.5.0",
      "model_name": "HTMLModel",
      "state": {
       "_dom_classes": [],
       "_model_module": "@jupyter-widgets/controls",
       "_model_module_version": "1.5.0",
       "_model_name": "HTMLModel",
       "_view_count": null,
       "_view_module": "@jupyter-widgets/controls",
       "_view_module_version": "1.5.0",
       "_view_name": "HTMLView",
       "description": "",
       "description_tooltip": null,
       "layout": "IPY_MODEL_6b233d97e22046969fcb2aa7829ca886",
       "placeholder": "​",
       "style": "IPY_MODEL_6e06f8af261940d398ce7cab0f4fe982",
       "value": " 996k/996k [00:00&lt;00:00, 5.72MB/s]"
      }
     },
     "d122461cd7c348cebb86da80cf50b83e": {
      "model_module": "@jupyter-widgets/base",
      "model_module_version": "1.2.0",
      "model_name": "LayoutModel",
      "state": {
       "_model_module": "@jupyter-widgets/base",
       "_model_module_version": "1.2.0",
       "_model_name": "LayoutModel",
       "_view_count": null,
       "_view_module": "@jupyter-widgets/base",
       "_view_module_version": "1.2.0",
       "_view_name": "LayoutView",
       "align_content": null,
       "align_items": null,
       "align_self": null,
       "border": null,
       "bottom": null,
       "display": null,
       "flex": null,
       "flex_flow": null,
       "grid_area": null,
       "grid_auto_columns": null,
       "grid_auto_flow": null,
       "grid_auto_rows": null,
       "grid_column": null,
       "grid_gap": null,
       "grid_row": null,
       "grid_template_areas": null,
       "grid_template_columns": null,
       "grid_template_rows": null,
       "height": null,
       "justify_content": null,
       "justify_items": null,
       "left": null,
       "margin": null,
       "max_height": null,
       "max_width": null,
       "min_height": null,
       "min_width": null,
       "object_fit": null,
       "object_position": null,
       "order": null,
       "overflow": null,
       "overflow_x": null,
       "overflow_y": null,
       "padding": null,
       "right": null,
       "top": null,
       "visibility": null,
       "width": null
      }
     },
     "d1e91d63cec045f8ab35171404194e99": {
      "model_module": "@jupyter-widgets/controls",
      "model_module_version": "1.5.0",
      "model_name": "ProgressStyleModel",
      "state": {
       "_model_module": "@jupyter-widgets/controls",
       "_model_module_version": "1.5.0",
       "_model_name": "ProgressStyleModel",
       "_view_count": null,
       "_view_module": "@jupyter-widgets/base",
       "_view_module_version": "1.2.0",
       "_view_name": "StyleView",
       "bar_color": null,
       "description_width": ""
      }
     },
     "d40e49b331a24743b19239eb40794e84": {
      "model_module": "@jupyter-widgets/controls",
      "model_module_version": "1.5.0",
      "model_name": "ProgressStyleModel",
      "state": {
       "_model_module": "@jupyter-widgets/controls",
       "_model_module_version": "1.5.0",
       "_model_name": "ProgressStyleModel",
       "_view_count": null,
       "_view_module": "@jupyter-widgets/base",
       "_view_module_version": "1.2.0",
       "_view_name": "StyleView",
       "bar_color": null,
       "description_width": ""
      }
     },
     "d713e67a41d445be8944ec1d1df98df1": {
      "model_module": "@jupyter-widgets/controls",
      "model_module_version": "1.5.0",
      "model_name": "HTMLModel",
      "state": {
       "_dom_classes": [],
       "_model_module": "@jupyter-widgets/controls",
       "_model_module_version": "1.5.0",
       "_model_name": "HTMLModel",
       "_view_count": null,
       "_view_module": "@jupyter-widgets/controls",
       "_view_module_version": "1.5.0",
       "_view_name": "HTMLView",
       "description": "",
       "description_tooltip": null,
       "layout": "IPY_MODEL_a82b7cc1f0f74d88a46cfe5a72e88f7f",
       "placeholder": "​",
       "style": "IPY_MODEL_22fb7def232b42218832ee1e01de56f9",
       "value": "Downloading (…)&quot;tf_model.h5&quot;;: 100%"
      }
     },
     "d87305c746d346e380576a26d7131115": {
      "model_module": "@jupyter-widgets/controls",
      "model_module_version": "1.5.0",
      "model_name": "DescriptionStyleModel",
      "state": {
       "_model_module": "@jupyter-widgets/controls",
       "_model_module_version": "1.5.0",
       "_model_name": "DescriptionStyleModel",
       "_view_count": null,
       "_view_module": "@jupyter-widgets/base",
       "_view_module_version": "1.2.0",
       "_view_name": "StyleView",
       "description_width": ""
      }
     },
     "e6228623c6524f209f943fd1295cf5dd": {
      "model_module": "@jupyter-widgets/base",
      "model_module_version": "1.2.0",
      "model_name": "LayoutModel",
      "state": {
       "_model_module": "@jupyter-widgets/base",
       "_model_module_version": "1.2.0",
       "_model_name": "LayoutModel",
       "_view_count": null,
       "_view_module": "@jupyter-widgets/base",
       "_view_module_version": "1.2.0",
       "_view_name": "LayoutView",
       "align_content": null,
       "align_items": null,
       "align_self": null,
       "border": null,
       "bottom": null,
       "display": null,
       "flex": null,
       "flex_flow": null,
       "grid_area": null,
       "grid_auto_columns": null,
       "grid_auto_flow": null,
       "grid_auto_rows": null,
       "grid_column": null,
       "grid_gap": null,
       "grid_row": null,
       "grid_template_areas": null,
       "grid_template_columns": null,
       "grid_template_rows": null,
       "height": null,
       "justify_content": null,
       "justify_items": null,
       "left": null,
       "margin": null,
       "max_height": null,
       "max_width": null,
       "min_height": null,
       "min_width": null,
       "object_fit": null,
       "object_position": null,
       "order": null,
       "overflow": null,
       "overflow_x": null,
       "overflow_y": null,
       "padding": null,
       "right": null,
       "top": null,
       "visibility": null,
       "width": null
      }
     },
     "e8a0ef49e1e14dd3990f2b833f1b272f": {
      "model_module": "@jupyter-widgets/base",
      "model_module_version": "1.2.0",
      "model_name": "LayoutModel",
      "state": {
       "_model_module": "@jupyter-widgets/base",
       "_model_module_version": "1.2.0",
       "_model_name": "LayoutModel",
       "_view_count": null,
       "_view_module": "@jupyter-widgets/base",
       "_view_module_version": "1.2.0",
       "_view_name": "LayoutView",
       "align_content": null,
       "align_items": null,
       "align_self": null,
       "border": null,
       "bottom": null,
       "display": null,
       "flex": null,
       "flex_flow": null,
       "grid_area": null,
       "grid_auto_columns": null,
       "grid_auto_flow": null,
       "grid_auto_rows": null,
       "grid_column": null,
       "grid_gap": null,
       "grid_row": null,
       "grid_template_areas": null,
       "grid_template_columns": null,
       "grid_template_rows": null,
       "height": null,
       "justify_content": null,
       "justify_items": null,
       "left": null,
       "margin": null,
       "max_height": null,
       "max_width": null,
       "min_height": null,
       "min_width": null,
       "object_fit": null,
       "object_position": null,
       "order": null,
       "overflow": null,
       "overflow_x": null,
       "overflow_y": null,
       "padding": null,
       "right": null,
       "top": null,
       "visibility": null,
       "width": null
      }
     },
     "ef925830004549c8a9a77983e65c102a": {
      "model_module": "@jupyter-widgets/base",
      "model_module_version": "1.2.0",
      "model_name": "LayoutModel",
      "state": {
       "_model_module": "@jupyter-widgets/base",
       "_model_module_version": "1.2.0",
       "_model_name": "LayoutModel",
       "_view_count": null,
       "_view_module": "@jupyter-widgets/base",
       "_view_module_version": "1.2.0",
       "_view_name": "LayoutView",
       "align_content": null,
       "align_items": null,
       "align_self": null,
       "border": null,
       "bottom": null,
       "display": null,
       "flex": null,
       "flex_flow": null,
       "grid_area": null,
       "grid_auto_columns": null,
       "grid_auto_flow": null,
       "grid_auto_rows": null,
       "grid_column": null,
       "grid_gap": null,
       "grid_row": null,
       "grid_template_areas": null,
       "grid_template_columns": null,
       "grid_template_rows": null,
       "height": null,
       "justify_content": null,
       "justify_items": null,
       "left": null,
       "margin": null,
       "max_height": null,
       "max_width": null,
       "min_height": null,
       "min_width": null,
       "object_fit": null,
       "object_position": null,
       "order": null,
       "overflow": null,
       "overflow_x": null,
       "overflow_y": null,
       "padding": null,
       "right": null,
       "top": null,
       "visibility": null,
       "width": null
      }
     },
     "efc1277433f04309a7b83040eb3b606d": {
      "model_module": "@jupyter-widgets/controls",
      "model_module_version": "1.5.0",
      "model_name": "ProgressStyleModel",
      "state": {
       "_model_module": "@jupyter-widgets/controls",
       "_model_module_version": "1.5.0",
       "_model_name": "ProgressStyleModel",
       "_view_count": null,
       "_view_module": "@jupyter-widgets/base",
       "_view_module_version": "1.2.0",
       "_view_name": "StyleView",
       "bar_color": null,
       "description_width": ""
      }
     },
     "f0957269cd8a4f46a3693e43b1a4de76": {
      "model_module": "@jupyter-widgets/controls",
      "model_module_version": "1.5.0",
      "model_name": "HTMLModel",
      "state": {
       "_dom_classes": [],
       "_model_module": "@jupyter-widgets/controls",
       "_model_module_version": "1.5.0",
       "_model_name": "HTMLModel",
       "_view_count": null,
       "_view_module": "@jupyter-widgets/controls",
       "_view_module_version": "1.5.0",
       "_view_name": "HTMLView",
       "description": "",
       "description_tooltip": null,
       "layout": "IPY_MODEL_632d8243c1ed4aa6a22f9296fc88edb7",
       "placeholder": "​",
       "style": "IPY_MODEL_d87305c746d346e380576a26d7131115",
       "value": "Downloading (…)solve/main/vocab.txt: 100%"
      }
     },
     "f610242a30ad4293bca4467bde1100e7": {
      "model_module": "@jupyter-widgets/controls",
      "model_module_version": "1.5.0",
      "model_name": "HBoxModel",
      "state": {
       "_dom_classes": [],
       "_model_module": "@jupyter-widgets/controls",
       "_model_module_version": "1.5.0",
       "_model_name": "HBoxModel",
       "_view_count": null,
       "_view_module": "@jupyter-widgets/controls",
       "_view_module_version": "1.5.0",
       "_view_name": "HBoxView",
       "box_style": "",
       "children": [
        "IPY_MODEL_866ec3cce7de49d198d2da89562f57bf",
        "IPY_MODEL_1bfa7cc598c944d5a9c4789278dc06d5",
        "IPY_MODEL_cdbdb7c7954f44e383b853cdb4a5a920"
       ],
       "layout": "IPY_MODEL_e8a0ef49e1e14dd3990f2b833f1b272f"
      }
     },
     "f6a55d62865c459384083992129b9cdf": {
      "model_module": "@jupyter-widgets/controls",
      "model_module_version": "1.5.0",
      "model_name": "DescriptionStyleModel",
      "state": {
       "_model_module": "@jupyter-widgets/controls",
       "_model_module_version": "1.5.0",
       "_model_name": "DescriptionStyleModel",
       "_view_count": null,
       "_view_module": "@jupyter-widgets/base",
       "_view_module_version": "1.2.0",
       "_view_name": "StyleView",
       "description_width": ""
      }
     }
    },
    "version_major": 2,
    "version_minor": 0
   }
  }
 },
 "nbformat": 4,
 "nbformat_minor": 5
}
