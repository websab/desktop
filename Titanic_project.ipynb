{
 "cells": [
  {
   "cell_type": "markdown",
   "id": "818fa13f",
   "metadata": {},
   "source": [
    "# Project Tatyana"
   ]
  },
  {
   "cell_type": "markdown",
   "id": "810783cd",
   "metadata": {},
   "source": [
    "### Import Libraries"
   ]
  },
  {
   "cell_type": "code",
   "execution_count": 1,
   "id": "fb02884d",
   "metadata": {},
   "outputs": [],
   "source": [
    "import numpy as np\n",
    "import pandas as pd\n",
    "import seaborn as sns\n",
    "import matplotlib.pyplot as plt\n",
    "%matplotlib inline"
   ]
  },
  {
   "cell_type": "markdown",
   "id": "67a995c5",
   "metadata": {},
   "source": [
    "### Load data"
   ]
  },
  {
   "cell_type": "code",
   "execution_count": 2,
   "id": "165624cf",
   "metadata": {},
   "outputs": [],
   "source": [
    "train = pd.read_csv('D:\\\\projeler\\\\project Titanic\\\\train.csv')\n",
    "test = pd.read_csv('D:\\\\projeler\\\\project Titanic\\\\test.csv')"
   ]
  },
  {
   "cell_type": "code",
   "execution_count": 3,
   "id": "09560ebb",
   "metadata": {},
   "outputs": [
    {
     "name": "stdout",
     "output_type": "stream",
     "text": [
      "<class 'pandas.core.frame.DataFrame'>\n",
      "RangeIndex: 891 entries, 0 to 890\n",
      "Data columns (total 12 columns):\n",
      " #   Column       Non-Null Count  Dtype  \n",
      "---  ------       --------------  -----  \n",
      " 0   PassengerId  891 non-null    int64  \n",
      " 1   Survived     891 non-null    int64  \n",
      " 2   Pclass       891 non-null    int64  \n",
      " 3   Name         891 non-null    object \n",
      " 4   Sex          891 non-null    object \n",
      " 5   Age          714 non-null    float64\n",
      " 6   SibSp        891 non-null    int64  \n",
      " 7   Parch        891 non-null    int64  \n",
      " 8   Ticket       891 non-null    object \n",
      " 9   Fare         891 non-null    float64\n",
      " 10  Cabin        204 non-null    object \n",
      " 11  Embarked     889 non-null    object \n",
      "dtypes: float64(2), int64(5), object(5)\n",
      "memory usage: 83.7+ KB\n"
     ]
    }
   ],
   "source": [
    "train.info()"
   ]
  },
  {
   "cell_type": "code",
   "execution_count": 4,
   "id": "3187204d",
   "metadata": {},
   "outputs": [
    {
     "name": "stdout",
     "output_type": "stream",
     "text": [
      "<class 'pandas.core.frame.DataFrame'>\n",
      "RangeIndex: 418 entries, 0 to 417\n",
      "Data columns (total 11 columns):\n",
      " #   Column       Non-Null Count  Dtype  \n",
      "---  ------       --------------  -----  \n",
      " 0   PassengerId  418 non-null    int64  \n",
      " 1   Pclass       418 non-null    int64  \n",
      " 2   Name         418 non-null    object \n",
      " 3   Sex          418 non-null    object \n",
      " 4   Age          332 non-null    float64\n",
      " 5   SibSp        418 non-null    int64  \n",
      " 6   Parch        418 non-null    int64  \n",
      " 7   Ticket       418 non-null    object \n",
      " 8   Fare         417 non-null    float64\n",
      " 9   Cabin        91 non-null     object \n",
      " 10  Embarked     418 non-null    object \n",
      "dtypes: float64(2), int64(4), object(5)\n",
      "memory usage: 36.0+ KB\n"
     ]
    }
   ],
   "source": [
    "test.info()"
   ]
  },
  {
   "cell_type": "markdown",
   "id": "3c587436",
   "metadata": {},
   "source": [
    "### Analyse dataset (train data)"
   ]
  },
  {
   "cell_type": "code",
   "execution_count": null,
   "id": "2e6f6b6d",
   "metadata": {},
   "outputs": [],
   "source": [
    "train.head(2)"
   ]
  },
  {
   "cell_type": "code",
   "execution_count": null,
   "id": "a796e700",
   "metadata": {},
   "outputs": [],
   "source": [
    "train.describe()"
   ]
  },
  {
   "cell_type": "code",
   "execution_count": null,
   "id": "1b952168",
   "metadata": {},
   "outputs": [],
   "source": [
    "train.info()"
   ]
  },
  {
   "cell_type": "code",
   "execution_count": null,
   "id": "0abae650",
   "metadata": {},
   "outputs": [],
   "source": [
    "train.isnull().sum()"
   ]
  },
  {
   "cell_type": "markdown",
   "id": "2b14f445",
   "metadata": {},
   "source": [
    "### Visulaation analyse data "
   ]
  },
  {
   "cell_type": "markdown",
   "id": "5f69e70d",
   "metadata": {},
   "source": [
    "#### statistical information"
   ]
  },
  {
   "cell_type": "code",
   "execution_count": null,
   "id": "5f84e523",
   "metadata": {},
   "outputs": [],
   "source": [
    "sns.histplot(x=\"Pclass\", data=train)"
   ]
  },
  {
   "cell_type": "code",
   "execution_count": null,
   "id": "8ea5d278",
   "metadata": {},
   "outputs": [],
   "source": [
    "sns.histplot(x=\"Sex\", data=train)"
   ]
  },
  {
   "cell_type": "code",
   "execution_count": null,
   "id": "f850dd7d",
   "metadata": {},
   "outputs": [],
   "source": [
    "sns.histplot(x=\"Age\", data=train)"
   ]
  },
  {
   "cell_type": "code",
   "execution_count": null,
   "id": "673d18aa",
   "metadata": {},
   "outputs": [],
   "source": [
    "sns.histplot(x=\"SibSp\", data=train)"
   ]
  },
  {
   "cell_type": "code",
   "execution_count": null,
   "id": "c6a63c55",
   "metadata": {},
   "outputs": [],
   "source": [
    "sns.histplot(x=\"Parch\", data=train)"
   ]
  },
  {
   "cell_type": "code",
   "execution_count": null,
   "id": "64f84719",
   "metadata": {},
   "outputs": [],
   "source": [
    "sns.histplot(x=\"Fare\", data=train)"
   ]
  },
  {
   "cell_type": "code",
   "execution_count": null,
   "id": "bc4552ba",
   "metadata": {},
   "outputs": [],
   "source": [
    "sns.histplot(x=\"Embarked\", data=train)"
   ]
  },
  {
   "cell_type": "markdown",
   "id": "23c933c6",
   "metadata": {},
   "source": [
    "### link between values"
   ]
  },
  {
   "cell_type": "markdown",
   "id": "9d947c8e",
   "metadata": {},
   "source": [
    "#### survived with..."
   ]
  },
  {
   "cell_type": "code",
   "execution_count": null,
   "id": "03be3781",
   "metadata": {},
   "outputs": [],
   "source": [
    "sns.countplot(x='Survived',data=train, hue='Pclass')"
   ]
  },
  {
   "cell_type": "code",
   "execution_count": null,
   "id": "1fa3a644",
   "metadata": {},
   "outputs": [],
   "source": [
    "sns.countplot(x='Survived',data=train,hue='Sex')"
   ]
  },
  {
   "cell_type": "code",
   "execution_count": null,
   "id": "a2016bd5",
   "metadata": {},
   "outputs": [],
   "source": [
    "sns.countplot(x='Survived',data=train,hue='SibSp')"
   ]
  },
  {
   "cell_type": "code",
   "execution_count": null,
   "id": "e77154aa",
   "metadata": {},
   "outputs": [],
   "source": [
    "sns.countplot(x='Survived',data=train,hue='Parch')"
   ]
  },
  {
   "cell_type": "code",
   "execution_count": null,
   "id": "e04fd4ee",
   "metadata": {},
   "outputs": [],
   "source": [
    "sns.countplot(x='Survived',data=train,hue='Embarked')"
   ]
  },
  {
   "cell_type": "markdown",
   "id": "400cc927",
   "metadata": {},
   "source": [
    "#### Embarked with..."
   ]
  },
  {
   "cell_type": "code",
   "execution_count": null,
   "id": "b180298d",
   "metadata": {},
   "outputs": [],
   "source": [
    "sns.countplot(x='Pclass',data=train,hue='Sex')"
   ]
  },
  {
   "cell_type": "code",
   "execution_count": null,
   "id": "d9d87ddf",
   "metadata": {},
   "outputs": [],
   "source": [
    "sns.countplot(x='Pclass',data=train,hue='SibSp')"
   ]
  },
  {
   "cell_type": "code",
   "execution_count": null,
   "id": "b7fcad9b",
   "metadata": {},
   "outputs": [],
   "source": [
    "sns.countplot(x='Pclass',data=train,hue='Parch')"
   ]
  },
  {
   "cell_type": "code",
   "execution_count": null,
   "id": "4f0f1cb7",
   "metadata": {},
   "outputs": [],
   "source": [
    "sns.countplot(x='Pclass',data=train,hue='Embarked')"
   ]
  },
  {
   "cell_type": "markdown",
   "id": "c11a712b",
   "metadata": {},
   "source": [
    "#### Sex with..."
   ]
  },
  {
   "cell_type": "code",
   "execution_count": null,
   "id": "00d0d2a9",
   "metadata": {},
   "outputs": [],
   "source": [
    "sns.countplot(x='Sex',data=train,hue='SibSp')"
   ]
  },
  {
   "cell_type": "code",
   "execution_count": null,
   "id": "4e6efab9",
   "metadata": {},
   "outputs": [],
   "source": [
    "sns.countplot(x='Sex',data=train,hue='Parch')"
   ]
  },
  {
   "cell_type": "code",
   "execution_count": null,
   "id": "22852ae3",
   "metadata": {},
   "outputs": [],
   "source": [
    "sns.countplot(x='Sex',data=train,hue='Embarked')"
   ]
  },
  {
   "cell_type": "markdown",
   "id": "02879ab2",
   "metadata": {},
   "source": [
    "#### SibSp with..."
   ]
  },
  {
   "cell_type": "code",
   "execution_count": null,
   "id": "6cf42ee2",
   "metadata": {},
   "outputs": [],
   "source": [
    "sns.countplot(x='SibSp',data=train,hue='Parch')"
   ]
  },
  {
   "cell_type": "code",
   "execution_count": null,
   "id": "d97022ab",
   "metadata": {},
   "outputs": [],
   "source": [
    "sns.countplot(x='SibSp',data=train,hue='Embarked')"
   ]
  },
  {
   "cell_type": "code",
   "execution_count": null,
   "id": "228b3570",
   "metadata": {},
   "outputs": [],
   "source": [
    "sns.countplot(x='Parch',data=train,hue='Embarked')"
   ]
  },
  {
   "cell_type": "markdown",
   "id": "35ca0cf6",
   "metadata": {},
   "source": [
    "#### Pclass via Fare"
   ]
  },
  {
   "cell_type": "code",
   "execution_count": null,
   "id": "fd8782cc",
   "metadata": {},
   "outputs": [],
   "source": [
    "sns.displot(train[train['Pclass']==1].Fare)"
   ]
  },
  {
   "cell_type": "code",
   "execution_count": null,
   "id": "0eeea08a",
   "metadata": {},
   "outputs": [],
   "source": [
    "sns.displot(train[train['Pclass']==2].Fare)"
   ]
  },
  {
   "cell_type": "code",
   "execution_count": null,
   "id": "76339ed2",
   "metadata": {},
   "outputs": [],
   "source": [
    "sns.displot(train[train['Pclass']==3].Fare)"
   ]
  },
  {
   "cell_type": "code",
   "execution_count": null,
   "id": "1b9757d2",
   "metadata": {},
   "outputs": [],
   "source": [
    "sns.heatmap(train[['Survived', 'Pclass', 'Age', 'SibSp', \n",
    "                  'Parch', 'Fare']].corr(), annot=True)"
   ]
  },
  {
   "cell_type": "markdown",
   "id": "4873f936",
   "metadata": {},
   "source": [
    "### data preprocessing"
   ]
  },
  {
   "cell_type": "code",
   "execution_count": 5,
   "id": "8857122a",
   "metadata": {},
   "outputs": [],
   "source": [
    "train['train_test'] = 1\n",
    "test['train_test'] = 0\n",
    "test[\"Survived\"] = np.NaN\n",
    "titanic_passenger = pd.concat([train, test])"
   ]
  },
  {
   "cell_type": "code",
   "execution_count": 6,
   "id": "618e08a8",
   "metadata": {},
   "outputs": [
    {
     "name": "stdout",
     "output_type": "stream",
     "text": [
      "<class 'pandas.core.frame.DataFrame'>\n",
      "Int64Index: 1309 entries, 0 to 417\n",
      "Data columns (total 13 columns):\n",
      " #   Column       Non-Null Count  Dtype  \n",
      "---  ------       --------------  -----  \n",
      " 0   PassengerId  1309 non-null   int64  \n",
      " 1   Survived     891 non-null    float64\n",
      " 2   Pclass       1309 non-null   int64  \n",
      " 3   Name         1309 non-null   object \n",
      " 4   Sex          1309 non-null   object \n",
      " 5   Age          1046 non-null   float64\n",
      " 6   SibSp        1309 non-null   int64  \n",
      " 7   Parch        1309 non-null   int64  \n",
      " 8   Ticket       1309 non-null   object \n",
      " 9   Fare         1308 non-null   float64\n",
      " 10  Cabin        295 non-null    object \n",
      " 11  Embarked     1307 non-null   object \n",
      " 12  train_test   1309 non-null   int64  \n",
      "dtypes: float64(3), int64(5), object(5)\n",
      "memory usage: 143.2+ KB\n"
     ]
    }
   ],
   "source": [
    "titanic_passenger.info()"
   ]
  },
  {
   "cell_type": "code",
   "execution_count": 7,
   "id": "785c4ada",
   "metadata": {},
   "outputs": [
    {
     "data": {
      "text/plain": [
       "PassengerId       0\n",
       "Survived        418\n",
       "Pclass            0\n",
       "Name              0\n",
       "Sex               0\n",
       "Age             263\n",
       "SibSp             0\n",
       "Parch             0\n",
       "Ticket            0\n",
       "Fare              1\n",
       "Cabin          1014\n",
       "Embarked          2\n",
       "train_test        0\n",
       "dtype: int64"
      ]
     },
     "execution_count": 7,
     "metadata": {},
     "output_type": "execute_result"
    }
   ],
   "source": [
    "titanic_passenger.isnull().sum()"
   ]
  },
  {
   "cell_type": "code",
   "execution_count": 8,
   "id": "44042a22",
   "metadata": {},
   "outputs": [],
   "source": [
    "titanic_passenger['Fare'] = np.log(titanic_passenger['Fare']+1)"
   ]
  },
  {
   "cell_type": "code",
   "execution_count": 9,
   "id": "99276250",
   "metadata": {},
   "outputs": [],
   "source": [
    "titanic_passenger.dropna(subset=['Embarked'], inplace=True)"
   ]
  },
  {
   "cell_type": "code",
   "execution_count": 10,
   "id": "75c43010",
   "metadata": {},
   "outputs": [],
   "source": [
    "titanic_passenger['Age'] = titanic_passenger.Age.fillna(titanic_passenger.\n",
    "                        Age.median());"
   ]
  },
  {
   "cell_type": "code",
   "execution_count": 11,
   "id": "9521e946",
   "metadata": {},
   "outputs": [],
   "source": [
    "titanic_passenger['Fare'] = titanic_passenger.Fare.fillna(titanic_passenger.\n",
    "                        Fare.median())"
   ]
  },
  {
   "cell_type": "code",
   "execution_count": 12,
   "id": "2ddf6a15",
   "metadata": {},
   "outputs": [],
   "source": [
    "titanic_passenger['Pclass'] = titanic_passenger['Pclass'].astype(str)"
   ]
  },
  {
   "cell_type": "code",
   "execution_count": 13,
   "id": "eda26a38",
   "metadata": {},
   "outputs": [
    {
     "name": "stdout",
     "output_type": "stream",
     "text": [
      "<class 'pandas.core.frame.DataFrame'>\n",
      "Int64Index: 1307 entries, 0 to 417\n",
      "Data columns (total 13 columns):\n",
      " #   Column       Non-Null Count  Dtype  \n",
      "---  ------       --------------  -----  \n",
      " 0   PassengerId  1307 non-null   int64  \n",
      " 1   Survived     889 non-null    float64\n",
      " 2   Pclass       1307 non-null   object \n",
      " 3   Name         1307 non-null   object \n",
      " 4   Sex          1307 non-null   object \n",
      " 5   Age          1307 non-null   float64\n",
      " 6   SibSp        1307 non-null   int64  \n",
      " 7   Parch        1307 non-null   int64  \n",
      " 8   Ticket       1307 non-null   object \n",
      " 9   Fare         1307 non-null   float64\n",
      " 10  Cabin        293 non-null    object \n",
      " 11  Embarked     1307 non-null   object \n",
      " 12  train_test   1307 non-null   int64  \n",
      "dtypes: float64(3), int64(4), object(6)\n",
      "memory usage: 143.0+ KB\n"
     ]
    }
   ],
   "source": [
    "titanic_passenger.info()"
   ]
  },
  {
   "cell_type": "code",
   "execution_count": 14,
   "id": "5e7e0d7b",
   "metadata": {},
   "outputs": [],
   "source": [
    "vector_ID = pd.get_dummies(titanic_passenger[['Pclass', 'Sex', 'Age', 'SibSp', \n",
    "                            'Parch', 'Fare', 'Embarked', 'train_test']])"
   ]
  },
  {
   "cell_type": "code",
   "execution_count": 15,
   "id": "bd2eeb1a",
   "metadata": {},
   "outputs": [
    {
     "name": "stdout",
     "output_type": "stream",
     "text": [
      "<class 'pandas.core.frame.DataFrame'>\n",
      "Int64Index: 1307 entries, 0 to 417\n",
      "Data columns (total 13 columns):\n",
      " #   Column      Non-Null Count  Dtype  \n",
      "---  ------      --------------  -----  \n",
      " 0   Age         1307 non-null   float64\n",
      " 1   SibSp       1307 non-null   int64  \n",
      " 2   Parch       1307 non-null   int64  \n",
      " 3   Fare        1307 non-null   float64\n",
      " 4   train_test  1307 non-null   int64  \n",
      " 5   Pclass_1    1307 non-null   uint8  \n",
      " 6   Pclass_2    1307 non-null   uint8  \n",
      " 7   Pclass_3    1307 non-null   uint8  \n",
      " 8   Sex_female  1307 non-null   uint8  \n",
      " 9   Sex_male    1307 non-null   uint8  \n",
      " 10  Embarked_C  1307 non-null   uint8  \n",
      " 11  Embarked_Q  1307 non-null   uint8  \n",
      " 12  Embarked_S  1307 non-null   uint8  \n",
      "dtypes: float64(2), int64(3), uint8(8)\n",
      "memory usage: 71.5 KB\n"
     ]
    }
   ],
   "source": [
    "vector_ID.info()"
   ]
  },
  {
   "cell_type": "code",
   "execution_count": 16,
   "id": "5c62a639",
   "metadata": {},
   "outputs": [
    {
     "data": {
      "text/html": [
       "<div>\n",
       "<style scoped>\n",
       "    .dataframe tbody tr th:only-of-type {\n",
       "        vertical-align: middle;\n",
       "    }\n",
       "\n",
       "    .dataframe tbody tr th {\n",
       "        vertical-align: top;\n",
       "    }\n",
       "\n",
       "    .dataframe thead th {\n",
       "        text-align: right;\n",
       "    }\n",
       "</style>\n",
       "<table border=\"1\" class=\"dataframe\">\n",
       "  <thead>\n",
       "    <tr style=\"text-align: right;\">\n",
       "      <th></th>\n",
       "      <th>Age</th>\n",
       "      <th>SibSp</th>\n",
       "      <th>Parch</th>\n",
       "      <th>Fare</th>\n",
       "      <th>train_test</th>\n",
       "      <th>Pclass_1</th>\n",
       "      <th>Pclass_2</th>\n",
       "      <th>Pclass_3</th>\n",
       "      <th>Sex_female</th>\n",
       "      <th>Sex_male</th>\n",
       "      <th>Embarked_C</th>\n",
       "      <th>Embarked_Q</th>\n",
       "      <th>Embarked_S</th>\n",
       "    </tr>\n",
       "  </thead>\n",
       "  <tbody>\n",
       "    <tr>\n",
       "      <th>0</th>\n",
       "      <td>22.0</td>\n",
       "      <td>1</td>\n",
       "      <td>0</td>\n",
       "      <td>2.110213</td>\n",
       "      <td>1</td>\n",
       "      <td>0</td>\n",
       "      <td>0</td>\n",
       "      <td>1</td>\n",
       "      <td>0</td>\n",
       "      <td>1</td>\n",
       "      <td>0</td>\n",
       "      <td>0</td>\n",
       "      <td>1</td>\n",
       "    </tr>\n",
       "    <tr>\n",
       "      <th>1</th>\n",
       "      <td>38.0</td>\n",
       "      <td>1</td>\n",
       "      <td>0</td>\n",
       "      <td>4.280593</td>\n",
       "      <td>1</td>\n",
       "      <td>1</td>\n",
       "      <td>0</td>\n",
       "      <td>0</td>\n",
       "      <td>1</td>\n",
       "      <td>0</td>\n",
       "      <td>1</td>\n",
       "      <td>0</td>\n",
       "      <td>0</td>\n",
       "    </tr>\n",
       "    <tr>\n",
       "      <th>2</th>\n",
       "      <td>26.0</td>\n",
       "      <td>0</td>\n",
       "      <td>0</td>\n",
       "      <td>2.188856</td>\n",
       "      <td>1</td>\n",
       "      <td>0</td>\n",
       "      <td>0</td>\n",
       "      <td>1</td>\n",
       "      <td>1</td>\n",
       "      <td>0</td>\n",
       "      <td>0</td>\n",
       "      <td>0</td>\n",
       "      <td>1</td>\n",
       "    </tr>\n",
       "    <tr>\n",
       "      <th>3</th>\n",
       "      <td>35.0</td>\n",
       "      <td>1</td>\n",
       "      <td>0</td>\n",
       "      <td>3.990834</td>\n",
       "      <td>1</td>\n",
       "      <td>1</td>\n",
       "      <td>0</td>\n",
       "      <td>0</td>\n",
       "      <td>1</td>\n",
       "      <td>0</td>\n",
       "      <td>0</td>\n",
       "      <td>0</td>\n",
       "      <td>1</td>\n",
       "    </tr>\n",
       "    <tr>\n",
       "      <th>4</th>\n",
       "      <td>35.0</td>\n",
       "      <td>0</td>\n",
       "      <td>0</td>\n",
       "      <td>2.202765</td>\n",
       "      <td>1</td>\n",
       "      <td>0</td>\n",
       "      <td>0</td>\n",
       "      <td>1</td>\n",
       "      <td>0</td>\n",
       "      <td>1</td>\n",
       "      <td>0</td>\n",
       "      <td>0</td>\n",
       "      <td>1</td>\n",
       "    </tr>\n",
       "    <tr>\n",
       "      <th>...</th>\n",
       "      <td>...</td>\n",
       "      <td>...</td>\n",
       "      <td>...</td>\n",
       "      <td>...</td>\n",
       "      <td>...</td>\n",
       "      <td>...</td>\n",
       "      <td>...</td>\n",
       "      <td>...</td>\n",
       "      <td>...</td>\n",
       "      <td>...</td>\n",
       "      <td>...</td>\n",
       "      <td>...</td>\n",
       "      <td>...</td>\n",
       "    </tr>\n",
       "    <tr>\n",
       "      <th>413</th>\n",
       "      <td>28.0</td>\n",
       "      <td>0</td>\n",
       "      <td>0</td>\n",
       "      <td>2.202765</td>\n",
       "      <td>0</td>\n",
       "      <td>0</td>\n",
       "      <td>0</td>\n",
       "      <td>1</td>\n",
       "      <td>0</td>\n",
       "      <td>1</td>\n",
       "      <td>0</td>\n",
       "      <td>0</td>\n",
       "      <td>1</td>\n",
       "    </tr>\n",
       "    <tr>\n",
       "      <th>414</th>\n",
       "      <td>39.0</td>\n",
       "      <td>0</td>\n",
       "      <td>0</td>\n",
       "      <td>4.699571</td>\n",
       "      <td>0</td>\n",
       "      <td>1</td>\n",
       "      <td>0</td>\n",
       "      <td>0</td>\n",
       "      <td>1</td>\n",
       "      <td>0</td>\n",
       "      <td>1</td>\n",
       "      <td>0</td>\n",
       "      <td>0</td>\n",
       "    </tr>\n",
       "    <tr>\n",
       "      <th>415</th>\n",
       "      <td>38.5</td>\n",
       "      <td>0</td>\n",
       "      <td>0</td>\n",
       "      <td>2.110213</td>\n",
       "      <td>0</td>\n",
       "      <td>0</td>\n",
       "      <td>0</td>\n",
       "      <td>1</td>\n",
       "      <td>0</td>\n",
       "      <td>1</td>\n",
       "      <td>0</td>\n",
       "      <td>0</td>\n",
       "      <td>1</td>\n",
       "    </tr>\n",
       "    <tr>\n",
       "      <th>416</th>\n",
       "      <td>28.0</td>\n",
       "      <td>0</td>\n",
       "      <td>0</td>\n",
       "      <td>2.202765</td>\n",
       "      <td>0</td>\n",
       "      <td>0</td>\n",
       "      <td>0</td>\n",
       "      <td>1</td>\n",
       "      <td>0</td>\n",
       "      <td>1</td>\n",
       "      <td>0</td>\n",
       "      <td>0</td>\n",
       "      <td>1</td>\n",
       "    </tr>\n",
       "    <tr>\n",
       "      <th>417</th>\n",
       "      <td>28.0</td>\n",
       "      <td>1</td>\n",
       "      <td>1</td>\n",
       "      <td>3.150952</td>\n",
       "      <td>0</td>\n",
       "      <td>0</td>\n",
       "      <td>0</td>\n",
       "      <td>1</td>\n",
       "      <td>0</td>\n",
       "      <td>1</td>\n",
       "      <td>1</td>\n",
       "      <td>0</td>\n",
       "      <td>0</td>\n",
       "    </tr>\n",
       "  </tbody>\n",
       "</table>\n",
       "<p>1307 rows × 13 columns</p>\n",
       "</div>"
      ],
      "text/plain": [
       "      Age  SibSp  Parch      Fare  train_test  Pclass_1  Pclass_2  Pclass_3  \\\n",
       "0    22.0      1      0  2.110213           1         0         0         1   \n",
       "1    38.0      1      0  4.280593           1         1         0         0   \n",
       "2    26.0      0      0  2.188856           1         0         0         1   \n",
       "3    35.0      1      0  3.990834           1         1         0         0   \n",
       "4    35.0      0      0  2.202765           1         0         0         1   \n",
       "..    ...    ...    ...       ...         ...       ...       ...       ...   \n",
       "413  28.0      0      0  2.202765           0         0         0         1   \n",
       "414  39.0      0      0  4.699571           0         1         0         0   \n",
       "415  38.5      0      0  2.110213           0         0         0         1   \n",
       "416  28.0      0      0  2.202765           0         0         0         1   \n",
       "417  28.0      1      1  3.150952           0         0         0         1   \n",
       "\n",
       "     Sex_female  Sex_male  Embarked_C  Embarked_Q  Embarked_S  \n",
       "0             0         1           0           0           1  \n",
       "1             1         0           1           0           0  \n",
       "2             1         0           0           0           1  \n",
       "3             1         0           0           0           1  \n",
       "4             0         1           0           0           1  \n",
       "..          ...       ...         ...         ...         ...  \n",
       "413           0         1           0           0           1  \n",
       "414           1         0           1           0           0  \n",
       "415           0         1           0           0           1  \n",
       "416           0         1           0           0           1  \n",
       "417           0         1           1           0           0  \n",
       "\n",
       "[1307 rows x 13 columns]"
      ]
     },
     "execution_count": 16,
     "metadata": {},
     "output_type": "execute_result"
    }
   ],
   "source": [
    "vector_ID"
   ]
  },
  {
   "cell_type": "code",
   "execution_count": 17,
   "id": "a73a3d4c",
   "metadata": {},
   "outputs": [
    {
     "data": {
      "text/plain": [
       "(889, 12)"
      ]
     },
     "execution_count": 17,
     "metadata": {},
     "output_type": "execute_result"
    }
   ],
   "source": [
    "X_tr = vector_ID[vector_ID.train_test == 1].drop(['train_test'], axis=1)\n",
    "X_tr.shape"
   ]
  },
  {
   "cell_type": "code",
   "execution_count": 18,
   "id": "3c6a89f5",
   "metadata": {},
   "outputs": [
    {
     "data": {
      "text/plain": [
       "(418, 12)"
      ]
     },
     "execution_count": 18,
     "metadata": {},
     "output_type": "execute_result"
    }
   ],
   "source": [
    "X_ts = vector_ID[vector_ID.train_test == 0].drop(['train_test'], axis=1)\n",
    "X_ts.shape"
   ]
  },
  {
   "cell_type": "code",
   "execution_count": 20,
   "id": "6715713f",
   "metadata": {},
   "outputs": [
    {
     "data": {
      "text/plain": [
       "(889,)"
      ]
     },
     "execution_count": 20,
     "metadata": {},
     "output_type": "execute_result"
    }
   ],
   "source": [
    "y_tr = titanic_passenger[titanic_passenger.train_test == 1].Survived\n",
    "y_tr.shape"
   ]
  },
  {
   "cell_type": "markdown",
   "id": "6338c273",
   "metadata": {},
   "source": [
    "### Machine learning"
   ]
  },
  {
   "cell_type": "markdown",
   "id": "e25962e4",
   "metadata": {},
   "source": [
    "##### import scikit-learn modules"
   ]
  },
  {
   "cell_type": "code",
   "execution_count": 21,
   "id": "ff0dd2fa",
   "metadata": {},
   "outputs": [],
   "source": [
    "from sklearn.linear_model import LogisticRegression\n",
    "from sklearn.ensemble import RandomForestClassifier\n",
    "from sklearn.metrics import accuracy_score\n",
    "from sklearn.model_selection import GridSearchCV"
   ]
  },
  {
   "cell_type": "code",
   "execution_count": 22,
   "id": "337ea649",
   "metadata": {},
   "outputs": [],
   "source": [
    "from sklearn.model_selection import train_test_split\n",
    "X_train, X_test, y_train, y_test = train_test_split(X_tr, y_tr, \n",
    "                                    test_size=0.2)"
   ]
  },
  {
   "cell_type": "markdown",
   "id": "48498657",
   "metadata": {},
   "source": [
    "#### LogisticRegression"
   ]
  },
  {
   "cell_type": "code",
   "execution_count": 23,
   "id": "e32b61f1",
   "metadata": {},
   "outputs": [
    {
     "name": "stdout",
     "output_type": "stream",
     "text": [
      "Train score:  0.7988748241912799\n",
      "Test score:  0.797752808988764\n"
     ]
    }
   ],
   "source": [
    "lr = LogisticRegression(max_iter = 2000)\n",
    "lr.fit(X_train, y_train)\n",
    "print(\"Train score: \", lr.score(X_train, y_train))\n",
    "print(\"Test score: \", lr.score(X_test, y_test))"
   ]
  },
  {
   "cell_type": "markdown",
   "id": "43a62765",
   "metadata": {},
   "source": [
    "#### Random Forest"
   ]
  },
  {
   "cell_type": "code",
   "execution_count": 24,
   "id": "9878b79b",
   "metadata": {},
   "outputs": [
    {
     "name": "stdout",
     "output_type": "stream",
     "text": [
      "Train score:  0.9845288326300985\n",
      "Test score:  0.7752808988764045\n"
     ]
    }
   ],
   "source": [
    "rf = RandomForestClassifier(random_state=10)\n",
    "rf.fit(X_train, y_train)\n",
    "print(\"Train score: \", rf.score(X_train, y_train))\n",
    "print(\"Test score: \", rf.score(X_test, y_test))"
   ]
  },
  {
   "cell_type": "markdown",
   "id": "9006e32a",
   "metadata": {},
   "source": [
    "### GridSearch"
   ]
  },
  {
   "cell_type": "markdown",
   "id": "ece082d0",
   "metadata": {},
   "source": [
    "#### LogisticRegression"
   ]
  },
  {
   "cell_type": "code",
   "execution_count": 25,
   "id": "a73a186f",
   "metadata": {},
   "outputs": [
    {
     "name": "stdout",
     "output_type": "stream",
     "text": [
      "Fitting 5 folds for each of 40 candidates, totalling 200 fits\n",
      "0.8073377326898452\n",
      "LogisticRegression(C=0.03359818286283781, max_iter=2000, solver='liblinear')\n"
     ]
    }
   ],
   "source": [
    "params = {'max_iter' : [2000],\n",
    "              'penalty' : ['l1', 'l2'],\n",
    "              'C' : np.logspace(-4, 4, 20),\n",
    "              'solver' : ['liblinear']}\n",
    "lr = LogisticRegression()\n",
    "lr_grid = GridSearchCV(lr, param_grid=params, cv=5, verbose = True, n_jobs = -1)\n",
    "lr_grid.fit(X_train, y_train)\n",
    "print(lr_grid.best_score_)\n",
    "print(lr_grid.best_estimator_)"
   ]
  },
  {
   "cell_type": "code",
   "execution_count": 26,
   "id": "cd86832b",
   "metadata": {},
   "outputs": [],
   "source": [
    "lr_best = lr_grid.best_estimator_"
   ]
  },
  {
   "cell_type": "code",
   "execution_count": 27,
   "id": "ba55c877",
   "metadata": {},
   "outputs": [
    {
     "name": "stdout",
     "output_type": "stream",
     "text": [
      "Train scores:  0.8129395218002813\n",
      "Test scores:  0.7921348314606742\n"
     ]
    }
   ],
   "source": [
    "print(\"Train scores: \", lr_best.score(X_train, y_train))\n",
    "print(\"Test scores: \", lr_best.score(X_test, y_test))"
   ]
  },
  {
   "cell_type": "code",
   "execution_count": 28,
   "id": "b819b6b2",
   "metadata": {},
   "outputs": [],
   "source": [
    "y_predict = lr_best.predict(X_ts).astype(int)\n",
    "PassID = test['PassengerId']"
   ]
  },
  {
   "cell_type": "code",
   "execution_count": 29,
   "id": "e44d2b40",
   "metadata": {},
   "outputs": [],
   "source": [
    "submission_lr = pd.DataFrame({'PassengerId': PassID, 'Survived': y_predict})"
   ]
  },
  {
   "cell_type": "code",
   "execution_count": 30,
   "id": "642b1785",
   "metadata": {},
   "outputs": [],
   "source": [
    "submission_lr.to_csv('D:\\\\Titanic.csv', index=False)"
   ]
  },
  {
   "cell_type": "code",
   "execution_count": 31,
   "id": "7b02be8a",
   "metadata": {},
   "outputs": [],
   "source": [
    "sumbission_lr = pd.read_csv('D:\\\\Titanic.csv')"
   ]
  },
  {
   "cell_type": "code",
   "execution_count": 32,
   "id": "e43ecb29",
   "metadata": {},
   "outputs": [
    {
     "data": {
      "text/html": [
       "<div>\n",
       "<style scoped>\n",
       "    .dataframe tbody tr th:only-of-type {\n",
       "        vertical-align: middle;\n",
       "    }\n",
       "\n",
       "    .dataframe tbody tr th {\n",
       "        vertical-align: top;\n",
       "    }\n",
       "\n",
       "    .dataframe thead th {\n",
       "        text-align: right;\n",
       "    }\n",
       "</style>\n",
       "<table border=\"1\" class=\"dataframe\">\n",
       "  <thead>\n",
       "    <tr style=\"text-align: right;\">\n",
       "      <th></th>\n",
       "      <th>PassengerId</th>\n",
       "      <th>Survived</th>\n",
       "    </tr>\n",
       "  </thead>\n",
       "  <tbody>\n",
       "    <tr>\n",
       "      <th>0</th>\n",
       "      <td>892</td>\n",
       "      <td>0</td>\n",
       "    </tr>\n",
       "    <tr>\n",
       "      <th>1</th>\n",
       "      <td>893</td>\n",
       "      <td>0</td>\n",
       "    </tr>\n",
       "    <tr>\n",
       "      <th>2</th>\n",
       "      <td>894</td>\n",
       "      <td>0</td>\n",
       "    </tr>\n",
       "    <tr>\n",
       "      <th>3</th>\n",
       "      <td>895</td>\n",
       "      <td>0</td>\n",
       "    </tr>\n",
       "    <tr>\n",
       "      <th>4</th>\n",
       "      <td>896</td>\n",
       "      <td>1</td>\n",
       "    </tr>\n",
       "    <tr>\n",
       "      <th>...</th>\n",
       "      <td>...</td>\n",
       "      <td>...</td>\n",
       "    </tr>\n",
       "    <tr>\n",
       "      <th>413</th>\n",
       "      <td>1305</td>\n",
       "      <td>0</td>\n",
       "    </tr>\n",
       "    <tr>\n",
       "      <th>414</th>\n",
       "      <td>1306</td>\n",
       "      <td>1</td>\n",
       "    </tr>\n",
       "    <tr>\n",
       "      <th>415</th>\n",
       "      <td>1307</td>\n",
       "      <td>0</td>\n",
       "    </tr>\n",
       "    <tr>\n",
       "      <th>416</th>\n",
       "      <td>1308</td>\n",
       "      <td>0</td>\n",
       "    </tr>\n",
       "    <tr>\n",
       "      <th>417</th>\n",
       "      <td>1309</td>\n",
       "      <td>0</td>\n",
       "    </tr>\n",
       "  </tbody>\n",
       "</table>\n",
       "<p>418 rows × 2 columns</p>\n",
       "</div>"
      ],
      "text/plain": [
       "     PassengerId  Survived\n",
       "0            892         0\n",
       "1            893         0\n",
       "2            894         0\n",
       "3            895         0\n",
       "4            896         1\n",
       "..           ...       ...\n",
       "413         1305         0\n",
       "414         1306         1\n",
       "415         1307         0\n",
       "416         1308         0\n",
       "417         1309         0\n",
       "\n",
       "[418 rows x 2 columns]"
      ]
     },
     "execution_count": 32,
     "metadata": {},
     "output_type": "execute_result"
    }
   ],
   "source": [
    "submission_lr"
   ]
  },
  {
   "cell_type": "code",
   "execution_count": 33,
   "id": "0e80ad05",
   "metadata": {},
   "outputs": [
    {
     "data": {
      "text/plain": [
       "<AxesSubplot: xlabel='Survived', ylabel='Count'>"
      ]
     },
     "execution_count": 33,
     "metadata": {},
     "output_type": "execute_result"
    },
    {
     "data": {
      "image/png": "[encoded data removed]",
      "text/plain": [
       "<Figure size 640x480 with 1 Axes>"
      ]
     },
     "metadata": {},
     "output_type": "display_data"
    }
   ],
   "source": [
    "sns.histplot(x='Survived', data=submission_lr)"
   ]
  },
  {
   "cell_type": "code",
   "execution_count": 34,
   "id": "e526dc00",
   "metadata": {},
   "outputs": [],
   "source": [
    "sumbission = pd.read_csv('D:\\\\projeler\\\\project Titanic\\\\gender_submission.csv')"
   ]
  },
  {
   "cell_type": "code",
   "execution_count": 35,
   "id": "8fdf21ba",
   "metadata": {},
   "outputs": [
    {
     "data": {
      "text/plain": [
       "<AxesSubplot: xlabel='Survived', ylabel='Count'>"
      ]
     },
     "execution_count": 35,
     "metadata": {},
     "output_type": "execute_result"
    },
    {
     "data": {
      "image/png": "[encoded data removed]",
      "text/plain": [
       "<Figure size 640x480 with 1 Axes>"
      ]
     },
     "metadata": {},
     "output_type": "display_data"
    }
   ],
   "source": [
    "sns.histplot(x='Survived', data=sumbission)"
   ]
  },
  {
   "cell_type": "code",
   "execution_count": null,
   "id": "a966bcf4",
   "metadata": {},
   "outputs": [],
   "source": []
  }
 ],
 "metadata": {
  "kernelspec": {
   "display_name": "Python 3 (ipykernel)",
   "language": "python",
   "name": "python3"
  },
  "language_info": {
   "codemirror_mode": {
    "name": "ipython",
    "version": 3
   },
   "file_extension": ".py",
   "mimetype": "text/x-python",
   "name": "python",
   "nbconvert_exporter": "python",
   "pygments_lexer": "ipython3",
   "version": "3.9.2"
  }
 },
 "nbformat": 4,
 "nbformat_minor": 5
}
