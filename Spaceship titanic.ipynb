{
 "cells": [
  {
   "cell_type": "code",
   "execution_count": 1,
   "id": "5c226f41",
   "metadata": {
    "_cell_guid": "b1076dfc-b9ad-4769-8c92-a6c4dae69d19",
    "_uuid": "8f2839f25d086af736a60e9eeb907d3b93b6e0e5",
    "execution": {
     "iopub.execute_input": "2023-03-16T16:38:15.057189Z",
     "iopub.status.busy": "2023-03-16T16:38:15.056592Z",
     "iopub.status.idle": "2023-03-16T16:38:16.392944Z",
     "shell.execute_reply": "2023-03-16T16:38:16.391480Z"
    },
    "papermill": {
     "duration": 1.365743,
     "end_time": "2023-03-16T16:38:16.397300",
     "exception": false,
     "start_time": "2023-03-16T16:38:15.031557",
     "status": "completed"
    },
    "tags": []
   },
   "outputs": [
    {
     "name": "stdout",
     "output_type": "stream",
     "text": [
      "/kaggle/input/spaceship-titanic/sample_submission.csv\n",
      "/kaggle/input/spaceship-titanic/train.csv\n",
      "/kaggle/input/spaceship-titanic/test.csv\n"
     ]
    }
   ],
   "source": [
    "# This Python 3 environment comes with many helpful analytics libraries installed\n",
    "# It is defined by the kaggle/python Docker image: https://github.com/kaggle/docker-python\n",
    "# For example, here's several helpful packages to load\n",
    "\n",
    "import numpy as np # linear algebra\n",
    "import pandas as pd # data processing, CSV file I/O (e.g. pd.read_csv)\n",
    "import seaborn as sns\n",
    "import matplotlib.pyplot as plt\n",
    "# Input data files are available in the read-only \"../input/\" directory\n",
    "# For example, running this (by clicking run or pressing Shift+Enter) will list all files under the input directory\n",
    "\n",
    "import os\n",
    "for dirname, _, filenames in os.walk('/kaggle/input'):\n",
    "    for filename in filenames:\n",
    "        print(os.path.join(dirname, filename))\n",
    "\n",
    "# You can write up to 20GB to the current directory (/kaggle/working/) that gets preserved as output when you create a version using \"Save & Run All\" \n",
    "# You can also write temporary files to /kaggle/temp/, but they won't be saved outside of the current session"
   ]
  },
  {
   "cell_type": "code",
   "execution_count": 2,
   "id": "dc3fa3da",
   "metadata": {
    "execution": {
     "iopub.execute_input": "2023-03-16T16:38:16.435875Z",
     "iopub.status.busy": "2023-03-16T16:38:16.435414Z",
     "iopub.status.idle": "2023-03-16T16:38:16.522690Z",
     "shell.execute_reply": "2023-03-16T16:38:16.521444Z"
    },
    "papermill": {
     "duration": 0.109888,
     "end_time": "2023-03-16T16:38:16.525592",
     "exception": false,
     "start_time": "2023-03-16T16:38:16.415704",
     "status": "completed"
    },
    "tags": []
   },
   "outputs": [],
   "source": [
    "train = pd.read_csv('/kaggle/input/spaceship-titanic/train.csv')\n",
    "test = pd.read_csv('/kaggle/input/spaceship-titanic/test.csv')"
   ]
  },
  {
   "cell_type": "markdown",
   "id": "e9a02d04",
   "metadata": {
    "papermill": {
     "duration": 0.02134,
     "end_time": "2023-03-16T16:38:16.564999",
     "exception": false,
     "start_time": "2023-03-16T16:38:16.543659",
     "status": "completed"
    },
    "tags": []
   },
   "source": [
    "### Load data"
   ]
  },
  {
   "cell_type": "code",
   "execution_count": 3,
   "id": "04918234",
   "metadata": {
    "execution": {
     "iopub.execute_input": "2023-03-16T16:38:16.610783Z",
     "iopub.status.busy": "2023-03-16T16:38:16.609674Z",
     "iopub.status.idle": "2023-03-16T16:38:16.651404Z",
     "shell.execute_reply": "2023-03-16T16:38:16.649852Z"
    },
    "papermill": {
     "duration": 0.068713,
     "end_time": "2023-03-16T16:38:16.654468",
     "exception": false,
     "start_time": "2023-03-16T16:38:16.585755",
     "status": "completed"
    },
    "tags": []
   },
   "outputs": [
    {
     "data": {
      "text/html": [
       "<div>\n",
       "<style scoped>\n",
       "    .dataframe tbody tr th:only-of-type {\n",
       "        vertical-align: middle;\n",
       "    }\n",
       "\n",
       "    .dataframe tbody tr th {\n",
       "        vertical-align: top;\n",
       "    }\n",
       "\n",
       "    .dataframe thead th {\n",
       "        text-align: right;\n",
       "    }\n",
       "</style>\n",
       "<table border=\"1\" class=\"dataframe\">\n",
       "  <thead>\n",
       "    <tr style=\"text-align: right;\">\n",
       "      <th></th>\n",
       "      <th>PassengerId</th>\n",
       "      <th>HomePlanet</th>\n",
       "      <th>CryoSleep</th>\n",
       "      <th>Cabin</th>\n",
       "      <th>Destination</th>\n",
       "      <th>Age</th>\n",
       "      <th>VIP</th>\n",
       "      <th>RoomService</th>\n",
       "      <th>FoodCourt</th>\n",
       "      <th>ShoppingMall</th>\n",
       "      <th>Spa</th>\n",
       "      <th>VRDeck</th>\n",
       "      <th>Name</th>\n",
       "      <th>Transported</th>\n",
       "    </tr>\n",
       "  </thead>\n",
       "  <tbody>\n",
       "    <tr>\n",
       "      <th>2123</th>\n",
       "      <td>2275_01</td>\n",
       "      <td>Mars</td>\n",
       "      <td>False</td>\n",
       "      <td>F/460/P</td>\n",
       "      <td>PSO J318.5-22</td>\n",
       "      <td>36.0</td>\n",
       "      <td>False</td>\n",
       "      <td>241.0</td>\n",
       "      <td>0.0</td>\n",
       "      <td>670.0</td>\n",
       "      <td>0.0</td>\n",
       "      <td>0.0</td>\n",
       "      <td>Mos Tirt</td>\n",
       "      <td>False</td>\n",
       "    </tr>\n",
       "    <tr>\n",
       "      <th>4563</th>\n",
       "      <td>4857_01</td>\n",
       "      <td>Earth</td>\n",
       "      <td>False</td>\n",
       "      <td>G/782/P</td>\n",
       "      <td>55 Cancri e</td>\n",
       "      <td>19.0</td>\n",
       "      <td>False</td>\n",
       "      <td>423.0</td>\n",
       "      <td>NaN</td>\n",
       "      <td>0.0</td>\n",
       "      <td>0.0</td>\n",
       "      <td>0.0</td>\n",
       "      <td>Elanda Bushins</td>\n",
       "      <td>False</td>\n",
       "    </tr>\n",
       "    <tr>\n",
       "      <th>5867</th>\n",
       "      <td>6215_01</td>\n",
       "      <td>Europa</td>\n",
       "      <td>False</td>\n",
       "      <td>B/239/S</td>\n",
       "      <td>55 Cancri e</td>\n",
       "      <td>28.0</td>\n",
       "      <td>False</td>\n",
       "      <td>0.0</td>\n",
       "      <td>809.0</td>\n",
       "      <td>0.0</td>\n",
       "      <td>2043.0</td>\n",
       "      <td>72.0</td>\n",
       "      <td>Mahamak Sterly</td>\n",
       "      <td>True</td>\n",
       "    </tr>\n",
       "    <tr>\n",
       "      <th>8416</th>\n",
       "      <td>8989_02</td>\n",
       "      <td>Europa</td>\n",
       "      <td>True</td>\n",
       "      <td>B/291/P</td>\n",
       "      <td>55 Cancri e</td>\n",
       "      <td>16.0</td>\n",
       "      <td>False</td>\n",
       "      <td>0.0</td>\n",
       "      <td>0.0</td>\n",
       "      <td>0.0</td>\n",
       "      <td>0.0</td>\n",
       "      <td>0.0</td>\n",
       "      <td>Dyonon Invebodene</td>\n",
       "      <td>True</td>\n",
       "    </tr>\n",
       "    <tr>\n",
       "      <th>6659</th>\n",
       "      <td>7020_01</td>\n",
       "      <td>Earth</td>\n",
       "      <td>True</td>\n",
       "      <td>G/1145/S</td>\n",
       "      <td>TRAPPIST-1e</td>\n",
       "      <td>NaN</td>\n",
       "      <td>False</td>\n",
       "      <td>0.0</td>\n",
       "      <td>0.0</td>\n",
       "      <td>0.0</td>\n",
       "      <td>0.0</td>\n",
       "      <td>0.0</td>\n",
       "      <td>All Buckson</td>\n",
       "      <td>True</td>\n",
       "    </tr>\n",
       "  </tbody>\n",
       "</table>\n",
       "</div>"
      ],
      "text/plain": [
       "     PassengerId HomePlanet CryoSleep     Cabin    Destination   Age    VIP  \\\n",
       "2123     2275_01       Mars     False   F/460/P  PSO J318.5-22  36.0  False   \n",
       "4563     4857_01      Earth     False   G/782/P    55 Cancri e  19.0  False   \n",
       "5867     6215_01     Europa     False   B/239/S    55 Cancri e  28.0  False   \n",
       "8416     8989_02     Europa      True   B/291/P    55 Cancri e  16.0  False   \n",
       "6659     7020_01      Earth      True  G/1145/S    TRAPPIST-1e   NaN  False   \n",
       "\n",
       "      RoomService  FoodCourt  ShoppingMall     Spa  VRDeck               Name  \\\n",
       "2123        241.0        0.0         670.0     0.0     0.0           Mos Tirt   \n",
       "4563        423.0        NaN           0.0     0.0     0.0     Elanda Bushins   \n",
       "5867          0.0      809.0           0.0  2043.0    72.0     Mahamak Sterly   \n",
       "8416          0.0        0.0           0.0     0.0     0.0  Dyonon Invebodene   \n",
       "6659          0.0        0.0           0.0     0.0     0.0        All Buckson   \n",
       "\n",
       "      Transported  \n",
       "2123        False  \n",
       "4563        False  \n",
       "5867         True  \n",
       "8416         True  \n",
       "6659         True  "
      ]
     },
     "execution_count": 3,
     "metadata": {},
     "output_type": "execute_result"
    }
   ],
   "source": [
    "train.sample(5)"
   ]
  },
  {
   "cell_type": "code",
   "execution_count": 4,
   "id": "7f3e1a66",
   "metadata": {
    "execution": {
     "iopub.execute_input": "2023-03-16T16:38:16.697787Z",
     "iopub.status.busy": "2023-03-16T16:38:16.696484Z",
     "iopub.status.idle": "2023-03-16T16:38:16.719593Z",
     "shell.execute_reply": "2023-03-16T16:38:16.718041Z"
    },
    "papermill": {
     "duration": 0.048916,
     "end_time": "2023-03-16T16:38:16.722493",
     "exception": false,
     "start_time": "2023-03-16T16:38:16.673577",
     "status": "completed"
    },
    "tags": []
   },
   "outputs": [
    {
     "data": {
      "text/html": [
       "<div>\n",
       "<style scoped>\n",
       "    .dataframe tbody tr th:only-of-type {\n",
       "        vertical-align: middle;\n",
       "    }\n",
       "\n",
       "    .dataframe tbody tr th {\n",
       "        vertical-align: top;\n",
       "    }\n",
       "\n",
       "    .dataframe thead th {\n",
       "        text-align: right;\n",
       "    }\n",
       "</style>\n",
       "<table border=\"1\" class=\"dataframe\">\n",
       "  <thead>\n",
       "    <tr style=\"text-align: right;\">\n",
       "      <th></th>\n",
       "      <th>PassengerId</th>\n",
       "      <th>HomePlanet</th>\n",
       "      <th>CryoSleep</th>\n",
       "      <th>Cabin</th>\n",
       "      <th>Destination</th>\n",
       "      <th>Age</th>\n",
       "      <th>VIP</th>\n",
       "      <th>RoomService</th>\n",
       "      <th>FoodCourt</th>\n",
       "      <th>ShoppingMall</th>\n",
       "      <th>Spa</th>\n",
       "      <th>VRDeck</th>\n",
       "      <th>Name</th>\n",
       "    </tr>\n",
       "  </thead>\n",
       "  <tbody>\n",
       "    <tr>\n",
       "      <th>826</th>\n",
       "      <td>1693_01</td>\n",
       "      <td>Earth</td>\n",
       "      <td>False</td>\n",
       "      <td>F/322/S</td>\n",
       "      <td>TRAPPIST-1e</td>\n",
       "      <td>20.0</td>\n",
       "      <td>False</td>\n",
       "      <td>2.0</td>\n",
       "      <td>673.0</td>\n",
       "      <td>NaN</td>\n",
       "      <td>0.0</td>\n",
       "      <td>41.0</td>\n",
       "      <td>Daven Francock</td>\n",
       "    </tr>\n",
       "    <tr>\n",
       "      <th>1601</th>\n",
       "      <td>3448_02</td>\n",
       "      <td>Mars</td>\n",
       "      <td>False</td>\n",
       "      <td>F/650/S</td>\n",
       "      <td>PSO J318.5-22</td>\n",
       "      <td>NaN</td>\n",
       "      <td>False</td>\n",
       "      <td>75.0</td>\n",
       "      <td>0.0</td>\n",
       "      <td>1094.0</td>\n",
       "      <td>28.0</td>\n",
       "      <td>0.0</td>\n",
       "      <td>Posts Ple</td>\n",
       "    </tr>\n",
       "    <tr>\n",
       "      <th>3537</th>\n",
       "      <td>7673_01</td>\n",
       "      <td>Earth</td>\n",
       "      <td>NaN</td>\n",
       "      <td>F/1593/P</td>\n",
       "      <td>PSO J318.5-22</td>\n",
       "      <td>18.0</td>\n",
       "      <td>False</td>\n",
       "      <td>122.0</td>\n",
       "      <td>399.0</td>\n",
       "      <td>1.0</td>\n",
       "      <td>38.0</td>\n",
       "      <td>27.0</td>\n",
       "      <td>NaN</td>\n",
       "    </tr>\n",
       "    <tr>\n",
       "      <th>1741</th>\n",
       "      <td>3701_01</td>\n",
       "      <td>Europa</td>\n",
       "      <td>True</td>\n",
       "      <td>D/125/P</td>\n",
       "      <td>TRAPPIST-1e</td>\n",
       "      <td>30.0</td>\n",
       "      <td>False</td>\n",
       "      <td>0.0</td>\n",
       "      <td>0.0</td>\n",
       "      <td>0.0</td>\n",
       "      <td>0.0</td>\n",
       "      <td>0.0</td>\n",
       "      <td>Anchib Horbox</td>\n",
       "    </tr>\n",
       "    <tr>\n",
       "      <th>1957</th>\n",
       "      <td>4226_01</td>\n",
       "      <td>Europa</td>\n",
       "      <td>True</td>\n",
       "      <td>A/36/P</td>\n",
       "      <td>TRAPPIST-1e</td>\n",
       "      <td>26.0</td>\n",
       "      <td>False</td>\n",
       "      <td>0.0</td>\n",
       "      <td>0.0</td>\n",
       "      <td>0.0</td>\n",
       "      <td>0.0</td>\n",
       "      <td>0.0</td>\n",
       "      <td>Aspica Reming</td>\n",
       "    </tr>\n",
       "  </tbody>\n",
       "</table>\n",
       "</div>"
      ],
      "text/plain": [
       "     PassengerId HomePlanet CryoSleep     Cabin    Destination   Age    VIP  \\\n",
       "826      1693_01      Earth     False   F/322/S    TRAPPIST-1e  20.0  False   \n",
       "1601     3448_02       Mars     False   F/650/S  PSO J318.5-22   NaN  False   \n",
       "3537     7673_01      Earth       NaN  F/1593/P  PSO J318.5-22  18.0  False   \n",
       "1741     3701_01     Europa      True   D/125/P    TRAPPIST-1e  30.0  False   \n",
       "1957     4226_01     Europa      True    A/36/P    TRAPPIST-1e  26.0  False   \n",
       "\n",
       "      RoomService  FoodCourt  ShoppingMall   Spa  VRDeck            Name  \n",
       "826           2.0      673.0           NaN   0.0    41.0  Daven Francock  \n",
       "1601         75.0        0.0        1094.0  28.0     0.0       Posts Ple  \n",
       "3537        122.0      399.0           1.0  38.0    27.0             NaN  \n",
       "1741          0.0        0.0           0.0   0.0     0.0   Anchib Horbox  \n",
       "1957          0.0        0.0           0.0   0.0     0.0   Aspica Reming  "
      ]
     },
     "execution_count": 4,
     "metadata": {},
     "output_type": "execute_result"
    }
   ],
   "source": [
    "test.sample(5)"
   ]
  },
  {
   "cell_type": "code",
   "execution_count": 5,
   "id": "c13fafdc",
   "metadata": {
    "execution": {
     "iopub.execute_input": "2023-03-16T16:38:16.762800Z",
     "iopub.status.busy": "2023-03-16T16:38:16.761762Z",
     "iopub.status.idle": "2023-03-16T16:38:16.792501Z",
     "shell.execute_reply": "2023-03-16T16:38:16.791014Z"
    },
    "papermill": {
     "duration": 0.054152,
     "end_time": "2023-03-16T16:38:16.795371",
     "exception": false,
     "start_time": "2023-03-16T16:38:16.741219",
     "status": "completed"
    },
    "tags": []
   },
   "outputs": [
    {
     "name": "stdout",
     "output_type": "stream",
     "text": [
      "<class 'pandas.core.frame.DataFrame'>\n",
      "RangeIndex: 8693 entries, 0 to 8692\n",
      "Data columns (total 14 columns):\n",
      " #   Column        Non-Null Count  Dtype  \n",
      "---  ------        --------------  -----  \n",
      " 0   PassengerId   8693 non-null   object \n",
      " 1   HomePlanet    8492 non-null   object \n",
      " 2   CryoSleep     8476 non-null   object \n",
      " 3   Cabin         8494 non-null   object \n",
      " 4   Destination   8511 non-null   object \n",
      " 5   Age           8514 non-null   float64\n",
      " 6   VIP           8490 non-null   object \n",
      " 7   RoomService   8512 non-null   float64\n",
      " 8   FoodCourt     8510 non-null   float64\n",
      " 9   ShoppingMall  8485 non-null   float64\n",
      " 10  Spa           8510 non-null   float64\n",
      " 11  VRDeck        8505 non-null   float64\n",
      " 12  Name          8493 non-null   object \n",
      " 13  Transported   8693 non-null   bool   \n",
      "dtypes: bool(1), float64(6), object(7)\n",
      "memory usage: 891.5+ KB\n"
     ]
    }
   ],
   "source": [
    "train.info()"
   ]
  },
  {
   "cell_type": "code",
   "execution_count": 6,
   "id": "df9104de",
   "metadata": {
    "execution": {
     "iopub.execute_input": "2023-03-16T16:38:16.851350Z",
     "iopub.status.busy": "2023-03-16T16:38:16.850524Z",
     "iopub.status.idle": "2023-03-16T16:38:16.864493Z",
     "shell.execute_reply": "2023-03-16T16:38:16.863239Z"
    },
    "papermill": {
     "duration": 0.045856,
     "end_time": "2023-03-16T16:38:16.867733",
     "exception": false,
     "start_time": "2023-03-16T16:38:16.821877",
     "status": "completed"
    },
    "tags": []
   },
   "outputs": [
    {
     "data": {
      "text/plain": [
       "PassengerId       0\n",
       "HomePlanet      201\n",
       "CryoSleep       217\n",
       "Cabin           199\n",
       "Destination     182\n",
       "Age             179\n",
       "VIP             203\n",
       "RoomService     181\n",
       "FoodCourt       183\n",
       "ShoppingMall    208\n",
       "Spa             183\n",
       "VRDeck          188\n",
       "Name            200\n",
       "Transported       0\n",
       "dtype: int64"
      ]
     },
     "execution_count": 6,
     "metadata": {},
     "output_type": "execute_result"
    }
   ],
   "source": [
    "train.isnull().sum()"
   ]
  },
  {
   "cell_type": "markdown",
   "id": "de48fb03",
   "metadata": {
    "papermill": {
     "duration": 0.018475,
     "end_time": "2023-03-16T16:38:16.911060",
     "exception": false,
     "start_time": "2023-03-16T16:38:16.892585",
     "status": "completed"
    },
    "tags": []
   },
   "source": [
    "### train data exploration"
   ]
  },
  {
   "cell_type": "code",
   "execution_count": 7,
   "id": "8e0aeb3a",
   "metadata": {
    "execution": {
     "iopub.execute_input": "2023-03-16T16:38:16.951014Z",
     "iopub.status.busy": "2023-03-16T16:38:16.950224Z",
     "iopub.status.idle": "2023-03-16T16:38:16.968382Z",
     "shell.execute_reply": "2023-03-16T16:38:16.967311Z"
    },
    "papermill": {
     "duration": 0.041262,
     "end_time": "2023-03-16T16:38:16.971038",
     "exception": false,
     "start_time": "2023-03-16T16:38:16.929776",
     "status": "completed"
    },
    "tags": []
   },
   "outputs": [
    {
     "data": {
      "text/plain": [
       "True     4378\n",
       "False    4315\n",
       "Name: Transported, dtype: int64"
      ]
     },
     "execution_count": 7,
     "metadata": {},
     "output_type": "execute_result"
    }
   ],
   "source": [
    "train['Transported'].value_counts()"
   ]
  },
  {
   "cell_type": "code",
   "execution_count": 8,
   "id": "2f12866b",
   "metadata": {
    "execution": {
     "iopub.execute_input": "2023-03-16T16:38:17.017815Z",
     "iopub.status.busy": "2023-03-16T16:38:17.017247Z",
     "iopub.status.idle": "2023-03-16T16:38:17.037313Z",
     "shell.execute_reply": "2023-03-16T16:38:17.036003Z"
    },
    "papermill": {
     "duration": 0.04953,
     "end_time": "2023-03-16T16:38:17.040406",
     "exception": false,
     "start_time": "2023-03-16T16:38:16.990876",
     "status": "completed"
    },
    "tags": []
   },
   "outputs": [],
   "source": [
    "train['con_PassId'] = train['PassengerId'].apply(lambda x: int(''.join(x.split('_')))).astype(int)"
   ]
  },
  {
   "cell_type": "code",
   "execution_count": 9,
   "id": "d040c89e",
   "metadata": {
    "execution": {
     "iopub.execute_input": "2023-03-16T16:38:17.081453Z",
     "iopub.status.busy": "2023-03-16T16:38:17.079891Z",
     "iopub.status.idle": "2023-03-16T16:38:17.095894Z",
     "shell.execute_reply": "2023-03-16T16:38:17.094567Z"
    },
    "papermill": {
     "duration": 0.039116,
     "end_time": "2023-03-16T16:38:17.098503",
     "exception": false,
     "start_time": "2023-03-16T16:38:17.059387",
     "status": "completed"
    },
    "tags": []
   },
   "outputs": [
    {
     "data": {
      "text/plain": [
       "Earth     4720\n",
       "Europa    2177\n",
       "Mars      1796\n",
       "Name: HomePlanet, dtype: int64"
      ]
     },
     "execution_count": 9,
     "metadata": {},
     "output_type": "execute_result"
    }
   ],
   "source": [
    "train['HomePlanet'] = train['HomePlanet'].fillna(method='ffill')\n",
    "train['HomePlanet'].value_counts()"
   ]
  },
  {
   "cell_type": "code",
   "execution_count": 10,
   "id": "dfee1048",
   "metadata": {
    "execution": {
     "iopub.execute_input": "2023-03-16T16:38:17.138644Z",
     "iopub.status.busy": "2023-03-16T16:38:17.137704Z",
     "iopub.status.idle": "2023-03-16T16:38:17.155533Z",
     "shell.execute_reply": "2023-03-16T16:38:17.154199Z"
    },
    "papermill": {
     "duration": 0.041192,
     "end_time": "2023-03-16T16:38:17.158211",
     "exception": false,
     "start_time": "2023-03-16T16:38:17.117019",
     "status": "completed"
    },
    "tags": []
   },
   "outputs": [
    {
     "data": {
      "text/plain": [
       "0    5582\n",
       "1    3111\n",
       "Name: Cryo_int_val, dtype: int64"
      ]
     },
     "execution_count": 10,
     "metadata": {},
     "output_type": "execute_result"
    }
   ],
   "source": [
    "train['Cryo_int_val'] = train['CryoSleep'].replace([False, True], [0, 1])\n",
    "train['Cryo_int_val'] = train['Cryo_int_val'].fillna(train['Cryo_int_val'].fillna(method='ffill')).astype(int)\n",
    "train['Cryo_int_val'].value_counts()"
   ]
  },
  {
   "cell_type": "code",
   "execution_count": 11,
   "id": "bc7f8ce8",
   "metadata": {
    "execution": {
     "iopub.execute_input": "2023-03-16T16:38:17.199202Z",
     "iopub.status.busy": "2023-03-16T16:38:17.198246Z",
     "iopub.status.idle": "2023-03-16T16:38:17.230140Z",
     "shell.execute_reply": "2023-03-16T16:38:17.228796Z"
    },
    "papermill": {
     "duration": 0.05583,
     "end_time": "2023-03-16T16:38:17.232845",
     "exception": false,
     "start_time": "2023-03-16T16:38:17.177015",
     "status": "completed"
    },
    "tags": []
   },
   "outputs": [
    {
     "name": "stdout",
     "output_type": "stream",
     "text": [
      "FP    1473\n",
      "FS    1374\n",
      "GP    1315\n",
      "GS    1311\n",
      "ES     459\n",
      "BS     439\n",
      "EP     438\n",
      "CS     415\n",
      "BP     364\n",
      "CP     349\n",
      "DP     251\n",
      "DS     234\n",
      "AS     143\n",
      "AP     123\n",
      "TP       4\n",
      "TS       1\n",
      "Name: Cabin_letter, dtype: int64 82      28\n",
      "19      24\n",
      "86      22\n",
      "97      21\n",
      "176     21\n",
      "        ..\n",
      "1548     1\n",
      "956      1\n",
      "1547     1\n",
      "1544     1\n",
      "1894     1\n",
      "Name: Cabin_num, Length: 1817, dtype: int64\n"
     ]
    }
   ],
   "source": [
    "train['Cabin'] = train['Cabin'].fillna(method='ffill')\n",
    "train['Cabin_letter'] = train['Cabin'].apply(lambda x: ''.join(x.split('/')[0::2]))\n",
    "train['Cabin_num'] = train['Cabin'].apply(lambda x: ''.join(x.split('/')[1]))\n",
    "print(train['Cabin_letter'].value_counts(),\n",
    "     train['Cabin_num'].value_counts())"
   ]
  },
  {
   "cell_type": "code",
   "execution_count": 12,
   "id": "90e7302d",
   "metadata": {
    "execution": {
     "iopub.execute_input": "2023-03-16T16:38:17.274144Z",
     "iopub.status.busy": "2023-03-16T16:38:17.273143Z",
     "iopub.status.idle": "2023-03-16T16:38:17.286083Z",
     "shell.execute_reply": "2023-03-16T16:38:17.284618Z"
    },
    "papermill": {
     "duration": 0.036954,
     "end_time": "2023-03-16T16:38:17.288890",
     "exception": false,
     "start_time": "2023-03-16T16:38:17.251936",
     "status": "completed"
    },
    "tags": []
   },
   "outputs": [
    {
     "data": {
      "text/plain": [
       "TRAPPIST-1e      6037\n",
       "55 Cancri e      1840\n",
       "PSO J318.5-22     816\n",
       "Name: Destination, dtype: int64"
      ]
     },
     "execution_count": 12,
     "metadata": {},
     "output_type": "execute_result"
    }
   ],
   "source": [
    "train['Destination'] = train['Destination'].fillna(method='ffill')\n",
    "train['Destination'].value_counts()"
   ]
  },
  {
   "cell_type": "code",
   "execution_count": 13,
   "id": "6cd051c0",
   "metadata": {
    "execution": {
     "iopub.execute_input": "2023-03-16T16:38:17.329259Z",
     "iopub.status.busy": "2023-03-16T16:38:17.328746Z",
     "iopub.status.idle": "2023-03-16T16:38:17.346318Z",
     "shell.execute_reply": "2023-03-16T16:38:17.344952Z"
    },
    "papermill": {
     "duration": 0.041114,
     "end_time": "2023-03-16T16:38:17.349014",
     "exception": false,
     "start_time": "2023-03-16T16:38:17.307900",
     "status": "completed"
    },
    "tags": []
   },
   "outputs": [
    {
     "data": {
      "text/plain": [
       "27.0    438\n",
       "24.0    324\n",
       "18.0    320\n",
       "21.0    311\n",
       "19.0    293\n",
       "       ... \n",
       "72.0      4\n",
       "78.0      3\n",
       "79.0      3\n",
       "76.0      2\n",
       "77.0      2\n",
       "Name: Age, Length: 80, dtype: int64"
      ]
     },
     "execution_count": 13,
     "metadata": {},
     "output_type": "execute_result"
    }
   ],
   "source": [
    "train['Age'] = train['Age'].fillna(train['Age'].median())\n",
    "train['Age'].value_counts()"
   ]
  },
  {
   "cell_type": "code",
   "execution_count": 14,
   "id": "54e5296a",
   "metadata": {
    "execution": {
     "iopub.execute_input": "2023-03-16T16:38:17.389769Z",
     "iopub.status.busy": "2023-03-16T16:38:17.388947Z",
     "iopub.status.idle": "2023-03-16T16:38:17.405940Z",
     "shell.execute_reply": "2023-03-16T16:38:17.404597Z"
    },
    "papermill": {
     "duration": 0.040517,
     "end_time": "2023-03-16T16:38:17.408538",
     "exception": false,
     "start_time": "2023-03-16T16:38:17.368021",
     "status": "completed"
    },
    "tags": []
   },
   "outputs": [
    {
     "data": {
      "text/plain": [
       "0    8489\n",
       "1     204\n",
       "Name: VIP_int_val, dtype: int64"
      ]
     },
     "execution_count": 14,
     "metadata": {},
     "output_type": "execute_result"
    }
   ],
   "source": [
    "train['VIP_int_val'] = train['VIP'].replace([False, True], [0, 1])\n",
    "train['VIP_int_val'] = train['VIP_int_val'].fillna(train['VIP_int_val'].fillna(method='ffill')).astype(int)\n",
    "train['VIP_int_val'].value_counts()"
   ]
  },
  {
   "cell_type": "code",
   "execution_count": 15,
   "id": "3cb2821c",
   "metadata": {
    "execution": {
     "iopub.execute_input": "2023-03-16T16:38:17.450509Z",
     "iopub.status.busy": "2023-03-16T16:38:17.449209Z",
     "iopub.status.idle": "2023-03-16T16:38:17.464226Z",
     "shell.execute_reply": "2023-03-16T16:38:17.462849Z"
    },
    "papermill": {
     "duration": 0.039432,
     "end_time": "2023-03-16T16:38:17.467080",
     "exception": false,
     "start_time": "2023-03-16T16:38:17.427648",
     "status": "completed"
    },
    "tags": []
   },
   "outputs": [],
   "source": [
    "train['RoomService'] = train['RoomService'].fillna(train['RoomService'].fillna(0))\n",
    "train['FoodCourt'] = train['FoodCourt'].fillna(train['FoodCourt'].fillna(0))\n",
    "train['ShoppingMall'] = train['ShoppingMall'].fillna(train['ShoppingMall'].fillna(0))\n",
    "train['Spa'] = train['Spa'].fillna(train['Spa'].fillna(0))\n",
    "train['VRDeck'] = train['VRDeck'].fillna(train['VRDeck'].fillna(0))"
   ]
  },
  {
   "cell_type": "code",
   "execution_count": 16,
   "id": "c084bfe0",
   "metadata": {
    "execution": {
     "iopub.execute_input": "2023-03-16T16:38:17.509298Z",
     "iopub.status.busy": "2023-03-16T16:38:17.508677Z",
     "iopub.status.idle": "2023-03-16T16:38:17.518456Z",
     "shell.execute_reply": "2023-03-16T16:38:17.517036Z"
    },
    "papermill": {
     "duration": 0.03384,
     "end_time": "2023-03-16T16:38:17.521336",
     "exception": false,
     "start_time": "2023-03-16T16:38:17.487496",
     "status": "completed"
    },
    "tags": []
   },
   "outputs": [],
   "source": [
    "train['Name'] = train['Name'].fillna(method='ffill')"
   ]
  },
  {
   "cell_type": "code",
   "execution_count": 17,
   "id": "62b32a10",
   "metadata": {
    "execution": {
     "iopub.execute_input": "2023-03-16T16:38:17.564566Z",
     "iopub.status.busy": "2023-03-16T16:38:17.564105Z",
     "iopub.status.idle": "2023-03-16T16:38:17.583780Z",
     "shell.execute_reply": "2023-03-16T16:38:17.582423Z"
    },
    "papermill": {
     "duration": 0.045284,
     "end_time": "2023-03-16T16:38:17.586358",
     "exception": false,
     "start_time": "2023-03-16T16:38:17.541074",
     "status": "completed"
    },
    "tags": []
   },
   "outputs": [
    {
     "data": {
      "text/plain": [
       "Casonston      18\n",
       "Oneiles        16\n",
       "Briggston      15\n",
       "Domington      15\n",
       "Litthews       15\n",
       "Hinglendez     14\n",
       "Cartez         14\n",
       "Garnes         14\n",
       "Browlerson     14\n",
       "Fulloydez      14\n",
       "Moodman        14\n",
       "Barbes         13\n",
       "Gibbsonton     13\n",
       "Distured       13\n",
       "Georgasey      13\n",
       "Hanner         13\n",
       "Fowlesterez    13\n",
       "Ingston        13\n",
       "Willy          12\n",
       "Vandan         12\n",
       "Name: Surname, dtype: int64"
      ]
     },
     "execution_count": 17,
     "metadata": {},
     "output_type": "execute_result"
    }
   ],
   "source": [
    "train['Surname'] = train['Name'].apply(lambda x: x.split(' ')[1])\n",
    "train['Surname'].value_counts().head(20)"
   ]
  },
  {
   "cell_type": "code",
   "execution_count": 18,
   "id": "09a16c7d",
   "metadata": {
    "execution": {
     "iopub.execute_input": "2023-03-16T16:38:17.627109Z",
     "iopub.status.busy": "2023-03-16T16:38:17.626599Z",
     "iopub.status.idle": "2023-03-16T16:38:17.639208Z",
     "shell.execute_reply": "2023-03-16T16:38:17.637790Z"
    },
    "papermill": {
     "duration": 0.036513,
     "end_time": "2023-03-16T16:38:17.642266",
     "exception": false,
     "start_time": "2023-03-16T16:38:17.605753",
     "status": "completed"
    },
    "tags": []
   },
   "outputs": [],
   "source": [
    "train = train.drop(['CryoSleep', 'Cabin', 'VIP'], axis=1)"
   ]
  },
  {
   "cell_type": "code",
   "execution_count": 19,
   "id": "2dc5e8aa",
   "metadata": {
    "execution": {
     "iopub.execute_input": "2023-03-16T16:38:17.683362Z",
     "iopub.status.busy": "2023-03-16T16:38:17.682871Z",
     "iopub.status.idle": "2023-03-16T16:38:17.704228Z",
     "shell.execute_reply": "2023-03-16T16:38:17.702467Z"
    },
    "papermill": {
     "duration": 0.045466,
     "end_time": "2023-03-16T16:38:17.707237",
     "exception": false,
     "start_time": "2023-03-16T16:38:17.661771",
     "status": "completed"
    },
    "tags": []
   },
   "outputs": [
    {
     "name": "stdout",
     "output_type": "stream",
     "text": [
      "<class 'pandas.core.frame.DataFrame'>\n",
      "RangeIndex: 8693 entries, 0 to 8692\n",
      "Data columns (total 17 columns):\n",
      " #   Column        Non-Null Count  Dtype  \n",
      "---  ------        --------------  -----  \n",
      " 0   PassengerId   8693 non-null   object \n",
      " 1   HomePlanet    8693 non-null   object \n",
      " 2   Destination   8693 non-null   object \n",
      " 3   Age           8693 non-null   float64\n",
      " 4   RoomService   8693 non-null   float64\n",
      " 5   FoodCourt     8693 non-null   float64\n",
      " 6   ShoppingMall  8693 non-null   float64\n",
      " 7   Spa           8693 non-null   float64\n",
      " 8   VRDeck        8693 non-null   float64\n",
      " 9   Name          8693 non-null   object \n",
      " 10  Transported   8693 non-null   bool   \n",
      " 11  con_PassId    8693 non-null   int64  \n",
      " 12  Cryo_int_val  8693 non-null   int64  \n",
      " 13  Cabin_letter  8693 non-null   object \n",
      " 14  Cabin_num     8693 non-null   object \n",
      " 15  VIP_int_val   8693 non-null   int64  \n",
      " 16  Surname       8693 non-null   object \n",
      "dtypes: bool(1), float64(6), int64(3), object(7)\n",
      "memory usage: 1.1+ MB\n"
     ]
    }
   ],
   "source": [
    "train.info()"
   ]
  },
  {
   "cell_type": "code",
   "execution_count": 20,
   "id": "a81172a2",
   "metadata": {
    "execution": {
     "iopub.execute_input": "2023-03-16T16:38:17.749326Z",
     "iopub.status.busy": "2023-03-16T16:38:17.748801Z",
     "iopub.status.idle": "2023-03-16T16:38:17.766330Z",
     "shell.execute_reply": "2023-03-16T16:38:17.764533Z"
    },
    "papermill": {
     "duration": 0.042833,
     "end_time": "2023-03-16T16:38:17.769621",
     "exception": false,
     "start_time": "2023-03-16T16:38:17.726788",
     "status": "completed"
    },
    "tags": []
   },
   "outputs": [
    {
     "data": {
      "text/plain": [
       "PassengerId     0\n",
       "HomePlanet      0\n",
       "Destination     0\n",
       "Age             0\n",
       "RoomService     0\n",
       "FoodCourt       0\n",
       "ShoppingMall    0\n",
       "Spa             0\n",
       "VRDeck          0\n",
       "Name            0\n",
       "Transported     0\n",
       "con_PassId      0\n",
       "Cryo_int_val    0\n",
       "Cabin_letter    0\n",
       "Cabin_num       0\n",
       "VIP_int_val     0\n",
       "Surname         0\n",
       "dtype: int64"
      ]
     },
     "execution_count": 20,
     "metadata": {},
     "output_type": "execute_result"
    }
   ],
   "source": [
    "train.isnull().sum()"
   ]
  },
  {
   "cell_type": "code",
   "execution_count": 21,
   "id": "7e4e253c",
   "metadata": {
    "execution": {
     "iopub.execute_input": "2023-03-16T16:38:17.813531Z",
     "iopub.status.busy": "2023-03-16T16:38:17.813068Z",
     "iopub.status.idle": "2023-03-16T16:38:17.848779Z",
     "shell.execute_reply": "2023-03-16T16:38:17.847435Z"
    },
    "papermill": {
     "duration": 0.060336,
     "end_time": "2023-03-16T16:38:17.851486",
     "exception": false,
     "start_time": "2023-03-16T16:38:17.791150",
     "status": "completed"
    },
    "tags": []
   },
   "outputs": [
    {
     "data": {
      "text/html": [
       "<div>\n",
       "<style scoped>\n",
       "    .dataframe tbody tr th:only-of-type {\n",
       "        vertical-align: middle;\n",
       "    }\n",
       "\n",
       "    .dataframe tbody tr th {\n",
       "        vertical-align: top;\n",
       "    }\n",
       "\n",
       "    .dataframe thead th {\n",
       "        text-align: right;\n",
       "    }\n",
       "</style>\n",
       "<table border=\"1\" class=\"dataframe\">\n",
       "  <thead>\n",
       "    <tr style=\"text-align: right;\">\n",
       "      <th></th>\n",
       "      <th>PassengerId</th>\n",
       "      <th>HomePlanet</th>\n",
       "      <th>Destination</th>\n",
       "      <th>Age</th>\n",
       "      <th>RoomService</th>\n",
       "      <th>FoodCourt</th>\n",
       "      <th>ShoppingMall</th>\n",
       "      <th>Spa</th>\n",
       "      <th>VRDeck</th>\n",
       "      <th>Name</th>\n",
       "      <th>Transported</th>\n",
       "      <th>con_PassId</th>\n",
       "      <th>Cryo_int_val</th>\n",
       "      <th>Cabin_letter</th>\n",
       "      <th>Cabin_num</th>\n",
       "      <th>VIP_int_val</th>\n",
       "      <th>Surname</th>\n",
       "    </tr>\n",
       "  </thead>\n",
       "  <tbody>\n",
       "    <tr>\n",
       "      <th>0</th>\n",
       "      <td>0001_01</td>\n",
       "      <td>Europa</td>\n",
       "      <td>TRAPPIST-1e</td>\n",
       "      <td>39.0</td>\n",
       "      <td>0.0</td>\n",
       "      <td>0.0</td>\n",
       "      <td>0.0</td>\n",
       "      <td>0.0</td>\n",
       "      <td>0.0</td>\n",
       "      <td>Maham Ofracculy</td>\n",
       "      <td>False</td>\n",
       "      <td>101</td>\n",
       "      <td>0</td>\n",
       "      <td>BP</td>\n",
       "      <td>0</td>\n",
       "      <td>0</td>\n",
       "      <td>Ofracculy</td>\n",
       "    </tr>\n",
       "    <tr>\n",
       "      <th>1</th>\n",
       "      <td>0002_01</td>\n",
       "      <td>Earth</td>\n",
       "      <td>TRAPPIST-1e</td>\n",
       "      <td>24.0</td>\n",
       "      <td>109.0</td>\n",
       "      <td>9.0</td>\n",
       "      <td>25.0</td>\n",
       "      <td>549.0</td>\n",
       "      <td>44.0</td>\n",
       "      <td>Juanna Vines</td>\n",
       "      <td>True</td>\n",
       "      <td>201</td>\n",
       "      <td>0</td>\n",
       "      <td>FS</td>\n",
       "      <td>0</td>\n",
       "      <td>0</td>\n",
       "      <td>Vines</td>\n",
       "    </tr>\n",
       "    <tr>\n",
       "      <th>2</th>\n",
       "      <td>0003_01</td>\n",
       "      <td>Europa</td>\n",
       "      <td>TRAPPIST-1e</td>\n",
       "      <td>58.0</td>\n",
       "      <td>43.0</td>\n",
       "      <td>3576.0</td>\n",
       "      <td>0.0</td>\n",
       "      <td>6715.0</td>\n",
       "      <td>49.0</td>\n",
       "      <td>Altark Susent</td>\n",
       "      <td>False</td>\n",
       "      <td>301</td>\n",
       "      <td>0</td>\n",
       "      <td>AS</td>\n",
       "      <td>0</td>\n",
       "      <td>1</td>\n",
       "      <td>Susent</td>\n",
       "    </tr>\n",
       "    <tr>\n",
       "      <th>3</th>\n",
       "      <td>0003_02</td>\n",
       "      <td>Europa</td>\n",
       "      <td>TRAPPIST-1e</td>\n",
       "      <td>33.0</td>\n",
       "      <td>0.0</td>\n",
       "      <td>1283.0</td>\n",
       "      <td>371.0</td>\n",
       "      <td>3329.0</td>\n",
       "      <td>193.0</td>\n",
       "      <td>Solam Susent</td>\n",
       "      <td>False</td>\n",
       "      <td>302</td>\n",
       "      <td>0</td>\n",
       "      <td>AS</td>\n",
       "      <td>0</td>\n",
       "      <td>0</td>\n",
       "      <td>Susent</td>\n",
       "    </tr>\n",
       "    <tr>\n",
       "      <th>4</th>\n",
       "      <td>0004_01</td>\n",
       "      <td>Earth</td>\n",
       "      <td>TRAPPIST-1e</td>\n",
       "      <td>16.0</td>\n",
       "      <td>303.0</td>\n",
       "      <td>70.0</td>\n",
       "      <td>151.0</td>\n",
       "      <td>565.0</td>\n",
       "      <td>2.0</td>\n",
       "      <td>Willy Santantines</td>\n",
       "      <td>True</td>\n",
       "      <td>401</td>\n",
       "      <td>0</td>\n",
       "      <td>FS</td>\n",
       "      <td>1</td>\n",
       "      <td>0</td>\n",
       "      <td>Santantines</td>\n",
       "    </tr>\n",
       "    <tr>\n",
       "      <th>...</th>\n",
       "      <td>...</td>\n",
       "      <td>...</td>\n",
       "      <td>...</td>\n",
       "      <td>...</td>\n",
       "      <td>...</td>\n",
       "      <td>...</td>\n",
       "      <td>...</td>\n",
       "      <td>...</td>\n",
       "      <td>...</td>\n",
       "      <td>...</td>\n",
       "      <td>...</td>\n",
       "      <td>...</td>\n",
       "      <td>...</td>\n",
       "      <td>...</td>\n",
       "      <td>...</td>\n",
       "      <td>...</td>\n",
       "      <td>...</td>\n",
       "    </tr>\n",
       "    <tr>\n",
       "      <th>8688</th>\n",
       "      <td>9276_01</td>\n",
       "      <td>Europa</td>\n",
       "      <td>55 Cancri e</td>\n",
       "      <td>41.0</td>\n",
       "      <td>0.0</td>\n",
       "      <td>6819.0</td>\n",
       "      <td>0.0</td>\n",
       "      <td>1643.0</td>\n",
       "      <td>74.0</td>\n",
       "      <td>Gravior Noxnuther</td>\n",
       "      <td>False</td>\n",
       "      <td>927601</td>\n",
       "      <td>0</td>\n",
       "      <td>AP</td>\n",
       "      <td>98</td>\n",
       "      <td>1</td>\n",
       "      <td>Noxnuther</td>\n",
       "    </tr>\n",
       "    <tr>\n",
       "      <th>8689</th>\n",
       "      <td>9278_01</td>\n",
       "      <td>Earth</td>\n",
       "      <td>PSO J318.5-22</td>\n",
       "      <td>18.0</td>\n",
       "      <td>0.0</td>\n",
       "      <td>0.0</td>\n",
       "      <td>0.0</td>\n",
       "      <td>0.0</td>\n",
       "      <td>0.0</td>\n",
       "      <td>Kurta Mondalley</td>\n",
       "      <td>False</td>\n",
       "      <td>927801</td>\n",
       "      <td>1</td>\n",
       "      <td>GS</td>\n",
       "      <td>1499</td>\n",
       "      <td>0</td>\n",
       "      <td>Mondalley</td>\n",
       "    </tr>\n",
       "    <tr>\n",
       "      <th>8690</th>\n",
       "      <td>9279_01</td>\n",
       "      <td>Earth</td>\n",
       "      <td>TRAPPIST-1e</td>\n",
       "      <td>26.0</td>\n",
       "      <td>0.0</td>\n",
       "      <td>0.0</td>\n",
       "      <td>1872.0</td>\n",
       "      <td>1.0</td>\n",
       "      <td>0.0</td>\n",
       "      <td>Fayey Connon</td>\n",
       "      <td>True</td>\n",
       "      <td>927901</td>\n",
       "      <td>0</td>\n",
       "      <td>GS</td>\n",
       "      <td>1500</td>\n",
       "      <td>0</td>\n",
       "      <td>Connon</td>\n",
       "    </tr>\n",
       "    <tr>\n",
       "      <th>8691</th>\n",
       "      <td>9280_01</td>\n",
       "      <td>Europa</td>\n",
       "      <td>55 Cancri e</td>\n",
       "      <td>32.0</td>\n",
       "      <td>0.0</td>\n",
       "      <td>1049.0</td>\n",
       "      <td>0.0</td>\n",
       "      <td>353.0</td>\n",
       "      <td>3235.0</td>\n",
       "      <td>Celeon Hontichre</td>\n",
       "      <td>False</td>\n",
       "      <td>928001</td>\n",
       "      <td>0</td>\n",
       "      <td>ES</td>\n",
       "      <td>608</td>\n",
       "      <td>0</td>\n",
       "      <td>Hontichre</td>\n",
       "    </tr>\n",
       "    <tr>\n",
       "      <th>8692</th>\n",
       "      <td>9280_02</td>\n",
       "      <td>Europa</td>\n",
       "      <td>TRAPPIST-1e</td>\n",
       "      <td>44.0</td>\n",
       "      <td>126.0</td>\n",
       "      <td>4688.0</td>\n",
       "      <td>0.0</td>\n",
       "      <td>0.0</td>\n",
       "      <td>12.0</td>\n",
       "      <td>Propsh Hontichre</td>\n",
       "      <td>True</td>\n",
       "      <td>928002</td>\n",
       "      <td>0</td>\n",
       "      <td>ES</td>\n",
       "      <td>608</td>\n",
       "      <td>0</td>\n",
       "      <td>Hontichre</td>\n",
       "    </tr>\n",
       "  </tbody>\n",
       "</table>\n",
       "<p>8693 rows × 17 columns</p>\n",
       "</div>"
      ],
      "text/plain": [
       "     PassengerId HomePlanet    Destination   Age  RoomService  FoodCourt  \\\n",
       "0        0001_01     Europa    TRAPPIST-1e  39.0          0.0        0.0   \n",
       "1        0002_01      Earth    TRAPPIST-1e  24.0        109.0        9.0   \n",
       "2        0003_01     Europa    TRAPPIST-1e  58.0         43.0     3576.0   \n",
       "3        0003_02     Europa    TRAPPIST-1e  33.0          0.0     1283.0   \n",
       "4        0004_01      Earth    TRAPPIST-1e  16.0        303.0       70.0   \n",
       "...          ...        ...            ...   ...          ...        ...   \n",
       "8688     9276_01     Europa    55 Cancri e  41.0          0.0     6819.0   \n",
       "8689     9278_01      Earth  PSO J318.5-22  18.0          0.0        0.0   \n",
       "8690     9279_01      Earth    TRAPPIST-1e  26.0          0.0        0.0   \n",
       "8691     9280_01     Europa    55 Cancri e  32.0          0.0     1049.0   \n",
       "8692     9280_02     Europa    TRAPPIST-1e  44.0        126.0     4688.0   \n",
       "\n",
       "      ShoppingMall     Spa  VRDeck               Name  Transported  \\\n",
       "0              0.0     0.0     0.0    Maham Ofracculy        False   \n",
       "1             25.0   549.0    44.0       Juanna Vines         True   \n",
       "2              0.0  6715.0    49.0      Altark Susent        False   \n",
       "3            371.0  3329.0   193.0       Solam Susent        False   \n",
       "4            151.0   565.0     2.0  Willy Santantines         True   \n",
       "...            ...     ...     ...                ...          ...   \n",
       "8688           0.0  1643.0    74.0  Gravior Noxnuther        False   \n",
       "8689           0.0     0.0     0.0    Kurta Mondalley        False   \n",
       "8690        1872.0     1.0     0.0       Fayey Connon         True   \n",
       "8691           0.0   353.0  3235.0   Celeon Hontichre        False   \n",
       "8692           0.0     0.0    12.0   Propsh Hontichre         True   \n",
       "\n",
       "      con_PassId  Cryo_int_val Cabin_letter Cabin_num  VIP_int_val  \\\n",
       "0            101             0           BP         0            0   \n",
       "1            201             0           FS         0            0   \n",
       "2            301             0           AS         0            1   \n",
       "3            302             0           AS         0            0   \n",
       "4            401             0           FS         1            0   \n",
       "...          ...           ...          ...       ...          ...   \n",
       "8688      927601             0           AP        98            1   \n",
       "8689      927801             1           GS      1499            0   \n",
       "8690      927901             0           GS      1500            0   \n",
       "8691      928001             0           ES       608            0   \n",
       "8692      928002             0           ES       608            0   \n",
       "\n",
       "          Surname  \n",
       "0       Ofracculy  \n",
       "1           Vines  \n",
       "2          Susent  \n",
       "3          Susent  \n",
       "4     Santantines  \n",
       "...           ...  \n",
       "8688    Noxnuther  \n",
       "8689    Mondalley  \n",
       "8690       Connon  \n",
       "8691    Hontichre  \n",
       "8692    Hontichre  \n",
       "\n",
       "[8693 rows x 17 columns]"
      ]
     },
     "execution_count": 21,
     "metadata": {},
     "output_type": "execute_result"
    }
   ],
   "source": [
    "train"
   ]
  },
  {
   "cell_type": "markdown",
   "id": "c9679ff5",
   "metadata": {
    "papermill": {
     "duration": 0.020762,
     "end_time": "2023-03-16T16:38:17.893851",
     "exception": false,
     "start_time": "2023-03-16T16:38:17.873089",
     "status": "completed"
    },
    "tags": []
   },
   "source": [
    "### dependence of the \"transported\" feature on other features"
   ]
  },
  {
   "cell_type": "code",
   "execution_count": 22,
   "id": "1383abea",
   "metadata": {
    "execution": {
     "iopub.execute_input": "2023-03-16T16:38:17.938314Z",
     "iopub.status.busy": "2023-03-16T16:38:17.937776Z",
     "iopub.status.idle": "2023-03-16T16:38:17.967814Z",
     "shell.execute_reply": "2023-03-16T16:38:17.966403Z"
    },
    "papermill": {
     "duration": 0.0549,
     "end_time": "2023-03-16T16:38:17.970640",
     "exception": false,
     "start_time": "2023-03-16T16:38:17.915740",
     "status": "completed"
    },
    "tags": []
   },
   "outputs": [
    {
     "data": {
      "text/html": [
       "<div>\n",
       "<style scoped>\n",
       "    .dataframe tbody tr th:only-of-type {\n",
       "        vertical-align: middle;\n",
       "    }\n",
       "\n",
       "    .dataframe tbody tr th {\n",
       "        vertical-align: top;\n",
       "    }\n",
       "\n",
       "    .dataframe thead th {\n",
       "        text-align: right;\n",
       "    }\n",
       "</style>\n",
       "<table border=\"1\" class=\"dataframe\">\n",
       "  <thead>\n",
       "    <tr style=\"text-align: right;\">\n",
       "      <th>HomePlanet</th>\n",
       "      <th>Earth</th>\n",
       "      <th>Europa</th>\n",
       "      <th>Mars</th>\n",
       "    </tr>\n",
       "    <tr>\n",
       "      <th>Transported</th>\n",
       "      <th></th>\n",
       "      <th></th>\n",
       "      <th></th>\n",
       "    </tr>\n",
       "  </thead>\n",
       "  <tbody>\n",
       "    <tr>\n",
       "      <th>False</th>\n",
       "      <td>2716</td>\n",
       "      <td>742</td>\n",
       "      <td>857</td>\n",
       "    </tr>\n",
       "    <tr>\n",
       "      <th>True</th>\n",
       "      <td>2004</td>\n",
       "      <td>1435</td>\n",
       "      <td>939</td>\n",
       "    </tr>\n",
       "  </tbody>\n",
       "</table>\n",
       "</div>"
      ],
      "text/plain": [
       "HomePlanet   Earth  Europa  Mars\n",
       "Transported                     \n",
       "False         2716     742   857\n",
       "True          2004    1435   939"
      ]
     },
     "execution_count": 22,
     "metadata": {},
     "output_type": "execute_result"
    }
   ],
   "source": [
    "pd.pivot_table(train, index='Transported', columns='HomePlanet',\n",
    "              values='Name', aggfunc='count')"
   ]
  },
  {
   "cell_type": "code",
   "execution_count": 23,
   "id": "4be56333",
   "metadata": {
    "execution": {
     "iopub.execute_input": "2023-03-16T16:38:18.014253Z",
     "iopub.status.busy": "2023-03-16T16:38:18.013716Z",
     "iopub.status.idle": "2023-03-16T16:38:18.039240Z",
     "shell.execute_reply": "2023-03-16T16:38:18.037920Z"
    },
    "papermill": {
     "duration": 0.050906,
     "end_time": "2023-03-16T16:38:18.042094",
     "exception": false,
     "start_time": "2023-03-16T16:38:17.991188",
     "status": "completed"
    },
    "tags": []
   },
   "outputs": [
    {
     "data": {
      "text/html": [
       "<div>\n",
       "<style scoped>\n",
       "    .dataframe tbody tr th:only-of-type {\n",
       "        vertical-align: middle;\n",
       "    }\n",
       "\n",
       "    .dataframe tbody tr th {\n",
       "        vertical-align: top;\n",
       "    }\n",
       "\n",
       "    .dataframe thead th {\n",
       "        text-align: right;\n",
       "    }\n",
       "</style>\n",
       "<table border=\"1\" class=\"dataframe\">\n",
       "  <thead>\n",
       "    <tr style=\"text-align: right;\">\n",
       "      <th>Destination</th>\n",
       "      <th>55 Cancri e</th>\n",
       "      <th>PSO J318.5-22</th>\n",
       "      <th>TRAPPIST-1e</th>\n",
       "    </tr>\n",
       "    <tr>\n",
       "      <th>Transported</th>\n",
       "      <th></th>\n",
       "      <th></th>\n",
       "      <th></th>\n",
       "    </tr>\n",
       "  </thead>\n",
       "  <tbody>\n",
       "    <tr>\n",
       "      <th>False</th>\n",
       "      <td>719</td>\n",
       "      <td>406</td>\n",
       "      <td>3190</td>\n",
       "    </tr>\n",
       "    <tr>\n",
       "      <th>True</th>\n",
       "      <td>1121</td>\n",
       "      <td>410</td>\n",
       "      <td>2847</td>\n",
       "    </tr>\n",
       "  </tbody>\n",
       "</table>\n",
       "</div>"
      ],
      "text/plain": [
       "Destination  55 Cancri e  PSO J318.5-22  TRAPPIST-1e\n",
       "Transported                                         \n",
       "False                719            406         3190\n",
       "True                1121            410         2847"
      ]
     },
     "execution_count": 23,
     "metadata": {},
     "output_type": "execute_result"
    }
   ],
   "source": [
    "pd.pivot_table(train, index='Transported', columns='Destination',\n",
    "              values='Name', aggfunc='count')"
   ]
  },
  {
   "cell_type": "code",
   "execution_count": 24,
   "id": "10925c3a",
   "metadata": {
    "execution": {
     "iopub.execute_input": "2023-03-16T16:38:18.086118Z",
     "iopub.status.busy": "2023-03-16T16:38:18.085620Z",
     "iopub.status.idle": "2023-03-16T16:38:18.124606Z",
     "shell.execute_reply": "2023-03-16T16:38:18.123711Z"
    },
    "papermill": {
     "duration": 0.06416,
     "end_time": "2023-03-16T16:38:18.127055",
     "exception": false,
     "start_time": "2023-03-16T16:38:18.062895",
     "status": "completed"
    },
    "tags": []
   },
   "outputs": [
    {
     "data": {
      "text/html": [
       "<div>\n",
       "<style scoped>\n",
       "    .dataframe tbody tr th:only-of-type {\n",
       "        vertical-align: middle;\n",
       "    }\n",
       "\n",
       "    .dataframe tbody tr th {\n",
       "        vertical-align: top;\n",
       "    }\n",
       "\n",
       "    .dataframe thead th {\n",
       "        text-align: right;\n",
       "    }\n",
       "</style>\n",
       "<table border=\"1\" class=\"dataframe\">\n",
       "  <thead>\n",
       "    <tr style=\"text-align: right;\">\n",
       "      <th>Cabin_letter</th>\n",
       "      <th>AP</th>\n",
       "      <th>AS</th>\n",
       "      <th>BP</th>\n",
       "      <th>BS</th>\n",
       "      <th>CP</th>\n",
       "      <th>CS</th>\n",
       "      <th>DP</th>\n",
       "      <th>DS</th>\n",
       "      <th>EP</th>\n",
       "      <th>ES</th>\n",
       "      <th>FP</th>\n",
       "      <th>FS</th>\n",
       "      <th>GP</th>\n",
       "      <th>GS</th>\n",
       "      <th>TP</th>\n",
       "      <th>TS</th>\n",
       "    </tr>\n",
       "    <tr>\n",
       "      <th>Transported</th>\n",
       "      <th></th>\n",
       "      <th></th>\n",
       "      <th></th>\n",
       "      <th></th>\n",
       "      <th></th>\n",
       "      <th></th>\n",
       "      <th></th>\n",
       "      <th></th>\n",
       "      <th></th>\n",
       "      <th></th>\n",
       "      <th></th>\n",
       "      <th></th>\n",
       "      <th></th>\n",
       "      <th></th>\n",
       "      <th></th>\n",
       "      <th></th>\n",
       "    </tr>\n",
       "  </thead>\n",
       "  <tbody>\n",
       "    <tr>\n",
       "      <th>False</th>\n",
       "      <td>68.0</td>\n",
       "      <td>65.0</td>\n",
       "      <td>120.0</td>\n",
       "      <td>97.0</td>\n",
       "      <td>147.0</td>\n",
       "      <td>100.0</td>\n",
       "      <td>148.0</td>\n",
       "      <td>127.0</td>\n",
       "      <td>287.0</td>\n",
       "      <td>286.0</td>\n",
       "      <td>870.0</td>\n",
       "      <td>727.0</td>\n",
       "      <td>724.0</td>\n",
       "      <td>545.0</td>\n",
       "      <td>3.0</td>\n",
       "      <td>1.0</td>\n",
       "    </tr>\n",
       "    <tr>\n",
       "      <th>True</th>\n",
       "      <td>55.0</td>\n",
       "      <td>78.0</td>\n",
       "      <td>244.0</td>\n",
       "      <td>342.0</td>\n",
       "      <td>202.0</td>\n",
       "      <td>315.0</td>\n",
       "      <td>103.0</td>\n",
       "      <td>107.0</td>\n",
       "      <td>151.0</td>\n",
       "      <td>173.0</td>\n",
       "      <td>603.0</td>\n",
       "      <td>647.0</td>\n",
       "      <td>591.0</td>\n",
       "      <td>766.0</td>\n",
       "      <td>1.0</td>\n",
       "      <td>NaN</td>\n",
       "    </tr>\n",
       "  </tbody>\n",
       "</table>\n",
       "</div>"
      ],
      "text/plain": [
       "Cabin_letter    AP    AS     BP     BS     CP     CS     DP     DS     EP  \\\n",
       "Transported                                                                 \n",
       "False         68.0  65.0  120.0   97.0  147.0  100.0  148.0  127.0  287.0   \n",
       "True          55.0  78.0  244.0  342.0  202.0  315.0  103.0  107.0  151.0   \n",
       "\n",
       "Cabin_letter     ES     FP     FS     GP     GS   TP   TS  \n",
       "Transported                                                \n",
       "False         286.0  870.0  727.0  724.0  545.0  3.0  1.0  \n",
       "True          173.0  603.0  647.0  591.0  766.0  1.0  NaN  "
      ]
     },
     "execution_count": 24,
     "metadata": {},
     "output_type": "execute_result"
    }
   ],
   "source": [
    "pd.pivot_table(train, index='Transported', columns='Cabin_letter',\n",
    "              values='Name', aggfunc='count')"
   ]
  },
  {
   "cell_type": "code",
   "execution_count": 25,
   "id": "39cd7dc4",
   "metadata": {
    "execution": {
     "iopub.execute_input": "2023-03-16T16:38:18.171953Z",
     "iopub.status.busy": "2023-03-16T16:38:18.171447Z",
     "iopub.status.idle": "2023-03-16T16:38:18.199109Z",
     "shell.execute_reply": "2023-03-16T16:38:18.198090Z"
    },
    "papermill": {
     "duration": 0.0541,
     "end_time": "2023-03-16T16:38:18.202202",
     "exception": false,
     "start_time": "2023-03-16T16:38:18.148102",
     "status": "completed"
    },
    "tags": []
   },
   "outputs": [
    {
     "data": {
      "text/html": [
       "<div>\n",
       "<style scoped>\n",
       "    .dataframe tbody tr th:only-of-type {\n",
       "        vertical-align: middle;\n",
       "    }\n",
       "\n",
       "    .dataframe tbody tr th {\n",
       "        vertical-align: top;\n",
       "    }\n",
       "\n",
       "    .dataframe thead th {\n",
       "        text-align: right;\n",
       "    }\n",
       "</style>\n",
       "<table border=\"1\" class=\"dataframe\">\n",
       "  <thead>\n",
       "    <tr style=\"text-align: right;\">\n",
       "      <th>VIP_int_val</th>\n",
       "      <th>0</th>\n",
       "      <th>1</th>\n",
       "    </tr>\n",
       "    <tr>\n",
       "      <th>Transported</th>\n",
       "      <th></th>\n",
       "      <th></th>\n",
       "    </tr>\n",
       "  </thead>\n",
       "  <tbody>\n",
       "    <tr>\n",
       "      <th>False</th>\n",
       "      <td>4191</td>\n",
       "      <td>124</td>\n",
       "    </tr>\n",
       "    <tr>\n",
       "      <th>True</th>\n",
       "      <td>4298</td>\n",
       "      <td>80</td>\n",
       "    </tr>\n",
       "  </tbody>\n",
       "</table>\n",
       "</div>"
      ],
      "text/plain": [
       "VIP_int_val     0    1\n",
       "Transported           \n",
       "False        4191  124\n",
       "True         4298   80"
      ]
     },
     "execution_count": 25,
     "metadata": {},
     "output_type": "execute_result"
    }
   ],
   "source": [
    "pd.pivot_table(train, index='Transported', columns='VIP_int_val',\n",
    "              values='Name', aggfunc='count')"
   ]
  },
  {
   "cell_type": "code",
   "execution_count": 26,
   "id": "4176ed2c",
   "metadata": {
    "execution": {
     "iopub.execute_input": "2023-03-16T16:38:18.249576Z",
     "iopub.status.busy": "2023-03-16T16:38:18.249066Z",
     "iopub.status.idle": "2023-03-16T16:38:18.272078Z",
     "shell.execute_reply": "2023-03-16T16:38:18.270851Z"
    },
    "papermill": {
     "duration": 0.04978,
     "end_time": "2023-03-16T16:38:18.274832",
     "exception": false,
     "start_time": "2023-03-16T16:38:18.225052",
     "status": "completed"
    },
    "tags": []
   },
   "outputs": [
    {
     "data": {
      "text/html": [
       "<div>\n",
       "<style scoped>\n",
       "    .dataframe tbody tr th:only-of-type {\n",
       "        vertical-align: middle;\n",
       "    }\n",
       "\n",
       "    .dataframe tbody tr th {\n",
       "        vertical-align: top;\n",
       "    }\n",
       "\n",
       "    .dataframe thead th {\n",
       "        text-align: right;\n",
       "    }\n",
       "</style>\n",
       "<table border=\"1\" class=\"dataframe\">\n",
       "  <thead>\n",
       "    <tr style=\"text-align: right;\">\n",
       "      <th>Cryo_int_val</th>\n",
       "      <th>0</th>\n",
       "      <th>1</th>\n",
       "    </tr>\n",
       "    <tr>\n",
       "      <th>Transported</th>\n",
       "      <th></th>\n",
       "      <th></th>\n",
       "    </tr>\n",
       "  </thead>\n",
       "  <tbody>\n",
       "    <tr>\n",
       "      <th>False</th>\n",
       "      <td>3721</td>\n",
       "      <td>594</td>\n",
       "    </tr>\n",
       "    <tr>\n",
       "      <th>True</th>\n",
       "      <td>1861</td>\n",
       "      <td>2517</td>\n",
       "    </tr>\n",
       "  </tbody>\n",
       "</table>\n",
       "</div>"
      ],
      "text/plain": [
       "Cryo_int_val     0     1\n",
       "Transported             \n",
       "False         3721   594\n",
       "True          1861  2517"
      ]
     },
     "execution_count": 26,
     "metadata": {},
     "output_type": "execute_result"
    }
   ],
   "source": [
    "pd.pivot_table(train, index='Transported', columns='Cryo_int_val',\n",
    "              values='Name', aggfunc='count')"
   ]
  },
  {
   "cell_type": "code",
   "execution_count": 27,
   "id": "cd3c803f",
   "metadata": {
    "execution": {
     "iopub.execute_input": "2023-03-16T16:38:18.321587Z",
     "iopub.status.busy": "2023-03-16T16:38:18.321077Z",
     "iopub.status.idle": "2023-03-16T16:38:18.363296Z",
     "shell.execute_reply": "2023-03-16T16:38:18.361943Z"
    },
    "papermill": {
     "duration": 0.068429,
     "end_time": "2023-03-16T16:38:18.365917",
     "exception": false,
     "start_time": "2023-03-16T16:38:18.297488",
     "status": "completed"
    },
    "tags": []
   },
   "outputs": [
    {
     "data": {
      "text/html": [
       "<div>\n",
       "<style scoped>\n",
       "    .dataframe tbody tr th:only-of-type {\n",
       "        vertical-align: middle;\n",
       "    }\n",
       "\n",
       "    .dataframe tbody tr th {\n",
       "        vertical-align: top;\n",
       "    }\n",
       "\n",
       "    .dataframe thead th {\n",
       "        text-align: right;\n",
       "    }\n",
       "</style>\n",
       "<table border=\"1\" class=\"dataframe\">\n",
       "  <thead>\n",
       "    <tr style=\"text-align: right;\">\n",
       "      <th></th>\n",
       "      <th>Cabin_letter</th>\n",
       "      <th>AP</th>\n",
       "      <th>AS</th>\n",
       "      <th>BP</th>\n",
       "      <th>BS</th>\n",
       "      <th>CP</th>\n",
       "      <th>CS</th>\n",
       "      <th>DP</th>\n",
       "      <th>DS</th>\n",
       "      <th>EP</th>\n",
       "      <th>ES</th>\n",
       "      <th>FP</th>\n",
       "      <th>FS</th>\n",
       "      <th>GP</th>\n",
       "      <th>GS</th>\n",
       "      <th>TP</th>\n",
       "      <th>TS</th>\n",
       "    </tr>\n",
       "    <tr>\n",
       "      <th>Transported</th>\n",
       "      <th>Cryo_int_val</th>\n",
       "      <th></th>\n",
       "      <th></th>\n",
       "      <th></th>\n",
       "      <th></th>\n",
       "      <th></th>\n",
       "      <th></th>\n",
       "      <th></th>\n",
       "      <th></th>\n",
       "      <th></th>\n",
       "      <th></th>\n",
       "      <th></th>\n",
       "      <th></th>\n",
       "      <th></th>\n",
       "      <th></th>\n",
       "      <th></th>\n",
       "      <th></th>\n",
       "    </tr>\n",
       "  </thead>\n",
       "  <tbody>\n",
       "    <tr>\n",
       "      <th rowspan=\"2\" valign=\"top\">False</th>\n",
       "      <th>0</th>\n",
       "      <td>66.0</td>\n",
       "      <td>62.0</td>\n",
       "      <td>113.0</td>\n",
       "      <td>97.0</td>\n",
       "      <td>143.0</td>\n",
       "      <td>99.0</td>\n",
       "      <td>146.0</td>\n",
       "      <td>124.0</td>\n",
       "      <td>255.0</td>\n",
       "      <td>254.0</td>\n",
       "      <td>854.0</td>\n",
       "      <td>717.0</td>\n",
       "      <td>435.0</td>\n",
       "      <td>352.0</td>\n",
       "      <td>3.0</td>\n",
       "      <td>1.0</td>\n",
       "    </tr>\n",
       "    <tr>\n",
       "      <th>1</th>\n",
       "      <td>2.0</td>\n",
       "      <td>3.0</td>\n",
       "      <td>7.0</td>\n",
       "      <td>NaN</td>\n",
       "      <td>4.0</td>\n",
       "      <td>1.0</td>\n",
       "      <td>2.0</td>\n",
       "      <td>3.0</td>\n",
       "      <td>32.0</td>\n",
       "      <td>32.0</td>\n",
       "      <td>16.0</td>\n",
       "      <td>10.0</td>\n",
       "      <td>289.0</td>\n",
       "      <td>193.0</td>\n",
       "      <td>NaN</td>\n",
       "      <td>NaN</td>\n",
       "    </tr>\n",
       "    <tr>\n",
       "      <th rowspan=\"2\" valign=\"top\">True</th>\n",
       "      <th>0</th>\n",
       "      <td>24.0</td>\n",
       "      <td>38.0</td>\n",
       "      <td>56.0</td>\n",
       "      <td>95.0</td>\n",
       "      <td>71.0</td>\n",
       "      <td>147.0</td>\n",
       "      <td>56.0</td>\n",
       "      <td>49.0</td>\n",
       "      <td>101.0</td>\n",
       "      <td>102.0</td>\n",
       "      <td>312.0</td>\n",
       "      <td>373.0</td>\n",
       "      <td>173.0</td>\n",
       "      <td>263.0</td>\n",
       "      <td>1.0</td>\n",
       "      <td>NaN</td>\n",
       "    </tr>\n",
       "    <tr>\n",
       "      <th>1</th>\n",
       "      <td>31.0</td>\n",
       "      <td>40.0</td>\n",
       "      <td>188.0</td>\n",
       "      <td>247.0</td>\n",
       "      <td>131.0</td>\n",
       "      <td>168.0</td>\n",
       "      <td>47.0</td>\n",
       "      <td>58.0</td>\n",
       "      <td>50.0</td>\n",
       "      <td>71.0</td>\n",
       "      <td>291.0</td>\n",
       "      <td>274.0</td>\n",
       "      <td>418.0</td>\n",
       "      <td>503.0</td>\n",
       "      <td>NaN</td>\n",
       "      <td>NaN</td>\n",
       "    </tr>\n",
       "  </tbody>\n",
       "</table>\n",
       "</div>"
      ],
      "text/plain": [
       "Cabin_letter                AP    AS     BP     BS     CP     CS     DP  \\\n",
       "Transported Cryo_int_val                                                  \n",
       "False       0             66.0  62.0  113.0   97.0  143.0   99.0  146.0   \n",
       "            1              2.0   3.0    7.0    NaN    4.0    1.0    2.0   \n",
       "True        0             24.0  38.0   56.0   95.0   71.0  147.0   56.0   \n",
       "            1             31.0  40.0  188.0  247.0  131.0  168.0   47.0   \n",
       "\n",
       "Cabin_letter                 DS     EP     ES     FP     FS     GP     GS  \\\n",
       "Transported Cryo_int_val                                                    \n",
       "False       0             124.0  255.0  254.0  854.0  717.0  435.0  352.0   \n",
       "            1               3.0   32.0   32.0   16.0   10.0  289.0  193.0   \n",
       "True        0              49.0  101.0  102.0  312.0  373.0  173.0  263.0   \n",
       "            1              58.0   50.0   71.0  291.0  274.0  418.0  503.0   \n",
       "\n",
       "Cabin_letter               TP   TS  \n",
       "Transported Cryo_int_val            \n",
       "False       0             3.0  1.0  \n",
       "            1             NaN  NaN  \n",
       "True        0             1.0  NaN  \n",
       "            1             NaN  NaN  "
      ]
     },
     "execution_count": 27,
     "metadata": {},
     "output_type": "execute_result"
    }
   ],
   "source": [
    "pd.pivot_table(train, index=['Transported','Cryo_int_val'], columns='Cabin_letter',\n",
    "              values='Name', aggfunc='count')"
   ]
  },
  {
   "cell_type": "code",
   "execution_count": 28,
   "id": "12f1ff3d",
   "metadata": {
    "execution": {
     "iopub.execute_input": "2023-03-16T16:38:18.411792Z",
     "iopub.status.busy": "2023-03-16T16:38:18.410771Z",
     "iopub.status.idle": "2023-03-16T16:38:18.450660Z",
     "shell.execute_reply": "2023-03-16T16:38:18.449397Z"
    },
    "papermill": {
     "duration": 0.065869,
     "end_time": "2023-03-16T16:38:18.453454",
     "exception": false,
     "start_time": "2023-03-16T16:38:18.387585",
     "status": "completed"
    },
    "tags": []
   },
   "outputs": [
    {
     "data": {
      "text/html": [
       "<div>\n",
       "<style scoped>\n",
       "    .dataframe tbody tr th:only-of-type {\n",
       "        vertical-align: middle;\n",
       "    }\n",
       "\n",
       "    .dataframe tbody tr th {\n",
       "        vertical-align: top;\n",
       "    }\n",
       "\n",
       "    .dataframe thead th {\n",
       "        text-align: right;\n",
       "    }\n",
       "</style>\n",
       "<table border=\"1\" class=\"dataframe\">\n",
       "  <thead>\n",
       "    <tr style=\"text-align: right;\">\n",
       "      <th></th>\n",
       "      <th>Cabin_letter</th>\n",
       "      <th>AP</th>\n",
       "      <th>AS</th>\n",
       "      <th>BP</th>\n",
       "      <th>BS</th>\n",
       "      <th>CP</th>\n",
       "      <th>CS</th>\n",
       "      <th>DP</th>\n",
       "      <th>DS</th>\n",
       "      <th>EP</th>\n",
       "      <th>ES</th>\n",
       "      <th>FP</th>\n",
       "      <th>FS</th>\n",
       "      <th>GP</th>\n",
       "      <th>GS</th>\n",
       "      <th>TP</th>\n",
       "      <th>TS</th>\n",
       "    </tr>\n",
       "    <tr>\n",
       "      <th>Transported</th>\n",
       "      <th>VIP_int_val</th>\n",
       "      <th></th>\n",
       "      <th></th>\n",
       "      <th></th>\n",
       "      <th></th>\n",
       "      <th></th>\n",
       "      <th></th>\n",
       "      <th></th>\n",
       "      <th></th>\n",
       "      <th></th>\n",
       "      <th></th>\n",
       "      <th></th>\n",
       "      <th></th>\n",
       "      <th></th>\n",
       "      <th></th>\n",
       "      <th></th>\n",
       "      <th></th>\n",
       "    </tr>\n",
       "  </thead>\n",
       "  <tbody>\n",
       "    <tr>\n",
       "      <th rowspan=\"2\" valign=\"top\">False</th>\n",
       "      <th>0</th>\n",
       "      <td>55.0</td>\n",
       "      <td>55.0</td>\n",
       "      <td>106.0</td>\n",
       "      <td>90.0</td>\n",
       "      <td>136.0</td>\n",
       "      <td>95.0</td>\n",
       "      <td>132.0</td>\n",
       "      <td>117.0</td>\n",
       "      <td>284.0</td>\n",
       "      <td>278.0</td>\n",
       "      <td>853.0</td>\n",
       "      <td>718.0</td>\n",
       "      <td>723.0</td>\n",
       "      <td>545.0</td>\n",
       "      <td>3.0</td>\n",
       "      <td>1.0</td>\n",
       "    </tr>\n",
       "    <tr>\n",
       "      <th>1</th>\n",
       "      <td>13.0</td>\n",
       "      <td>10.0</td>\n",
       "      <td>14.0</td>\n",
       "      <td>7.0</td>\n",
       "      <td>11.0</td>\n",
       "      <td>5.0</td>\n",
       "      <td>16.0</td>\n",
       "      <td>10.0</td>\n",
       "      <td>3.0</td>\n",
       "      <td>8.0</td>\n",
       "      <td>17.0</td>\n",
       "      <td>9.0</td>\n",
       "      <td>1.0</td>\n",
       "      <td>NaN</td>\n",
       "      <td>NaN</td>\n",
       "      <td>NaN</td>\n",
       "    </tr>\n",
       "    <tr>\n",
       "      <th rowspan=\"2\" valign=\"top\">True</th>\n",
       "      <th>0</th>\n",
       "      <td>52.0</td>\n",
       "      <td>68.0</td>\n",
       "      <td>232.0</td>\n",
       "      <td>331.0</td>\n",
       "      <td>192.0</td>\n",
       "      <td>299.0</td>\n",
       "      <td>101.0</td>\n",
       "      <td>103.0</td>\n",
       "      <td>149.0</td>\n",
       "      <td>171.0</td>\n",
       "      <td>600.0</td>\n",
       "      <td>644.0</td>\n",
       "      <td>591.0</td>\n",
       "      <td>764.0</td>\n",
       "      <td>1.0</td>\n",
       "      <td>NaN</td>\n",
       "    </tr>\n",
       "    <tr>\n",
       "      <th>1</th>\n",
       "      <td>3.0</td>\n",
       "      <td>10.0</td>\n",
       "      <td>12.0</td>\n",
       "      <td>11.0</td>\n",
       "      <td>10.0</td>\n",
       "      <td>16.0</td>\n",
       "      <td>2.0</td>\n",
       "      <td>4.0</td>\n",
       "      <td>2.0</td>\n",
       "      <td>2.0</td>\n",
       "      <td>3.0</td>\n",
       "      <td>3.0</td>\n",
       "      <td>NaN</td>\n",
       "      <td>2.0</td>\n",
       "      <td>NaN</td>\n",
       "      <td>NaN</td>\n",
       "    </tr>\n",
       "  </tbody>\n",
       "</table>\n",
       "</div>"
      ],
      "text/plain": [
       "Cabin_letter               AP    AS     BP     BS     CP     CS     DP     DS  \\\n",
       "Transported VIP_int_val                                                         \n",
       "False       0            55.0  55.0  106.0   90.0  136.0   95.0  132.0  117.0   \n",
       "            1            13.0  10.0   14.0    7.0   11.0    5.0   16.0   10.0   \n",
       "True        0            52.0  68.0  232.0  331.0  192.0  299.0  101.0  103.0   \n",
       "            1             3.0  10.0   12.0   11.0   10.0   16.0    2.0    4.0   \n",
       "\n",
       "Cabin_letter                EP     ES     FP     FS     GP     GS   TP   TS  \n",
       "Transported VIP_int_val                                                      \n",
       "False       0            284.0  278.0  853.0  718.0  723.0  545.0  3.0  1.0  \n",
       "            1              3.0    8.0   17.0    9.0    1.0    NaN  NaN  NaN  \n",
       "True        0            149.0  171.0  600.0  644.0  591.0  764.0  1.0  NaN  \n",
       "            1              2.0    2.0    3.0    3.0    NaN    2.0  NaN  NaN  "
      ]
     },
     "execution_count": 28,
     "metadata": {},
     "output_type": "execute_result"
    }
   ],
   "source": [
    "pd.pivot_table(train, index=['Transported','VIP_int_val'], columns='Cabin_letter',\n",
    "              values='Name', aggfunc='count')"
   ]
  },
  {
   "cell_type": "code",
   "execution_count": 29,
   "id": "3ade6ea3",
   "metadata": {
    "execution": {
     "iopub.execute_input": "2023-03-16T16:38:18.500075Z",
     "iopub.status.busy": "2023-03-16T16:38:18.499600Z",
     "iopub.status.idle": "2023-03-16T16:38:18.543758Z",
     "shell.execute_reply": "2023-03-16T16:38:18.542309Z"
    },
    "papermill": {
     "duration": 0.071182,
     "end_time": "2023-03-16T16:38:18.546713",
     "exception": false,
     "start_time": "2023-03-16T16:38:18.475531",
     "status": "completed"
    },
    "tags": []
   },
   "outputs": [
    {
     "data": {
      "text/html": [
       "<div>\n",
       "<style scoped>\n",
       "    .dataframe tbody tr th:only-of-type {\n",
       "        vertical-align: middle;\n",
       "    }\n",
       "\n",
       "    .dataframe tbody tr th {\n",
       "        vertical-align: top;\n",
       "    }\n",
       "\n",
       "    .dataframe thead th {\n",
       "        text-align: right;\n",
       "    }\n",
       "</style>\n",
       "<table border=\"1\" class=\"dataframe\">\n",
       "  <thead>\n",
       "    <tr style=\"text-align: right;\">\n",
       "      <th></th>\n",
       "      <th>Cabin_letter</th>\n",
       "      <th>AP</th>\n",
       "      <th>AS</th>\n",
       "      <th>BP</th>\n",
       "      <th>BS</th>\n",
       "      <th>CP</th>\n",
       "      <th>CS</th>\n",
       "      <th>DP</th>\n",
       "      <th>DS</th>\n",
       "      <th>EP</th>\n",
       "      <th>ES</th>\n",
       "      <th>FP</th>\n",
       "      <th>FS</th>\n",
       "      <th>GP</th>\n",
       "      <th>GS</th>\n",
       "      <th>TP</th>\n",
       "      <th>TS</th>\n",
       "    </tr>\n",
       "    <tr>\n",
       "      <th>Transported</th>\n",
       "      <th>HomePlanet</th>\n",
       "      <th></th>\n",
       "      <th></th>\n",
       "      <th></th>\n",
       "      <th></th>\n",
       "      <th></th>\n",
       "      <th></th>\n",
       "      <th></th>\n",
       "      <th></th>\n",
       "      <th></th>\n",
       "      <th></th>\n",
       "      <th></th>\n",
       "      <th></th>\n",
       "      <th></th>\n",
       "      <th></th>\n",
       "      <th></th>\n",
       "      <th></th>\n",
       "    </tr>\n",
       "  </thead>\n",
       "  <tbody>\n",
       "    <tr>\n",
       "      <th rowspan=\"3\" valign=\"top\">False</th>\n",
       "      <th>Earth</th>\n",
       "      <td>2.0</td>\n",
       "      <td>2.0</td>\n",
       "      <td>3.0</td>\n",
       "      <td>NaN</td>\n",
       "      <td>2.0</td>\n",
       "      <td>4.0</td>\n",
       "      <td>1.0</td>\n",
       "      <td>2.0</td>\n",
       "      <td>128.0</td>\n",
       "      <td>136.0</td>\n",
       "      <td>656.0</td>\n",
       "      <td>532.0</td>\n",
       "      <td>710.0</td>\n",
       "      <td>537.0</td>\n",
       "      <td>1.0</td>\n",
       "      <td>NaN</td>\n",
       "    </tr>\n",
       "    <tr>\n",
       "      <th>Europa</th>\n",
       "      <td>65.0</td>\n",
       "      <td>63.0</td>\n",
       "      <td>116.0</td>\n",
       "      <td>96.0</td>\n",
       "      <td>144.0</td>\n",
       "      <td>96.0</td>\n",
       "      <td>34.0</td>\n",
       "      <td>46.0</td>\n",
       "      <td>25.0</td>\n",
       "      <td>35.0</td>\n",
       "      <td>4.0</td>\n",
       "      <td>5.0</td>\n",
       "      <td>6.0</td>\n",
       "      <td>4.0</td>\n",
       "      <td>2.0</td>\n",
       "      <td>1.0</td>\n",
       "    </tr>\n",
       "    <tr>\n",
       "      <th>Mars</th>\n",
       "      <td>1.0</td>\n",
       "      <td>NaN</td>\n",
       "      <td>1.0</td>\n",
       "      <td>1.0</td>\n",
       "      <td>1.0</td>\n",
       "      <td>NaN</td>\n",
       "      <td>113.0</td>\n",
       "      <td>79.0</td>\n",
       "      <td>134.0</td>\n",
       "      <td>115.0</td>\n",
       "      <td>210.0</td>\n",
       "      <td>190.0</td>\n",
       "      <td>8.0</td>\n",
       "      <td>4.0</td>\n",
       "      <td>NaN</td>\n",
       "      <td>NaN</td>\n",
       "    </tr>\n",
       "    <tr>\n",
       "      <th rowspan=\"3\" valign=\"top\">True</th>\n",
       "      <th>Earth</th>\n",
       "      <td>NaN</td>\n",
       "      <td>2.0</td>\n",
       "      <td>4.0</td>\n",
       "      <td>4.0</td>\n",
       "      <td>NaN</td>\n",
       "      <td>2.0</td>\n",
       "      <td>2.0</td>\n",
       "      <td>NaN</td>\n",
       "      <td>82.0</td>\n",
       "      <td>74.0</td>\n",
       "      <td>209.0</td>\n",
       "      <td>289.0</td>\n",
       "      <td>582.0</td>\n",
       "      <td>754.0</td>\n",
       "      <td>NaN</td>\n",
       "      <td>NaN</td>\n",
       "    </tr>\n",
       "    <tr>\n",
       "      <th>Europa</th>\n",
       "      <td>55.0</td>\n",
       "      <td>76.0</td>\n",
       "      <td>239.0</td>\n",
       "      <td>338.0</td>\n",
       "      <td>202.0</td>\n",
       "      <td>312.0</td>\n",
       "      <td>57.0</td>\n",
       "      <td>54.0</td>\n",
       "      <td>40.0</td>\n",
       "      <td>36.0</td>\n",
       "      <td>7.0</td>\n",
       "      <td>4.0</td>\n",
       "      <td>7.0</td>\n",
       "      <td>7.0</td>\n",
       "      <td>1.0</td>\n",
       "      <td>NaN</td>\n",
       "    </tr>\n",
       "    <tr>\n",
       "      <th>Mars</th>\n",
       "      <td>NaN</td>\n",
       "      <td>NaN</td>\n",
       "      <td>1.0</td>\n",
       "      <td>NaN</td>\n",
       "      <td>NaN</td>\n",
       "      <td>1.0</td>\n",
       "      <td>44.0</td>\n",
       "      <td>53.0</td>\n",
       "      <td>29.0</td>\n",
       "      <td>63.0</td>\n",
       "      <td>387.0</td>\n",
       "      <td>354.0</td>\n",
       "      <td>2.0</td>\n",
       "      <td>5.0</td>\n",
       "      <td>NaN</td>\n",
       "      <td>NaN</td>\n",
       "    </tr>\n",
       "  </tbody>\n",
       "</table>\n",
       "</div>"
      ],
      "text/plain": [
       "Cabin_letter              AP    AS     BP     BS     CP     CS     DP    DS  \\\n",
       "Transported HomePlanet                                                        \n",
       "False       Earth        2.0   2.0    3.0    NaN    2.0    4.0    1.0   2.0   \n",
       "            Europa      65.0  63.0  116.0   96.0  144.0   96.0   34.0  46.0   \n",
       "            Mars         1.0   NaN    1.0    1.0    1.0    NaN  113.0  79.0   \n",
       "True        Earth        NaN   2.0    4.0    4.0    NaN    2.0    2.0   NaN   \n",
       "            Europa      55.0  76.0  239.0  338.0  202.0  312.0   57.0  54.0   \n",
       "            Mars         NaN   NaN    1.0    NaN    NaN    1.0   44.0  53.0   \n",
       "\n",
       "Cabin_letter               EP     ES     FP     FS     GP     GS   TP   TS  \n",
       "Transported HomePlanet                                                      \n",
       "False       Earth       128.0  136.0  656.0  532.0  710.0  537.0  1.0  NaN  \n",
       "            Europa       25.0   35.0    4.0    5.0    6.0    4.0  2.0  1.0  \n",
       "            Mars        134.0  115.0  210.0  190.0    8.0    4.0  NaN  NaN  \n",
       "True        Earth        82.0   74.0  209.0  289.0  582.0  754.0  NaN  NaN  \n",
       "            Europa       40.0   36.0    7.0    4.0    7.0    7.0  1.0  NaN  \n",
       "            Mars         29.0   63.0  387.0  354.0    2.0    5.0  NaN  NaN  "
      ]
     },
     "execution_count": 29,
     "metadata": {},
     "output_type": "execute_result"
    }
   ],
   "source": [
    "pd.pivot_table(train, index=['Transported','HomePlanet'], columns='Cabin_letter',\n",
    "              values='Name', aggfunc='count')"
   ]
  },
  {
   "cell_type": "code",
   "execution_count": 30,
   "id": "4346142f",
   "metadata": {
    "execution": {
     "iopub.execute_input": "2023-03-16T16:38:18.595037Z",
     "iopub.status.busy": "2023-03-16T16:38:18.594552Z",
     "iopub.status.idle": "2023-03-16T16:38:18.641242Z",
     "shell.execute_reply": "2023-03-16T16:38:18.640135Z"
    },
    "papermill": {
     "duration": 0.073754,
     "end_time": "2023-03-16T16:38:18.644270",
     "exception": false,
     "start_time": "2023-03-16T16:38:18.570516",
     "status": "completed"
    },
    "tags": []
   },
   "outputs": [
    {
     "data": {
      "text/html": [
       "<div>\n",
       "<style scoped>\n",
       "    .dataframe tbody tr th:only-of-type {\n",
       "        vertical-align: middle;\n",
       "    }\n",
       "\n",
       "    .dataframe tbody tr th {\n",
       "        vertical-align: top;\n",
       "    }\n",
       "\n",
       "    .dataframe thead th {\n",
       "        text-align: right;\n",
       "    }\n",
       "</style>\n",
       "<table border=\"1\" class=\"dataframe\">\n",
       "  <thead>\n",
       "    <tr style=\"text-align: right;\">\n",
       "      <th></th>\n",
       "      <th>Cabin_letter</th>\n",
       "      <th>AP</th>\n",
       "      <th>AS</th>\n",
       "      <th>BP</th>\n",
       "      <th>BS</th>\n",
       "      <th>CP</th>\n",
       "      <th>CS</th>\n",
       "      <th>DP</th>\n",
       "      <th>DS</th>\n",
       "      <th>EP</th>\n",
       "      <th>ES</th>\n",
       "      <th>FP</th>\n",
       "      <th>FS</th>\n",
       "      <th>GP</th>\n",
       "      <th>GS</th>\n",
       "      <th>TP</th>\n",
       "      <th>TS</th>\n",
       "    </tr>\n",
       "    <tr>\n",
       "      <th>Transported</th>\n",
       "      <th>Destination</th>\n",
       "      <th></th>\n",
       "      <th></th>\n",
       "      <th></th>\n",
       "      <th></th>\n",
       "      <th></th>\n",
       "      <th></th>\n",
       "      <th></th>\n",
       "      <th></th>\n",
       "      <th></th>\n",
       "      <th></th>\n",
       "      <th></th>\n",
       "      <th></th>\n",
       "      <th></th>\n",
       "      <th></th>\n",
       "      <th></th>\n",
       "      <th></th>\n",
       "    </tr>\n",
       "  </thead>\n",
       "  <tbody>\n",
       "    <tr>\n",
       "      <th rowspan=\"3\" valign=\"top\">False</th>\n",
       "      <th>55 Cancri e</th>\n",
       "      <td>29.0</td>\n",
       "      <td>21.0</td>\n",
       "      <td>47.0</td>\n",
       "      <td>35.0</td>\n",
       "      <td>59.0</td>\n",
       "      <td>41.0</td>\n",
       "      <td>24.0</td>\n",
       "      <td>23.0</td>\n",
       "      <td>17.0</td>\n",
       "      <td>36.0</td>\n",
       "      <td>135.0</td>\n",
       "      <td>109.0</td>\n",
       "      <td>78.0</td>\n",
       "      <td>65.0</td>\n",
       "      <td>NaN</td>\n",
       "      <td>NaN</td>\n",
       "    </tr>\n",
       "    <tr>\n",
       "      <th>PSO J318.5-22</th>\n",
       "      <td>NaN</td>\n",
       "      <td>1.0</td>\n",
       "      <td>2.0</td>\n",
       "      <td>NaN</td>\n",
       "      <td>3.0</td>\n",
       "      <td>1.0</td>\n",
       "      <td>6.0</td>\n",
       "      <td>5.0</td>\n",
       "      <td>8.0</td>\n",
       "      <td>9.0</td>\n",
       "      <td>96.0</td>\n",
       "      <td>86.0</td>\n",
       "      <td>104.0</td>\n",
       "      <td>85.0</td>\n",
       "      <td>NaN</td>\n",
       "      <td>NaN</td>\n",
       "    </tr>\n",
       "    <tr>\n",
       "      <th>TRAPPIST-1e</th>\n",
       "      <td>39.0</td>\n",
       "      <td>43.0</td>\n",
       "      <td>71.0</td>\n",
       "      <td>62.0</td>\n",
       "      <td>85.0</td>\n",
       "      <td>58.0</td>\n",
       "      <td>118.0</td>\n",
       "      <td>99.0</td>\n",
       "      <td>262.0</td>\n",
       "      <td>241.0</td>\n",
       "      <td>639.0</td>\n",
       "      <td>532.0</td>\n",
       "      <td>542.0</td>\n",
       "      <td>395.0</td>\n",
       "      <td>3.0</td>\n",
       "      <td>1.0</td>\n",
       "    </tr>\n",
       "    <tr>\n",
       "      <th rowspan=\"3\" valign=\"top\">True</th>\n",
       "      <th>55 Cancri e</th>\n",
       "      <td>28.0</td>\n",
       "      <td>36.0</td>\n",
       "      <td>113.0</td>\n",
       "      <td>149.0</td>\n",
       "      <td>98.0</td>\n",
       "      <td>127.0</td>\n",
       "      <td>33.0</td>\n",
       "      <td>38.0</td>\n",
       "      <td>37.0</td>\n",
       "      <td>34.0</td>\n",
       "      <td>88.0</td>\n",
       "      <td>95.0</td>\n",
       "      <td>104.0</td>\n",
       "      <td>141.0</td>\n",
       "      <td>NaN</td>\n",
       "      <td>NaN</td>\n",
       "    </tr>\n",
       "    <tr>\n",
       "      <th>PSO J318.5-22</th>\n",
       "      <td>NaN</td>\n",
       "      <td>2.0</td>\n",
       "      <td>1.0</td>\n",
       "      <td>1.0</td>\n",
       "      <td>4.0</td>\n",
       "      <td>7.0</td>\n",
       "      <td>3.0</td>\n",
       "      <td>3.0</td>\n",
       "      <td>14.0</td>\n",
       "      <td>13.0</td>\n",
       "      <td>32.0</td>\n",
       "      <td>41.0</td>\n",
       "      <td>143.0</td>\n",
       "      <td>146.0</td>\n",
       "      <td>NaN</td>\n",
       "      <td>NaN</td>\n",
       "    </tr>\n",
       "    <tr>\n",
       "      <th>TRAPPIST-1e</th>\n",
       "      <td>27.0</td>\n",
       "      <td>40.0</td>\n",
       "      <td>130.0</td>\n",
       "      <td>192.0</td>\n",
       "      <td>100.0</td>\n",
       "      <td>181.0</td>\n",
       "      <td>67.0</td>\n",
       "      <td>66.0</td>\n",
       "      <td>100.0</td>\n",
       "      <td>126.0</td>\n",
       "      <td>483.0</td>\n",
       "      <td>511.0</td>\n",
       "      <td>344.0</td>\n",
       "      <td>479.0</td>\n",
       "      <td>1.0</td>\n",
       "      <td>NaN</td>\n",
       "    </tr>\n",
       "  </tbody>\n",
       "</table>\n",
       "</div>"
      ],
      "text/plain": [
       "Cabin_letter                 AP    AS     BP     BS     CP     CS     DP  \\\n",
       "Transported Destination                                                    \n",
       "False       55 Cancri e    29.0  21.0   47.0   35.0   59.0   41.0   24.0   \n",
       "            PSO J318.5-22   NaN   1.0    2.0    NaN    3.0    1.0    6.0   \n",
       "            TRAPPIST-1e    39.0  43.0   71.0   62.0   85.0   58.0  118.0   \n",
       "True        55 Cancri e    28.0  36.0  113.0  149.0   98.0  127.0   33.0   \n",
       "            PSO J318.5-22   NaN   2.0    1.0    1.0    4.0    7.0    3.0   \n",
       "            TRAPPIST-1e    27.0  40.0  130.0  192.0  100.0  181.0   67.0   \n",
       "\n",
       "Cabin_letter                 DS     EP     ES     FP     FS     GP     GS  \\\n",
       "Transported Destination                                                     \n",
       "False       55 Cancri e    23.0   17.0   36.0  135.0  109.0   78.0   65.0   \n",
       "            PSO J318.5-22   5.0    8.0    9.0   96.0   86.0  104.0   85.0   \n",
       "            TRAPPIST-1e    99.0  262.0  241.0  639.0  532.0  542.0  395.0   \n",
       "True        55 Cancri e    38.0   37.0   34.0   88.0   95.0  104.0  141.0   \n",
       "            PSO J318.5-22   3.0   14.0   13.0   32.0   41.0  143.0  146.0   \n",
       "            TRAPPIST-1e    66.0  100.0  126.0  483.0  511.0  344.0  479.0   \n",
       "\n",
       "Cabin_letter                TP   TS  \n",
       "Transported Destination              \n",
       "False       55 Cancri e    NaN  NaN  \n",
       "            PSO J318.5-22  NaN  NaN  \n",
       "            TRAPPIST-1e    3.0  1.0  \n",
       "True        55 Cancri e    NaN  NaN  \n",
       "            PSO J318.5-22  NaN  NaN  \n",
       "            TRAPPIST-1e    1.0  NaN  "
      ]
     },
     "execution_count": 30,
     "metadata": {},
     "output_type": "execute_result"
    }
   ],
   "source": [
    "pd.pivot_table(train, index=['Transported','Destination'], columns='Cabin_letter',\n",
    "              values='Name', aggfunc='count')"
   ]
  },
  {
   "cell_type": "markdown",
   "id": "99d81f81",
   "metadata": {
    "papermill": {
     "duration": 0.02221,
     "end_time": "2023-03-16T16:38:18.689222",
     "exception": false,
     "start_time": "2023-03-16T16:38:18.667012",
     "status": "completed"
    },
    "tags": []
   },
   "source": [
    "### feature visualization"
   ]
  },
  {
   "cell_type": "code",
   "execution_count": 31,
   "id": "13041e23",
   "metadata": {
    "execution": {
     "iopub.execute_input": "2023-03-16T16:38:18.736622Z",
     "iopub.status.busy": "2023-03-16T16:38:18.736139Z",
     "iopub.status.idle": "2023-03-16T16:38:18.957292Z",
     "shell.execute_reply": "2023-03-16T16:38:18.956038Z"
    },
    "papermill": {
     "duration": 0.248082,
     "end_time": "2023-03-16T16:38:18.960156",
     "exception": false,
     "start_time": "2023-03-16T16:38:18.712074",
     "status": "completed"
    },
    "tags": []
   },
   "outputs": [
    {
     "data": {
      "text/plain": [
       "<AxesSubplot:xlabel='HomePlanet', ylabel='Count'>"
      ]
     },
     "execution_count": 31,
     "metadata": {},
     "output_type": "execute_result"
    },
    {
     "data": {
      "image/png": "[encoded data removed]",
      "text/plain": [
       "<Figure size 432x288 with 1 Axes>"
      ]
     },
     "metadata": {
      "needs_background": "light"
     },
     "output_type": "display_data"
    }
   ],
   "source": [
    "sns.histplot(x='HomePlanet', data=train)"
   ]
  },
  {
   "cell_type": "code",
   "execution_count": 32,
   "id": "57b5a521",
   "metadata": {
    "execution": {
     "iopub.execute_input": "2023-03-16T16:38:19.010149Z",
     "iopub.status.busy": "2023-03-16T16:38:19.008699Z",
     "iopub.status.idle": "2023-03-16T16:38:19.247800Z",
     "shell.execute_reply": "2023-03-16T16:38:19.246781Z"
    },
    "papermill": {
     "duration": 0.266597,
     "end_time": "2023-03-16T16:38:19.250530",
     "exception": false,
     "start_time": "2023-03-16T16:38:18.983933",
     "status": "completed"
    },
    "tags": []
   },
   "outputs": [
    {
     "data": {
      "text/plain": [
       "<AxesSubplot:xlabel='Cryo_int_val', ylabel='Count'>"
      ]
     },
     "execution_count": 32,
     "metadata": {},
     "output_type": "execute_result"
    },
    {
     "data": {
      "image/png": "[encoded data removed]",
      "text/plain": [
       "<Figure size 432x288 with 1 Axes>"
      ]
     },
     "metadata": {
      "needs_background": "light"
     },
     "output_type": "display_data"
    }
   ],
   "source": [
    "sns.histplot(x='Cryo_int_val', data=train)"
   ]
  },
  {
   "cell_type": "code",
   "execution_count": 33,
   "id": "81fe75c8",
   "metadata": {
    "execution": {
     "iopub.execute_input": "2023-03-16T16:38:19.300294Z",
     "iopub.status.busy": "2023-03-16T16:38:19.299385Z",
     "iopub.status.idle": "2023-03-16T16:38:19.578503Z",
     "shell.execute_reply": "2023-03-16T16:38:19.577534Z"
    },
    "papermill": {
     "duration": 0.307074,
     "end_time": "2023-03-16T16:38:19.581107",
     "exception": false,
     "start_time": "2023-03-16T16:38:19.274033",
     "status": "completed"
    },
    "tags": []
   },
   "outputs": [
    {
     "data": {
      "text/plain": [
       "<AxesSubplot:xlabel='Cabin_letter', ylabel='Count'>"
      ]
     },
     "execution_count": 33,
     "metadata": {},
     "output_type": "execute_result"
    },
    {
     "data": {
      "image/png": "[encoded data removed]",
      "text/plain": [
       "<Figure size 432x288 with 1 Axes>"
      ]
     },
     "metadata": {
      "needs_background": "light"
     },
     "output_type": "display_data"
    }
   ],
   "source": [
    "sns.histplot(x='Cabin_letter', data=train)"
   ]
  },
  {
   "cell_type": "code",
   "execution_count": 34,
   "id": "769ab11d",
   "metadata": {
    "execution": {
     "iopub.execute_input": "2023-03-16T16:38:19.631664Z",
     "iopub.status.busy": "2023-03-16T16:38:19.630735Z",
     "iopub.status.idle": "2023-03-16T16:38:19.828909Z",
     "shell.execute_reply": "2023-03-16T16:38:19.827542Z"
    },
    "papermill": {
     "duration": 0.226443,
     "end_time": "2023-03-16T16:38:19.831775",
     "exception": false,
     "start_time": "2023-03-16T16:38:19.605332",
     "status": "completed"
    },
    "tags": []
   },
   "outputs": [
    {
     "data": {
      "text/plain": [
       "<AxesSubplot:xlabel='Destination', ylabel='Count'>"
      ]
     },
     "execution_count": 34,
     "metadata": {},
     "output_type": "execute_result"
    },
    {
     "data": {
      "image/png": "[encoded data removed]",
      "text/plain": [
       "<Figure size 432x288 with 1 Axes>"
      ]
     },
     "metadata": {
      "needs_background": "light"
     },
     "output_type": "display_data"
    }
   ],
   "source": [
    "sns.histplot(x='Destination', data=train)"
   ]
  },
  {
   "cell_type": "code",
   "execution_count": 35,
   "id": "e38d3313",
   "metadata": {
    "execution": {
     "iopub.execute_input": "2023-03-16T16:38:19.883423Z",
     "iopub.status.busy": "2023-03-16T16:38:19.882866Z",
     "iopub.status.idle": "2023-03-16T16:38:20.128292Z",
     "shell.execute_reply": "2023-03-16T16:38:20.127300Z"
    },
    "papermill": {
     "duration": 0.274472,
     "end_time": "2023-03-16T16:38:20.130995",
     "exception": false,
     "start_time": "2023-03-16T16:38:19.856523",
     "status": "completed"
    },
    "tags": []
   },
   "outputs": [
    {
     "data": {
      "text/plain": [
       "<AxesSubplot:xlabel='VIP_int_val', ylabel='Count'>"
      ]
     },
     "execution_count": 35,
     "metadata": {},
     "output_type": "execute_result"
    },
    {
     "data": {
      "image/png": "[encoded data removed]",
      "text/plain": [
       "<Figure size 432x288 with 1 Axes>"
      ]
     },
     "metadata": {
      "needs_background": "light"
     },
     "output_type": "display_data"
    }
   ],
   "source": [
    "sns.histplot(x='VIP_int_val', data=train)"
   ]
  },
  {
   "cell_type": "code",
   "execution_count": 36,
   "id": "21e51922",
   "metadata": {
    "execution": {
     "iopub.execute_input": "2023-03-16T16:38:20.182515Z",
     "iopub.status.busy": "2023-03-16T16:38:20.181947Z",
     "iopub.status.idle": "2023-03-16T16:38:20.479779Z",
     "shell.execute_reply": "2023-03-16T16:38:20.478457Z"
    },
    "papermill": {
     "duration": 0.326897,
     "end_time": "2023-03-16T16:38:20.482856",
     "exception": false,
     "start_time": "2023-03-16T16:38:20.155959",
     "status": "completed"
    },
    "tags": []
   },
   "outputs": [
    {
     "data": {
      "text/plain": [
       "<AxesSubplot:xlabel='Age', ylabel='Count'>"
      ]
     },
     "execution_count": 36,
     "metadata": {},
     "output_type": "execute_result"
    },
    {
     "data": {
      "image/png": "[encoded data removed]",
      "text/plain": [
       "<Figure size 432x288 with 1 Axes>"
      ]
     },
     "metadata": {
      "needs_background": "light"
     },
     "output_type": "display_data"
    }
   ],
   "source": [
    "sns.histplot(x='Age', data=train)"
   ]
  },
  {
   "cell_type": "code",
   "execution_count": 37,
   "id": "3eb166e5",
   "metadata": {
    "execution": {
     "iopub.execute_input": "2023-03-16T16:38:20.534166Z",
     "iopub.status.busy": "2023-03-16T16:38:20.533670Z",
     "iopub.status.idle": "2023-03-16T16:38:20.748890Z",
     "shell.execute_reply": "2023-03-16T16:38:20.747771Z"
    },
    "papermill": {
     "duration": 0.243848,
     "end_time": "2023-03-16T16:38:20.751418",
     "exception": false,
     "start_time": "2023-03-16T16:38:20.507570",
     "status": "completed"
    },
    "tags": []
   },
   "outputs": [
    {
     "data": {
      "text/plain": [
       "<AxesSubplot:xlabel='Transported', ylabel='count'>"
      ]
     },
     "execution_count": 37,
     "metadata": {},
     "output_type": "execute_result"
    },
    {
     "data": {
      "image/png": "[encoded data removed]",
      "text/plain": [
       "<Figure size 432x288 with 1 Axes>"
      ]
     },
     "metadata": {
      "needs_background": "light"
     },
     "output_type": "display_data"
    }
   ],
   "source": [
    "sns.countplot(x='Transported', data=train, hue='HomePlanet')"
   ]
  },
  {
   "cell_type": "code",
   "execution_count": 38,
   "id": "06979cc6",
   "metadata": {
    "execution": {
     "iopub.execute_input": "2023-03-16T16:38:20.804190Z",
     "iopub.status.busy": "2023-03-16T16:38:20.803252Z",
     "iopub.status.idle": "2023-03-16T16:38:21.022138Z",
     "shell.execute_reply": "2023-03-16T16:38:21.020822Z"
    },
    "papermill": {
     "duration": 0.24881,
     "end_time": "2023-03-16T16:38:21.025126",
     "exception": false,
     "start_time": "2023-03-16T16:38:20.776316",
     "status": "completed"
    },
    "tags": []
   },
   "outputs": [
    {
     "data": {
      "text/plain": [
       "<AxesSubplot:xlabel='Transported', ylabel='count'>"
      ]
     },
     "execution_count": 38,
     "metadata": {},
     "output_type": "execute_result"
    },
    {
     "data": {
      "image/png": "[encoded data removed]",
      "text/plain": [
       "<Figure size 432x288 with 1 Axes>"
      ]
     },
     "metadata": {
      "needs_background": "light"
     },
     "output_type": "display_data"
    }
   ],
   "source": [
    "sns.countplot(x='Transported', data=train, hue='Destination')"
   ]
  },
  {
   "cell_type": "code",
   "execution_count": 39,
   "id": "1bec9300",
   "metadata": {
    "execution": {
     "iopub.execute_input": "2023-03-16T16:38:21.077610Z",
     "iopub.status.busy": "2023-03-16T16:38:21.077093Z",
     "iopub.status.idle": "2023-03-16T16:38:21.280281Z",
     "shell.execute_reply": "2023-03-16T16:38:21.278357Z"
    },
    "papermill": {
     "duration": 0.232967,
     "end_time": "2023-03-16T16:38:21.283343",
     "exception": false,
     "start_time": "2023-03-16T16:38:21.050376",
     "status": "completed"
    },
    "tags": []
   },
   "outputs": [
    {
     "data": {
      "text/plain": [
       "<AxesSubplot:xlabel='Transported', ylabel='count'>"
      ]
     },
     "execution_count": 39,
     "metadata": {},
     "output_type": "execute_result"
    },
    {
     "data": {
      "image/png": "[encoded data removed]",
      "text/plain": [
       "<Figure size 432x288 with 1 Axes>"
      ]
     },
     "metadata": {
      "needs_background": "light"
     },
     "output_type": "display_data"
    }
   ],
   "source": [
    "sns.countplot(x='Transported', data=train, hue='Cryo_int_val')"
   ]
  },
  {
   "cell_type": "code",
   "execution_count": 40,
   "id": "77168c0b",
   "metadata": {
    "execution": {
     "iopub.execute_input": "2023-03-16T16:38:21.340398Z",
     "iopub.status.busy": "2023-03-16T16:38:21.339851Z",
     "iopub.status.idle": "2023-03-16T16:38:21.684543Z",
     "shell.execute_reply": "2023-03-16T16:38:21.683135Z"
    },
    "papermill": {
     "duration": 0.376626,
     "end_time": "2023-03-16T16:38:21.687253",
     "exception": false,
     "start_time": "2023-03-16T16:38:21.310627",
     "status": "completed"
    },
    "tags": []
   },
   "outputs": [
    {
     "data": {
      "text/plain": [
       "<AxesSubplot:xlabel='Cabin_letter', ylabel='count'>"
      ]
     },
     "execution_count": 40,
     "metadata": {},
     "output_type": "execute_result"
    },
    {
     "data": {
      "image/png": "[encoded data removed]",
      "text/plain": [
       "<Figure size 432x288 with 1 Axes>"
      ]
     },
     "metadata": {
      "needs_background": "light"
     },
     "output_type": "display_data"
    }
   ],
   "source": [
    "sns.countplot(x='Cabin_letter', data=train, hue='Transported')"
   ]
  },
  {
   "cell_type": "code",
   "execution_count": 41,
   "id": "e60c80df",
   "metadata": {
    "execution": {
     "iopub.execute_input": "2023-03-16T16:38:21.742805Z",
     "iopub.status.busy": "2023-03-16T16:38:21.742032Z",
     "iopub.status.idle": "2023-03-16T16:38:21.933377Z",
     "shell.execute_reply": "2023-03-16T16:38:21.932040Z"
    },
    "papermill": {
     "duration": 0.222511,
     "end_time": "2023-03-16T16:38:21.936384",
     "exception": false,
     "start_time": "2023-03-16T16:38:21.713873",
     "status": "completed"
    },
    "tags": []
   },
   "outputs": [
    {
     "data": {
      "text/plain": [
       "<AxesSubplot:xlabel='Transported', ylabel='count'>"
      ]
     },
     "execution_count": 41,
     "metadata": {},
     "output_type": "execute_result"
    },
    {
     "data": {
      "image/png": "[encoded data removed]",
      "text/plain": [
       "<Figure size 432x288 with 1 Axes>"
      ]
     },
     "metadata": {
      "needs_background": "light"
     },
     "output_type": "display_data"
    }
   ],
   "source": [
    "sns.countplot(x='Transported', data=train, hue='VIP_int_val')"
   ]
  },
  {
   "cell_type": "code",
   "execution_count": 42,
   "id": "3e88c1dd",
   "metadata": {
    "execution": {
     "iopub.execute_input": "2023-03-16T16:38:21.994393Z",
     "iopub.status.busy": "2023-03-16T16:38:21.993490Z",
     "iopub.status.idle": "2023-03-16T16:38:22.347667Z",
     "shell.execute_reply": "2023-03-16T16:38:22.346288Z"
    },
    "papermill": {
     "duration": 0.387436,
     "end_time": "2023-03-16T16:38:22.350327",
     "exception": false,
     "start_time": "2023-03-16T16:38:21.962891",
     "status": "completed"
    },
    "tags": []
   },
   "outputs": [
    {
     "data": {
      "text/plain": [
       "<AxesSubplot:>"
      ]
     },
     "execution_count": 42,
     "metadata": {},
     "output_type": "execute_result"
    },
    {
     "data": {
      "image/png": "[encoded data removed]",
      "text/plain": [
       "<Figure size 432x288 with 2 Axes>"
      ]
     },
     "metadata": {
      "needs_background": "light"
     },
     "output_type": "display_data"
    }
   ],
   "source": [
    "sns.heatmap(train.corr())"
   ]
  },
  {
   "cell_type": "markdown",
   "id": "a74bc3fc",
   "metadata": {
    "papermill": {
     "duration": 0.028513,
     "end_time": "2023-03-16T16:38:22.406034",
     "exception": false,
     "start_time": "2023-03-16T16:38:22.377521",
     "status": "completed"
    },
    "tags": []
   },
   "source": [
    "### data preprocessing"
   ]
  },
  {
   "cell_type": "code",
   "execution_count": 43,
   "id": "b899dfc1",
   "metadata": {
    "execution": {
     "iopub.execute_input": "2023-03-16T16:38:22.464294Z",
     "iopub.status.busy": "2023-03-16T16:38:22.463773Z",
     "iopub.status.idle": "2023-03-16T16:38:22.525643Z",
     "shell.execute_reply": "2023-03-16T16:38:22.524270Z"
    },
    "papermill": {
     "duration": 0.095106,
     "end_time": "2023-03-16T16:38:22.528881",
     "exception": false,
     "start_time": "2023-03-16T16:38:22.433775",
     "status": "completed"
    },
    "tags": []
   },
   "outputs": [],
   "source": [
    "train = pd.read_csv('/kaggle/input/spaceship-titanic/train.csv')\n",
    "test = pd.read_csv('/kaggle/input/spaceship-titanic/test.csv')"
   ]
  },
  {
   "cell_type": "code",
   "execution_count": 44,
   "id": "9e05f8f8",
   "metadata": {
    "execution": {
     "iopub.execute_input": "2023-03-16T16:38:22.586425Z",
     "iopub.status.busy": "2023-03-16T16:38:22.585024Z",
     "iopub.status.idle": "2023-03-16T16:38:22.599791Z",
     "shell.execute_reply": "2023-03-16T16:38:22.598485Z"
    },
    "papermill": {
     "duration": 0.046748,
     "end_time": "2023-03-16T16:38:22.602963",
     "exception": false,
     "start_time": "2023-03-16T16:38:22.556215",
     "status": "completed"
    },
    "tags": []
   },
   "outputs": [],
   "source": [
    "train['train_test'] = 1\n",
    "test['train_test'] = 0\n",
    "test['Transported'] = np.dtype(bool)\n",
    "space_titanic = pd.concat([train,test])"
   ]
  },
  {
   "cell_type": "code",
   "execution_count": 45,
   "id": "46dfd676",
   "metadata": {
    "execution": {
     "iopub.execute_input": "2023-03-16T16:38:22.659604Z",
     "iopub.status.busy": "2023-03-16T16:38:22.659113Z",
     "iopub.status.idle": "2023-03-16T16:38:22.681839Z",
     "shell.execute_reply": "2023-03-16T16:38:22.680070Z"
    },
    "papermill": {
     "duration": 0.055056,
     "end_time": "2023-03-16T16:38:22.685414",
     "exception": false,
     "start_time": "2023-03-16T16:38:22.630358",
     "status": "completed"
    },
    "tags": []
   },
   "outputs": [
    {
     "name": "stdout",
     "output_type": "stream",
     "text": [
      "<class 'pandas.core.frame.DataFrame'>\n",
      "Int64Index: 12970 entries, 0 to 4276\n",
      "Data columns (total 15 columns):\n",
      " #   Column        Non-Null Count  Dtype  \n",
      "---  ------        --------------  -----  \n",
      " 0   PassengerId   12970 non-null  object \n",
      " 1   HomePlanet    12682 non-null  object \n",
      " 2   CryoSleep     12660 non-null  object \n",
      " 3   Cabin         12671 non-null  object \n",
      " 4   Destination   12696 non-null  object \n",
      " 5   Age           12700 non-null  float64\n",
      " 6   VIP           12674 non-null  object \n",
      " 7   RoomService   12707 non-null  float64\n",
      " 8   FoodCourt     12681 non-null  float64\n",
      " 9   ShoppingMall  12664 non-null  float64\n",
      " 10  Spa           12686 non-null  float64\n",
      " 11  VRDeck        12702 non-null  float64\n",
      " 12  Name          12676 non-null  object \n",
      " 13  Transported   12970 non-null  object \n",
      " 14  train_test    12970 non-null  int64  \n",
      "dtypes: float64(6), int64(1), object(8)\n",
      "memory usage: 1.6+ MB\n"
     ]
    }
   ],
   "source": [
    "space_titanic.info()"
   ]
  },
  {
   "cell_type": "code",
   "execution_count": 46,
   "id": "146b7d45",
   "metadata": {
    "execution": {
     "iopub.execute_input": "2023-03-16T16:38:22.743217Z",
     "iopub.status.busy": "2023-03-16T16:38:22.742383Z",
     "iopub.status.idle": "2023-03-16T16:38:22.761301Z",
     "shell.execute_reply": "2023-03-16T16:38:22.760043Z"
    },
    "papermill": {
     "duration": 0.05107,
     "end_time": "2023-03-16T16:38:22.763993",
     "exception": false,
     "start_time": "2023-03-16T16:38:22.712923",
     "status": "completed"
    },
    "tags": []
   },
   "outputs": [
    {
     "data": {
      "text/plain": [
       "PassengerId       0\n",
       "HomePlanet      288\n",
       "CryoSleep       310\n",
       "Cabin           299\n",
       "Destination     274\n",
       "Age             270\n",
       "VIP             296\n",
       "RoomService     263\n",
       "FoodCourt       289\n",
       "ShoppingMall    306\n",
       "Spa             284\n",
       "VRDeck          268\n",
       "Name            294\n",
       "Transported       0\n",
       "train_test        0\n",
       "dtype: int64"
      ]
     },
     "execution_count": 46,
     "metadata": {},
     "output_type": "execute_result"
    }
   ],
   "source": [
    "space_titanic.isnull().sum()"
   ]
  },
  {
   "cell_type": "code",
   "execution_count": 47,
   "id": "ddd5b209",
   "metadata": {
    "execution": {
     "iopub.execute_input": "2023-03-16T16:38:22.822302Z",
     "iopub.status.busy": "2023-03-16T16:38:22.820866Z",
     "iopub.status.idle": "2023-03-16T16:38:22.842146Z",
     "shell.execute_reply": "2023-03-16T16:38:22.840776Z"
    },
    "papermill": {
     "duration": 0.053898,
     "end_time": "2023-03-16T16:38:22.845278",
     "exception": false,
     "start_time": "2023-03-16T16:38:22.791380",
     "status": "completed"
    },
    "tags": []
   },
   "outputs": [],
   "source": [
    "space_titanic['PassengerId'] = space_titanic['PassengerId'].apply(lambda x: int(''.join(x.split('_')))).astype(int)"
   ]
  },
  {
   "cell_type": "code",
   "execution_count": 48,
   "id": "cbae7c36",
   "metadata": {
    "execution": {
     "iopub.execute_input": "2023-03-16T16:38:22.902675Z",
     "iopub.status.busy": "2023-03-16T16:38:22.902155Z",
     "iopub.status.idle": "2023-03-16T16:38:22.915746Z",
     "shell.execute_reply": "2023-03-16T16:38:22.914489Z"
    },
    "papermill": {
     "duration": 0.045295,
     "end_time": "2023-03-16T16:38:22.918415",
     "exception": false,
     "start_time": "2023-03-16T16:38:22.873120",
     "status": "completed"
    },
    "tags": []
   },
   "outputs": [
    {
     "data": {
      "text/plain": [
       "Earth     7034\n",
       "Europa    3198\n",
       "Mars      2738\n",
       "Name: HomePlanet, dtype: int64"
      ]
     },
     "execution_count": 48,
     "metadata": {},
     "output_type": "execute_result"
    }
   ],
   "source": [
    "space_titanic['HomePlanet'] = space_titanic['HomePlanet'].fillna(method='ffill')\n",
    "space_titanic['HomePlanet'].value_counts()"
   ]
  },
  {
   "cell_type": "code",
   "execution_count": 49,
   "id": "5013968e",
   "metadata": {
    "execution": {
     "iopub.execute_input": "2023-03-16T16:38:22.975634Z",
     "iopub.status.busy": "2023-03-16T16:38:22.975123Z",
     "iopub.status.idle": "2023-03-16T16:38:22.995573Z",
     "shell.execute_reply": "2023-03-16T16:38:22.994462Z"
    },
    "papermill": {
     "duration": 0.051904,
     "end_time": "2023-03-16T16:38:22.998060",
     "exception": false,
     "start_time": "2023-03-16T16:38:22.946156",
     "status": "completed"
    },
    "tags": []
   },
   "outputs": [
    {
     "data": {
      "text/plain": [
       "0    8279\n",
       "1    4691\n",
       "Name: Cryo_int_val, dtype: int64"
      ]
     },
     "execution_count": 49,
     "metadata": {},
     "output_type": "execute_result"
    }
   ],
   "source": [
    "space_titanic['Cryo_int_val'] = space_titanic['CryoSleep'].replace([False, True], [0, 1])\n",
    "space_titanic['Cryo_int_val'] = space_titanic['Cryo_int_val'].fillna(space_titanic['Cryo_int_val'].fillna(method='ffill')).astype(int)\n",
    "space_titanic['Cryo_int_val'].value_counts()"
   ]
  },
  {
   "cell_type": "code",
   "execution_count": 50,
   "id": "48944c24",
   "metadata": {
    "execution": {
     "iopub.execute_input": "2023-03-16T16:38:23.055148Z",
     "iopub.status.busy": "2023-03-16T16:38:23.054691Z",
     "iopub.status.idle": "2023-03-16T16:38:23.094400Z",
     "shell.execute_reply": "2023-03-16T16:38:23.092478Z"
    },
    "papermill": {
     "duration": 0.071704,
     "end_time": "2023-03-16T16:38:23.097359",
     "exception": false,
     "start_time": "2023-03-16T16:38:23.025655",
     "status": "completed"
    },
    "tags": []
   },
   "outputs": [
    {
     "name": "stdout",
     "output_type": "stream",
     "text": [
      "FP    2233\n",
      "FS    2097\n",
      "GS    1941\n",
      "GP    1935\n",
      "ES     698\n",
      "EP     653\n",
      "BS     648\n",
      "CS     583\n",
      "CP     547\n",
      "BP     525\n",
      "DP     376\n",
      "DS     358\n",
      "AS     193\n",
      "AP     172\n",
      "TS       6\n",
      "TP       5\n",
      "Name: Cabin_letter, dtype: int64 82      34\n",
      "56      29\n",
      "4       29\n",
      "31      28\n",
      "230     27\n",
      "        ..\n",
      "1853     1\n",
      "1848     1\n",
      "1847     1\n",
      "1846     1\n",
      "1890     1\n",
      "Name: Cabin_num, Length: 1894, dtype: int64\n"
     ]
    }
   ],
   "source": [
    "space_titanic['Cabin'] = space_titanic['Cabin'].fillna(method='ffill')\n",
    "space_titanic['Cabin_letter'] = space_titanic['Cabin'].apply(lambda x: ''.join(x.split('/')[0::2]))\n",
    "space_titanic['Cabin_num'] = space_titanic['Cabin'].apply(lambda x: ''.join(x.split('/')[1]))\n",
    "print(space_titanic['Cabin_letter'].value_counts(),\n",
    "     space_titanic['Cabin_num'].value_counts())"
   ]
  },
  {
   "cell_type": "code",
   "execution_count": 51,
   "id": "73e30eaa",
   "metadata": {
    "execution": {
     "iopub.execute_input": "2023-03-16T16:38:23.157175Z",
     "iopub.status.busy": "2023-03-16T16:38:23.156652Z",
     "iopub.status.idle": "2023-03-16T16:38:23.171877Z",
     "shell.execute_reply": "2023-03-16T16:38:23.170259Z"
    },
    "papermill": {
     "duration": 0.049173,
     "end_time": "2023-03-16T16:38:23.174523",
     "exception": false,
     "start_time": "2023-03-16T16:38:23.125350",
     "status": "completed"
    },
    "tags": []
   },
   "outputs": [
    {
     "data": {
      "text/plain": [
       "TRAPPIST-1e      9060\n",
       "55 Cancri e      2698\n",
       "PSO J318.5-22    1212\n",
       "Name: Destination, dtype: int64"
      ]
     },
     "execution_count": 51,
     "metadata": {},
     "output_type": "execute_result"
    }
   ],
   "source": [
    "space_titanic['Destination'] = space_titanic['Destination'].fillna(method='ffill')\n",
    "space_titanic['Destination'].value_counts()"
   ]
  },
  {
   "cell_type": "code",
   "execution_count": 52,
   "id": "f614d5c6",
   "metadata": {
    "execution": {
     "iopub.execute_input": "2023-03-16T16:38:23.232475Z",
     "iopub.status.busy": "2023-03-16T16:38:23.231951Z",
     "iopub.status.idle": "2023-03-16T16:38:23.245498Z",
     "shell.execute_reply": "2023-03-16T16:38:23.244002Z"
    },
    "papermill": {
     "duration": 0.04542,
     "end_time": "2023-03-16T16:38:23.248172",
     "exception": false,
     "start_time": "2023-03-16T16:38:23.202752",
     "status": "completed"
    },
    "tags": []
   },
   "outputs": [
    {
     "data": {
      "text/plain": [
       "27.0    656\n",
       "18.0    496\n",
       "24.0    482\n",
       "21.0    468\n",
       "19.0    455\n",
       "       ... \n",
       "75.0      6\n",
       "79.0      5\n",
       "78.0      4\n",
       "77.0      3\n",
       "76.0      2\n",
       "Name: Age, Length: 80, dtype: int64"
      ]
     },
     "execution_count": 52,
     "metadata": {},
     "output_type": "execute_result"
    }
   ],
   "source": [
    "space_titanic['Age'] = space_titanic['Age'].fillna(train['Age'].median())\n",
    "space_titanic['Age'].value_counts()"
   ]
  },
  {
   "cell_type": "code",
   "execution_count": 53,
   "id": "991a4b5f",
   "metadata": {
    "execution": {
     "iopub.execute_input": "2023-03-16T16:38:23.305968Z",
     "iopub.status.busy": "2023-03-16T16:38:23.305522Z",
     "iopub.status.idle": "2023-03-16T16:38:23.326019Z",
     "shell.execute_reply": "2023-03-16T16:38:23.324561Z"
    },
    "papermill": {
     "duration": 0.052992,
     "end_time": "2023-03-16T16:38:23.328945",
     "exception": false,
     "start_time": "2023-03-16T16:38:23.275953",
     "status": "completed"
    },
    "tags": []
   },
   "outputs": [
    {
     "data": {
      "text/plain": [
       "0    12692\n",
       "1      278\n",
       "Name: VIP_int_val, dtype: int64"
      ]
     },
     "execution_count": 53,
     "metadata": {},
     "output_type": "execute_result"
    }
   ],
   "source": [
    "space_titanic['VIP_int_val'] = space_titanic['VIP'].replace([False, True], [0, 1])\n",
    "space_titanic['VIP_int_val'] = space_titanic['VIP_int_val'].fillna(space_titanic['VIP_int_val'].fillna(method='ffill')).astype(int)\n",
    "space_titanic['VIP_int_val'].value_counts()"
   ]
  },
  {
   "cell_type": "code",
   "execution_count": 54,
   "id": "eeb56877",
   "metadata": {
    "execution": {
     "iopub.execute_input": "2023-03-16T16:38:23.387756Z",
     "iopub.status.busy": "2023-03-16T16:38:23.387282Z",
     "iopub.status.idle": "2023-03-16T16:38:23.406313Z",
     "shell.execute_reply": "2023-03-16T16:38:23.404627Z"
    },
    "papermill": {
     "duration": 0.052954,
     "end_time": "2023-03-16T16:38:23.410305",
     "exception": false,
     "start_time": "2023-03-16T16:38:23.357351",
     "status": "completed"
    },
    "tags": []
   },
   "outputs": [],
   "source": [
    "space_titanic['RoomService'] = np.log(space_titanic['RoomService']+1)\n",
    "space_titanic['RoomService'] = space_titanic['RoomService'].fillna(space_titanic['RoomService'].fillna(0))\n",
    "space_titanic['FoodCourt'] = space_titanic['FoodCourt'].fillna(space_titanic['FoodCourt'].fillna(0))\n",
    "space_titanic['FoodCourt'] = np.log(space_titanic['FoodCourt']+1)\n",
    "space_titanic['ShoppingMall'] = space_titanic['ShoppingMall'].fillna(space_titanic['ShoppingMall'].fillna(0))\n",
    "space_titanic['ShoppingMall'] = np.log(space_titanic['ShoppingMall']+1)\n",
    "space_titanic['Spa'] = space_titanic['Spa'].fillna(space_titanic['Spa'].fillna(0))\n",
    "space_titanic['Spa'] = np.log(space_titanic['Spa']+1)\n",
    "space_titanic['VRDeck'] = space_titanic['VRDeck'].fillna(space_titanic['VRDeck'].fillna(0))\n",
    "space_titanic['VRDeck'] = np.log(space_titanic['VRDeck']+1)"
   ]
  },
  {
   "cell_type": "code",
   "execution_count": 55,
   "id": "6ccd44cb",
   "metadata": {
    "execution": {
     "iopub.execute_input": "2023-03-16T16:38:23.487944Z",
     "iopub.status.busy": "2023-03-16T16:38:23.487342Z",
     "iopub.status.idle": "2023-03-16T16:38:23.497278Z",
     "shell.execute_reply": "2023-03-16T16:38:23.496120Z"
    },
    "papermill": {
     "duration": 0.054928,
     "end_time": "2023-03-16T16:38:23.499965",
     "exception": false,
     "start_time": "2023-03-16T16:38:23.445037",
     "status": "completed"
    },
    "tags": []
   },
   "outputs": [],
   "source": [
    "space_titanic['Name'] = space_titanic['Name'].fillna(method='ffill')"
   ]
  },
  {
   "cell_type": "code",
   "execution_count": 56,
   "id": "d8ca8d45",
   "metadata": {
    "execution": {
     "iopub.execute_input": "2023-03-16T16:38:23.561359Z",
     "iopub.status.busy": "2023-03-16T16:38:23.560840Z",
     "iopub.status.idle": "2023-03-16T16:38:23.584669Z",
     "shell.execute_reply": "2023-03-16T16:38:23.583312Z"
    },
    "papermill": {
     "duration": 0.056801,
     "end_time": "2023-03-16T16:38:23.587445",
     "exception": false,
     "start_time": "2023-03-16T16:38:23.530644",
     "status": "completed"
    },
    "tags": []
   },
   "outputs": [
    {
     "data": {
      "text/plain": [
       "Buckentry      21\n",
       "Belley         20\n",
       "Hinglendez     19\n",
       "Mclardson      19\n",
       "Fowlesterez    19\n",
       "Briggston      18\n",
       "Casonston      18\n",
       "Georgasey      17\n",
       "Domington      17\n",
       "Gibbsonton     17\n",
       "Haydenzier     17\n",
       "Gainebergan    16\n",
       "Vloaf          16\n",
       "Oneiles        16\n",
       "Castannison    16\n",
       "Litthews       16\n",
       "Dickley        16\n",
       "Rilley         15\n",
       "Clemondsey     15\n",
       "Tranklinay     15\n",
       "Name: Surname, dtype: int64"
      ]
     },
     "execution_count": 56,
     "metadata": {},
     "output_type": "execute_result"
    }
   ],
   "source": [
    "space_titanic['Surname'] = space_titanic['Name'].apply(lambda x: x.split(' ')[1])\n",
    "space_titanic['Surname'].value_counts().head(20)"
   ]
  },
  {
   "cell_type": "code",
   "execution_count": 57,
   "id": "f83e59ad",
   "metadata": {
    "execution": {
     "iopub.execute_input": "2023-03-16T16:38:23.647600Z",
     "iopub.status.busy": "2023-03-16T16:38:23.647123Z",
     "iopub.status.idle": "2023-03-16T16:38:23.674553Z",
     "shell.execute_reply": "2023-03-16T16:38:23.672822Z"
    },
    "papermill": {
     "duration": 0.061056,
     "end_time": "2023-03-16T16:38:23.677312",
     "exception": false,
     "start_time": "2023-03-16T16:38:23.616256",
     "status": "completed"
    },
    "tags": []
   },
   "outputs": [
    {
     "name": "stdout",
     "output_type": "stream",
     "text": [
      "<class 'pandas.core.frame.DataFrame'>\n",
      "Int64Index: 12970 entries, 0 to 4276\n",
      "Data columns (total 20 columns):\n",
      " #   Column        Non-Null Count  Dtype  \n",
      "---  ------        --------------  -----  \n",
      " 0   PassengerId   12970 non-null  int64  \n",
      " 1   HomePlanet    12970 non-null  object \n",
      " 2   CryoSleep     12660 non-null  object \n",
      " 3   Cabin         12970 non-null  object \n",
      " 4   Destination   12970 non-null  object \n",
      " 5   Age           12970 non-null  float64\n",
      " 6   VIP           12674 non-null  object \n",
      " 7   RoomService   12970 non-null  float64\n",
      " 8   FoodCourt     12970 non-null  float64\n",
      " 9   ShoppingMall  12970 non-null  float64\n",
      " 10  Spa           12970 non-null  float64\n",
      " 11  VRDeck        12970 non-null  float64\n",
      " 12  Name          12970 non-null  object \n",
      " 13  Transported   12970 non-null  object \n",
      " 14  train_test    12970 non-null  int64  \n",
      " 15  Cryo_int_val  12970 non-null  int64  \n",
      " 16  Cabin_letter  12970 non-null  object \n",
      " 17  Cabin_num     12970 non-null  object \n",
      " 18  VIP_int_val   12970 non-null  int64  \n",
      " 19  Surname       12970 non-null  object \n",
      "dtypes: float64(6), int64(4), object(10)\n",
      "memory usage: 2.1+ MB\n"
     ]
    }
   ],
   "source": [
    "space_titanic.info()"
   ]
  },
  {
   "cell_type": "code",
   "execution_count": 58,
   "id": "11490824",
   "metadata": {
    "execution": {
     "iopub.execute_input": "2023-03-16T16:38:23.737406Z",
     "iopub.status.busy": "2023-03-16T16:38:23.735821Z",
     "iopub.status.idle": "2023-03-16T16:38:23.756226Z",
     "shell.execute_reply": "2023-03-16T16:38:23.755209Z"
    },
    "papermill": {
     "duration": 0.05292,
     "end_time": "2023-03-16T16:38:23.758662",
     "exception": false,
     "start_time": "2023-03-16T16:38:23.705742",
     "status": "completed"
    },
    "tags": []
   },
   "outputs": [
    {
     "data": {
      "text/plain": [
       "PassengerId       0\n",
       "HomePlanet        0\n",
       "CryoSleep       310\n",
       "Cabin             0\n",
       "Destination       0\n",
       "Age               0\n",
       "VIP             296\n",
       "RoomService       0\n",
       "FoodCourt         0\n",
       "ShoppingMall      0\n",
       "Spa               0\n",
       "VRDeck            0\n",
       "Name              0\n",
       "Transported       0\n",
       "train_test        0\n",
       "Cryo_int_val      0\n",
       "Cabin_letter      0\n",
       "Cabin_num         0\n",
       "VIP_int_val       0\n",
       "Surname           0\n",
       "dtype: int64"
      ]
     },
     "execution_count": 58,
     "metadata": {},
     "output_type": "execute_result"
    }
   ],
   "source": [
    "space_titanic.isnull().sum()"
   ]
  },
  {
   "cell_type": "code",
   "execution_count": 59,
   "id": "31437c11",
   "metadata": {
    "execution": {
     "iopub.execute_input": "2023-03-16T16:38:23.818373Z",
     "iopub.status.busy": "2023-03-16T16:38:23.817844Z",
     "iopub.status.idle": "2023-03-16T16:38:23.846954Z",
     "shell.execute_reply": "2023-03-16T16:38:23.845657Z"
    },
    "papermill": {
     "duration": 0.063089,
     "end_time": "2023-03-16T16:38:23.850306",
     "exception": false,
     "start_time": "2023-03-16T16:38:23.787217",
     "status": "completed"
    },
    "tags": []
   },
   "outputs": [],
   "source": [
    "features = ['HomePlanet','Destination','Age','RoomService','FoodCourt',\n",
    "    'ShoppingMall','Spa','train_test',\n",
    "    'Cryo_int_val','Cabin_letter','VIP_int_val']\n",
    "Vector_object = pd.get_dummies(space_titanic[features])"
   ]
  },
  {
   "cell_type": "code",
   "execution_count": 60,
   "id": "abd20ddd",
   "metadata": {
    "execution": {
     "iopub.execute_input": "2023-03-16T16:38:23.912505Z",
     "iopub.status.busy": "2023-03-16T16:38:23.911513Z",
     "iopub.status.idle": "2023-03-16T16:38:23.942148Z",
     "shell.execute_reply": "2023-03-16T16:38:23.940827Z"
    },
    "papermill": {
     "duration": 0.064451,
     "end_time": "2023-03-16T16:38:23.944859",
     "exception": false,
     "start_time": "2023-03-16T16:38:23.880408",
     "status": "completed"
    },
    "tags": []
   },
   "outputs": [
    {
     "data": {
      "text/html": [
       "<div>\n",
       "<style scoped>\n",
       "    .dataframe tbody tr th:only-of-type {\n",
       "        vertical-align: middle;\n",
       "    }\n",
       "\n",
       "    .dataframe tbody tr th {\n",
       "        vertical-align: top;\n",
       "    }\n",
       "\n",
       "    .dataframe thead th {\n",
       "        text-align: right;\n",
       "    }\n",
       "</style>\n",
       "<table border=\"1\" class=\"dataframe\">\n",
       "  <thead>\n",
       "    <tr style=\"text-align: right;\">\n",
       "      <th></th>\n",
       "      <th>Age</th>\n",
       "      <th>RoomService</th>\n",
       "      <th>FoodCourt</th>\n",
       "      <th>ShoppingMall</th>\n",
       "      <th>Spa</th>\n",
       "      <th>train_test</th>\n",
       "      <th>Cryo_int_val</th>\n",
       "      <th>VIP_int_val</th>\n",
       "      <th>HomePlanet_Earth</th>\n",
       "      <th>HomePlanet_Europa</th>\n",
       "      <th>...</th>\n",
       "      <th>Cabin_letter_DP</th>\n",
       "      <th>Cabin_letter_DS</th>\n",
       "      <th>Cabin_letter_EP</th>\n",
       "      <th>Cabin_letter_ES</th>\n",
       "      <th>Cabin_letter_FP</th>\n",
       "      <th>Cabin_letter_FS</th>\n",
       "      <th>Cabin_letter_GP</th>\n",
       "      <th>Cabin_letter_GS</th>\n",
       "      <th>Cabin_letter_TP</th>\n",
       "      <th>Cabin_letter_TS</th>\n",
       "    </tr>\n",
       "  </thead>\n",
       "  <tbody>\n",
       "    <tr>\n",
       "      <th>2728</th>\n",
       "      <td>5.0</td>\n",
       "      <td>0.000000</td>\n",
       "      <td>0.000000</td>\n",
       "      <td>0.0</td>\n",
       "      <td>0.000000</td>\n",
       "      <td>0</td>\n",
       "      <td>1</td>\n",
       "      <td>0</td>\n",
       "      <td>1</td>\n",
       "      <td>0</td>\n",
       "      <td>...</td>\n",
       "      <td>0</td>\n",
       "      <td>0</td>\n",
       "      <td>0</td>\n",
       "      <td>0</td>\n",
       "      <td>0</td>\n",
       "      <td>0</td>\n",
       "      <td>0</td>\n",
       "      <td>1</td>\n",
       "      <td>0</td>\n",
       "      <td>0</td>\n",
       "    </tr>\n",
       "    <tr>\n",
       "      <th>6181</th>\n",
       "      <td>21.0</td>\n",
       "      <td>0.000000</td>\n",
       "      <td>0.000000</td>\n",
       "      <td>0.0</td>\n",
       "      <td>0.000000</td>\n",
       "      <td>1</td>\n",
       "      <td>1</td>\n",
       "      <td>0</td>\n",
       "      <td>1</td>\n",
       "      <td>0</td>\n",
       "      <td>...</td>\n",
       "      <td>0</td>\n",
       "      <td>0</td>\n",
       "      <td>0</td>\n",
       "      <td>0</td>\n",
       "      <td>0</td>\n",
       "      <td>0</td>\n",
       "      <td>1</td>\n",
       "      <td>0</td>\n",
       "      <td>0</td>\n",
       "      <td>0</td>\n",
       "    </tr>\n",
       "    <tr>\n",
       "      <th>5741</th>\n",
       "      <td>36.0</td>\n",
       "      <td>0.000000</td>\n",
       "      <td>0.000000</td>\n",
       "      <td>0.0</td>\n",
       "      <td>0.000000</td>\n",
       "      <td>1</td>\n",
       "      <td>1</td>\n",
       "      <td>0</td>\n",
       "      <td>0</td>\n",
       "      <td>0</td>\n",
       "      <td>...</td>\n",
       "      <td>0</td>\n",
       "      <td>0</td>\n",
       "      <td>0</td>\n",
       "      <td>0</td>\n",
       "      <td>1</td>\n",
       "      <td>0</td>\n",
       "      <td>0</td>\n",
       "      <td>0</td>\n",
       "      <td>0</td>\n",
       "      <td>0</td>\n",
       "    </tr>\n",
       "    <tr>\n",
       "      <th>8347</th>\n",
       "      <td>19.0</td>\n",
       "      <td>0.000000</td>\n",
       "      <td>0.000000</td>\n",
       "      <td>0.0</td>\n",
       "      <td>0.000000</td>\n",
       "      <td>1</td>\n",
       "      <td>0</td>\n",
       "      <td>0</td>\n",
       "      <td>1</td>\n",
       "      <td>0</td>\n",
       "      <td>...</td>\n",
       "      <td>0</td>\n",
       "      <td>0</td>\n",
       "      <td>0</td>\n",
       "      <td>0</td>\n",
       "      <td>0</td>\n",
       "      <td>0</td>\n",
       "      <td>1</td>\n",
       "      <td>0</td>\n",
       "      <td>0</td>\n",
       "      <td>0</td>\n",
       "    </tr>\n",
       "    <tr>\n",
       "      <th>1431</th>\n",
       "      <td>57.0</td>\n",
       "      <td>0.000000</td>\n",
       "      <td>0.000000</td>\n",
       "      <td>0.0</td>\n",
       "      <td>0.000000</td>\n",
       "      <td>0</td>\n",
       "      <td>1</td>\n",
       "      <td>0</td>\n",
       "      <td>0</td>\n",
       "      <td>0</td>\n",
       "      <td>...</td>\n",
       "      <td>0</td>\n",
       "      <td>0</td>\n",
       "      <td>0</td>\n",
       "      <td>0</td>\n",
       "      <td>1</td>\n",
       "      <td>0</td>\n",
       "      <td>0</td>\n",
       "      <td>0</td>\n",
       "      <td>0</td>\n",
       "      <td>0</td>\n",
       "    </tr>\n",
       "    <tr>\n",
       "      <th>1896</th>\n",
       "      <td>20.0</td>\n",
       "      <td>0.000000</td>\n",
       "      <td>0.000000</td>\n",
       "      <td>0.0</td>\n",
       "      <td>0.000000</td>\n",
       "      <td>0</td>\n",
       "      <td>0</td>\n",
       "      <td>0</td>\n",
       "      <td>0</td>\n",
       "      <td>1</td>\n",
       "      <td>...</td>\n",
       "      <td>1</td>\n",
       "      <td>0</td>\n",
       "      <td>0</td>\n",
       "      <td>0</td>\n",
       "      <td>0</td>\n",
       "      <td>0</td>\n",
       "      <td>0</td>\n",
       "      <td>0</td>\n",
       "      <td>0</td>\n",
       "      <td>0</td>\n",
       "    </tr>\n",
       "    <tr>\n",
       "      <th>6923</th>\n",
       "      <td>16.0</td>\n",
       "      <td>0.000000</td>\n",
       "      <td>0.000000</td>\n",
       "      <td>0.0</td>\n",
       "      <td>0.000000</td>\n",
       "      <td>1</td>\n",
       "      <td>1</td>\n",
       "      <td>0</td>\n",
       "      <td>1</td>\n",
       "      <td>0</td>\n",
       "      <td>...</td>\n",
       "      <td>0</td>\n",
       "      <td>0</td>\n",
       "      <td>0</td>\n",
       "      <td>0</td>\n",
       "      <td>0</td>\n",
       "      <td>0</td>\n",
       "      <td>0</td>\n",
       "      <td>1</td>\n",
       "      <td>0</td>\n",
       "      <td>0</td>\n",
       "    </tr>\n",
       "    <tr>\n",
       "      <th>2565</th>\n",
       "      <td>27.0</td>\n",
       "      <td>0.000000</td>\n",
       "      <td>0.000000</td>\n",
       "      <td>0.0</td>\n",
       "      <td>0.000000</td>\n",
       "      <td>1</td>\n",
       "      <td>1</td>\n",
       "      <td>0</td>\n",
       "      <td>1</td>\n",
       "      <td>0</td>\n",
       "      <td>...</td>\n",
       "      <td>0</td>\n",
       "      <td>0</td>\n",
       "      <td>0</td>\n",
       "      <td>0</td>\n",
       "      <td>0</td>\n",
       "      <td>0</td>\n",
       "      <td>1</td>\n",
       "      <td>0</td>\n",
       "      <td>0</td>\n",
       "      <td>0</td>\n",
       "    </tr>\n",
       "    <tr>\n",
       "      <th>1063</th>\n",
       "      <td>34.0</td>\n",
       "      <td>0.000000</td>\n",
       "      <td>0.000000</td>\n",
       "      <td>0.0</td>\n",
       "      <td>0.000000</td>\n",
       "      <td>1</td>\n",
       "      <td>1</td>\n",
       "      <td>0</td>\n",
       "      <td>0</td>\n",
       "      <td>1</td>\n",
       "      <td>...</td>\n",
       "      <td>0</td>\n",
       "      <td>0</td>\n",
       "      <td>0</td>\n",
       "      <td>0</td>\n",
       "      <td>0</td>\n",
       "      <td>0</td>\n",
       "      <td>0</td>\n",
       "      <td>0</td>\n",
       "      <td>0</td>\n",
       "      <td>0</td>\n",
       "    </tr>\n",
       "    <tr>\n",
       "      <th>1341</th>\n",
       "      <td>37.0</td>\n",
       "      <td>5.796058</td>\n",
       "      <td>8.724858</td>\n",
       "      <td>0.0</td>\n",
       "      <td>3.295837</td>\n",
       "      <td>1</td>\n",
       "      <td>0</td>\n",
       "      <td>0</td>\n",
       "      <td>0</td>\n",
       "      <td>0</td>\n",
       "      <td>...</td>\n",
       "      <td>0</td>\n",
       "      <td>0</td>\n",
       "      <td>0</td>\n",
       "      <td>0</td>\n",
       "      <td>0</td>\n",
       "      <td>1</td>\n",
       "      <td>0</td>\n",
       "      <td>0</td>\n",
       "      <td>0</td>\n",
       "      <td>0</td>\n",
       "    </tr>\n",
       "  </tbody>\n",
       "</table>\n",
       "<p>10 rows × 30 columns</p>\n",
       "</div>"
      ],
      "text/plain": [
       "       Age  RoomService  FoodCourt  ShoppingMall       Spa  train_test  \\\n",
       "2728   5.0     0.000000   0.000000           0.0  0.000000           0   \n",
       "6181  21.0     0.000000   0.000000           0.0  0.000000           1   \n",
       "5741  36.0     0.000000   0.000000           0.0  0.000000           1   \n",
       "8347  19.0     0.000000   0.000000           0.0  0.000000           1   \n",
       "1431  57.0     0.000000   0.000000           0.0  0.000000           0   \n",
       "1896  20.0     0.000000   0.000000           0.0  0.000000           0   \n",
       "6923  16.0     0.000000   0.000000           0.0  0.000000           1   \n",
       "2565  27.0     0.000000   0.000000           0.0  0.000000           1   \n",
       "1063  34.0     0.000000   0.000000           0.0  0.000000           1   \n",
       "1341  37.0     5.796058   8.724858           0.0  3.295837           1   \n",
       "\n",
       "      Cryo_int_val  VIP_int_val  HomePlanet_Earth  HomePlanet_Europa  ...  \\\n",
       "2728             1            0                 1                  0  ...   \n",
       "6181             1            0                 1                  0  ...   \n",
       "5741             1            0                 0                  0  ...   \n",
       "8347             0            0                 1                  0  ...   \n",
       "1431             1            0                 0                  0  ...   \n",
       "1896             0            0                 0                  1  ...   \n",
       "6923             1            0                 1                  0  ...   \n",
       "2565             1            0                 1                  0  ...   \n",
       "1063             1            0                 0                  1  ...   \n",
       "1341             0            0                 0                  0  ...   \n",
       "\n",
       "      Cabin_letter_DP  Cabin_letter_DS  Cabin_letter_EP  Cabin_letter_ES  \\\n",
       "2728                0                0                0                0   \n",
       "6181                0                0                0                0   \n",
       "5741                0                0                0                0   \n",
       "8347                0                0                0                0   \n",
       "1431                0                0                0                0   \n",
       "1896                1                0                0                0   \n",
       "6923                0                0                0                0   \n",
       "2565                0                0                0                0   \n",
       "1063                0                0                0                0   \n",
       "1341                0                0                0                0   \n",
       "\n",
       "      Cabin_letter_FP  Cabin_letter_FS  Cabin_letter_GP  Cabin_letter_GS  \\\n",
       "2728                0                0                0                1   \n",
       "6181                0                0                1                0   \n",
       "5741                1                0                0                0   \n",
       "8347                0                0                1                0   \n",
       "1431                1                0                0                0   \n",
       "1896                0                0                0                0   \n",
       "6923                0                0                0                1   \n",
       "2565                0                0                1                0   \n",
       "1063                0                0                0                0   \n",
       "1341                0                1                0                0   \n",
       "\n",
       "      Cabin_letter_TP  Cabin_letter_TS  \n",
       "2728                0                0  \n",
       "6181                0                0  \n",
       "5741                0                0  \n",
       "8347                0                0  \n",
       "1431                0                0  \n",
       "1896                0                0  \n",
       "6923                0                0  \n",
       "2565                0                0  \n",
       "1063                0                0  \n",
       "1341                0                0  \n",
       "\n",
       "[10 rows x 30 columns]"
      ]
     },
     "execution_count": 60,
     "metadata": {},
     "output_type": "execute_result"
    }
   ],
   "source": [
    "Vector_object.sample(10)"
   ]
  },
  {
   "cell_type": "code",
   "execution_count": 61,
   "id": "fac3e364",
   "metadata": {
    "execution": {
     "iopub.execute_input": "2023-03-16T16:38:24.005189Z",
     "iopub.status.busy": "2023-03-16T16:38:24.004654Z",
     "iopub.status.idle": "2023-03-16T16:38:24.018529Z",
     "shell.execute_reply": "2023-03-16T16:38:24.017199Z"
    },
    "papermill": {
     "duration": 0.047893,
     "end_time": "2023-03-16T16:38:24.021660",
     "exception": false,
     "start_time": "2023-03-16T16:38:23.973767",
     "status": "completed"
    },
    "tags": []
   },
   "outputs": [
    {
     "data": {
      "text/plain": [
       "(8693, 29)"
      ]
     },
     "execution_count": 61,
     "metadata": {},
     "output_type": "execute_result"
    }
   ],
   "source": [
    "X = Vector_object[Vector_object.train_test == 1].drop(['train_test'],axis=1)\n",
    "X.shape"
   ]
  },
  {
   "cell_type": "code",
   "execution_count": 62,
   "id": "0b194870",
   "metadata": {
    "execution": {
     "iopub.execute_input": "2023-03-16T16:38:24.082277Z",
     "iopub.status.busy": "2023-03-16T16:38:24.081762Z",
     "iopub.status.idle": "2023-03-16T16:38:24.111304Z",
     "shell.execute_reply": "2023-03-16T16:38:24.109923Z"
    },
    "papermill": {
     "duration": 0.063567,
     "end_time": "2023-03-16T16:38:24.114425",
     "exception": false,
     "start_time": "2023-03-16T16:38:24.050858",
     "status": "completed"
    },
    "tags": []
   },
   "outputs": [
    {
     "data": {
      "text/html": [
       "<div>\n",
       "<style scoped>\n",
       "    .dataframe tbody tr th:only-of-type {\n",
       "        vertical-align: middle;\n",
       "    }\n",
       "\n",
       "    .dataframe tbody tr th {\n",
       "        vertical-align: top;\n",
       "    }\n",
       "\n",
       "    .dataframe thead th {\n",
       "        text-align: right;\n",
       "    }\n",
       "</style>\n",
       "<table border=\"1\" class=\"dataframe\">\n",
       "  <thead>\n",
       "    <tr style=\"text-align: right;\">\n",
       "      <th></th>\n",
       "      <th>Age</th>\n",
       "      <th>RoomService</th>\n",
       "      <th>FoodCourt</th>\n",
       "      <th>ShoppingMall</th>\n",
       "      <th>Spa</th>\n",
       "      <th>Cryo_int_val</th>\n",
       "      <th>VIP_int_val</th>\n",
       "      <th>HomePlanet_Earth</th>\n",
       "      <th>HomePlanet_Europa</th>\n",
       "      <th>HomePlanet_Mars</th>\n",
       "      <th>...</th>\n",
       "      <th>Cabin_letter_DP</th>\n",
       "      <th>Cabin_letter_DS</th>\n",
       "      <th>Cabin_letter_EP</th>\n",
       "      <th>Cabin_letter_ES</th>\n",
       "      <th>Cabin_letter_FP</th>\n",
       "      <th>Cabin_letter_FS</th>\n",
       "      <th>Cabin_letter_GP</th>\n",
       "      <th>Cabin_letter_GS</th>\n",
       "      <th>Cabin_letter_TP</th>\n",
       "      <th>Cabin_letter_TS</th>\n",
       "    </tr>\n",
       "  </thead>\n",
       "  <tbody>\n",
       "    <tr>\n",
       "      <th>0</th>\n",
       "      <td>39.0</td>\n",
       "      <td>0.000000</td>\n",
       "      <td>0.000000</td>\n",
       "      <td>0.000000</td>\n",
       "      <td>0.000000</td>\n",
       "      <td>0</td>\n",
       "      <td>0</td>\n",
       "      <td>0</td>\n",
       "      <td>1</td>\n",
       "      <td>0</td>\n",
       "      <td>...</td>\n",
       "      <td>0</td>\n",
       "      <td>0</td>\n",
       "      <td>0</td>\n",
       "      <td>0</td>\n",
       "      <td>0</td>\n",
       "      <td>0</td>\n",
       "      <td>0</td>\n",
       "      <td>0</td>\n",
       "      <td>0</td>\n",
       "      <td>0</td>\n",
       "    </tr>\n",
       "    <tr>\n",
       "      <th>1</th>\n",
       "      <td>24.0</td>\n",
       "      <td>4.700480</td>\n",
       "      <td>2.302585</td>\n",
       "      <td>3.258097</td>\n",
       "      <td>6.309918</td>\n",
       "      <td>0</td>\n",
       "      <td>0</td>\n",
       "      <td>1</td>\n",
       "      <td>0</td>\n",
       "      <td>0</td>\n",
       "      <td>...</td>\n",
       "      <td>0</td>\n",
       "      <td>0</td>\n",
       "      <td>0</td>\n",
       "      <td>0</td>\n",
       "      <td>0</td>\n",
       "      <td>1</td>\n",
       "      <td>0</td>\n",
       "      <td>0</td>\n",
       "      <td>0</td>\n",
       "      <td>0</td>\n",
       "    </tr>\n",
       "    <tr>\n",
       "      <th>2</th>\n",
       "      <td>58.0</td>\n",
       "      <td>3.784190</td>\n",
       "      <td>8.182280</td>\n",
       "      <td>0.000000</td>\n",
       "      <td>8.812248</td>\n",
       "      <td>0</td>\n",
       "      <td>1</td>\n",
       "      <td>0</td>\n",
       "      <td>1</td>\n",
       "      <td>0</td>\n",
       "      <td>...</td>\n",
       "      <td>0</td>\n",
       "      <td>0</td>\n",
       "      <td>0</td>\n",
       "      <td>0</td>\n",
       "      <td>0</td>\n",
       "      <td>0</td>\n",
       "      <td>0</td>\n",
       "      <td>0</td>\n",
       "      <td>0</td>\n",
       "      <td>0</td>\n",
       "    </tr>\n",
       "    <tr>\n",
       "      <th>3</th>\n",
       "      <td>33.0</td>\n",
       "      <td>0.000000</td>\n",
       "      <td>7.157735</td>\n",
       "      <td>5.918894</td>\n",
       "      <td>8.110728</td>\n",
       "      <td>0</td>\n",
       "      <td>0</td>\n",
       "      <td>0</td>\n",
       "      <td>1</td>\n",
       "      <td>0</td>\n",
       "      <td>...</td>\n",
       "      <td>0</td>\n",
       "      <td>0</td>\n",
       "      <td>0</td>\n",
       "      <td>0</td>\n",
       "      <td>0</td>\n",
       "      <td>0</td>\n",
       "      <td>0</td>\n",
       "      <td>0</td>\n",
       "      <td>0</td>\n",
       "      <td>0</td>\n",
       "    </tr>\n",
       "    <tr>\n",
       "      <th>4</th>\n",
       "      <td>16.0</td>\n",
       "      <td>5.717028</td>\n",
       "      <td>4.262680</td>\n",
       "      <td>5.023881</td>\n",
       "      <td>6.338594</td>\n",
       "      <td>0</td>\n",
       "      <td>0</td>\n",
       "      <td>1</td>\n",
       "      <td>0</td>\n",
       "      <td>0</td>\n",
       "      <td>...</td>\n",
       "      <td>0</td>\n",
       "      <td>0</td>\n",
       "      <td>0</td>\n",
       "      <td>0</td>\n",
       "      <td>0</td>\n",
       "      <td>1</td>\n",
       "      <td>0</td>\n",
       "      <td>0</td>\n",
       "      <td>0</td>\n",
       "      <td>0</td>\n",
       "    </tr>\n",
       "    <tr>\n",
       "      <th>...</th>\n",
       "      <td>...</td>\n",
       "      <td>...</td>\n",
       "      <td>...</td>\n",
       "      <td>...</td>\n",
       "      <td>...</td>\n",
       "      <td>...</td>\n",
       "      <td>...</td>\n",
       "      <td>...</td>\n",
       "      <td>...</td>\n",
       "      <td>...</td>\n",
       "      <td>...</td>\n",
       "      <td>...</td>\n",
       "      <td>...</td>\n",
       "      <td>...</td>\n",
       "      <td>...</td>\n",
       "      <td>...</td>\n",
       "      <td>...</td>\n",
       "      <td>...</td>\n",
       "      <td>...</td>\n",
       "      <td>...</td>\n",
       "      <td>...</td>\n",
       "    </tr>\n",
       "    <tr>\n",
       "      <th>8688</th>\n",
       "      <td>41.0</td>\n",
       "      <td>0.000000</td>\n",
       "      <td>8.827615</td>\n",
       "      <td>0.000000</td>\n",
       "      <td>7.404888</td>\n",
       "      <td>0</td>\n",
       "      <td>1</td>\n",
       "      <td>0</td>\n",
       "      <td>1</td>\n",
       "      <td>0</td>\n",
       "      <td>...</td>\n",
       "      <td>0</td>\n",
       "      <td>0</td>\n",
       "      <td>0</td>\n",
       "      <td>0</td>\n",
       "      <td>0</td>\n",
       "      <td>0</td>\n",
       "      <td>0</td>\n",
       "      <td>0</td>\n",
       "      <td>0</td>\n",
       "      <td>0</td>\n",
       "    </tr>\n",
       "    <tr>\n",
       "      <th>8689</th>\n",
       "      <td>18.0</td>\n",
       "      <td>0.000000</td>\n",
       "      <td>0.000000</td>\n",
       "      <td>0.000000</td>\n",
       "      <td>0.000000</td>\n",
       "      <td>1</td>\n",
       "      <td>0</td>\n",
       "      <td>1</td>\n",
       "      <td>0</td>\n",
       "      <td>0</td>\n",
       "      <td>...</td>\n",
       "      <td>0</td>\n",
       "      <td>0</td>\n",
       "      <td>0</td>\n",
       "      <td>0</td>\n",
       "      <td>0</td>\n",
       "      <td>0</td>\n",
       "      <td>0</td>\n",
       "      <td>1</td>\n",
       "      <td>0</td>\n",
       "      <td>0</td>\n",
       "    </tr>\n",
       "    <tr>\n",
       "      <th>8690</th>\n",
       "      <td>26.0</td>\n",
       "      <td>0.000000</td>\n",
       "      <td>0.000000</td>\n",
       "      <td>7.535297</td>\n",
       "      <td>0.693147</td>\n",
       "      <td>0</td>\n",
       "      <td>0</td>\n",
       "      <td>1</td>\n",
       "      <td>0</td>\n",
       "      <td>0</td>\n",
       "      <td>...</td>\n",
       "      <td>0</td>\n",
       "      <td>0</td>\n",
       "      <td>0</td>\n",
       "      <td>0</td>\n",
       "      <td>0</td>\n",
       "      <td>0</td>\n",
       "      <td>0</td>\n",
       "      <td>1</td>\n",
       "      <td>0</td>\n",
       "      <td>0</td>\n",
       "    </tr>\n",
       "    <tr>\n",
       "      <th>8691</th>\n",
       "      <td>32.0</td>\n",
       "      <td>0.000000</td>\n",
       "      <td>6.956545</td>\n",
       "      <td>0.000000</td>\n",
       "      <td>5.869297</td>\n",
       "      <td>0</td>\n",
       "      <td>0</td>\n",
       "      <td>0</td>\n",
       "      <td>1</td>\n",
       "      <td>0</td>\n",
       "      <td>...</td>\n",
       "      <td>0</td>\n",
       "      <td>0</td>\n",
       "      <td>0</td>\n",
       "      <td>1</td>\n",
       "      <td>0</td>\n",
       "      <td>0</td>\n",
       "      <td>0</td>\n",
       "      <td>0</td>\n",
       "      <td>0</td>\n",
       "      <td>0</td>\n",
       "    </tr>\n",
       "    <tr>\n",
       "      <th>8692</th>\n",
       "      <td>44.0</td>\n",
       "      <td>4.844187</td>\n",
       "      <td>8.452975</td>\n",
       "      <td>0.000000</td>\n",
       "      <td>0.000000</td>\n",
       "      <td>0</td>\n",
       "      <td>0</td>\n",
       "      <td>0</td>\n",
       "      <td>1</td>\n",
       "      <td>0</td>\n",
       "      <td>...</td>\n",
       "      <td>0</td>\n",
       "      <td>0</td>\n",
       "      <td>0</td>\n",
       "      <td>1</td>\n",
       "      <td>0</td>\n",
       "      <td>0</td>\n",
       "      <td>0</td>\n",
       "      <td>0</td>\n",
       "      <td>0</td>\n",
       "      <td>0</td>\n",
       "    </tr>\n",
       "  </tbody>\n",
       "</table>\n",
       "<p>8693 rows × 29 columns</p>\n",
       "</div>"
      ],
      "text/plain": [
       "       Age  RoomService  FoodCourt  ShoppingMall       Spa  Cryo_int_val  \\\n",
       "0     39.0     0.000000   0.000000      0.000000  0.000000             0   \n",
       "1     24.0     4.700480   2.302585      3.258097  6.309918             0   \n",
       "2     58.0     3.784190   8.182280      0.000000  8.812248             0   \n",
       "3     33.0     0.000000   7.157735      5.918894  8.110728             0   \n",
       "4     16.0     5.717028   4.262680      5.023881  6.338594             0   \n",
       "...    ...          ...        ...           ...       ...           ...   \n",
       "8688  41.0     0.000000   8.827615      0.000000  7.404888             0   \n",
       "8689  18.0     0.000000   0.000000      0.000000  0.000000             1   \n",
       "8690  26.0     0.000000   0.000000      7.535297  0.693147             0   \n",
       "8691  32.0     0.000000   6.956545      0.000000  5.869297             0   \n",
       "8692  44.0     4.844187   8.452975      0.000000  0.000000             0   \n",
       "\n",
       "      VIP_int_val  HomePlanet_Earth  HomePlanet_Europa  HomePlanet_Mars  ...  \\\n",
       "0               0                 0                  1                0  ...   \n",
       "1               0                 1                  0                0  ...   \n",
       "2               1                 0                  1                0  ...   \n",
       "3               0                 0                  1                0  ...   \n",
       "4               0                 1                  0                0  ...   \n",
       "...           ...               ...                ...              ...  ...   \n",
       "8688            1                 0                  1                0  ...   \n",
       "8689            0                 1                  0                0  ...   \n",
       "8690            0                 1                  0                0  ...   \n",
       "8691            0                 0                  1                0  ...   \n",
       "8692            0                 0                  1                0  ...   \n",
       "\n",
       "      Cabin_letter_DP  Cabin_letter_DS  Cabin_letter_EP  Cabin_letter_ES  \\\n",
       "0                   0                0                0                0   \n",
       "1                   0                0                0                0   \n",
       "2                   0                0                0                0   \n",
       "3                   0                0                0                0   \n",
       "4                   0                0                0                0   \n",
       "...               ...              ...              ...              ...   \n",
       "8688                0                0                0                0   \n",
       "8689                0                0                0                0   \n",
       "8690                0                0                0                0   \n",
       "8691                0                0                0                1   \n",
       "8692                0                0                0                1   \n",
       "\n",
       "      Cabin_letter_FP  Cabin_letter_FS  Cabin_letter_GP  Cabin_letter_GS  \\\n",
       "0                   0                0                0                0   \n",
       "1                   0                1                0                0   \n",
       "2                   0                0                0                0   \n",
       "3                   0                0                0                0   \n",
       "4                   0                1                0                0   \n",
       "...               ...              ...              ...              ...   \n",
       "8688                0                0                0                0   \n",
       "8689                0                0                0                1   \n",
       "8690                0                0                0                1   \n",
       "8691                0                0                0                0   \n",
       "8692                0                0                0                0   \n",
       "\n",
       "      Cabin_letter_TP  Cabin_letter_TS  \n",
       "0                   0                0  \n",
       "1                   0                0  \n",
       "2                   0                0  \n",
       "3                   0                0  \n",
       "4                   0                0  \n",
       "...               ...              ...  \n",
       "8688                0                0  \n",
       "8689                0                0  \n",
       "8690                0                0  \n",
       "8691                0                0  \n",
       "8692                0                0  \n",
       "\n",
       "[8693 rows x 29 columns]"
      ]
     },
     "execution_count": 62,
     "metadata": {},
     "output_type": "execute_result"
    }
   ],
   "source": [
    "X"
   ]
  },
  {
   "cell_type": "code",
   "execution_count": 63,
   "id": "c8fa22c0",
   "metadata": {
    "execution": {
     "iopub.execute_input": "2023-03-16T16:38:24.177513Z",
     "iopub.status.busy": "2023-03-16T16:38:24.177024Z",
     "iopub.status.idle": "2023-03-16T16:38:24.188551Z",
     "shell.execute_reply": "2023-03-16T16:38:24.187307Z"
    },
    "papermill": {
     "duration": 0.046202,
     "end_time": "2023-03-16T16:38:24.191082",
     "exception": false,
     "start_time": "2023-03-16T16:38:24.144880",
     "status": "completed"
    },
    "tags": []
   },
   "outputs": [
    {
     "data": {
      "text/plain": [
       "(4277, 29)"
      ]
     },
     "execution_count": 63,
     "metadata": {},
     "output_type": "execute_result"
    }
   ],
   "source": [
    "X_t = Vector_object[Vector_object.train_test == 0].drop(['train_test'],axis=1)\n",
    "X_t.shape"
   ]
  },
  {
   "cell_type": "code",
   "execution_count": 64,
   "id": "9113089b",
   "metadata": {
    "execution": {
     "iopub.execute_input": "2023-03-16T16:38:24.254935Z",
     "iopub.status.busy": "2023-03-16T16:38:24.254432Z",
     "iopub.status.idle": "2023-03-16T16:38:24.266172Z",
     "shell.execute_reply": "2023-03-16T16:38:24.264833Z"
    },
    "papermill": {
     "duration": 0.047315,
     "end_time": "2023-03-16T16:38:24.269410",
     "exception": false,
     "start_time": "2023-03-16T16:38:24.222095",
     "status": "completed"
    },
    "tags": []
   },
   "outputs": [],
   "source": [
    "y = space_titanic[space_titanic.train_test == 1].Transported\n",
    "y = y.astype(int)"
   ]
  },
  {
   "cell_type": "markdown",
   "id": "c38fe4ac",
   "metadata": {
    "papermill": {
     "duration": 0.03031,
     "end_time": "2023-03-16T16:38:24.329620",
     "exception": false,
     "start_time": "2023-03-16T16:38:24.299310",
     "status": "completed"
    },
    "tags": []
   },
   "source": [
    "### build model"
   ]
  },
  {
   "cell_type": "code",
   "execution_count": 65,
   "id": "f3423e79",
   "metadata": {
    "execution": {
     "iopub.execute_input": "2023-03-16T16:38:24.391588Z",
     "iopub.status.busy": "2023-03-16T16:38:24.391070Z",
     "iopub.status.idle": "2023-03-16T16:38:25.029395Z",
     "shell.execute_reply": "2023-03-16T16:38:25.028084Z"
    },
    "papermill": {
     "duration": 0.672508,
     "end_time": "2023-03-16T16:38:25.032602",
     "exception": false,
     "start_time": "2023-03-16T16:38:24.360094",
     "status": "completed"
    },
    "tags": []
   },
   "outputs": [],
   "source": [
    "from sklearn.linear_model import LogisticRegression\n",
    "from sklearn.ensemble import RandomForestClassifier\n",
    "from sklearn.metrics import accuracy_score\n",
    "from sklearn.model_selection import GridSearchCV"
   ]
  },
  {
   "cell_type": "code",
   "execution_count": 66,
   "id": "f4d39e83",
   "metadata": {
    "execution": {
     "iopub.execute_input": "2023-03-16T16:38:25.095508Z",
     "iopub.status.busy": "2023-03-16T16:38:25.094348Z",
     "iopub.status.idle": "2023-03-16T16:38:25.106057Z",
     "shell.execute_reply": "2023-03-16T16:38:25.104945Z"
    },
    "papermill": {
     "duration": 0.045811,
     "end_time": "2023-03-16T16:38:25.108547",
     "exception": false,
     "start_time": "2023-03-16T16:38:25.062736",
     "status": "completed"
    },
    "tags": []
   },
   "outputs": [],
   "source": [
    "from sklearn.model_selection import train_test_split\n",
    "X_train, X_test, y_train, y_test = train_test_split(X, y, test_size=0.2)"
   ]
  },
  {
   "cell_type": "code",
   "execution_count": 67,
   "id": "496d971b",
   "metadata": {
    "execution": {
     "iopub.execute_input": "2023-03-16T16:38:25.170922Z",
     "iopub.status.busy": "2023-03-16T16:38:25.170210Z",
     "iopub.status.idle": "2023-03-16T16:38:25.524498Z",
     "shell.execute_reply": "2023-03-16T16:38:25.523066Z"
    },
    "papermill": {
     "duration": 0.390566,
     "end_time": "2023-03-16T16:38:25.528624",
     "exception": false,
     "start_time": "2023-03-16T16:38:25.138058",
     "status": "completed"
    },
    "tags": []
   },
   "outputs": [
    {
     "name": "stdout",
     "output_type": "stream",
     "text": [
      "Train score:  0.7568306010928961\n",
      "Test score:  0.7418056354226567\n"
     ]
    }
   ],
   "source": [
    "lr = LogisticRegression(max_iter=2000)\n",
    "lr.fit(X_train,y_train)\n",
    "print('Train score: ', lr.score(X_train, y_train))\n",
    "print('Test score: ', lr.score(X_test, y_test))"
   ]
  },
  {
   "cell_type": "markdown",
   "id": "78dbbd49",
   "metadata": {
    "papermill": {
     "duration": 0.049601,
     "end_time": "2023-03-16T16:38:25.628823",
     "exception": false,
     "start_time": "2023-03-16T16:38:25.579222",
     "status": "completed"
    },
    "tags": []
   },
   "source": [
    "### Grid Search"
   ]
  },
  {
   "cell_type": "code",
   "execution_count": 68,
   "id": "e69524d4",
   "metadata": {
    "execution": {
     "iopub.execute_input": "2023-03-16T16:38:25.694610Z",
     "iopub.status.busy": "2023-03-16T16:38:25.694140Z",
     "iopub.status.idle": "2023-03-16T16:38:30.805948Z",
     "shell.execute_reply": "2023-03-16T16:38:30.802699Z"
    },
    "papermill": {
     "duration": 5.147368,
     "end_time": "2023-03-16T16:38:30.809879",
     "exception": false,
     "start_time": "2023-03-16T16:38:25.662511",
     "status": "completed"
    },
    "tags": []
   },
   "outputs": [
    {
     "name": "stdout",
     "output_type": "stream",
     "text": [
      "Fitting 5 folds for each of 40 candidates, totalling 200 fits\n",
      "0.7546755349135502\n",
      "LogisticRegression(C=1.623776739188721, max_iter=2000, solver='liblinear')\n"
     ]
    }
   ],
   "source": [
    "params = {'max_iter' : [2000],\n",
    "              'penalty' : ['l1', 'l2'],\n",
    "              'C' : np.logspace(-4, 4, 20),\n",
    "              'solver' : ['liblinear']}\n",
    "lr = LogisticRegression()\n",
    "lr_grid = GridSearchCV(lr, param_grid=params,cv=5,verbose=True,n_jobs=-1)\n",
    "lr_grid.fit(X_train,y_train)\n",
    "print(lr_grid.best_score_)\n",
    "print(lr_grid.best_estimator_)"
   ]
  },
  {
   "cell_type": "code",
   "execution_count": 69,
   "id": "8ed8f1b5",
   "metadata": {
    "execution": {
     "iopub.execute_input": "2023-03-16T16:38:30.882220Z",
     "iopub.status.busy": "2023-03-16T16:38:30.881567Z",
     "iopub.status.idle": "2023-03-16T16:38:30.903443Z",
     "shell.execute_reply": "2023-03-16T16:38:30.901425Z"
    },
    "papermill": {
     "duration": 0.06193,
     "end_time": "2023-03-16T16:38:30.907690",
     "exception": false,
     "start_time": "2023-03-16T16:38:30.845760",
     "status": "completed"
    },
    "tags": []
   },
   "outputs": [
    {
     "name": "stdout",
     "output_type": "stream",
     "text": [
      "Train scores:  0.7561115904515386\n",
      "Test scores:  0.7429557216791259\n"
     ]
    }
   ],
   "source": [
    "lr_best = lr_grid.best_estimator_\n",
    "print(\"Train scores: \", lr_best.score(X_train, y_train))\n",
    "print(\"Test scores: \", lr_best.score(X_test, y_test))"
   ]
  },
  {
   "cell_type": "code",
   "execution_count": 70,
   "id": "8dda6e1d",
   "metadata": {
    "execution": {
     "iopub.execute_input": "2023-03-16T16:38:31.014406Z",
     "iopub.status.busy": "2023-03-16T16:38:31.013667Z",
     "iopub.status.idle": "2023-03-16T16:38:31.029516Z",
     "shell.execute_reply": "2023-03-16T16:38:31.027907Z"
    },
    "papermill": {
     "duration": 0.071627,
     "end_time": "2023-03-16T16:38:31.033580",
     "exception": false,
     "start_time": "2023-03-16T16:38:30.961953",
     "status": "completed"
    },
    "tags": []
   },
   "outputs": [],
   "source": [
    "y_predict = lr_best.predict(X_t).astype(bool)\n",
    "PassID = test['PassengerId']"
   ]
  },
  {
   "cell_type": "markdown",
   "id": "d8675d36",
   "metadata": {
    "papermill": {
     "duration": 0.054582,
     "end_time": "2023-03-16T16:38:31.140096",
     "exception": false,
     "start_time": "2023-03-16T16:38:31.085514",
     "status": "completed"
    },
    "tags": []
   },
   "source": [
    "### download predict data"
   ]
  },
  {
   "cell_type": "code",
   "execution_count": 71,
   "id": "5e773ea6",
   "metadata": {
    "execution": {
     "iopub.execute_input": "2023-03-16T16:38:31.212472Z",
     "iopub.status.busy": "2023-03-16T16:38:31.211951Z",
     "iopub.status.idle": "2023-03-16T16:38:31.221078Z",
     "shell.execute_reply": "2023-03-16T16:38:31.219295Z"
    },
    "papermill": {
     "duration": 0.045788,
     "end_time": "2023-03-16T16:38:31.224018",
     "exception": false,
     "start_time": "2023-03-16T16:38:31.178230",
     "status": "completed"
    },
    "tags": []
   },
   "outputs": [],
   "source": [
    "submission_lr = pd.DataFrame({'PassengerId': PassID, 'Transported': y_predict})"
   ]
  },
  {
   "cell_type": "code",
   "execution_count": 72,
   "id": "84d19597",
   "metadata": {
    "execution": {
     "iopub.execute_input": "2023-03-16T16:38:31.287841Z",
     "iopub.status.busy": "2023-03-16T16:38:31.286724Z",
     "iopub.status.idle": "2023-03-16T16:38:31.304116Z",
     "shell.execute_reply": "2023-03-16T16:38:31.302716Z"
    },
    "papermill": {
     "duration": 0.052584,
     "end_time": "2023-03-16T16:38:31.307169",
     "exception": false,
     "start_time": "2023-03-16T16:38:31.254585",
     "status": "completed"
    },
    "tags": []
   },
   "outputs": [],
   "source": [
    "submission_lr.to_csv('/kaggle/working/submission.csv', index=False)"
   ]
  }
 ],
 "metadata": {
  "kernelspec": {
   "display_name": "Python 3",
   "language": "python",
   "name": "python3"
  },
  "language_info": {
   "codemirror_mode": {
    "name": "ipython",
    "version": 3
   },
   "file_extension": ".py",
   "mimetype": "text/x-python",
   "name": "python",
   "nbconvert_exporter": "python",
   "pygments_lexer": "ipython3",
   "version": "3.7.12"
  },
  "papermill": {
   "default_parameters": {},
   "duration": 30.37706,
   "end_time": "2023-03-16T16:38:33.960908",
   "environment_variables": {},
   "exception": null,
   "input_path": "__notebook__.ipynb",
   "output_path": "__notebook__.ipynb",
   "parameters": {},
   "start_time": "2023-03-16T16:38:03.583848",
   "version": "2.3.4"
  }
 },
 "nbformat": 4,
 "nbformat_minor": 5
}
