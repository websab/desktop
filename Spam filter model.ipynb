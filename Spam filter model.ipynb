{
 "cells": [
  {
   "cell_type": "markdown",
   "id": "ace9f614",
   "metadata": {
    "papermill": {
     "duration": 0.006693,
     "end_time": "2023-04-01T17:14:59.983491",
     "exception": false,
     "start_time": "2023-04-01T17:14:59.976798",
     "status": "completed"
    },
    "tags": []
   },
   "source": [
    "## Import libraries"
   ]
  },
  {
   "cell_type": "code",
   "execution_count": 2,
   "id": "27076630",
   "metadata": {
    "execution": {
     "iopub.execute_input": "2023-04-01T17:14:59.999537Z",
     "iopub.status.busy": "2023-04-01T17:14:59.999090Z",
     "iopub.status.idle": "2023-04-01T17:15:11.311544Z",
     "shell.execute_reply": "2023-04-01T17:15:11.310149Z"
    },
    "papermill": {
     "duration": 11.323942,
     "end_time": "2023-04-01T17:15:11.314947",
     "exception": false,
     "start_time": "2023-04-01T17:14:59.991005",
     "status": "completed"
    },
    "tags": []
   },
   "outputs": [],
   "source": [
    "import numpy as np\n",
    "import pandas as pd\n",
    "import matplotlib.pyplot as plt\n",
    "import seaborn as sns\n",
    "import re\n",
    "import string\n",
    "import tensorflow as tf\n",
    "\n",
    "\n",
    "plt.style.use(\"seaborn\")\n",
    "pd.options.display.max_rows = 2000\n",
    "pd.options.display.max_columns = 500"
   ]
  },
  {
   "cell_type": "markdown",
   "id": "3e8fb958",
   "metadata": {
    "papermill": {
     "duration": 0.006984,
     "end_time": "2023-04-01T17:15:11.328870",
     "exception": false,
     "start_time": "2023-04-01T17:15:11.321886",
     "status": "completed"
    },
    "tags": []
   },
   "source": [
    "## Load data"
   ]
  },
  {
   "cell_type": "code",
   "execution_count": 3,
   "id": "8ad2fddc",
   "metadata": {
    "execution": {
     "iopub.execute_input": "2023-04-01T17:15:11.346661Z",
     "iopub.status.busy": "2023-04-01T17:15:11.345327Z",
     "iopub.status.idle": "2023-04-01T17:15:11.392426Z",
     "shell.execute_reply": "2023-04-01T17:15:11.390860Z"
    },
    "papermill": {
     "duration": 0.060927,
     "end_time": "2023-04-01T17:15:11.396722",
     "exception": false,
     "start_time": "2023-04-01T17:15:11.335795",
     "status": "completed"
    },
    "tags": []
   },
   "outputs": [],
   "source": [
    "data = pd.read_csv('/kaggle/input/turkish-sms-collection/TurkishSMSCollection.csv', sep=';', on_bad_lines='skip')"
   ]
  },
  {
   "cell_type": "markdown",
   "id": "c8c02609",
   "metadata": {
    "papermill": {
     "duration": 0.006476,
     "end_time": "2023-04-01T17:15:11.410160",
     "exception": false,
     "start_time": "2023-04-01T17:15:11.403684",
     "status": "completed"
    },
    "tags": []
   },
   "source": [
    "## Preliminary analyse"
   ]
  },
  {
   "cell_type": "code",
   "execution_count": 4,
   "id": "7a175163",
   "metadata": {
    "execution": {
     "iopub.execute_input": "2023-04-01T17:15:11.426133Z",
     "iopub.status.busy": "2023-04-01T17:15:11.425429Z",
     "iopub.status.idle": "2023-04-01T17:15:11.463868Z",
     "shell.execute_reply": "2023-04-01T17:15:11.462449Z"
    },
    "papermill": {
     "duration": 0.050409,
     "end_time": "2023-04-01T17:15:11.467447",
     "exception": false,
     "start_time": "2023-04-01T17:15:11.417038",
     "status": "completed"
    },
    "tags": []
   },
   "outputs": [
    {
     "data": {
      "text/html": [
       "<div>\n",
       "<style scoped>\n",
       "    .dataframe tbody tr th:only-of-type {\n",
       "        vertical-align: middle;\n",
       "    }\n",
       "\n",
       "    .dataframe tbody tr th {\n",
       "        vertical-align: top;\n",
       "    }\n",
       "\n",
       "    .dataframe thead th {\n",
       "        text-align: right;\n",
       "    }\n",
       "</style>\n",
       "<table border=\"1\" class=\"dataframe\">\n",
       "  <thead>\n",
       "    <tr style=\"text-align: right;\">\n",
       "      <th></th>\n",
       "      <th>Message</th>\n",
       "      <th>Group</th>\n",
       "      <th>GroupText</th>\n",
       "    </tr>\n",
       "  </thead>\n",
       "  <tbody>\n",
       "    <tr>\n",
       "      <th>0</th>\n",
       "      <td>125 lira</td>\n",
       "      <td>2</td>\n",
       "      <td>Normal</td>\n",
       "    </tr>\n",
       "    <tr>\n",
       "      <th>1</th>\n",
       "      <td>Baskanin aksam toplantısi fenaymis :)</td>\n",
       "      <td>2</td>\n",
       "      <td>Normal</td>\n",
       "    </tr>\n",
       "    <tr>\n",
       "      <th>2</th>\n",
       "      <td>Bilal yalçnlara ne zaman gidiyoruz?</td>\n",
       "      <td>2</td>\n",
       "      <td>Normal</td>\n",
       "    </tr>\n",
       "    <tr>\n",
       "      <th>3</th>\n",
       "      <td>BiP ile mesajlarimi aninda, daha eglenceli gon...</td>\n",
       "      <td>1</td>\n",
       "      <td>Spam</td>\n",
       "    </tr>\n",
       "    <tr>\n",
       "      <th>4</th>\n",
       "      <td>DIGITURKTEN FIRSAT! SiZE OZEL YIL SONUNA KADAR...</td>\n",
       "      <td>1</td>\n",
       "      <td>Spam</td>\n",
       "    </tr>\n",
       "    <tr>\n",
       "      <th>...</th>\n",
       "      <td>...</td>\n",
       "      <td>...</td>\n",
       "      <td>...</td>\n",
       "    </tr>\n",
       "    <tr>\n",
       "      <th>4746</th>\n",
       "      <td>Ziraat Kartiniza ozel, Lezzetlihediye.com dan ...</td>\n",
       "      <td>1</td>\n",
       "      <td>Spam</td>\n",
       "    </tr>\n",
       "    <tr>\n",
       "      <th>4747</th>\n",
       "      <td>Ziraat Maximum'dan Yeniyila ozel 100 TL'ye kad...</td>\n",
       "      <td>1</td>\n",
       "      <td>Spam</td>\n",
       "    </tr>\n",
       "    <tr>\n",
       "      <th>4748</th>\n",
       "      <td>Zor olur sonra. Evet evet boş bol yürüyüş</td>\n",
       "      <td>2</td>\n",
       "      <td>Normal</td>\n",
       "    </tr>\n",
       "    <tr>\n",
       "      <th>4749</th>\n",
       "      <td>Zorlu hava şartlarında elektriksiz kalma! Attl...</td>\n",
       "      <td>1</td>\n",
       "      <td>Spam</td>\n",
       "    </tr>\n",
       "    <tr>\n",
       "      <th>4750</th>\n",
       "      <td>Zuhal okuldakileri falanda çağırırım diyor han...</td>\n",
       "      <td>2</td>\n",
       "      <td>Normal</td>\n",
       "    </tr>\n",
       "  </tbody>\n",
       "</table>\n",
       "<p>4751 rows × 3 columns</p>\n",
       "</div>"
      ],
      "text/plain": [
       "                                                Message  Group GroupText\n",
       "0                                              125 lira      2    Normal\n",
       "1                 Baskanin aksam toplantısi fenaymis :)      2    Normal\n",
       "2                   Bilal yalçnlara ne zaman gidiyoruz?      2    Normal\n",
       "3     BiP ile mesajlarimi aninda, daha eglenceli gon...      1      Spam\n",
       "4     DIGITURKTEN FIRSAT! SiZE OZEL YIL SONUNA KADAR...      1      Spam\n",
       "...                                                 ...    ...       ...\n",
       "4746  Ziraat Kartiniza ozel, Lezzetlihediye.com dan ...      1      Spam\n",
       "4747  Ziraat Maximum'dan Yeniyila ozel 100 TL'ye kad...      1      Spam\n",
       "4748          Zor olur sonra. Evet evet boş bol yürüyüş      2    Normal\n",
       "4749  Zorlu hava şartlarında elektriksiz kalma! Attl...      1      Spam\n",
       "4750  Zuhal okuldakileri falanda çağırırım diyor han...      2    Normal\n",
       "\n",
       "[4751 rows x 3 columns]"
      ]
     },
     "execution_count": 4,
     "metadata": {},
     "output_type": "execute_result"
    }
   ],
   "source": [
    "data"
   ]
  },
  {
   "cell_type": "code",
   "execution_count": 5,
   "id": "5a6dd8cf",
   "metadata": {
    "execution": {
     "iopub.execute_input": "2023-04-01T17:15:11.484594Z",
     "iopub.status.busy": "2023-04-01T17:15:11.483983Z",
     "iopub.status.idle": "2023-04-01T17:15:11.515233Z",
     "shell.execute_reply": "2023-04-01T17:15:11.513433Z"
    },
    "papermill": {
     "duration": 0.043577,
     "end_time": "2023-04-01T17:15:11.518418",
     "exception": false,
     "start_time": "2023-04-01T17:15:11.474841",
     "status": "completed"
    },
    "tags": []
   },
   "outputs": [
    {
     "name": "stdout",
     "output_type": "stream",
     "text": [
      "<class 'pandas.core.frame.DataFrame'>\n",
      "RangeIndex: 4751 entries, 0 to 4750\n",
      "Data columns (total 3 columns):\n",
      " #   Column     Non-Null Count  Dtype \n",
      "---  ------     --------------  ----- \n",
      " 0   Message    4751 non-null   object\n",
      " 1   Group      4751 non-null   int64 \n",
      " 2   GroupText  4751 non-null   object\n",
      "dtypes: int64(1), object(2)\n",
      "memory usage: 111.5+ KB\n"
     ]
    }
   ],
   "source": [
    "data.info()"
   ]
  },
  {
   "cell_type": "code",
   "execution_count": 6,
   "id": "b4e27c83",
   "metadata": {
    "execution": {
     "iopub.execute_input": "2023-04-01T17:15:11.535901Z",
     "iopub.status.busy": "2023-04-01T17:15:11.535162Z",
     "iopub.status.idle": "2023-04-01T17:15:11.543109Z",
     "shell.execute_reply": "2023-04-01T17:15:11.542081Z"
    },
    "papermill": {
     "duration": 0.01963,
     "end_time": "2023-04-01T17:15:11.545588",
     "exception": false,
     "start_time": "2023-04-01T17:15:11.525958",
     "status": "completed"
    },
    "tags": []
   },
   "outputs": [
    {
     "data": {
      "text/plain": [
       "1    2536\n",
       "2    2215\n",
       "Name: Group, dtype: int64"
      ]
     },
     "execution_count": 6,
     "metadata": {},
     "output_type": "execute_result"
    }
   ],
   "source": [
    "data['Group'].value_counts()"
   ]
  },
  {
   "cell_type": "code",
   "execution_count": 7,
   "id": "cc50777e",
   "metadata": {
    "execution": {
     "iopub.execute_input": "2023-04-01T17:15:11.563740Z",
     "iopub.status.busy": "2023-04-01T17:15:11.562239Z",
     "iopub.status.idle": "2023-04-01T17:15:11.572962Z",
     "shell.execute_reply": "2023-04-01T17:15:11.571575Z"
    },
    "papermill": {
     "duration": 0.022407,
     "end_time": "2023-04-01T17:15:11.575828",
     "exception": false,
     "start_time": "2023-04-01T17:15:11.553421",
     "status": "completed"
    },
    "tags": []
   },
   "outputs": [
    {
     "data": {
      "text/plain": [
       "Spam      2536\n",
       "Normal    2215\n",
       "Name: GroupText, dtype: int64"
      ]
     },
     "execution_count": 7,
     "metadata": {},
     "output_type": "execute_result"
    }
   ],
   "source": [
    "data['GroupText'].value_counts()"
   ]
  },
  {
   "cell_type": "code",
   "execution_count": 8,
   "id": "1b0ec7bb",
   "metadata": {
    "execution": {
     "iopub.execute_input": "2023-04-01T17:15:11.594146Z",
     "iopub.status.busy": "2023-04-01T17:15:11.592660Z",
     "iopub.status.idle": "2023-04-01T17:15:11.605839Z",
     "shell.execute_reply": "2023-04-01T17:15:11.604291Z"
    },
    "papermill": {
     "duration": 0.024803,
     "end_time": "2023-04-01T17:15:11.608470",
     "exception": false,
     "start_time": "2023-04-01T17:15:11.583667",
     "status": "completed"
    },
    "tags": []
   },
   "outputs": [
    {
     "name": "stdout",
     "output_type": "stream",
     "text": [
      "**********\n",
      "Spam: \n",
      "gunun yorgunlugunu bizimle atmak istermisiniz memnuniyet garantili yerimiz bakirkoy incirlide 10 00 02 00 arasi acigiz irt melis hnm 05397768805 05397768806\n"
     ]
    }
   ],
   "source": [
    "for i in range(1):\n",
    "    n = np.random.randint(i,1000)\n",
    "    sen = re.sub('\\W', ' ', data.loc[data['GroupText']=='Spam','Message'][n:n+1].values[0])\n",
    "    sen = re.sub('\\W', ' ', sen)\n",
    "    sen = sen.lower()\n",
    "    sen = sen.split()\n",
    "    sen = ' '.join(sen)\n",
    "    print('*'*10)\n",
    "    print(f\"Spam: \\n{sen}\")"
   ]
  },
  {
   "cell_type": "code",
   "execution_count": 9,
   "id": "e5059355",
   "metadata": {
    "execution": {
     "iopub.execute_input": "2023-04-01T17:15:11.626077Z",
     "iopub.status.busy": "2023-04-01T17:15:11.624857Z",
     "iopub.status.idle": "2023-04-01T17:15:11.635344Z",
     "shell.execute_reply": "2023-04-01T17:15:11.633684Z"
    },
    "papermill": {
     "duration": 0.021806,
     "end_time": "2023-04-01T17:15:11.637872",
     "exception": false,
     "start_time": "2023-04-01T17:15:11.616066",
     "status": "completed"
    },
    "tags": []
   },
   "outputs": [
    {
     "name": "stdout",
     "output_type": "stream",
     "text": [
      "**********\n",
      "Normal: \n",
      "bitane büyük tül varmış tek parça 4 5 metre\n"
     ]
    }
   ],
   "source": [
    "for i in range(1):\n",
    "    n = np.random.randint(i,1000)\n",
    "    sen = re.sub('\\W', ' ', data.loc[data['GroupText']=='Normal','Message'][n:n+1].values[0])\n",
    "    sen = re.sub('\\W', ' ', sen)\n",
    "    sen = sen.lower()\n",
    "    sen = sen.split()\n",
    "    sen = ' '.join(sen)\n",
    "    print('*'*10)\n",
    "    print(f\"Normal: \\n{sen}\")"
   ]
  },
  {
   "cell_type": "code",
   "execution_count": 10,
   "id": "7c46ab0b",
   "metadata": {
    "execution": {
     "iopub.execute_input": "2023-04-01T17:15:11.655949Z",
     "iopub.status.busy": "2023-04-01T17:15:11.655195Z",
     "iopub.status.idle": "2023-04-01T17:15:11.664239Z",
     "shell.execute_reply": "2023-04-01T17:15:11.662816Z"
    },
    "papermill": {
     "duration": 0.020793,
     "end_time": "2023-04-01T17:15:11.666730",
     "exception": false,
     "start_time": "2023-04-01T17:15:11.645937",
     "status": "completed"
    },
    "tags": []
   },
   "outputs": [
    {
     "name": "stdout",
     "output_type": "stream",
     "text": [
      "**********\n",
      "Sentence: \n",
      "1675 09tl ekstreli kartinizin min tutarini odeyip aylik sadece 2 02 faiz vergiler haric ile 1ay ertelemek icin 20 08 2015 tarihine kadar atlat kart son 6noyu 3340a gonder size ozel indirim ve kampanyalarimiz ile ilgili ucretsiz sms almak istemiyorsaniz smsiptal yazip 3344 gonderi̇n\n"
     ]
    }
   ],
   "source": [
    "for i in range(1):\n",
    "    n = np.random.randint(i,1000)\n",
    "    sen = re.sub('\\W', ' ', data['Message'][n:n+1].values[0])\n",
    "    sen = re.sub('\\W', ' ', sen)\n",
    "    sen = sen.lower()\n",
    "    sen = sen.split()\n",
    "    sen = ' '.join(sen)\n",
    "    print('*'*10)\n",
    "    print(f\"Sentence: \\n{sen}\")"
   ]
  },
  {
   "cell_type": "markdown",
   "id": "f05ceca5",
   "metadata": {
    "papermill": {
     "duration": 0.007781,
     "end_time": "2023-04-01T17:15:11.682053",
     "exception": false,
     "start_time": "2023-04-01T17:15:11.674272",
     "status": "completed"
    },
    "tags": []
   },
   "source": [
    "## Preproccesing"
   ]
  },
  {
   "cell_type": "code",
   "execution_count": 11,
   "id": "589a9b4c",
   "metadata": {
    "execution": {
     "iopub.execute_input": "2023-04-01T17:15:11.699566Z",
     "iopub.status.busy": "2023-04-01T17:15:11.698802Z",
     "iopub.status.idle": "2023-04-01T17:15:11.716954Z",
     "shell.execute_reply": "2023-04-01T17:15:11.715439Z"
    },
    "papermill": {
     "duration": 0.030497,
     "end_time": "2023-04-01T17:15:11.720193",
     "exception": false,
     "start_time": "2023-04-01T17:15:11.689696",
     "status": "completed"
    },
    "tags": []
   },
   "outputs": [
    {
     "data": {
      "text/html": [
       "<div>\n",
       "<style scoped>\n",
       "    .dataframe tbody tr th:only-of-type {\n",
       "        vertical-align: middle;\n",
       "    }\n",
       "\n",
       "    .dataframe tbody tr th {\n",
       "        vertical-align: top;\n",
       "    }\n",
       "\n",
       "    .dataframe thead th {\n",
       "        text-align: right;\n",
       "    }\n",
       "</style>\n",
       "<table border=\"1\" class=\"dataframe\">\n",
       "  <thead>\n",
       "    <tr style=\"text-align: right;\">\n",
       "      <th></th>\n",
       "      <th>Message</th>\n",
       "      <th>GroupText</th>\n",
       "    </tr>\n",
       "  </thead>\n",
       "  <tbody>\n",
       "    <tr>\n",
       "      <th>0</th>\n",
       "      <td>125 lira</td>\n",
       "      <td>0</td>\n",
       "    </tr>\n",
       "    <tr>\n",
       "      <th>1</th>\n",
       "      <td>Baskanin aksam toplantısi fenaymis :)</td>\n",
       "      <td>0</td>\n",
       "    </tr>\n",
       "    <tr>\n",
       "      <th>2</th>\n",
       "      <td>Bilal yalçnlara ne zaman gidiyoruz?</td>\n",
       "      <td>0</td>\n",
       "    </tr>\n",
       "    <tr>\n",
       "      <th>3</th>\n",
       "      <td>BiP ile mesajlarimi aninda, daha eglenceli gon...</td>\n",
       "      <td>1</td>\n",
       "    </tr>\n",
       "    <tr>\n",
       "      <th>4</th>\n",
       "      <td>DIGITURKTEN FIRSAT! SiZE OZEL YIL SONUNA KADAR...</td>\n",
       "      <td>1</td>\n",
       "    </tr>\n",
       "    <tr>\n",
       "      <th>...</th>\n",
       "      <td>...</td>\n",
       "      <td>...</td>\n",
       "    </tr>\n",
       "    <tr>\n",
       "      <th>4746</th>\n",
       "      <td>Ziraat Kartiniza ozel, Lezzetlihediye.com dan ...</td>\n",
       "      <td>1</td>\n",
       "    </tr>\n",
       "    <tr>\n",
       "      <th>4747</th>\n",
       "      <td>Ziraat Maximum'dan Yeniyila ozel 100 TL'ye kad...</td>\n",
       "      <td>1</td>\n",
       "    </tr>\n",
       "    <tr>\n",
       "      <th>4748</th>\n",
       "      <td>Zor olur sonra. Evet evet boş bol yürüyüş</td>\n",
       "      <td>0</td>\n",
       "    </tr>\n",
       "    <tr>\n",
       "      <th>4749</th>\n",
       "      <td>Zorlu hava şartlarında elektriksiz kalma! Attl...</td>\n",
       "      <td>1</td>\n",
       "    </tr>\n",
       "    <tr>\n",
       "      <th>4750</th>\n",
       "      <td>Zuhal okuldakileri falanda çağırırım diyor han...</td>\n",
       "      <td>0</td>\n",
       "    </tr>\n",
       "  </tbody>\n",
       "</table>\n",
       "<p>4751 rows × 2 columns</p>\n",
       "</div>"
      ],
      "text/plain": [
       "                                                Message GroupText\n",
       "0                                              125 lira         0\n",
       "1                 Baskanin aksam toplantısi fenaymis :)         0\n",
       "2                   Bilal yalçnlara ne zaman gidiyoruz?         0\n",
       "3     BiP ile mesajlarimi aninda, daha eglenceli gon...         1\n",
       "4     DIGITURKTEN FIRSAT! SiZE OZEL YIL SONUNA KADAR...         1\n",
       "...                                                 ...       ...\n",
       "4746  Ziraat Kartiniza ozel, Lezzetlihediye.com dan ...         1\n",
       "4747  Ziraat Maximum'dan Yeniyila ozel 100 TL'ye kad...         1\n",
       "4748          Zor olur sonra. Evet evet boş bol yürüyüş         0\n",
       "4749  Zorlu hava şartlarında elektriksiz kalma! Attl...         1\n",
       "4750  Zuhal okuldakileri falanda çağırırım diyor han...         0\n",
       "\n",
       "[4751 rows x 2 columns]"
      ]
     },
     "execution_count": 11,
     "metadata": {},
     "output_type": "execute_result"
    }
   ],
   "source": [
    "data.loc[data['GroupText']=='Normal','GroupText'] = int(0)\n",
    "data.loc[data['GroupText']=='Spam','GroupText'] = int(1)\n",
    "dat = data.iloc[:,0::2]\n",
    "dat"
   ]
  },
  {
   "cell_type": "code",
   "execution_count": 12,
   "id": "29a9dce4",
   "metadata": {
    "execution": {
     "iopub.execute_input": "2023-04-01T17:15:11.738883Z",
     "iopub.status.busy": "2023-04-01T17:15:11.738468Z",
     "iopub.status.idle": "2023-04-01T17:15:12.543621Z",
     "shell.execute_reply": "2023-04-01T17:15:12.542313Z"
    },
    "papermill": {
     "duration": 0.817858,
     "end_time": "2023-04-01T17:15:12.546772",
     "exception": false,
     "start_time": "2023-04-01T17:15:11.728914",
     "status": "completed"
    },
    "tags": []
   },
   "outputs": [],
   "source": [
    "def custom_standardization(sentence):\n",
    "    sample = tf.strings.lower(sentence)\n",
    "    sample = tf.strings.regex_replace(sample, '\\W', ' ')\n",
    "    sample = tf.strings.regex_replace(sample, '\\d', ' ')\n",
    "    return tf.strings.regex_replace(sample,\n",
    "                         '[%s]'%re.escape(string.punctuation), '')\n",
    "\n",
    "max_features = 10000\n",
    "sequence_length = 250\n",
    "\n",
    "vectorize_layer = tf.keras.layers.TextVectorization(\n",
    "                        standardize=custom_standardization,\n",
    "                        split='whitespace',\n",
    "                        max_tokens=max_features,\n",
    "                        output_mode='int',\n",
    "                        output_sequence_length=sequence_length,\n",
    "                        encoding='utf-8')\n",
    "vectorize_layer.adapt(dat['Message'])"
   ]
  },
  {
   "cell_type": "code",
   "execution_count": 13,
   "id": "641ba75f",
   "metadata": {
    "execution": {
     "iopub.execute_input": "2023-04-01T17:15:12.564803Z",
     "iopub.status.busy": "2023-04-01T17:15:12.564078Z",
     "iopub.status.idle": "2023-04-01T17:15:12.703010Z",
     "shell.execute_reply": "2023-04-01T17:15:12.700972Z"
    },
    "papermill": {
     "duration": 0.15278,
     "end_time": "2023-04-01T17:15:12.707406",
     "exception": false,
     "start_time": "2023-04-01T17:15:12.554626",
     "status": "completed"
    },
    "tags": []
   },
   "outputs": [
    {
     "name": "stdout",
     "output_type": "stream",
     "text": [
      "Before standartization:\n",
      "\n",
      "700 düşünmüştük\n",
      "--------------------------------------------------------------------------------\n",
      "After standartization:\n",
      "\n",
      "b'    d   nm  t k'\n",
      "--------------------------------------------------------------------------------\n",
      "After vectorization:\n",
      "\n",
      "[  67 2168   51   35    0    0    0    0    0    0    0    0    0    0\n",
      "    0    0    0    0    0    0    0    0    0    0    0    0    0    0\n",
      "    0    0    0    0    0    0    0    0    0    0    0    0    0    0\n",
      "    0    0    0    0    0    0    0    0    0    0    0    0    0    0\n",
      "    0    0    0    0    0    0    0    0    0    0    0    0    0    0\n",
      "    0    0    0    0    0    0    0    0    0    0    0    0    0    0\n",
      "    0    0    0    0    0    0    0    0    0    0    0    0    0    0\n",
      "    0    0    0    0    0    0    0    0    0    0    0    0    0    0\n",
      "    0    0    0    0    0    0    0    0    0    0    0    0    0    0\n",
      "    0    0    0    0    0    0    0    0    0    0    0    0    0    0\n",
      "    0    0    0    0    0    0    0    0    0    0    0    0    0    0\n",
      "    0    0    0    0    0    0    0    0    0    0    0    0    0    0\n",
      "    0    0    0    0    0    0    0    0    0    0    0    0    0    0\n",
      "    0    0    0    0    0    0    0    0    0    0    0    0    0    0\n",
      "    0    0    0    0    0    0    0    0    0    0    0    0    0    0\n",
      "    0    0    0    0    0    0    0    0    0    0    0    0    0    0\n",
      "    0    0    0    0    0    0    0    0    0    0    0    0    0    0\n",
      "    0    0    0    0    0    0    0    0    0    0    0    0]\n",
      "********************************************************************************\n"
     ]
    }
   ],
   "source": [
    "for i in range(1):\n",
    "    sample = np.random.randint(1000)\n",
    "    print(f\"Before standartization:\\n\\n{dat['Message'][sample]}\")\n",
    "    print('-'*80)\n",
    "    print(f\"After standartization:\\n\\n{custom_standardization(dat['Message'][sample])}\")\n",
    "    print('-'*80)\n",
    "    print(f\"After vectorization:\\n\\n{vectorize_layer(dat['Message'][sample])}\")\n",
    "    print('*'*80)"
   ]
  },
  {
   "cell_type": "markdown",
   "id": "37502263",
   "metadata": {
    "papermill": {
     "duration": 0.009049,
     "end_time": "2023-04-01T17:15:12.724946",
     "exception": false,
     "start_time": "2023-04-01T17:15:12.715897",
     "status": "completed"
    },
    "tags": []
   },
   "source": [
    "## Prepare model to fit"
   ]
  },
  {
   "cell_type": "code",
   "execution_count": 14,
   "id": "7dd79680",
   "metadata": {
    "execution": {
     "iopub.execute_input": "2023-04-01T17:15:12.743509Z",
     "iopub.status.busy": "2023-04-01T17:15:12.743055Z",
     "iopub.status.idle": "2023-04-01T17:15:12.836713Z",
     "shell.execute_reply": "2023-04-01T17:15:12.835336Z"
    },
    "papermill": {
     "duration": 0.10613,
     "end_time": "2023-04-01T17:15:12.839384",
     "exception": false,
     "start_time": "2023-04-01T17:15:12.733254",
     "status": "completed"
    },
    "tags": []
   },
   "outputs": [
    {
     "data": {
      "text/plain": [
       "TensorShape([4751, 250])"
      ]
     },
     "execution_count": 14,
     "metadata": {},
     "output_type": "execute_result"
    }
   ],
   "source": [
    "x = dat.iloc[:,0]\n",
    "X = tf.convert_to_tensor(vectorize_layer(x))\n",
    "X.shape"
   ]
  },
  {
   "cell_type": "code",
   "execution_count": 15,
   "id": "b871d4ca",
   "metadata": {
    "execution": {
     "iopub.execute_input": "2023-04-01T17:15:12.858786Z",
     "iopub.status.busy": "2023-04-01T17:15:12.857540Z",
     "iopub.status.idle": "2023-04-01T17:15:12.869552Z",
     "shell.execute_reply": "2023-04-01T17:15:12.868319Z"
    },
    "papermill": {
     "duration": 0.024299,
     "end_time": "2023-04-01T17:15:12.872249",
     "exception": false,
     "start_time": "2023-04-01T17:15:12.847950",
     "status": "completed"
    },
    "tags": []
   },
   "outputs": [
    {
     "data": {
      "text/plain": [
       "TensorShape([4751])"
      ]
     },
     "execution_count": 15,
     "metadata": {},
     "output_type": "execute_result"
    }
   ],
   "source": [
    "Y = tf.convert_to_tensor(dat.iloc[:,1].values.ravel(), dtype=float)\n",
    "Y.shape"
   ]
  },
  {
   "cell_type": "markdown",
   "id": "cafa1452",
   "metadata": {
    "papermill": {
     "duration": 0.008125,
     "end_time": "2023-04-01T17:15:12.889139",
     "exception": false,
     "start_time": "2023-04-01T17:15:12.881014",
     "status": "completed"
    },
    "tags": []
   },
   "source": [
    "## Build model"
   ]
  },
  {
   "cell_type": "code",
   "execution_count": 16,
   "id": "3f560fdc",
   "metadata": {
    "execution": {
     "iopub.execute_input": "2023-04-01T17:15:12.908839Z",
     "iopub.status.busy": "2023-04-01T17:15:12.907584Z",
     "iopub.status.idle": "2023-04-01T17:15:12.917401Z",
     "shell.execute_reply": "2023-04-01T17:15:12.915623Z"
    },
    "papermill": {
     "duration": 0.023805,
     "end_time": "2023-04-01T17:15:12.921318",
     "exception": false,
     "start_time": "2023-04-01T17:15:12.897513",
     "status": "completed"
    },
    "tags": []
   },
   "outputs": [],
   "source": [
    "from tensorflow.keras import Sequential\n",
    "from tensorflow.keras.layers import Dense, Dropout, Embedding, GlobalAveragePooling1D"
   ]
  },
  {
   "cell_type": "code",
   "execution_count": 17,
   "id": "bb28b77e",
   "metadata": {
    "execution": {
     "iopub.execute_input": "2023-04-01T17:15:12.941079Z",
     "iopub.status.busy": "2023-04-01T17:15:12.940398Z",
     "iopub.status.idle": "2023-04-01T17:15:12.946147Z",
     "shell.execute_reply": "2023-04-01T17:15:12.944486Z"
    },
    "papermill": {
     "duration": 0.018534,
     "end_time": "2023-04-01T17:15:12.948896",
     "exception": false,
     "start_time": "2023-04-01T17:15:12.930362",
     "status": "completed"
    },
    "tags": []
   },
   "outputs": [],
   "source": [
    "embedding_dim = 16"
   ]
  },
  {
   "cell_type": "code",
   "execution_count": 18,
   "id": "81019d72",
   "metadata": {
    "execution": {
     "iopub.execute_input": "2023-04-01T17:15:12.968096Z",
     "iopub.status.busy": "2023-04-01T17:15:12.967661Z",
     "iopub.status.idle": "2023-04-01T17:15:13.336630Z",
     "shell.execute_reply": "2023-04-01T17:15:13.333302Z"
    },
    "papermill": {
     "duration": 0.387075,
     "end_time": "2023-04-01T17:15:13.344644",
     "exception": false,
     "start_time": "2023-04-01T17:15:12.957569",
     "status": "completed"
    },
    "tags": []
   },
   "outputs": [
    {
     "name": "stdout",
     "output_type": "stream",
     "text": [
      "Model: \"sequential\"\n",
      "_________________________________________________________________\n",
      " Layer (type)                Output Shape              Param #   \n",
      "=================================================================\n",
      " embedding (Embedding)       (None, None, 16)          160016    \n",
      "                                                                 \n",
      " dropout (Dropout)           (None, None, 16)          0         \n",
      "                                                                 \n",
      " global_average_pooling1d (G  (None, 16)               0         \n",
      " lobalAveragePooling1D)                                          \n",
      "                                                                 \n",
      " dropout_1 (Dropout)         (None, 16)                0         \n",
      "                                                                 \n",
      " dense (Dense)               (None, 16)                272       \n",
      "                                                                 \n",
      " dense_1 (Dense)             (None, 1)                 17        \n",
      "                                                                 \n",
      "=================================================================\n",
      "Total params: 160,305\n",
      "Trainable params: 160,305\n",
      "Non-trainable params: 0\n",
      "_________________________________________________________________\n"
     ]
    }
   ],
   "source": [
    "model = Sequential()\n",
    "model.add(Embedding(max_features+1, embedding_dim))\n",
    "model.add(Dropout(0.2))\n",
    "model.add(GlobalAveragePooling1D())\n",
    "model.add(Dropout(0.2))\n",
    "model.add(Dense(16, activation='relu'))\n",
    "model.add(Dense(1, activation='sigmoid'))\n",
    "\n",
    "model.compile(loss='binary_crossentropy',\n",
    "             optimizer='Adam',\n",
    "             metrics=['accuracy'])\n",
    "\n",
    "model.summary()"
   ]
  },
  {
   "cell_type": "code",
   "execution_count": 19,
   "id": "3cf80a03",
   "metadata": {
    "execution": {
     "iopub.execute_input": "2023-04-01T17:15:13.366652Z",
     "iopub.status.busy": "2023-04-01T17:15:13.366173Z",
     "iopub.status.idle": "2023-04-01T17:15:26.983001Z",
     "shell.execute_reply": "2023-04-01T17:15:26.980430Z"
    },
    "papermill": {
     "duration": 13.632058,
     "end_time": "2023-04-01T17:15:26.986398",
     "exception": false,
     "start_time": "2023-04-01T17:15:13.354340",
     "status": "completed"
    },
    "tags": []
   },
   "outputs": [
    {
     "name": "stdout",
     "output_type": "stream",
     "text": [
      "Epoch 1/5\n",
      "475/475 [==============================] - 4s 6ms/step - loss: 0.6706 - accuracy: 0.6416 - val_loss: 0.5838 - val_accuracy: 0.9916\n",
      "Epoch 2/5\n",
      "475/475 [==============================] - 2s 5ms/step - loss: 0.3063 - accuracy: 0.9626 - val_loss: 0.1303 - val_accuracy: 0.9947\n",
      "Epoch 3/5\n",
      "475/475 [==============================] - 2s 5ms/step - loss: 0.0898 - accuracy: 0.9853 - val_loss: 0.0519 - val_accuracy: 0.9926\n",
      "Epoch 4/5\n",
      "475/475 [==============================] - 2s 5ms/step - loss: 0.0448 - accuracy: 0.9921 - val_loss: 0.0305 - val_accuracy: 0.9937\n",
      "Epoch 5/5\n",
      "475/475 [==============================] - 2s 5ms/step - loss: 0.0274 - accuracy: 0.9953 - val_loss: 0.0196 - val_accuracy: 0.9958\n"
     ]
    }
   ],
   "source": [
    "epochs = 5\n",
    "history = model.fit(X, \n",
    "                    Y, \n",
    "                    epochs=epochs,\n",
    "                    batch_size=8,\n",
    "                   validation_split=0.2)"
   ]
  },
  {
   "cell_type": "markdown",
   "id": "c29b9cce",
   "metadata": {
    "papermill": {
     "duration": 0.02487,
     "end_time": "2023-04-01T17:15:27.035636",
     "exception": false,
     "start_time": "2023-04-01T17:15:27.010766",
     "status": "completed"
    },
    "tags": []
   },
   "source": [
    "## Predict model"
   ]
  },
  {
   "cell_type": "code",
   "execution_count": 20,
   "id": "cf7a3f48",
   "metadata": {
    "execution": {
     "iopub.execute_input": "2023-04-01T17:15:27.086023Z",
     "iopub.status.busy": "2023-04-01T17:15:27.085571Z",
     "iopub.status.idle": "2023-04-01T17:15:27.922167Z",
     "shell.execute_reply": "2023-04-01T17:15:27.920317Z"
    },
    "papermill": {
     "duration": 0.86647,
     "end_time": "2023-04-01T17:15:27.925520",
     "exception": false,
     "start_time": "2023-04-01T17:15:27.059050",
     "status": "completed"
    },
    "tags": []
   },
   "outputs": [
    {
     "name": "stdout",
     "output_type": "stream",
     "text": [
      "--------------------------------------------------------------------------------\n",
      "Sample:\n",
      "31 Mayıs'a kadar Goodyear'dan tek seferde 15 jant ve üzeri 4 adet dört mevsim veya yaz lastiği alışverişine 50TL değerinde Yakıt Kart hediye! www.opet.com.tr\n",
      "Predict this sample wiht our model\n",
      "1/1 [==============================] - 0s 103ms/step\n",
      "Label: 1\n",
      "Predict: [0.9999525]\n",
      "--------------------------------------------------------------------------------\n",
      "Sample:\n",
      "Bi dahakine bizden önce girer heralde :)\n",
      "Predict this sample wiht our model\n",
      "1/1 [==============================] - 0s 26ms/step\n",
      "Label: 0\n",
      "Predict: [0.00946558]\n",
      "--------------------------------------------------------------------------------\n",
      "Sample:\n",
      "bilmemedim\n",
      "Predict this sample wiht our model\n",
      "1/1 [==============================] - 0s 24ms/step\n",
      "Label: 0\n",
      "Predict: [0.02074409]\n",
      "--------------------------------------------------------------------------------\n",
      "Sample:\n",
      "Biraz geç ama ??\n",
      "Predict this sample wiht our model\n",
      "1/1 [==============================] - 0s 27ms/step\n",
      "Label: 0\n",
      "Predict: [0.00676256]\n",
      "--------------------------------------------------------------------------------\n",
      "Sample:\n",
      "04-17 Kasım'da CarrefourSA Teknoloji Bayramını kaçırmayın! çok avantajlı fiyatlarla alışverişinizi Akbank Kredi Ekspres ihtiyaç kredisi ile yapın, dilerseniz 2015'te ödemeye başlayın! Kredili alışveriş için detaylı bilgi CarrefourSA Hipermarketlerinde\n",
      "Predict this sample wiht our model\n",
      "1/1 [==============================] - 0s 28ms/step\n",
      "Label: 1\n",
      "Predict: [0.9831829]\n",
      "--------------------------------------------------------------------------------\n",
      "Sample:\n",
      "Atlasmiles uyeleri 1-10 Aralik'ta biletini alip 8 Aralik-26 Mart arasinda %20 indirimli ucuyor. Hemen uye ol, firsati yakala. Detaylar atlasglb.com Sms iptali icin RED ATLASGLOBAL yazip 5650'ye gonderiniz. Mersis No: 0330 0184 8220 0012 (Mobilpark)\n",
      "Predict this sample wiht our model\n",
      "1/1 [==============================] - 0s 25ms/step\n",
      "Label: 1\n",
      "Predict: [0.999973]\n",
      "--------------------------------------------------------------------------------\n",
      "Sample:\n",
      "Aslında isterdim ama Du bakalm aslıyla bi konuşaym :)\n",
      "Predict this sample wiht our model\n",
      "1/1 [==============================] - 0s 24ms/step\n",
      "Label: 0\n",
      "Predict: [0.00725222]\n",
      "--------------------------------------------------------------------------------\n",
      "Sample:\n",
      "Ben şu an izindeyim , arkadaşlar da tekrar soruşturacaklar\n",
      "Predict this sample wiht our model\n",
      "1/1 [==============================] - 0s 24ms/step\n",
      "Label: 0\n",
      "Predict: [0.00875385]\n",
      "--------------------------------------------------------------------------------\n",
      "Sample:\n",
      "Bonus Platinum'la Uber'e kaydolun,yapacaginiz ilk yolculukta 50TL bedava kullanim kazanin! Size ozel kodunuz PLATINBONUS. Son gun 20 Mayis! bonus.com.tr\n",
      "Predict this sample wiht our model\n",
      "1/1 [==============================] - 0s 27ms/step\n",
      "Label: 1\n",
      "Predict: [0.99991024]\n",
      "--------------------------------------------------------------------------------\n",
      "Sample:\n",
      "Abiler im bugün saat 18.00 Lotus cafe eski toplandığimiz yer lütfen gelmeniz önemli Teşekkürler\n",
      "Predict this sample wiht our model\n",
      "1/1 [==============================] - 0s 26ms/step\n",
      "Label: 0\n",
      "Predict: [0.01459227]\n"
     ]
    }
   ],
   "source": [
    "for i in range(10):\n",
    "    n = np.random.randint(i,1000)\n",
    "    labels = dat['GroupText'][n]\n",
    "    sample = dat['Message'][n]\n",
    "    print('-'*80)\n",
    "    print(f'Sample:\\n{sample}')\n",
    "    print('Predict this sample wiht our model')\n",
    "    print(f'Label: {labels}\\nPredict: {model.predict(X[n:n+1])[0]}')"
   ]
  }
 ],
 "metadata": {
  "kernelspec": {
   "display_name": "Python 3 (ipykernel)",
   "language": "python",
   "name": "python3"
  },
  "language_info": {
   "codemirror_mode": {
    "name": "ipython",
    "version": 3
   },
   "file_extension": ".py",
   "mimetype": "text/x-python",
   "name": "python",
   "nbconvert_exporter": "python",
   "pygments_lexer": "ipython3",
   "version": "3.9.13"
  },
  "papermill": {
   "default_parameters": {},
   "duration": 41.916132,
   "end_time": "2023-04-01T17:15:30.594135",
   "environment_variables": {},
   "exception": null,
   "input_path": "__notebook__.ipynb",
   "output_path": "__notebook__.ipynb",
   "parameters": {},
   "start_time": "2023-04-01T17:14:48.678003",
   "version": "2.4.0"
  }
 },
 "nbformat": 4,
 "nbformat_minor": 5
}
